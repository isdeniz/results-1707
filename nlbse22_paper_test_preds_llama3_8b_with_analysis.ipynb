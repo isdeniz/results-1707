{
  "nbformat": 4,
  "nbformat_minor": 0,
  "metadata": {
    "colab": {
      "provenance": [],
      "machine_shape": "hm",
      "gpuType": "A100",
      "authorship_tag": "ABX9TyMHRv0Ne4h/qMitNWnt/NWN",
      "include_colab_link": true
    },
    "kernelspec": {
      "name": "python3",
      "display_name": "Python 3"
    },
    "language_info": {
      "name": "python"
    },
    "accelerator": "GPU"
  },
  "cells": [
    {
      "cell_type": "markdown",
      "metadata": {
        "id": "view-in-github",
        "colab_type": "text"
      },
      "source": [
        "<a href=\"https://colab.research.google.com/github/isdeniz/results-1707/blob/main/nlbse22_paper_test_preds_llama3_8b_with_analysis.ipynb\" target=\"_parent\"><img src=\"https://colab.research.google.com/assets/colab-badge.svg\" alt=\"Open In Colab\"/></a>"
      ]
    },
    {
      "cell_type": "code",
      "execution_count": 1,
      "metadata": {
        "colab": {
          "base_uri": "https://localhost:8080/"
        },
        "id": "bkiqEC2aaHxd",
        "outputId": "32096def-108a-40a7-f6a0-5506cac85f21"
      },
      "outputs": [
        {
          "output_type": "stream",
          "name": "stdout",
          "text": [
            ">>> Downloading ollama...\n",
            "############################################################################################# 100.0%\n",
            ">>> Installing ollama to /usr/local/bin...\n",
            ">>> Creating ollama user...\n",
            ">>> Adding ollama user to video group...\n",
            ">>> Adding current user to ollama group...\n",
            ">>> Creating ollama systemd service...\n",
            "WARNING: Unable to detect NVIDIA/AMD GPU. Install lspci or lshw to automatically detect and install GPU dependencies.\n",
            ">>> The Ollama API is now available at 127.0.0.1:11434.\n",
            ">>> Install complete. Run \"ollama\" from the command line.\n"
          ]
        }
      ],
      "source": [
        "!curl -fsSL https://ollama.com/install.sh | sh"
      ]
    },
    {
      "cell_type": "code",
      "source": [
        "!pip install langchain\n",
        "!pip install langchain-core\n",
        "!pip install langchain-community"
      ],
      "metadata": {
        "colab": {
          "base_uri": "https://localhost:8080/"
        },
        "id": "vBLbxKppca_m",
        "outputId": "d6bbf3e1-5505-4b92-f2e5-716a8f83ee20"
      },
      "execution_count": 2,
      "outputs": [
        {
          "output_type": "stream",
          "name": "stdout",
          "text": [
            "Collecting langchain\n",
            "  Downloading langchain-0.2.10-py3-none-any.whl (990 kB)\n",
            "\u001b[?25l     \u001b[90m━━━━━━━━━━━━━━━━━━━━━━━━━━━━━━━━━━━━━━━━\u001b[0m \u001b[32m0.0/990.0 kB\u001b[0m \u001b[31m?\u001b[0m eta \u001b[36m-:--:--\u001b[0m\r\u001b[2K     \u001b[91m━━━━━━━━━━━━\u001b[0m\u001b[90m╺\u001b[0m\u001b[90m━━━━━━━━━━━━━━━━━━━━━━━━━━━\u001b[0m \u001b[32m307.2/990.0 kB\u001b[0m \u001b[31m9.2 MB/s\u001b[0m eta \u001b[36m0:00:01\u001b[0m\r\u001b[2K     \u001b[91m━━━━━━━━━━━━━━━━━━━━━━━━━━━━━━━━━━━━\u001b[0m\u001b[91m╸\u001b[0m\u001b[90m━━━\u001b[0m \u001b[32m911.4/990.0 kB\u001b[0m \u001b[31m13.3 MB/s\u001b[0m eta \u001b[36m0:00:01\u001b[0m\r\u001b[2K     \u001b[90m━━━━━━━━━━━━━━━━━━━━━━━━━━━━━━━━━━━━━━━━\u001b[0m \u001b[32m990.0/990.0 kB\u001b[0m \u001b[31m12.0 MB/s\u001b[0m eta \u001b[36m0:00:00\u001b[0m\n",
            "\u001b[?25hRequirement already satisfied: PyYAML>=5.3 in /usr/local/lib/python3.10/dist-packages (from langchain) (6.0.1)\n",
            "Requirement already satisfied: SQLAlchemy<3,>=1.4 in /usr/local/lib/python3.10/dist-packages (from langchain) (2.0.31)\n",
            "Requirement already satisfied: aiohttp<4.0.0,>=3.8.3 in /usr/local/lib/python3.10/dist-packages (from langchain) (3.9.5)\n",
            "Requirement already satisfied: async-timeout<5.0.0,>=4.0.0 in /usr/local/lib/python3.10/dist-packages (from langchain) (4.0.3)\n",
            "Collecting langchain-core<0.3.0,>=0.2.22 (from langchain)\n",
            "  Downloading langchain_core-0.2.22-py3-none-any.whl (373 kB)\n",
            "\u001b[2K     \u001b[90m━━━━━━━━━━━━━━━━━━━━━━━━━━━━━━━━━━━━━━━━\u001b[0m \u001b[32m373.5/373.5 kB\u001b[0m \u001b[31m18.2 MB/s\u001b[0m eta \u001b[36m0:00:00\u001b[0m\n",
            "\u001b[?25hCollecting langchain-text-splitters<0.3.0,>=0.2.0 (from langchain)\n",
            "  Downloading langchain_text_splitters-0.2.2-py3-none-any.whl (25 kB)\n",
            "Collecting langsmith<0.2.0,>=0.1.17 (from langchain)\n",
            "  Downloading langsmith-0.1.93-py3-none-any.whl (139 kB)\n",
            "\u001b[2K     \u001b[90m━━━━━━━━━━━━━━━━━━━━━━━━━━━━━━━━━━━━━━━━\u001b[0m \u001b[32m139.8/139.8 kB\u001b[0m \u001b[31m14.0 MB/s\u001b[0m eta \u001b[36m0:00:00\u001b[0m\n",
            "\u001b[?25hRequirement already satisfied: numpy<2,>=1 in /usr/local/lib/python3.10/dist-packages (from langchain) (1.25.2)\n",
            "Requirement already satisfied: pydantic<3,>=1 in /usr/local/lib/python3.10/dist-packages (from langchain) (2.8.2)\n",
            "Requirement already satisfied: requests<3,>=2 in /usr/local/lib/python3.10/dist-packages (from langchain) (2.31.0)\n",
            "Requirement already satisfied: tenacity!=8.4.0,<9.0.0,>=8.1.0 in /usr/local/lib/python3.10/dist-packages (from langchain) (8.5.0)\n",
            "Requirement already satisfied: aiosignal>=1.1.2 in /usr/local/lib/python3.10/dist-packages (from aiohttp<4.0.0,>=3.8.3->langchain) (1.3.1)\n",
            "Requirement already satisfied: attrs>=17.3.0 in /usr/local/lib/python3.10/dist-packages (from aiohttp<4.0.0,>=3.8.3->langchain) (23.2.0)\n",
            "Requirement already satisfied: frozenlist>=1.1.1 in /usr/local/lib/python3.10/dist-packages (from aiohttp<4.0.0,>=3.8.3->langchain) (1.4.1)\n",
            "Requirement already satisfied: multidict<7.0,>=4.5 in /usr/local/lib/python3.10/dist-packages (from aiohttp<4.0.0,>=3.8.3->langchain) (6.0.5)\n",
            "Requirement already satisfied: yarl<2.0,>=1.0 in /usr/local/lib/python3.10/dist-packages (from aiohttp<4.0.0,>=3.8.3->langchain) (1.9.4)\n",
            "Collecting jsonpatch<2.0,>=1.33 (from langchain-core<0.3.0,>=0.2.22->langchain)\n",
            "  Downloading jsonpatch-1.33-py2.py3-none-any.whl (12 kB)\n",
            "Requirement already satisfied: packaging<25,>=23.2 in /usr/local/lib/python3.10/dist-packages (from langchain-core<0.3.0,>=0.2.22->langchain) (24.1)\n",
            "Collecting orjson<4.0.0,>=3.9.14 (from langsmith<0.2.0,>=0.1.17->langchain)\n",
            "  Downloading orjson-3.10.6-cp310-cp310-manylinux_2_17_x86_64.manylinux2014_x86_64.whl (141 kB)\n",
            "\u001b[2K     \u001b[90m━━━━━━━━━━━━━━━━━━━━━━━━━━━━━━━━━━━━━━━━\u001b[0m \u001b[32m141.1/141.1 kB\u001b[0m \u001b[31m14.3 MB/s\u001b[0m eta \u001b[36m0:00:00\u001b[0m\n",
            "\u001b[?25hRequirement already satisfied: annotated-types>=0.4.0 in /usr/local/lib/python3.10/dist-packages (from pydantic<3,>=1->langchain) (0.7.0)\n",
            "Requirement already satisfied: pydantic-core==2.20.1 in /usr/local/lib/python3.10/dist-packages (from pydantic<3,>=1->langchain) (2.20.1)\n",
            "Requirement already satisfied: typing-extensions>=4.6.1 in /usr/local/lib/python3.10/dist-packages (from pydantic<3,>=1->langchain) (4.12.2)\n",
            "Requirement already satisfied: charset-normalizer<4,>=2 in /usr/local/lib/python3.10/dist-packages (from requests<3,>=2->langchain) (3.3.2)\n",
            "Requirement already satisfied: idna<4,>=2.5 in /usr/local/lib/python3.10/dist-packages (from requests<3,>=2->langchain) (3.7)\n",
            "Requirement already satisfied: urllib3<3,>=1.21.1 in /usr/local/lib/python3.10/dist-packages (from requests<3,>=2->langchain) (2.0.7)\n",
            "Requirement already satisfied: certifi>=2017.4.17 in /usr/local/lib/python3.10/dist-packages (from requests<3,>=2->langchain) (2024.7.4)\n",
            "Requirement already satisfied: greenlet!=0.4.17 in /usr/local/lib/python3.10/dist-packages (from SQLAlchemy<3,>=1.4->langchain) (3.0.3)\n",
            "Collecting jsonpointer>=1.9 (from jsonpatch<2.0,>=1.33->langchain-core<0.3.0,>=0.2.22->langchain)\n",
            "  Downloading jsonpointer-3.0.0-py2.py3-none-any.whl (7.6 kB)\n",
            "Installing collected packages: orjson, jsonpointer, jsonpatch, langsmith, langchain-core, langchain-text-splitters, langchain\n",
            "Successfully installed jsonpatch-1.33 jsonpointer-3.0.0 langchain-0.2.10 langchain-core-0.2.22 langchain-text-splitters-0.2.2 langsmith-0.1.93 orjson-3.10.6\n",
            "Requirement already satisfied: langchain-core in /usr/local/lib/python3.10/dist-packages (0.2.22)\n",
            "Requirement already satisfied: PyYAML>=5.3 in /usr/local/lib/python3.10/dist-packages (from langchain-core) (6.0.1)\n",
            "Requirement already satisfied: jsonpatch<2.0,>=1.33 in /usr/local/lib/python3.10/dist-packages (from langchain-core) (1.33)\n",
            "Requirement already satisfied: langsmith<0.2.0,>=0.1.75 in /usr/local/lib/python3.10/dist-packages (from langchain-core) (0.1.93)\n",
            "Requirement already satisfied: packaging<25,>=23.2 in /usr/local/lib/python3.10/dist-packages (from langchain-core) (24.1)\n",
            "Requirement already satisfied: pydantic<3,>=1 in /usr/local/lib/python3.10/dist-packages (from langchain-core) (2.8.2)\n",
            "Requirement already satisfied: tenacity!=8.4.0,<9.0.0,>=8.1.0 in /usr/local/lib/python3.10/dist-packages (from langchain-core) (8.5.0)\n",
            "Requirement already satisfied: jsonpointer>=1.9 in /usr/local/lib/python3.10/dist-packages (from jsonpatch<2.0,>=1.33->langchain-core) (3.0.0)\n",
            "Requirement already satisfied: orjson<4.0.0,>=3.9.14 in /usr/local/lib/python3.10/dist-packages (from langsmith<0.2.0,>=0.1.75->langchain-core) (3.10.6)\n",
            "Requirement already satisfied: requests<3,>=2 in /usr/local/lib/python3.10/dist-packages (from langsmith<0.2.0,>=0.1.75->langchain-core) (2.31.0)\n",
            "Requirement already satisfied: annotated-types>=0.4.0 in /usr/local/lib/python3.10/dist-packages (from pydantic<3,>=1->langchain-core) (0.7.0)\n",
            "Requirement already satisfied: pydantic-core==2.20.1 in /usr/local/lib/python3.10/dist-packages (from pydantic<3,>=1->langchain-core) (2.20.1)\n",
            "Requirement already satisfied: typing-extensions>=4.6.1 in /usr/local/lib/python3.10/dist-packages (from pydantic<3,>=1->langchain-core) (4.12.2)\n",
            "Requirement already satisfied: charset-normalizer<4,>=2 in /usr/local/lib/python3.10/dist-packages (from requests<3,>=2->langsmith<0.2.0,>=0.1.75->langchain-core) (3.3.2)\n",
            "Requirement already satisfied: idna<4,>=2.5 in /usr/local/lib/python3.10/dist-packages (from requests<3,>=2->langsmith<0.2.0,>=0.1.75->langchain-core) (3.7)\n",
            "Requirement already satisfied: urllib3<3,>=1.21.1 in /usr/local/lib/python3.10/dist-packages (from requests<3,>=2->langsmith<0.2.0,>=0.1.75->langchain-core) (2.0.7)\n",
            "Requirement already satisfied: certifi>=2017.4.17 in /usr/local/lib/python3.10/dist-packages (from requests<3,>=2->langsmith<0.2.0,>=0.1.75->langchain-core) (2024.7.4)\n",
            "Collecting langchain-community\n",
            "  Downloading langchain_community-0.2.9-py3-none-any.whl (2.3 MB)\n",
            "\u001b[2K     \u001b[90m━━━━━━━━━━━━━━━━━━━━━━━━━━━━━━━━━━━━━━━━\u001b[0m \u001b[32m2.3/2.3 MB\u001b[0m \u001b[31m33.7 MB/s\u001b[0m eta \u001b[36m0:00:00\u001b[0m\n",
            "\u001b[?25hRequirement already satisfied: PyYAML>=5.3 in /usr/local/lib/python3.10/dist-packages (from langchain-community) (6.0.1)\n",
            "Requirement already satisfied: SQLAlchemy<3,>=1.4 in /usr/local/lib/python3.10/dist-packages (from langchain-community) (2.0.31)\n",
            "Requirement already satisfied: aiohttp<4.0.0,>=3.8.3 in /usr/local/lib/python3.10/dist-packages (from langchain-community) (3.9.5)\n",
            "Collecting dataclasses-json<0.7,>=0.5.7 (from langchain-community)\n",
            "  Downloading dataclasses_json-0.6.7-py3-none-any.whl (28 kB)\n",
            "Requirement already satisfied: langchain<0.3.0,>=0.2.9 in /usr/local/lib/python3.10/dist-packages (from langchain-community) (0.2.10)\n",
            "Requirement already satisfied: langchain-core<0.3.0,>=0.2.22 in /usr/local/lib/python3.10/dist-packages (from langchain-community) (0.2.22)\n",
            "Requirement already satisfied: langsmith<0.2.0,>=0.1.0 in /usr/local/lib/python3.10/dist-packages (from langchain-community) (0.1.93)\n",
            "Requirement already satisfied: numpy<2,>=1 in /usr/local/lib/python3.10/dist-packages (from langchain-community) (1.25.2)\n",
            "Requirement already satisfied: requests<3,>=2 in /usr/local/lib/python3.10/dist-packages (from langchain-community) (2.31.0)\n",
            "Requirement already satisfied: tenacity!=8.4.0,<9.0.0,>=8.1.0 in /usr/local/lib/python3.10/dist-packages (from langchain-community) (8.5.0)\n",
            "Requirement already satisfied: aiosignal>=1.1.2 in /usr/local/lib/python3.10/dist-packages (from aiohttp<4.0.0,>=3.8.3->langchain-community) (1.3.1)\n",
            "Requirement already satisfied: attrs>=17.3.0 in /usr/local/lib/python3.10/dist-packages (from aiohttp<4.0.0,>=3.8.3->langchain-community) (23.2.0)\n",
            "Requirement already satisfied: frozenlist>=1.1.1 in /usr/local/lib/python3.10/dist-packages (from aiohttp<4.0.0,>=3.8.3->langchain-community) (1.4.1)\n",
            "Requirement already satisfied: multidict<7.0,>=4.5 in /usr/local/lib/python3.10/dist-packages (from aiohttp<4.0.0,>=3.8.3->langchain-community) (6.0.5)\n",
            "Requirement already satisfied: yarl<2.0,>=1.0 in /usr/local/lib/python3.10/dist-packages (from aiohttp<4.0.0,>=3.8.3->langchain-community) (1.9.4)\n",
            "Requirement already satisfied: async-timeout<5.0,>=4.0 in /usr/local/lib/python3.10/dist-packages (from aiohttp<4.0.0,>=3.8.3->langchain-community) (4.0.3)\n",
            "Collecting marshmallow<4.0.0,>=3.18.0 (from dataclasses-json<0.7,>=0.5.7->langchain-community)\n",
            "  Downloading marshmallow-3.21.3-py3-none-any.whl (49 kB)\n",
            "\u001b[2K     \u001b[90m━━━━━━━━━━━━━━━━━━━━━━━━━━━━━━━━━━━━━━━━\u001b[0m \u001b[32m49.2/49.2 kB\u001b[0m \u001b[31m9.0 MB/s\u001b[0m eta \u001b[36m0:00:00\u001b[0m\n",
            "\u001b[?25hCollecting typing-inspect<1,>=0.4.0 (from dataclasses-json<0.7,>=0.5.7->langchain-community)\n",
            "  Downloading typing_inspect-0.9.0-py3-none-any.whl (8.8 kB)\n",
            "Requirement already satisfied: langchain-text-splitters<0.3.0,>=0.2.0 in /usr/local/lib/python3.10/dist-packages (from langchain<0.3.0,>=0.2.9->langchain-community) (0.2.2)\n",
            "Requirement already satisfied: pydantic<3,>=1 in /usr/local/lib/python3.10/dist-packages (from langchain<0.3.0,>=0.2.9->langchain-community) (2.8.2)\n",
            "Requirement already satisfied: jsonpatch<2.0,>=1.33 in /usr/local/lib/python3.10/dist-packages (from langchain-core<0.3.0,>=0.2.22->langchain-community) (1.33)\n",
            "Requirement already satisfied: packaging<25,>=23.2 in /usr/local/lib/python3.10/dist-packages (from langchain-core<0.3.0,>=0.2.22->langchain-community) (24.1)\n",
            "Requirement already satisfied: orjson<4.0.0,>=3.9.14 in /usr/local/lib/python3.10/dist-packages (from langsmith<0.2.0,>=0.1.0->langchain-community) (3.10.6)\n",
            "Requirement already satisfied: charset-normalizer<4,>=2 in /usr/local/lib/python3.10/dist-packages (from requests<3,>=2->langchain-community) (3.3.2)\n",
            "Requirement already satisfied: idna<4,>=2.5 in /usr/local/lib/python3.10/dist-packages (from requests<3,>=2->langchain-community) (3.7)\n",
            "Requirement already satisfied: urllib3<3,>=1.21.1 in /usr/local/lib/python3.10/dist-packages (from requests<3,>=2->langchain-community) (2.0.7)\n",
            "Requirement already satisfied: certifi>=2017.4.17 in /usr/local/lib/python3.10/dist-packages (from requests<3,>=2->langchain-community) (2024.7.4)\n",
            "Requirement already satisfied: typing-extensions>=4.6.0 in /usr/local/lib/python3.10/dist-packages (from SQLAlchemy<3,>=1.4->langchain-community) (4.12.2)\n",
            "Requirement already satisfied: greenlet!=0.4.17 in /usr/local/lib/python3.10/dist-packages (from SQLAlchemy<3,>=1.4->langchain-community) (3.0.3)\n",
            "Requirement already satisfied: jsonpointer>=1.9 in /usr/local/lib/python3.10/dist-packages (from jsonpatch<2.0,>=1.33->langchain-core<0.3.0,>=0.2.22->langchain-community) (3.0.0)\n",
            "Requirement already satisfied: annotated-types>=0.4.0 in /usr/local/lib/python3.10/dist-packages (from pydantic<3,>=1->langchain<0.3.0,>=0.2.9->langchain-community) (0.7.0)\n",
            "Requirement already satisfied: pydantic-core==2.20.1 in /usr/local/lib/python3.10/dist-packages (from pydantic<3,>=1->langchain<0.3.0,>=0.2.9->langchain-community) (2.20.1)\n",
            "Collecting mypy-extensions>=0.3.0 (from typing-inspect<1,>=0.4.0->dataclasses-json<0.7,>=0.5.7->langchain-community)\n",
            "  Downloading mypy_extensions-1.0.0-py3-none-any.whl (4.7 kB)\n",
            "Installing collected packages: mypy-extensions, marshmallow, typing-inspect, dataclasses-json, langchain-community\n",
            "Successfully installed dataclasses-json-0.6.7 langchain-community-0.2.9 marshmallow-3.21.3 mypy-extensions-1.0.0 typing-inspect-0.9.0\n"
          ]
        }
      ]
    },
    {
      "cell_type": "code",
      "source": [
        "from langchain_community.llms import Ollama\n",
        "llm = Ollama(model = \"llama3\")"
      ],
      "metadata": {
        "id": "oFjIj8BCcdjS"
      },
      "execution_count": 3,
      "outputs": []
    },
    {
      "cell_type": "code",
      "source": [
        "pip install tqdm"
      ],
      "metadata": {
        "colab": {
          "base_uri": "https://localhost:8080/"
        },
        "id": "HpQwqyVyceuQ",
        "outputId": "4439207d-da0d-49bf-956b-bac190b5e417"
      },
      "execution_count": 4,
      "outputs": [
        {
          "output_type": "stream",
          "name": "stdout",
          "text": [
            "Requirement already satisfied: tqdm in /usr/local/lib/python3.10/dist-packages (4.66.4)\n"
          ]
        }
      ]
    },
    {
      "cell_type": "code",
      "source": [
        "import pandas as pd\n",
        "from tqdm import tqdm"
      ],
      "metadata": {
        "id": "TU9sgS7Fcflv"
      },
      "execution_count": 5,
      "outputs": []
    },
    {
      "cell_type": "code",
      "source": [
        "test = pd.read_csv('data/github-labels-top3-803k-test.csv')\n",
        "print('Number of issues: ', test.shape)"
      ],
      "metadata": {
        "colab": {
          "base_uri": "https://localhost:8080/"
        },
        "id": "D3y48wTvcgnX",
        "outputId": "5fb5d869-3d77-4ce0-f192-3cc86a608a27"
      },
      "execution_count": 6,
      "outputs": [
        {
          "output_type": "stream",
          "name": "stdout",
          "text": [
            "Number of issues:  (80518, 8)\n"
          ]
        }
      ]
    },
    {
      "cell_type": "code",
      "source": [
        "test.head()"
      ],
      "metadata": {
        "colab": {
          "base_uri": "https://localhost:8080/",
          "height": 411
        },
        "id": "SPwZZrZMchlm",
        "outputId": "a6407c43-5f38-4d8d-a0fc-1307253c19cc"
      },
      "execution_count": 7,
      "outputs": [
        {
          "output_type": "execute_result",
          "data": {
            "text/plain": [
              "   Unnamed: 0                                          issue_url  issue_label  \\\n",
              "0           6  https://api.github.com/repos/tlnagy/TIFF.jl/is...  enhancement   \n",
              "1          19  https://api.github.com/repos/tisboyo/Twitch_Bo...  enhancement   \n",
              "2          25  https://api.github.com/repos/DrWhoCares/imgdan...  enhancement   \n",
              "3          30  https://api.github.com/repos/DrWhoCares/imgdan...          bug   \n",
              "4          54   https://api.github.com/repos/Bean-1/AOT/issues/3          bug   \n",
              "\n",
              "       issue_created_at issue_author_association  \\\n",
              "0  2020-04-07T09:08:50Z                     NONE   \n",
              "1  2020-11-27T07:17:21Z                    OWNER   \n",
              "2  2021-01-02T19:35:34Z                    OWNER   \n",
              "3  2021-01-02T20:55:34Z                    OWNER   \n",
              "4  2020-12-29T15:34:35Z                    OWNER   \n",
              "\n",
              "                                     repository_url  \\\n",
              "0       https://api.github.com/repos/tlnagy/TIFF.jl   \n",
              "1   https://api.github.com/repos/tisboyo/Twitch_Bot   \n",
              "2  https://api.github.com/repos/DrWhoCares/imgdanke   \n",
              "3  https://api.github.com/repos/DrWhoCares/imgdanke   \n",
              "4           https://api.github.com/repos/Bean-1/AOT   \n",
              "\n",
              "                                         issue_title  \\\n",
              "0  ERROR: KeyError: key (TIFF.SAMPLEFORMAT_INT, 0...   \n",
              "1                     Add database backup to dropbox   \n",
              "2  Add a button/method to open the Source or Outp...   \n",
              "3                  Processes are being started twice   \n",
              "4                              Cannot add hp to wall   \n",
              "\n",
              "                                          issue_body  \n",
              "0  One more error might need to be caught.\\r\\n`4D...  \n",
              "1                                                NaN  \n",
              "2  Could also add a method to open up path to eac...  \n",
              "3  At some point I refactored a few things and en...  \n",
              "4                                                NaN  "
            ],
            "text/html": [
              "\n",
              "  <div id=\"df-3cffbe0b-7e06-4463-8906-aac0a5590790\" class=\"colab-df-container\">\n",
              "    <div>\n",
              "<style scoped>\n",
              "    .dataframe tbody tr th:only-of-type {\n",
              "        vertical-align: middle;\n",
              "    }\n",
              "\n",
              "    .dataframe tbody tr th {\n",
              "        vertical-align: top;\n",
              "    }\n",
              "\n",
              "    .dataframe thead th {\n",
              "        text-align: right;\n",
              "    }\n",
              "</style>\n",
              "<table border=\"1\" class=\"dataframe\">\n",
              "  <thead>\n",
              "    <tr style=\"text-align: right;\">\n",
              "      <th></th>\n",
              "      <th>Unnamed: 0</th>\n",
              "      <th>issue_url</th>\n",
              "      <th>issue_label</th>\n",
              "      <th>issue_created_at</th>\n",
              "      <th>issue_author_association</th>\n",
              "      <th>repository_url</th>\n",
              "      <th>issue_title</th>\n",
              "      <th>issue_body</th>\n",
              "    </tr>\n",
              "  </thead>\n",
              "  <tbody>\n",
              "    <tr>\n",
              "      <th>0</th>\n",
              "      <td>6</td>\n",
              "      <td>https://api.github.com/repos/tlnagy/TIFF.jl/is...</td>\n",
              "      <td>enhancement</td>\n",
              "      <td>2020-04-07T09:08:50Z</td>\n",
              "      <td>NONE</td>\n",
              "      <td>https://api.github.com/repos/tlnagy/TIFF.jl</td>\n",
              "      <td>ERROR: KeyError: key (TIFF.SAMPLEFORMAT_INT, 0...</td>\n",
              "      <td>One more error might need to be caught.\\r\\n`4D...</td>\n",
              "    </tr>\n",
              "    <tr>\n",
              "      <th>1</th>\n",
              "      <td>19</td>\n",
              "      <td>https://api.github.com/repos/tisboyo/Twitch_Bo...</td>\n",
              "      <td>enhancement</td>\n",
              "      <td>2020-11-27T07:17:21Z</td>\n",
              "      <td>OWNER</td>\n",
              "      <td>https://api.github.com/repos/tisboyo/Twitch_Bot</td>\n",
              "      <td>Add database backup to dropbox</td>\n",
              "      <td>NaN</td>\n",
              "    </tr>\n",
              "    <tr>\n",
              "      <th>2</th>\n",
              "      <td>25</td>\n",
              "      <td>https://api.github.com/repos/DrWhoCares/imgdan...</td>\n",
              "      <td>enhancement</td>\n",
              "      <td>2021-01-02T19:35:34Z</td>\n",
              "      <td>OWNER</td>\n",
              "      <td>https://api.github.com/repos/DrWhoCares/imgdanke</td>\n",
              "      <td>Add a button/method to open the Source or Outp...</td>\n",
              "      <td>Could also add a method to open up path to eac...</td>\n",
              "    </tr>\n",
              "    <tr>\n",
              "      <th>3</th>\n",
              "      <td>30</td>\n",
              "      <td>https://api.github.com/repos/DrWhoCares/imgdan...</td>\n",
              "      <td>bug</td>\n",
              "      <td>2021-01-02T20:55:34Z</td>\n",
              "      <td>OWNER</td>\n",
              "      <td>https://api.github.com/repos/DrWhoCares/imgdanke</td>\n",
              "      <td>Processes are being started twice</td>\n",
              "      <td>At some point I refactored a few things and en...</td>\n",
              "    </tr>\n",
              "    <tr>\n",
              "      <th>4</th>\n",
              "      <td>54</td>\n",
              "      <td>https://api.github.com/repos/Bean-1/AOT/issues/3</td>\n",
              "      <td>bug</td>\n",
              "      <td>2020-12-29T15:34:35Z</td>\n",
              "      <td>OWNER</td>\n",
              "      <td>https://api.github.com/repos/Bean-1/AOT</td>\n",
              "      <td>Cannot add hp to wall</td>\n",
              "      <td>NaN</td>\n",
              "    </tr>\n",
              "  </tbody>\n",
              "</table>\n",
              "</div>\n",
              "    <div class=\"colab-df-buttons\">\n",
              "\n",
              "  <div class=\"colab-df-container\">\n",
              "    <button class=\"colab-df-convert\" onclick=\"convertToInteractive('df-3cffbe0b-7e06-4463-8906-aac0a5590790')\"\n",
              "            title=\"Convert this dataframe to an interactive table.\"\n",
              "            style=\"display:none;\">\n",
              "\n",
              "  <svg xmlns=\"http://www.w3.org/2000/svg\" height=\"24px\" viewBox=\"0 -960 960 960\">\n",
              "    <path d=\"M120-120v-720h720v720H120Zm60-500h600v-160H180v160Zm220 220h160v-160H400v160Zm0 220h160v-160H400v160ZM180-400h160v-160H180v160Zm440 0h160v-160H620v160ZM180-180h160v-160H180v160Zm440 0h160v-160H620v160Z\"/>\n",
              "  </svg>\n",
              "    </button>\n",
              "\n",
              "  <style>\n",
              "    .colab-df-container {\n",
              "      display:flex;\n",
              "      gap: 12px;\n",
              "    }\n",
              "\n",
              "    .colab-df-convert {\n",
              "      background-color: #E8F0FE;\n",
              "      border: none;\n",
              "      border-radius: 50%;\n",
              "      cursor: pointer;\n",
              "      display: none;\n",
              "      fill: #1967D2;\n",
              "      height: 32px;\n",
              "      padding: 0 0 0 0;\n",
              "      width: 32px;\n",
              "    }\n",
              "\n",
              "    .colab-df-convert:hover {\n",
              "      background-color: #E2EBFA;\n",
              "      box-shadow: 0px 1px 2px rgba(60, 64, 67, 0.3), 0px 1px 3px 1px rgba(60, 64, 67, 0.15);\n",
              "      fill: #174EA6;\n",
              "    }\n",
              "\n",
              "    .colab-df-buttons div {\n",
              "      margin-bottom: 4px;\n",
              "    }\n",
              "\n",
              "    [theme=dark] .colab-df-convert {\n",
              "      background-color: #3B4455;\n",
              "      fill: #D2E3FC;\n",
              "    }\n",
              "\n",
              "    [theme=dark] .colab-df-convert:hover {\n",
              "      background-color: #434B5C;\n",
              "      box-shadow: 0px 1px 3px 1px rgba(0, 0, 0, 0.15);\n",
              "      filter: drop-shadow(0px 1px 2px rgba(0, 0, 0, 0.3));\n",
              "      fill: #FFFFFF;\n",
              "    }\n",
              "  </style>\n",
              "\n",
              "    <script>\n",
              "      const buttonEl =\n",
              "        document.querySelector('#df-3cffbe0b-7e06-4463-8906-aac0a5590790 button.colab-df-convert');\n",
              "      buttonEl.style.display =\n",
              "        google.colab.kernel.accessAllowed ? 'block' : 'none';\n",
              "\n",
              "      async function convertToInteractive(key) {\n",
              "        const element = document.querySelector('#df-3cffbe0b-7e06-4463-8906-aac0a5590790');\n",
              "        const dataTable =\n",
              "          await google.colab.kernel.invokeFunction('convertToInteractive',\n",
              "                                                    [key], {});\n",
              "        if (!dataTable) return;\n",
              "\n",
              "        const docLinkHtml = 'Like what you see? Visit the ' +\n",
              "          '<a target=\"_blank\" href=https://colab.research.google.com/notebooks/data_table.ipynb>data table notebook</a>'\n",
              "          + ' to learn more about interactive tables.';\n",
              "        element.innerHTML = '';\n",
              "        dataTable['output_type'] = 'display_data';\n",
              "        await google.colab.output.renderOutput(dataTable, element);\n",
              "        const docLink = document.createElement('div');\n",
              "        docLink.innerHTML = docLinkHtml;\n",
              "        element.appendChild(docLink);\n",
              "      }\n",
              "    </script>\n",
              "  </div>\n",
              "\n",
              "\n",
              "<div id=\"df-c9669868-732f-40d4-b1d2-2dd713d99ad7\">\n",
              "  <button class=\"colab-df-quickchart\" onclick=\"quickchart('df-c9669868-732f-40d4-b1d2-2dd713d99ad7')\"\n",
              "            title=\"Suggest charts\"\n",
              "            style=\"display:none;\">\n",
              "\n",
              "<svg xmlns=\"http://www.w3.org/2000/svg\" height=\"24px\"viewBox=\"0 0 24 24\"\n",
              "     width=\"24px\">\n",
              "    <g>\n",
              "        <path d=\"M19 3H5c-1.1 0-2 .9-2 2v14c0 1.1.9 2 2 2h14c1.1 0 2-.9 2-2V5c0-1.1-.9-2-2-2zM9 17H7v-7h2v7zm4 0h-2V7h2v10zm4 0h-2v-4h2v4z\"/>\n",
              "    </g>\n",
              "</svg>\n",
              "  </button>\n",
              "\n",
              "<style>\n",
              "  .colab-df-quickchart {\n",
              "      --bg-color: #E8F0FE;\n",
              "      --fill-color: #1967D2;\n",
              "      --hover-bg-color: #E2EBFA;\n",
              "      --hover-fill-color: #174EA6;\n",
              "      --disabled-fill-color: #AAA;\n",
              "      --disabled-bg-color: #DDD;\n",
              "  }\n",
              "\n",
              "  [theme=dark] .colab-df-quickchart {\n",
              "      --bg-color: #3B4455;\n",
              "      --fill-color: #D2E3FC;\n",
              "      --hover-bg-color: #434B5C;\n",
              "      --hover-fill-color: #FFFFFF;\n",
              "      --disabled-bg-color: #3B4455;\n",
              "      --disabled-fill-color: #666;\n",
              "  }\n",
              "\n",
              "  .colab-df-quickchart {\n",
              "    background-color: var(--bg-color);\n",
              "    border: none;\n",
              "    border-radius: 50%;\n",
              "    cursor: pointer;\n",
              "    display: none;\n",
              "    fill: var(--fill-color);\n",
              "    height: 32px;\n",
              "    padding: 0;\n",
              "    width: 32px;\n",
              "  }\n",
              "\n",
              "  .colab-df-quickchart:hover {\n",
              "    background-color: var(--hover-bg-color);\n",
              "    box-shadow: 0 1px 2px rgba(60, 64, 67, 0.3), 0 1px 3px 1px rgba(60, 64, 67, 0.15);\n",
              "    fill: var(--button-hover-fill-color);\n",
              "  }\n",
              "\n",
              "  .colab-df-quickchart-complete:disabled,\n",
              "  .colab-df-quickchart-complete:disabled:hover {\n",
              "    background-color: var(--disabled-bg-color);\n",
              "    fill: var(--disabled-fill-color);\n",
              "    box-shadow: none;\n",
              "  }\n",
              "\n",
              "  .colab-df-spinner {\n",
              "    border: 2px solid var(--fill-color);\n",
              "    border-color: transparent;\n",
              "    border-bottom-color: var(--fill-color);\n",
              "    animation:\n",
              "      spin 1s steps(1) infinite;\n",
              "  }\n",
              "\n",
              "  @keyframes spin {\n",
              "    0% {\n",
              "      border-color: transparent;\n",
              "      border-bottom-color: var(--fill-color);\n",
              "      border-left-color: var(--fill-color);\n",
              "    }\n",
              "    20% {\n",
              "      border-color: transparent;\n",
              "      border-left-color: var(--fill-color);\n",
              "      border-top-color: var(--fill-color);\n",
              "    }\n",
              "    30% {\n",
              "      border-color: transparent;\n",
              "      border-left-color: var(--fill-color);\n",
              "      border-top-color: var(--fill-color);\n",
              "      border-right-color: var(--fill-color);\n",
              "    }\n",
              "    40% {\n",
              "      border-color: transparent;\n",
              "      border-right-color: var(--fill-color);\n",
              "      border-top-color: var(--fill-color);\n",
              "    }\n",
              "    60% {\n",
              "      border-color: transparent;\n",
              "      border-right-color: var(--fill-color);\n",
              "    }\n",
              "    80% {\n",
              "      border-color: transparent;\n",
              "      border-right-color: var(--fill-color);\n",
              "      border-bottom-color: var(--fill-color);\n",
              "    }\n",
              "    90% {\n",
              "      border-color: transparent;\n",
              "      border-bottom-color: var(--fill-color);\n",
              "    }\n",
              "  }\n",
              "</style>\n",
              "\n",
              "  <script>\n",
              "    async function quickchart(key) {\n",
              "      const quickchartButtonEl =\n",
              "        document.querySelector('#' + key + ' button');\n",
              "      quickchartButtonEl.disabled = true;  // To prevent multiple clicks.\n",
              "      quickchartButtonEl.classList.add('colab-df-spinner');\n",
              "      try {\n",
              "        const charts = await google.colab.kernel.invokeFunction(\n",
              "            'suggestCharts', [key], {});\n",
              "      } catch (error) {\n",
              "        console.error('Error during call to suggestCharts:', error);\n",
              "      }\n",
              "      quickchartButtonEl.classList.remove('colab-df-spinner');\n",
              "      quickchartButtonEl.classList.add('colab-df-quickchart-complete');\n",
              "    }\n",
              "    (() => {\n",
              "      let quickchartButtonEl =\n",
              "        document.querySelector('#df-c9669868-732f-40d4-b1d2-2dd713d99ad7 button');\n",
              "      quickchartButtonEl.style.display =\n",
              "        google.colab.kernel.accessAllowed ? 'block' : 'none';\n",
              "    })();\n",
              "  </script>\n",
              "</div>\n",
              "\n",
              "    </div>\n",
              "  </div>\n"
            ],
            "application/vnd.google.colaboratory.intrinsic+json": {
              "type": "dataframe",
              "variable_name": "test",
              "summary": "{\n  \"name\": \"test\",\n  \"rows\": 80518,\n  \"fields\": [\n    {\n      \"column\": \"Unnamed: 0\",\n      \"properties\": {\n        \"dtype\": \"number\",\n        \"std\": 232130,\n        \"min\": 6,\n        \"max\": 803401,\n        \"num_unique_values\": 80518,\n        \"samples\": [\n          326347,\n          747163,\n          164870\n        ],\n        \"semantic_type\": \"\",\n        \"description\": \"\"\n      }\n    },\n    {\n      \"column\": \"issue_url\",\n      \"properties\": {\n        \"dtype\": \"string\",\n        \"num_unique_values\": 80138,\n        \"samples\": [\n          \"https://api.github.com/repos/austinhuang0131/barinsta/issues/1075\",\n          \"https://api.github.com/repos/Lovely-Development-Team/MottoBotto/issues/208\",\n          \"https://api.github.com/repos/ueberdosis/tiptap/issues/1261\"\n        ],\n        \"semantic_type\": \"\",\n        \"description\": \"\"\n      }\n    },\n    {\n      \"column\": \"issue_label\",\n      \"properties\": {\n        \"dtype\": \"category\",\n        \"num_unique_values\": 3,\n        \"samples\": [\n          \"enhancement\",\n          \"bug\",\n          \"question\"\n        ],\n        \"semantic_type\": \"\",\n        \"description\": \"\"\n      }\n    },\n    {\n      \"column\": \"issue_created_at\",\n      \"properties\": {\n        \"dtype\": \"object\",\n        \"num_unique_values\": 79974,\n        \"samples\": [\n          \"2020-09-09T22:17:05Z\",\n          \"2021-02-12T20:27:21Z\",\n          \"2020-12-01T06:39:26Z\"\n        ],\n        \"semantic_type\": \"\",\n        \"description\": \"\"\n      }\n    },\n    {\n      \"column\": \"issue_author_association\",\n      \"properties\": {\n        \"dtype\": \"category\",\n        \"num_unique_values\": 5,\n        \"samples\": [\n          \"OWNER\",\n          \"CONTRIBUTOR\",\n          \"COLLABORATOR\"\n        ],\n        \"semantic_type\": \"\",\n        \"description\": \"\"\n      }\n    },\n    {\n      \"column\": \"repository_url\",\n      \"properties\": {\n        \"dtype\": \"category\",\n        \"num_unique_values\": 37817,\n        \"samples\": [\n          \"https://api.github.com/repos/gitgitgadget/git\",\n          \"https://api.github.com/repos/agustinxmtz/robot-gladiators\",\n          \"https://api.github.com/repos/maven-download-plugin/maven-download-plugin\"\n        ],\n        \"semantic_type\": \"\",\n        \"description\": \"\"\n      }\n    },\n    {\n      \"column\": \"issue_title\",\n      \"properties\": {\n        \"dtype\": \"string\",\n        \"num_unique_values\": 78322,\n        \"samples\": [\n          \"Crash on server join\",\n          \"Fix Knockback issues\",\n          \"Monomer filtering on name and symbol is exact match and not 'contains'\"\n        ],\n        \"semantic_type\": \"\",\n        \"description\": \"\"\n      }\n    },\n    {\n      \"column\": \"issue_body\",\n      \"properties\": {\n        \"dtype\": \"string\",\n        \"num_unique_values\": 71192,\n        \"samples\": [\n          \"We have tried to backup and restore our PGO cluster and continue to have issues each time we try, in particular with PITR options, but also otherwise. We have tried with the local backrest and with S3 with similar results, and using the most basic cluster without any parameters to local storage also fails to restore.\\r\\n\\r\\nWe have tested on separate Kubernetes clusters with PGO 4.6.1 installed with the same results.\\r\\n\\r\\nWe can see that a bootstrap pod starts up after the restore command is issues, and goes into error state as explained in the step below. This is about the most basic cluster creation and PITR restore operation we could think of to demonstrate the issue.\\r\\n\\r\\nWe are not sure if this is isolated to PGO v4.6.1, however, would expect the latest version to work out of the box.\\r\\n\\r\\nThank you in advance for any assistance.\\r\\n\\r\\n**Expected behavior**\\r\\nWe expect the backup to restore our Postgres data without errors occurring.\\r\\n\\r\\n* Operating System:\\r\\nK3s Kubernetes 1.19 running on 3 Ubuntu 20.04 nodes\\r\\n\\r\\n* Where is this running ( Local, Cloud Provider)\\r\\nRemotely on prem\\r\\n\\r\\n* Storage being used (NFS, Hostpath, Gluster, etc):\\r\\nlocal-path (k3s Kubernetes default), or S3 for the backrest (tried both - same results)\\r\\n\\r\\nHere are the details with steps we took:\\r\\n\\t\\t\\r\\nStep 1:\\r\\n=======\\r\\nCreated the cluster.\\r\\n\\r\\n> pgo create cluster pgtest\\r\\n\\r\\ncreated cluster: pgtest\\r\\nworkflow id: e42a3ab7-e7ed-4961-97ef-d8f6fc832d02\\r\\ndatabase name: pgtest\\r\\nusers:\\r\\n        username: testuser password: ***************\\r\\n\\t\\t\\r\\n\\r\\nStep 2:\\r\\n=======\\r\\n> pgo show backup pgtest\\r\\n\\r\\ncluster: pgtest\\r\\nstorage type: posix\\r\\n\\r\\nstanza: db\\r\\n    status: ok\\r\\n    cipher: none\\r\\n\\r\\n    db (current)\\r\\n        wal archive min/max (13-1)\\r\\n\\r\\n        full backup: 20210423-210024F\\r\\n            timestamp start/stop: 2021-04-23 18:00:24 -0300 ADT / 2021-04-23 18:00:31 -0300 ADT\\r\\n            wal start/stop: 000000010000000000000002 / 000000010000000000000002\\r\\n            database size: 31.0MiB, backup size: 31.0MiB\\r\\n            repository size: 3.8MiB, repository backup size: 3.8MiB\\r\\n            backup reference list:\\r\\n\\r\\nStep 3:\\r\\n=======\\r\\nCreated a schema and a table with some data inserted in it\\r\\n\\r\\nStep 4:\\r\\n=======\\r\\nRan another backup\\r\\n> pgo backup pgtest\\r\\ncreated Pgtask backrest-backup-pgtest\\r\\n\\r\\n> pgo show backup pgtest\\r\\n\\r\\ncluster: pgtest\\r\\nstorage type: posix\\r\\n\\r\\nstanza: db\\r\\n    status: ok\\r\\n    cipher: none\\r\\n\\r\\n    db (current)\\r\\n        wal archive min/max (13-1)\\r\\n\\r\\n        full backup: 20210423-210024F\\r\\n            timestamp start/stop: 2021-04-23 18:00:24 -0300 ADT / 2021-04-23 18:00:31 -0300 ADT\\r\\n            wal start/stop: 000000010000000000000002 / 000000010000000000000002\\r\\n            database size: 31.0MiB, backup size: 31.0MiB\\r\\n            repository size: 3.8MiB, repository backup size: 3.8MiB\\r\\n            backup reference list:\\r\\n\\r\\n        incr backup: 20210423-210024F_20210423-211131I\\r\\n            timestamp start/stop: 2021-04-23 18:11:31 -0300 ADT / 2021-04-23 18:11:32 -0300 ADT\\r\\n            wal start/stop: 00000001000000000000000B / 00000001000000000000000B\\r\\n            database size: 31.0MiB, backup size: 4.2MiB\\r\\n            repository size: 3.8MiB, repository backup size: 526.2KiB\\r\\n            backup reference list: 20210423-210024F\\r\\n\\r\\n\\r\\nStep 5:\\r\\n=======\\r\\nRestore to a point in time:\\r\\n> pgo restore pgtest --pitr-target=\\\"2021-04-23 18:01:00\\\" --backup-opts=\\\"--type=time\\\"\\r\\nIf currently running, the primary database in this cluster will be stopped and recreated as part of this workflow!\\r\\nWARNING: Are you sure? (yes/no): yes\\r\\nrestore request for pgtest with opts \\\"--type=time\\\" and pitr-target=\\\"2021-04-23 18:01:00\\\"\\r\\nworkflow id 31550c97-04e1-427d-be00-003e3e8df593\\r\\n\\r\\n> pgo show workflow 31550c97-04e1-427d-be00-003e3e8df593 -n pgo --debug\\r\\nDEBU[0000] debug flag is set to true\\r\\nDEBU[0000] in initConfig with url=https://127.0.0.1:8443\\r\\nDEBU[0000] using PGO_NAMESPACE env var pgo\\r\\nDEBU[0000] GetSessionCredentials called\\r\\nDEBU[0000] PGOUSER environment variable is being used at /home/bborovan/.pgo/pgo/pgouser\\r\\nDEBU[0000] pgouser file found at /home/bborovan/.pgo/pgo/pgouser contains admin:examplepassword\\r\\nDEBU[0000] [admin examplepassword]\\r\\nDEBU[0000] username=[admin] password=[examplepassword]\\r\\nDEBU[0000] setting up httpclient with TLS\\r\\nDEBU[0000] GetTLSTransport called\\r\\nDEBU[0000] showWorkflow called [31550c97-04e1-427d-be00-003e3e8df593]\\r\\nDEBU[0000] ShowWorkflow called...[https://127.0.0.1:8443/workflow/31550c97-04e1-427d-be00-003e3e8df593?version=4.6.1&namespace=pgo]\\r\\nDEBU[0000] &{200 OK 200 HTTP/1.1 1 1 map[Content-Length:[232] Content-Type:[application/json] Date:[Fri, 23 Apr 2021 21:17:22 GMT] Www-Authenticate:[Basic realm=\\\"Restricted\\\"]] 0xc000546080 232 [] false false map[] 0xc0004c6200 0xc000832160}\\r\\nDEBU[0000] http status code is 200\\r\\nDEBU[0000] response = {{pgtest map[pg-cluster:pgtest restore job created:2021-04-23T21:15:18Z task submitted:2021-04-23T21:15:17Z workflowid:31550c97-04e1-427d-be00-003e3e8df593]} {ok }}\\r\\nparameter           value\\r\\n---------           -----\\r\\npg-cluster          pgtest\\r\\nrestore job created 2021-04-23T21:15:18Z\\r\\ntask submitted      2021-04-23T21:15:17Z\\r\\nworkflowid          31550c97-04e1-427d-be00-003e3e8df593\\r\\n\\r\\n\\r\\n> kubectl get po -n pgo\\r\\nNAME                                         READY   STATUS      RESTARTS   AGE\\r\\npgo-deploy-l894d                             0/1     Completed   0          12d\\r\\npgtest-backrest-shared-repo-87ff7b74-x6fl7   1/1     Running     0          18m\\r\\npgtest-bootstrap-94wdv                       0/1     Error       0          3m14s\\r\\npgtest-bootstrap-c9tbr                       1/1     Running     0          3m10s\\r\\npostgres-operator-6b76954d64-5sq4c           4/4     Running     0          12d\\r\\n\\r\\n\\r\\n\\r\\nYou can see the bootstrap is in error.\\r\\n\\r\\n> kubectl logs pgtest-bootstrap-94wdv -n pgo\\r\\nFri Apr 23 21:15:19 UTC 2021 INFO: postgres-ha pre-bootstrap starting...\\r\\nFri Apr 23 21:15:19 UTC 2021 INFO: pgBackRest auto-config disabled\\r\\nFri Apr 23 21:15:19 UTC 2021 INFO: PGHA_PGBACKREST_LOCAL_S3_STORAGE and PGHA_PGBACKREST_INITIALIZE will be ignored if provided\\r\\nFri Apr 23 21:15:19 UTC 2021 INFO: Defaults have been set for the following postgres-ha auto-configuration env vars: PGHA_DEFAULT_CONFIG, PGHA_BASE_BOOTSTRAP_CONFIG, PGHA_BASE_PG_CONFIG\\r\\nFri Apr 23 21:15:19 UTC 2021 INFO: Defaults have been set for the following postgres-ha env vars: PGHA_PATRONI_PORT\\r\\nFri Apr 23 21:15:19 UTC 2021 INFO: Defaults have been set for the following Patroni env vars: PATRONI_NAME, PATRONI_RESTAPI_LISTEN, PATRONI_RESTAPI_CONNECT_ADDRESS, PATRONI_POSTGRESQL_LISTEN, PATRONI_POSTGRESQL_CONNECT_ADDRESS\\r\\nFri Apr 23 21:15:19 UTC 2021 INFO: Setting postgres-ha configuration for database user credentials\\r\\nFri Apr 23 21:15:19 UTC 2021 INFO: Setting 'pguser' credentials using file system\\r\\nFri Apr 23 21:15:19 UTC 2021 INFO: Setting 'superuser' credentials using file system\\r\\nFri Apr 23 21:15:19 UTC 2021 INFO: Setting 'replicator' credentials using file system\\r\\nFri Apr 23 21:15:19 UTC 2021 INFO: Applying base bootstrap config to postgres-ha configuration\\r\\nFri Apr 23 21:15:19 UTC 2021 INFO: Applying base postgres config to postgres-ha configuration\\r\\nFri Apr 23 21:15:19 UTC 2021 INFO: Applying pgbackrest config to postgres-ha configuration\\r\\nFri Apr 23 21:15:19 UTC 2021 INFO: Applying standard (non-TLS) remote connection configuration to pg_hba.conf\\r\\nFri Apr 23 21:15:19 UTC 2021 INFO: Disabling archive mode for bootstrap method pgbackrest_init\\r\\nFri Apr 23 21:15:19 UTC 2021 INFO: Custom postgres-ha configuration file not detected\\r\\nFri Apr 23 21:15:19 UTC 2021 INFO: Finished building postgres-ha configuration file '/tmp/postgres-ha-bootstrap.yaml'\\r\\nFri Apr 23 21:15:19 UTC 2021 INFO: Detected cluster initialization using an existing PGDATA directory\\r\\nFri Apr 23 21:15:19 UTC 2021 INFO: postgres-ha pre-bootstrap complete!  The following configuration will be utilized to initialize\\r\\n******************************\\r\\npostgres-ha (PGHA) env vars:\\r\\n******************************\\r\\nPGHA_BASE_PG_CONFIG=true\\r\\nPGHA_PATRONI_PORT=8009\\r\\nPGHA_PG_PORT=5432\\r\\nPGHA_PGBACKREST_LOCAL_S3_STORAGE=false\\r\\nPGHA_SYNC_REPLICATION=false\\r\\nPGHA_USER=postgres\\r\\nPGHA_INIT=true\\r\\nPGHA_DEFAULT_CONFIG=true\\r\\nPGHA_REPLICA_REINIT_ON_START_FAIL=true\\r\\nPGHA_PGBACKREST=true\\r\\nPGHA_BASE_BOOTSTRAP_CONFIG=true\\r\\nPGHA_STANDBY=false\\r\\nPGHA_BOOTSTRAP_METHOD=pgbackrest_init\\r\\nPGHA_TLS_ONLY=false\\r\\nPGHA_TLS_ENABLED=false\\r\\nPGHA_DATABASE=pgtest\\r\\n******************************\\r\\nPatroni env vars:\\r\\n******************************\\r\\nPATRONI_POSTGRESQL_CONNECT_ADDRESS=10.42.1.71:5432\\r\\nPATRONI_POSTGRESQL_LISTEN=0.0.0.0:5432\\r\\nPATRONI_NAME=pgtest-bootstrap-94wdv\\r\\nPATRONI_SCOPE=pgtest\\r\\nPATRONI_RESTAPI_LISTEN=0.0.0.0:8009\\r\\nPATRONI_POSTGRESQL_DATA_DIR=/pgdata/pgtest\\r\\nPATRONI_RESTAPI_CONNECT_ADDRESS=10.42.1.71:8009\\r\\nPATRONI_LOG_LEVEL=INFO\\r\\nPATRONI_KUBERNETES_LABELS={vendor: \\\"crunchydata\\\"}\\r\\nPATRONI_KUBERNETES_SCOPE_LABEL=crunchy-pgha-scope\\r\\nPATRONI_KUBERNETES_NAMESPACE=pgo\\r\\n******************************\\r\\nPatroni bootstrap method: pgbackrest_init\\r\\n******************************\\r\\nPatroni configuration file:\\r\\n******************************\\r\\nbootstrap:\\r\\n  method: pgbackrest_init\\r\\n  pgbackrest_init:\\r\\n    command: '/opt/crunchy/bin/postgres-ha/pgbackrest/pgbackrest-create-replica.sh\\r\\n      primary'\\r\\n    keep_existing_recovery_conf: true\\r\\n  existing_init:\\r\\n    command: '/opt/crunchy/bin/postgres-ha/bootstrap/create-from-existing.sh'\\r\\n    keep_existing_recovery_conf: true\\r\\n  dcs:\\r\\n    postgresql:\\r\\n      parameters:\\r\\n        jit: off\\r\\n        unix_socket_directories: /tmp\\r\\n        wal_level: logical\\r\\n        archive_mode: on\\r\\n        archive_command: 'source /opt/crunchy/bin/postgres-ha/pgbackrest/pgbackrest-set-env.sh\\r\\n          && pgbackrest archive-push \\\"%p\\\"'\\r\\n        archive_timeout: 60\\r\\n        log_directory: pg_log\\r\\n        shared_buffers: 128MB\\r\\n        temp_buffers: 8MB\\r\\n        log_min_duration_statement: 60000\\r\\n        log_statement: none\\r\\n        work_mem: 4MB\\r\\n        max_wal_senders: 6\\r\\n        shared_preload_libraries: pgaudit.so,pg_stat_statements.so,pgnodemx.so\\r\\n      use_slots: false\\r\\n      recovery_conf:\\r\\n        restore_command: 'source /opt/crunchy/bin/postgres-ha/pgbackrest/pgbackrest-set-env.sh\\r\\n          && pgbackrest archive-get %f \\\"%p\\\"'\\r\\n      use_pg_rewind: true\\r\\n  post_bootstrap: /opt/crunchy/bin/postgres-ha/bootstrap/post-bootstrap.sh\\r\\n  initdb:\\r\\n  - encoding: UTF8\\r\\n  - data-checksums\\r\\npostgresql:\\r\\n  use_unix_socket: true\\r\\n  pgpass: /tmp/.pgpass\\r\\n  create_replica_methods:\\r\\n  - pgbackrest\\r\\n  - basebackup\\r\\n  pgbackrest:\\r\\n    command: '/opt/crunchy/bin/postgres-ha/pgbackrest/pgbackrest-create-replica.sh\\r\\n      replica'\\r\\n    keep_data: true\\r\\n    no_params: true\\r\\n  pgbackrest_standby:\\r\\n    command: '/opt/crunchy/bin/postgres-ha/pgbackrest/pgbackrest-create-replica.sh\\r\\n      standby'\\r\\n    keep_data: true\\r\\n    no_params: true\\r\\n    no_master: 1\\r\\n  remove_data_directory_on_rewind_failure: true\\r\\n  callbacks:\\r\\n    on_role_change: /opt/crunchy/bin/postgres-ha/callbacks/pgha-on-role-change.sh\\r\\n  parameters:\\r\\n    archive_mode: off\\r\\n  pg_hba:\\r\\n  - local all postgres peer\\r\\n  - host replication primaryuser 0.0.0.0/0 md5\\r\\n  - host all primaryuser 0.0.0.0/0 reject\\r\\n  - host all all 0.0.0.0/0 md5\\r\\nFri Apr 23 21:15:19 UTC 2021 INFO: Applying SSHD..\\r\\nFri Apr 23 21:15:19 UTC 2021 INFO: Checking for SSH Host Keys in /sshd..\\r\\nFri Apr 23 21:15:19 UTC 2021 INFO: Checking for authorized_keys in /sshd\\r\\nFri Apr 23 21:15:19 UTC 2021 INFO: Checking for sshd_config in /sshd\\r\\nFri Apr 23 21:15:19 UTC 2021 INFO: setting up .ssh directory\\r\\nFri Apr 23 21:15:19 UTC 2021 INFO: Starting SSHD..\\r\\nFri Apr 23 21:15:19 UTC 2021 INFO: Starting background process to monitor Patroni initization and restart the database if needed\\r\\nFri Apr 23 21:15:19 UTC 2021 INFO: Initializing cluster bootstrap with command: '/usr/local/bin/patroni /tmp/postgres-ha-bootstrap.yaml'\\r\\nFri Apr 23 21:15:19 UTC 2021 INFO: Patroni will not run as PID 1. Creating signal handler\\r\\n2021-04-23 21:15:20,080 INFO: No PostgreSQL configuration items changed, nothing to reload.\\r\\n2021-04-23 21:15:20,083 INFO: Lock owner: None; I am pgtest-bootstrap-94wdv\\r\\n2021-04-23 21:15:20,100 INFO: trying to bootstrap a new cluster\\r\\n2021-04-23 21:15:20,100 INFO: Running custom bootstrap script: /opt/crunchy/bin/postgres-ha/pgbackrest/pgbackrest-create-replica.sh primary\\r\\nFri Apr 23 21:15:20 UTC 2021 INFO: Valid PGDATA dir found for primary, a delta restore will be peformed\\r\\nWARN: unable to find backup set with stop time less than '2021-04-23 18:01:00', latest backup set will be used\\r\\nFri Apr 23 21:15:21 UTC 2021 INFO: primary pgBackRest restore complete\\r\\n2021-04-23 21:15:21,195 INFO: postmaster pid=177\\r\\n2021-04-23 21:15:21.197 UTC [177] LOG:  pgaudit extension initialized\\r\\n2021-04-23 21:15:21.199 UTC [177] WARNING:  pgnodemx: Kubernetes Downward API path /etc/podinfo does not exist: No such file or directory\\r\\n2021-04-23 21:15:21.199 UTC [177] DETAIL:  disabling Kubernetes Downward API file system access\\r\\n/tmp:5432 - no response\\r\\n2021-04-23 21:15:21.209 UTC [177] LOG:  redirecting log output to logging collector process\\r\\n2021-04-23 21:15:21.209 UTC [177] HINT:  Future log output will appear in directory \\\"pg_log\\\".\\r\\n/tmp:5432 - accepting connections\\r\\n/tmp:5432 - no response\\r\\n2021-04-23 21:15:22,218 INFO: removing initialize key after failed attempt to bootstrap the cluster\\r\\n2021-04-23 21:15:22,226 INFO: renaming data directory to /pgdata/pgtest_2021-04-23-21-15-22\\r\\nTraceback (most recent call last):\\r\\n  File \\\"/usr/local/bin/patroni\\\", line 11, in <module>\\r\\n    sys.exit(main())\\r\\n  File \\\"/usr/local/lib/python3.6/site-packages/patroni/__init__.py\\\", line 170, in main\\r\\n    return patroni_main()\\r\\n  File \\\"/usr/local/lib/python3.6/site-packages/patroni/__init__.py\\\", line 138, in patroni_main\\r\\n    abstract_main(Patroni, schema)\\r\\n  File \\\"/usr/local/lib/python3.6/site-packages/patroni/daemon.py\\\", line 100, in abstract_main\\r\\n    controller.run()\\r\\n  File \\\"/usr/local/lib/python3.6/site-packages/patroni/__init__.py\\\", line 108, in run\\r\\n    super(Patroni, self).run()\\r\\n  File \\\"/usr/local/lib/python3.6/site-packages/patroni/daemon.py\\\", line 59, in run\\r\\n    self._run_cycle()\\r\\n  File \\\"/usr/local/lib/python3.6/site-packages/patroni/__init__.py\\\", line 111, in _run_cycle\\r\\n    logger.info(self.ha.run_cycle())\\r\\n  File \\\"/usr/local/lib/python3.6/site-packages/patroni/ha.py\\\", line 1452, in run_cycle\\r\\n    info = self._run_cycle()\\r\\n  File \\\"/usr/local/lib/python3.6/site-packages/patroni/ha.py\\\", line 1346, in _run_cycle\\r\\n    return self.post_bootstrap()\\r\\n  File \\\"/usr/local/lib/python3.6/site-packages/patroni/ha.py\\\", line 1242, in post_bootstrap\\r\\n    self.cancel_initialization()\\r\\n  File \\\"/usr/local/lib/python3.6/site-packages/patroni/ha.py\\\", line 1235, in cancel_initialization\\r\\n    raise PatroniFatalException('Failed to bootstrap cluster')\\r\\npatroni.exceptions.PatroniFatalException: 'Failed to bootstrap cluster'\\r\\n\\r\\n\\r\\n\\r\\nUltimately we want to do this using a CRD with our own imakubectl logs pgtest-bootstrap-94wdv -n pgo\\r\\nFri Apr 23 21:15:19 UTC 2021 INFO: postgres-ha pre-bootstrap starting...\\r\\nFri Apr 23 21:15:19 UTC 2021 INFO: pgBackRest auto-config disabled\\r\\nFri Apr 23 21:15:19 UTC 2021 INFO: PGHA_PGBACKREST_LOCAL_S3_STORAGE and PGHA_PGBACKREST_INITIALIZE will be ignored if provided\\r\\nFri Apr 23 21:15:19 UTC 2021 INFO: Defaults have been set for the following postgres-ha auto-configuration env vars: PGHA_DEFAULT_CONFIG, PGHA_BASE_BOOTSTRAP_CONFIG, PGHA_BASE_PG_CONFIG\\r\\nFri Apr 23 21:15:19 UTC 2021 INFO: Defaults have been set for the following postgres-ha env vars: PGHA_PATRONI_PORT\\r\\nFri Apr 23 21:15:19 UTC 2021 INFO: Defaults have been set for the following Patroni env vars: PATRONI_NAME, PATRONI_RESTAPI_LISTEN, PATRONI_RESTAPI_CONNECT_ADDRESS, PATRONI_POSTGRESQL_LISTEN, PATRONI_POSTGRESQL_CONNECT_ADDRESS\\r\\nFri Apr 23 21:15:19 UTC 2021 INFO: Setting postgres-ha configuration for database user credentials\\r\\nFri Apr 23 21:15:19 UTC 2021 INFO: Setting 'pguser' credentials using file system\\r\\nFri Apr 23 21:15:19 UTC 2021 INFO: Setting 'superuser' credentials using file system\\r\\nFri Apr 23 21:15:19 UTC 2021 INFO: Setting 'replicator' credentials using file system\\r\\nFri Apr 23 21:15:19 UTC 2021 INFO: Applying base bootstrap config to postgres-ha configuration\\r\\nFri Apr 23 21:15:19 UTC 2021 INFO: Applying base postgres config to postgres-ha configuration\\r\\nFri Apr 23 21:15:19 UTC 2021 INFO: Applying pgbackrest config to postgres-ha configuration\\r\\nFri Apr 23 21:15:19 UTC 2021 INFO: Applying standard (non-TLS) remote connection configuration to pg_hba.conf\\r\\nFri Apr 23 21:15:19 UTC 2021 INFO: Disabling archive mode for bootstrap method pgbackrest_init\\r\\nFri Apr 23 21:15:19 UTC 2021 INFO: Custom postgres-ha configuration file not detected\\r\\nFri Apr 23 21:15:19 UTC 2021 INFO: Finished building postgres-ha configuration file '/tmp/postgres-ha-bootstrap.yaml'\\r\\nFri Apr 23 21:15:19 UTC 2021 INFO: Detected cluster initialization using an existing PGDATA directory\\r\\nFri Apr 23 21:15:19 UTC 2021 INFO: postgres-ha pre-bootstrap complete!  The following configuration will be utilized to initialize\\r\\n******************************\\r\\npostgres-ha (PGHA) env vars:\\r\\n******************************\\r\\nPGHA_BASE_PG_CONFIG=true\\r\\nPGHA_PATRONI_PORT=8009\\r\\nPGHA_PG_PORT=5432\\r\\nPGHA_PGBACKREST_LOCAL_S3_STORAGE=false\\r\\nPGHA_SYNC_REPLICATION=false\\r\\nPGHA_USER=postgres\\r\\nPGHA_INIT=true\\r\\nPGHA_DEFAULT_CONFIG=true\\r\\nPGHA_REPLICA_REINIT_ON_START_FAIL=true\\r\\nPGHA_PGBACKREST=true\\r\\nPGHA_BASE_BOOTSTRAP_CONFIG=true\\r\\nPGHA_STANDBY=false\\r\\nPGHA_BOOTSTRAP_METHOD=pgbackrest_init\\r\\nPGHA_TLS_ONLY=false\\r\\nPGHA_TLS_ENABLED=false\\r\\nPGHA_DATABASE=pgtest\\r\\n******************************\\r\\nPatroni env vars:\\r\\n******************************\\r\\nPATRONI_POSTGRESQL_CONNECT_ADDRESS=10.42.1.71:5432\\r\\nPATRONI_POSTGRESQL_LISTEN=0.0.0.0:5432\\r\\nPATRONI_NAME=pgtest-bootstrap-94wdv\\r\\nPATRONI_SCOPE=pgtest\\r\\nPATRONI_RESTAPI_LISTEN=0.0.0.0:8009\\r\\nPATRONI_POSTGRESQL_DATA_DIR=/pgdata/pgtest\\r\\nPATRONI_RESTAPI_CONNECT_ADDRESS=10.42.1.71:8009\\r\\nPATRONI_LOG_LEVEL=INFO\\r\\nPATRONI_KUBERNETES_LABELS={vendor: \\\"crunchydata\\\"}\\r\\nPATRONI_KUBERNETES_SCOPE_LABEL=crunchy-pgha-scope\\r\\nPATRONI_KUBERNETES_NAMESPACE=pgo\\r\\n******************************\\r\\nPatroni bootstrap method: pgbackrest_init\\r\\n******************************\\r\\nPatroni configuration file:\\r\\n******************************\\r\\nbootstrap:\\r\\n  method: pgbackrest_init\\r\\n  pgbackrest_init:\\r\\n    command: '/opt/crunchy/bin/postgres-ha/pgbackrest/pgbackrest-create-replica.sh\\r\\n      primary'\\r\\n    keep_existing_recovery_conf: true\\r\\n  existing_init:\\r\\n    command: '/opt/crunchy/bin/postgres-ha/bootstrap/create-from-existing.sh'\\r\\n    keep_existing_recovery_conf: true\\r\\n  dcs:\\r\\n    postgresql:\\r\\n      parameters:\\r\\n        jit: off\\r\\n        unix_socket_directories: /tmp\\r\\n        wal_level: logical\\r\\n        archive_mode: on\\r\\n        archive_command: 'source /opt/crunchy/bin/postgres-ha/pgbackrest/pgbackrest-set-env.sh\\r\\n          && pgbackrest archive-push \\\"%p\\\"'\\r\\n        archive_timeout: 60\\r\\n        log_directory: pg_log\\r\\n        shared_buffers: 128MB\\r\\n        temp_buffers: 8MB\\r\\n        log_min_duration_statement: 60000\\r\\n        log_statement: none\\r\\n        work_mem: 4MB\\r\\n        max_wal_senders: 6\\r\\n        shared_preload_libraries: pgaudit.so,pg_stat_statements.so,pgnodemx.so\\r\\n      use_slots: false\\r\\n      recovery_conf:\\r\\n        restore_command: 'source /opt/crunchy/bin/postgres-ha/pgbackrest/pgbackrest-set-env.sh\\r\\n          && pgbackrest archive-get %f \\\"%p\\\"'\\r\\n      use_pg_rewind: true\\r\\n  post_bootstrap: /opt/crunchy/bin/postgres-ha/bootstrap/post-bootstrap.sh\\r\\n  initdb:\\r\\n  - encoding: UTF8\\r\\n  - data-checksums\\r\\npostgresql:\\r\\n  use_unix_socket: true\\r\\n  pgpass: /tmp/.pgpass\\r\\n  create_replica_methods:\\r\\n  - pgbackrest\\r\\n  - basebackup\\r\\n  pgbackrest:\\r\\n    command: '/opt/crunchy/bin/postgres-ha/pgbackrest/pgbackrest-create-replica.sh\\r\\n      replica'\\r\\n    keep_data: true\\r\\n    no_params: true\\r\\n  pgbackrest_standby:\\r\\n    command: '/opt/crunchy/bin/postgres-ha/pgbackrest/pgbackrest-create-replica.sh\\r\\n      standby'\\r\\n    keep_data: true\\r\\n    no_params: true\\r\\n    no_master: 1\\r\\n  remove_data_directory_on_rewind_failure: true\\r\\n  callbacks:\\r\\n    on_role_change: /opt/crunchy/bin/postgres-ha/callbacks/pgha-on-role-change.sh\\r\\n  parameters:\\r\\n    archive_mode: off\\r\\n  pg_hba:\\r\\n  - local all postgres peer\\r\\n  - host replication primaryuser 0.0.0.0/0 md5\\r\\n  - host all primaryuser 0.0.0.0/0 reject\\r\\n  - host all all 0.0.0.0/0 md5\\r\\nFri Apr 23 21:15:19 UTC 2021 INFO: Applying SSHD..\\r\\nFri Apr 23 21:15:19 UTC 2021 INFO: Checking for SSH Host Keys in /sshd..\\r\\nFri Apr 23 21:15:19 UTC 2021 INFO: Checking for authorized_keys in /sshd\\r\\nFri Apr 23 21:15:19 UTC 2021 INFO: Checking for sshd_config in /sshd\\r\\nFri Apr 23 21:15:19 UTC 2021 INFO: setting up .ssh directory\\r\\nFri Apr 23 21:15:19 UTC 2021 INFO: Starting SSHD..\\r\\nFri Apr 23 21:15:19 UTC 2021 INFO: Starting background process to monitor Patroni initization and restart the database if needed\\r\\nFri Apr 23 21:15:19 UTC 2021 INFO: Initializing cluster bootstrap with command: '/usr/local/bin/patroni /tmp/postgres-ha-bootstrap.yaml'\\r\\nFri Apr 23 21:15:19 UTC 2021 INFO: Patroni will not run as PID 1. Creating signal handler\\r\\n2021-04-23 21:15:20,080 INFO: No PostgreSQL configuration items changed, nothing to reload.\\r\\n2021-04-23 21:15:20,083 INFO: Lock owner: None; I am pgtest-bootstrap-94wdv\\r\\n2021-04-23 21:15:20,100 INFO: trying to bootstrap a new cluster\\r\\n2021-04-23 21:15:20,100 INFO: Running custom bootstrap script: /opt/crunchy/bin/postgres-ha/pgbackrest/pgbackrest-create-replica.sh primary\\r\\nFri Apr 23 21:15:20 UTC 2021 INFO: Valid PGDATA dir found for primary, a delta restore will be peformed\\r\\nWARN: unable to find backup set with stop time less than '2021-04-23 18:01:00', latest backup set will be used\\r\\nFri Apr 23 21:15:21 UTC 2021 INFO: primary pgBackRest restore complete\\r\\n2021-04-23 21:15:21,195 INFO: postmaster pid=177\\r\\n2021-04-23 21:15:21.197 UTC [177] LOG:  pgaudit extension initialized\\r\\n2021-04-23 21:15:21.199 UTC [177] WARNING:  pgnodemx: Kubernetes Downward API path /etc/podinfo does not exist: No such file or directory\\r\\n2021-04-23 21:15:21.199 UTC [177] DETAIL:  disabling Kubernetes Downward API file system access\\r\\n/tmp:5432 - no response\\r\\n2021-04-23 21:15:21.209 UTC [177] LOG:  redirecting log output to logging collector process\\r\\n2021-04-23 21:15:21.209 UTC [177] HINT:  Future log output will appear in directory \\\"pg_log\\\".\\r\\n/tmp:5432 - accepting connections\\r\\n/tmp:5432 - no response\\r\\n2021-04-23 21:15:22,218 INFO: removing initialize key after failed attempt to bootstrap the cluster\\r\\n2021-04-23 21:15:22,226 INFO: renaming data directory to /pgdata/pgtest_2021-04-23-21-15-22\\r\\nTraceback (most recent call last):\\r\\n  File \\\"/usr/local/bin/patroni\\\", line 11, in <module>\\r\\n    sys.exit(main())\\r\\n  File \\\"/usr/local/lib/python3.6/site-packages/patroni/__init__.py\\\", line 170, in main\\r\\n    return patroni_main()\\r\\n  File \\\"/usr/local/lib/python3.6/site-packages/patroni/__init__.py\\\", line 138, in patroni_main\\r\\n    abstract_main(Patroni, schema)\\r\\n  File \\\"/usr/local/lib/python3.6/site-packages/patroni/daemon.py\\\", line 100, in abstract_main\\r\\n    controller.run()\\r\\n  File \\\"/usr/local/lib/python3.6/site-packages/patroni/__init__.py\\\", line 108, in run\\r\\n    super(Patroni, self).run()\\r\\n  File \\\"/usr/local/lib/python3.6/site-packages/patroni/daemon.py\\\", line 59, in run\\r\\n    self._run_cycle()\\r\\n  File \\\"/usr/local/lib/python3.6/site-packages/patroni/__init__.py\\\", line 111, in _run_cycle\\r\\n    logger.info(self.ha.run_cycle())\\r\\n  File \\\"/usr/local/lib/python3.6/site-packages/patroni/ha.py\\\", line 1452, in run_cycle\\r\\n    info = self._run_cycle()\\r\\n  File \\\"/usr/local/lib/python3.6/site-packages/patroni/ha.py\\\", line 1346, in _run_cycle\\r\\n    return self.post_bootstrap()\\r\\n  File \\\"/usr/local/lib/python3.6/site-packages/patroni/ha.py\\\", line 1242, in post_bootstrap\\r\\n    self.cancel_initialization()\\r\\n  File \\\"/usr/local/lib/python3.6/site-packages/patroni/ha.py\\\", line 1235, in cancel_initialization\\r\\n    raise PatroniFatalException('Failed to bootstrap cluster')\\r\\npatroni.exceptions.PatroniFatalException: 'Failed to bootstrap cluster'\\r\\n\\r\\n\\r\\n\",\n          \"In the Chinese language family, Traditional Chinese and Simplified Chinese are distinguished. Currently, it is found that you specify \\\"zh\\\" as Traditional Chinese.\\r\\n\\r\\n\\\"Some CultureInfo objects differ depending on the underlying platform. In particular, \\\"zh-CN\\\", or Chinese (Simplified, China) and \\\"zh-TW\\\", or Chinese (Traditional, Taiwan), are available cultures on Windows systems.\\\"\\r\\n\\r\\nhttps://docs.microsoft.com/en-us/dotnet/api/system.globalization.cultureinfo?view=net-5.0\",\n          \"- [x] I have checked that this issue has not already been reported.\\r\\n\\r\\n- [x] I have confirmed this bug exists on the latest version of geopandas.\\r\\n\\r\\n- [ ] (optional) I have confirmed this bug exists on the master branch of geopandas.\\r\\n\\r\\n---\\r\\n\\r\\n**Note**: Please read [this guide](https://matthewrocklin.com/blog/work/2018/02/28/minimal-bug-reports) detailing how to provide the necessary information for us to reproduce your bug.\\r\\n\\r\\n#### Code Sample, a copy-pastable example\\r\\n\\r\\n```python\\r\\nimport geopandas\\r\\n# copy from https://geopandas.org/docs/reference/api/geopandas.GeoSeries.is_empty.html#geopandas.GeoSeries.is_empty\\r\\nfrom shapely.geometry import Point, Polygon\\r\\nd = {'geometry': [Point(), Point(2, 1), None]}\\r\\ngdf = geopandas.GeoDataFrame(d, crs=\\\"EPSG:4326\\\")\\r\\n# this fails\\r\\ngdf.to_crs(\\\"EPSG:3857\\\")\\r\\n\\r\\n```\\r\\n\\r\\n#### Problem description\\r\\n\\r\\nNone values lead to an error, rather than propagating and returning None.\\r\\n\\r\\n#### Expected Output\\r\\n\\r\\nNone\\r\\n\\r\\n#### Output of ``geopandas.show_versions()``\\r\\n\\r\\n<details>\\r\\n\\r\\nSYSTEM INFO\\r\\n-----------\\r\\npython     : 3.8.5 (default, Jul 28 2020, 12:59:40)  [GCC 9.3.0]\\r\\nexecutable : /usr/bin/python3\\r\\nmachine    : Linux-4.19.128-microsoft-standard-x86_64-with-glibc2.29\\r\\n\\r\\nGEOS, GDAL, PROJ INFO\\r\\n---------------------\\r\\nGEOS       : 3.8.0\\r\\nGEOS lib   : /usr/lib/x86_64-linux-gnu/libgeos_c.so\\r\\nGDAL       : 2.4.4\\r\\nGDAL data dir: /usr/local/lib/python3.8/dist-packages/fiona/gdal_data\\r\\nPROJ       : 7.2.0\\r\\nPROJ data dir: /usr/local/lib/python3.8/dist-packages/pyproj/proj_dir/share/proj\\r\\n\\r\\nPYTHON DEPENDENCIES\\r\\n-------------------\\r\\ngeopandas  : 0.8.1\\r\\npandas     : 1.1.4\\r\\nfiona      : 1.8.17\\r\\nnumpy      : 1.19.4\\r\\nshapely    : 1.7.1\\r\\nrtree      : None\\r\\npyproj     : 3.0.0.post1\\r\\nmatplotlib : 3.3.2\\r\\nmapclassify: None\\r\\ngeopy      : 2.1.0\\r\\npsycopg2   : None\\r\\ngeoalchemy2: None\\r\\npyarrow    : None\\r\\n\\r\\n</details>\\r\\n\"\n        ],\n        \"semantic_type\": \"\",\n        \"description\": \"\"\n      }\n    }\n  ]\n}"
            }
          },
          "metadata": {},
          "execution_count": 7
        }
      ]
    },
    {
      "cell_type": "code",
      "source": [
        "s = test.shape[0] // 1000\n",
        "print(s)"
      ],
      "metadata": {
        "colab": {
          "base_uri": "https://localhost:8080/"
        },
        "id": "tr7uMX7rcixr",
        "outputId": "59d9694b-6f9c-4b56-b59c-cf683ca476d1"
      },
      "execution_count": 8,
      "outputs": [
        {
          "output_type": "stream",
          "name": "stdout",
          "text": [
            "80\n"
          ]
        }
      ]
    },
    {
      "cell_type": "code",
      "source": [
        "x = 1\n",
        "\n",
        "while x < (s+1):\n",
        "    i = (x - 1) * 1000\n",
        "    n = x * 1000\n",
        "    with tqdm(total = (n - i), ncols = 100) as pbar:\n",
        "        while i < n:\n",
        "            try:\n",
        "                test.loc[i,'llama3_8b_prediction'] = llm.invoke(f\"\"\"Considering the following issue where the issue title is \"{test.loc[i,'issue_title']}\" and the issue body is \"{test.loc[i,'issue_body']}\", please categorize this issue as \"bug\" or \"enhancement\" or \"others\" and provide your answer as a single word. Your answer should contain a single word.\"\"\")\n",
        "                pbar.update(1)\n",
        "                i = i + 1\n",
        "            except:\n",
        "                print('exception')\n",
        "                continue\n",
        "    test.to_pickle('data/test_preds_nlbse22_paper_llama3_8b.pkl')\n",
        "    print(f'Categorization of {n} issues is complete')\n",
        "    x = x + 1"
      ],
      "metadata": {
        "colab": {
          "base_uri": "https://localhost:8080/"
        },
        "id": "aUda-TENckVI",
        "outputId": "6864da6f-5287-42e6-e81c-c26cf9355748"
      },
      "execution_count": 9,
      "outputs": [
        {
          "output_type": "stream",
          "name": "stderr",
          "text": [
            "100%|███████████████████████████████████████████████████████████| 1000/1000 [04:04<00:00,  4.08it/s]\n"
          ]
        },
        {
          "output_type": "stream",
          "name": "stdout",
          "text": [
            "Categorization of 1000 issues is complete\n"
          ]
        },
        {
          "output_type": "stream",
          "name": "stderr",
          "text": [
            "100%|███████████████████████████████████████████████████████████| 1000/1000 [04:01<00:00,  4.14it/s]\n"
          ]
        },
        {
          "output_type": "stream",
          "name": "stdout",
          "text": [
            "Categorization of 2000 issues is complete\n"
          ]
        },
        {
          "output_type": "stream",
          "name": "stderr",
          "text": [
            "100%|███████████████████████████████████████████████████████████| 1000/1000 [04:01<00:00,  4.15it/s]\n"
          ]
        },
        {
          "output_type": "stream",
          "name": "stdout",
          "text": [
            "Categorization of 3000 issues is complete\n"
          ]
        },
        {
          "output_type": "stream",
          "name": "stderr",
          "text": [
            "100%|███████████████████████████████████████████████████████████| 1000/1000 [04:01<00:00,  4.14it/s]\n"
          ]
        },
        {
          "output_type": "stream",
          "name": "stdout",
          "text": [
            "Categorization of 4000 issues is complete\n"
          ]
        },
        {
          "output_type": "stream",
          "name": "stderr",
          "text": [
            "100%|███████████████████████████████████████████████████████████| 1000/1000 [04:05<00:00,  4.07it/s]\n"
          ]
        },
        {
          "output_type": "stream",
          "name": "stdout",
          "text": [
            "Categorization of 5000 issues is complete\n"
          ]
        },
        {
          "output_type": "stream",
          "name": "stderr",
          "text": [
            "100%|███████████████████████████████████████████████████████████| 1000/1000 [03:59<00:00,  4.18it/s]\n"
          ]
        },
        {
          "output_type": "stream",
          "name": "stdout",
          "text": [
            "Categorization of 6000 issues is complete\n"
          ]
        },
        {
          "output_type": "stream",
          "name": "stderr",
          "text": [
            "100%|███████████████████████████████████████████████████████████| 1000/1000 [04:01<00:00,  4.14it/s]\n"
          ]
        },
        {
          "output_type": "stream",
          "name": "stdout",
          "text": [
            "Categorization of 7000 issues is complete\n"
          ]
        },
        {
          "output_type": "stream",
          "name": "stderr",
          "text": [
            "100%|███████████████████████████████████████████████████████████| 1000/1000 [04:05<00:00,  4.08it/s]\n"
          ]
        },
        {
          "output_type": "stream",
          "name": "stdout",
          "text": [
            "Categorization of 8000 issues is complete\n"
          ]
        },
        {
          "output_type": "stream",
          "name": "stderr",
          "text": [
            "100%|███████████████████████████████████████████████████████████| 1000/1000 [04:05<00:00,  4.07it/s]\n"
          ]
        },
        {
          "output_type": "stream",
          "name": "stdout",
          "text": [
            "Categorization of 9000 issues is complete\n"
          ]
        },
        {
          "output_type": "stream",
          "name": "stderr",
          "text": [
            "100%|███████████████████████████████████████████████████████████| 1000/1000 [04:06<00:00,  4.06it/s]\n"
          ]
        },
        {
          "output_type": "stream",
          "name": "stdout",
          "text": [
            "Categorization of 10000 issues is complete\n"
          ]
        },
        {
          "output_type": "stream",
          "name": "stderr",
          "text": [
            "100%|███████████████████████████████████████████████████████████| 1000/1000 [04:01<00:00,  4.14it/s]\n"
          ]
        },
        {
          "output_type": "stream",
          "name": "stdout",
          "text": [
            "Categorization of 11000 issues is complete\n"
          ]
        },
        {
          "output_type": "stream",
          "name": "stderr",
          "text": [
            "100%|███████████████████████████████████████████████████████████| 1000/1000 [04:04<00:00,  4.09it/s]\n"
          ]
        },
        {
          "output_type": "stream",
          "name": "stdout",
          "text": [
            "Categorization of 12000 issues is complete\n"
          ]
        },
        {
          "output_type": "stream",
          "name": "stderr",
          "text": [
            "100%|███████████████████████████████████████████████████████████| 1000/1000 [04:02<00:00,  4.12it/s]\n"
          ]
        },
        {
          "output_type": "stream",
          "name": "stdout",
          "text": [
            "Categorization of 13000 issues is complete\n"
          ]
        },
        {
          "output_type": "stream",
          "name": "stderr",
          "text": [
            "100%|███████████████████████████████████████████████████████████| 1000/1000 [04:00<00:00,  4.15it/s]\n"
          ]
        },
        {
          "output_type": "stream",
          "name": "stdout",
          "text": [
            "Categorization of 14000 issues is complete\n"
          ]
        },
        {
          "output_type": "stream",
          "name": "stderr",
          "text": [
            "100%|███████████████████████████████████████████████████████████| 1000/1000 [04:00<00:00,  4.16it/s]\n"
          ]
        },
        {
          "output_type": "stream",
          "name": "stdout",
          "text": [
            "Categorization of 15000 issues is complete\n"
          ]
        },
        {
          "output_type": "stream",
          "name": "stderr",
          "text": [
            "100%|███████████████████████████████████████████████████████████| 1000/1000 [04:02<00:00,  4.12it/s]\n"
          ]
        },
        {
          "output_type": "stream",
          "name": "stdout",
          "text": [
            "Categorization of 16000 issues is complete\n"
          ]
        },
        {
          "output_type": "stream",
          "name": "stderr",
          "text": [
            "100%|███████████████████████████████████████████████████████████| 1000/1000 [04:02<00:00,  4.12it/s]\n"
          ]
        },
        {
          "output_type": "stream",
          "name": "stdout",
          "text": [
            "Categorization of 17000 issues is complete\n"
          ]
        },
        {
          "output_type": "stream",
          "name": "stderr",
          "text": [
            "100%|███████████████████████████████████████████████████████████| 1000/1000 [04:03<00:00,  4.11it/s]\n"
          ]
        },
        {
          "output_type": "stream",
          "name": "stdout",
          "text": [
            "Categorization of 18000 issues is complete\n"
          ]
        },
        {
          "output_type": "stream",
          "name": "stderr",
          "text": [
            "100%|███████████████████████████████████████████████████████████| 1000/1000 [04:05<00:00,  4.07it/s]\n"
          ]
        },
        {
          "output_type": "stream",
          "name": "stdout",
          "text": [
            "Categorization of 19000 issues is complete\n"
          ]
        },
        {
          "output_type": "stream",
          "name": "stderr",
          "text": [
            "100%|███████████████████████████████████████████████████████████| 1000/1000 [04:01<00:00,  4.13it/s]\n"
          ]
        },
        {
          "output_type": "stream",
          "name": "stdout",
          "text": [
            "Categorization of 20000 issues is complete\n"
          ]
        },
        {
          "output_type": "stream",
          "name": "stderr",
          "text": [
            "100%|███████████████████████████████████████████████████████████| 1000/1000 [04:03<00:00,  4.10it/s]\n"
          ]
        },
        {
          "output_type": "stream",
          "name": "stdout",
          "text": [
            "Categorization of 21000 issues is complete\n"
          ]
        },
        {
          "output_type": "stream",
          "name": "stderr",
          "text": [
            "100%|███████████████████████████████████████████████████████████| 1000/1000 [04:01<00:00,  4.14it/s]\n"
          ]
        },
        {
          "output_type": "stream",
          "name": "stdout",
          "text": [
            "Categorization of 22000 issues is complete\n"
          ]
        },
        {
          "output_type": "stream",
          "name": "stderr",
          "text": [
            "100%|███████████████████████████████████████████████████████████| 1000/1000 [04:07<00:00,  4.04it/s]\n"
          ]
        },
        {
          "output_type": "stream",
          "name": "stdout",
          "text": [
            "Categorization of 23000 issues is complete\n"
          ]
        },
        {
          "output_type": "stream",
          "name": "stderr",
          "text": [
            "100%|███████████████████████████████████████████████████████████| 1000/1000 [04:05<00:00,  4.07it/s]\n"
          ]
        },
        {
          "output_type": "stream",
          "name": "stdout",
          "text": [
            "Categorization of 24000 issues is complete\n"
          ]
        },
        {
          "output_type": "stream",
          "name": "stderr",
          "text": [
            "100%|███████████████████████████████████████████████████████████| 1000/1000 [04:03<00:00,  4.10it/s]\n"
          ]
        },
        {
          "output_type": "stream",
          "name": "stdout",
          "text": [
            "Categorization of 25000 issues is complete\n"
          ]
        },
        {
          "output_type": "stream",
          "name": "stderr",
          "text": [
            "100%|███████████████████████████████████████████████████████████| 1000/1000 [04:07<00:00,  4.04it/s]\n"
          ]
        },
        {
          "output_type": "stream",
          "name": "stdout",
          "text": [
            "Categorization of 26000 issues is complete\n"
          ]
        },
        {
          "output_type": "stream",
          "name": "stderr",
          "text": [
            "100%|███████████████████████████████████████████████████████████| 1000/1000 [04:08<00:00,  4.03it/s]\n"
          ]
        },
        {
          "output_type": "stream",
          "name": "stdout",
          "text": [
            "Categorization of 27000 issues is complete\n"
          ]
        },
        {
          "output_type": "stream",
          "name": "stderr",
          "text": [
            "100%|███████████████████████████████████████████████████████████| 1000/1000 [04:07<00:00,  4.04it/s]\n"
          ]
        },
        {
          "output_type": "stream",
          "name": "stdout",
          "text": [
            "Categorization of 28000 issues is complete\n"
          ]
        },
        {
          "output_type": "stream",
          "name": "stderr",
          "text": [
            "100%|███████████████████████████████████████████████████████████| 1000/1000 [04:03<00:00,  4.10it/s]\n"
          ]
        },
        {
          "output_type": "stream",
          "name": "stdout",
          "text": [
            "Categorization of 29000 issues is complete\n"
          ]
        },
        {
          "output_type": "stream",
          "name": "stderr",
          "text": [
            "100%|███████████████████████████████████████████████████████████| 1000/1000 [04:03<00:00,  4.11it/s]\n"
          ]
        },
        {
          "output_type": "stream",
          "name": "stdout",
          "text": [
            "Categorization of 30000 issues is complete\n"
          ]
        },
        {
          "output_type": "stream",
          "name": "stderr",
          "text": [
            "100%|███████████████████████████████████████████████████████████| 1000/1000 [04:16<00:00,  3.90it/s]\n"
          ]
        },
        {
          "output_type": "stream",
          "name": "stdout",
          "text": [
            "Categorization of 31000 issues is complete\n"
          ]
        },
        {
          "output_type": "stream",
          "name": "stderr",
          "text": [
            "100%|███████████████████████████████████████████████████████████| 1000/1000 [04:09<00:00,  4.02it/s]\n"
          ]
        },
        {
          "output_type": "stream",
          "name": "stdout",
          "text": [
            "Categorization of 32000 issues is complete\n"
          ]
        },
        {
          "output_type": "stream",
          "name": "stderr",
          "text": [
            "100%|███████████████████████████████████████████████████████████| 1000/1000 [04:04<00:00,  4.10it/s]\n"
          ]
        },
        {
          "output_type": "stream",
          "name": "stdout",
          "text": [
            "Categorization of 33000 issues is complete\n"
          ]
        },
        {
          "output_type": "stream",
          "name": "stderr",
          "text": [
            "100%|███████████████████████████████████████████████████████████| 1000/1000 [04:04<00:00,  4.09it/s]\n"
          ]
        },
        {
          "output_type": "stream",
          "name": "stdout",
          "text": [
            "Categorization of 34000 issues is complete\n"
          ]
        },
        {
          "output_type": "stream",
          "name": "stderr",
          "text": [
            "100%|███████████████████████████████████████████████████████████| 1000/1000 [04:10<00:00,  4.00it/s]\n"
          ]
        },
        {
          "output_type": "stream",
          "name": "stdout",
          "text": [
            "Categorization of 35000 issues is complete\n"
          ]
        },
        {
          "output_type": "stream",
          "name": "stderr",
          "text": [
            "100%|███████████████████████████████████████████████████████████| 1000/1000 [04:05<00:00,  4.08it/s]\n"
          ]
        },
        {
          "output_type": "stream",
          "name": "stdout",
          "text": [
            "Categorization of 36000 issues is complete\n"
          ]
        },
        {
          "output_type": "stream",
          "name": "stderr",
          "text": [
            "100%|███████████████████████████████████████████████████████████| 1000/1000 [04:05<00:00,  4.08it/s]\n"
          ]
        },
        {
          "output_type": "stream",
          "name": "stdout",
          "text": [
            "Categorization of 37000 issues is complete\n"
          ]
        },
        {
          "output_type": "stream",
          "name": "stderr",
          "text": [
            "100%|███████████████████████████████████████████████████████████| 1000/1000 [04:01<00:00,  4.13it/s]\n"
          ]
        },
        {
          "output_type": "stream",
          "name": "stdout",
          "text": [
            "Categorization of 38000 issues is complete\n"
          ]
        },
        {
          "output_type": "stream",
          "name": "stderr",
          "text": [
            "100%|███████████████████████████████████████████████████████████| 1000/1000 [04:03<00:00,  4.10it/s]\n"
          ]
        },
        {
          "output_type": "stream",
          "name": "stdout",
          "text": [
            "Categorization of 39000 issues is complete\n"
          ]
        },
        {
          "output_type": "stream",
          "name": "stderr",
          "text": [
            "100%|███████████████████████████████████████████████████████████| 1000/1000 [04:04<00:00,  4.10it/s]\n"
          ]
        },
        {
          "output_type": "stream",
          "name": "stdout",
          "text": [
            "Categorization of 40000 issues is complete\n"
          ]
        },
        {
          "output_type": "stream",
          "name": "stderr",
          "text": [
            "100%|███████████████████████████████████████████████████████████| 1000/1000 [04:04<00:00,  4.10it/s]\n"
          ]
        },
        {
          "output_type": "stream",
          "name": "stdout",
          "text": [
            "Categorization of 41000 issues is complete\n"
          ]
        },
        {
          "output_type": "stream",
          "name": "stderr",
          "text": [
            "100%|███████████████████████████████████████████████████████████| 1000/1000 [04:04<00:00,  4.09it/s]\n"
          ]
        },
        {
          "output_type": "stream",
          "name": "stdout",
          "text": [
            "Categorization of 42000 issues is complete\n"
          ]
        },
        {
          "output_type": "stream",
          "name": "stderr",
          "text": [
            "100%|███████████████████████████████████████████████████████████| 1000/1000 [04:02<00:00,  4.12it/s]\n"
          ]
        },
        {
          "output_type": "stream",
          "name": "stdout",
          "text": [
            "Categorization of 43000 issues is complete\n"
          ]
        },
        {
          "output_type": "stream",
          "name": "stderr",
          "text": [
            "100%|███████████████████████████████████████████████████████████| 1000/1000 [04:07<00:00,  4.04it/s]\n"
          ]
        },
        {
          "output_type": "stream",
          "name": "stdout",
          "text": [
            "Categorization of 44000 issues is complete\n"
          ]
        },
        {
          "output_type": "stream",
          "name": "stderr",
          "text": [
            "100%|███████████████████████████████████████████████████████████| 1000/1000 [04:05<00:00,  4.08it/s]\n"
          ]
        },
        {
          "output_type": "stream",
          "name": "stdout",
          "text": [
            "Categorization of 45000 issues is complete\n"
          ]
        },
        {
          "output_type": "stream",
          "name": "stderr",
          "text": [
            "100%|███████████████████████████████████████████████████████████| 1000/1000 [04:22<00:00,  3.81it/s]\n"
          ]
        },
        {
          "output_type": "stream",
          "name": "stdout",
          "text": [
            "Categorization of 46000 issues is complete\n"
          ]
        },
        {
          "output_type": "stream",
          "name": "stderr",
          "text": [
            "100%|███████████████████████████████████████████████████████████| 1000/1000 [04:04<00:00,  4.08it/s]\n"
          ]
        },
        {
          "output_type": "stream",
          "name": "stdout",
          "text": [
            "Categorization of 47000 issues is complete\n"
          ]
        },
        {
          "output_type": "stream",
          "name": "stderr",
          "text": [
            "100%|███████████████████████████████████████████████████████████| 1000/1000 [04:05<00:00,  4.08it/s]\n"
          ]
        },
        {
          "output_type": "stream",
          "name": "stdout",
          "text": [
            "Categorization of 48000 issues is complete\n"
          ]
        },
        {
          "output_type": "stream",
          "name": "stderr",
          "text": [
            "100%|███████████████████████████████████████████████████████████| 1000/1000 [04:08<00:00,  4.03it/s]\n"
          ]
        },
        {
          "output_type": "stream",
          "name": "stdout",
          "text": [
            "Categorization of 49000 issues is complete\n"
          ]
        },
        {
          "output_type": "stream",
          "name": "stderr",
          "text": [
            "100%|███████████████████████████████████████████████████████████| 1000/1000 [04:04<00:00,  4.10it/s]\n"
          ]
        },
        {
          "output_type": "stream",
          "name": "stdout",
          "text": [
            "Categorization of 50000 issues is complete\n"
          ]
        },
        {
          "output_type": "stream",
          "name": "stderr",
          "text": [
            "100%|███████████████████████████████████████████████████████████| 1000/1000 [04:06<00:00,  4.06it/s]\n"
          ]
        },
        {
          "output_type": "stream",
          "name": "stdout",
          "text": [
            "Categorization of 51000 issues is complete\n"
          ]
        },
        {
          "output_type": "stream",
          "name": "stderr",
          "text": [
            "100%|███████████████████████████████████████████████████████████| 1000/1000 [04:06<00:00,  4.06it/s]\n"
          ]
        },
        {
          "output_type": "stream",
          "name": "stdout",
          "text": [
            "Categorization of 52000 issues is complete\n"
          ]
        },
        {
          "output_type": "stream",
          "name": "stderr",
          "text": [
            "100%|███████████████████████████████████████████████████████████| 1000/1000 [04:04<00:00,  4.08it/s]\n"
          ]
        },
        {
          "output_type": "stream",
          "name": "stdout",
          "text": [
            "Categorization of 53000 issues is complete\n"
          ]
        },
        {
          "output_type": "stream",
          "name": "stderr",
          "text": [
            "100%|███████████████████████████████████████████████████████████| 1000/1000 [04:00<00:00,  4.15it/s]\n"
          ]
        },
        {
          "output_type": "stream",
          "name": "stdout",
          "text": [
            "Categorization of 54000 issues is complete\n"
          ]
        },
        {
          "output_type": "stream",
          "name": "stderr",
          "text": [
            "100%|███████████████████████████████████████████████████████████| 1000/1000 [04:01<00:00,  4.14it/s]\n"
          ]
        },
        {
          "output_type": "stream",
          "name": "stdout",
          "text": [
            "Categorization of 55000 issues is complete\n"
          ]
        },
        {
          "output_type": "stream",
          "name": "stderr",
          "text": [
            "100%|███████████████████████████████████████████████████████████| 1000/1000 [04:03<00:00,  4.10it/s]\n"
          ]
        },
        {
          "output_type": "stream",
          "name": "stdout",
          "text": [
            "Categorization of 56000 issues is complete\n"
          ]
        },
        {
          "output_type": "stream",
          "name": "stderr",
          "text": [
            "100%|███████████████████████████████████████████████████████████| 1000/1000 [04:03<00:00,  4.11it/s]\n"
          ]
        },
        {
          "output_type": "stream",
          "name": "stdout",
          "text": [
            "Categorization of 57000 issues is complete\n"
          ]
        },
        {
          "output_type": "stream",
          "name": "stderr",
          "text": [
            "100%|███████████████████████████████████████████████████████████| 1000/1000 [04:05<00:00,  4.08it/s]\n"
          ]
        },
        {
          "output_type": "stream",
          "name": "stdout",
          "text": [
            "Categorization of 58000 issues is complete\n"
          ]
        },
        {
          "output_type": "stream",
          "name": "stderr",
          "text": [
            "100%|███████████████████████████████████████████████████████████| 1000/1000 [04:02<00:00,  4.12it/s]\n"
          ]
        },
        {
          "output_type": "stream",
          "name": "stdout",
          "text": [
            "Categorization of 59000 issues is complete\n"
          ]
        },
        {
          "output_type": "stream",
          "name": "stderr",
          "text": [
            "100%|███████████████████████████████████████████████████████████| 1000/1000 [04:00<00:00,  4.15it/s]\n"
          ]
        },
        {
          "output_type": "stream",
          "name": "stdout",
          "text": [
            "Categorization of 60000 issues is complete\n"
          ]
        },
        {
          "output_type": "stream",
          "name": "stderr",
          "text": [
            "100%|███████████████████████████████████████████████████████████| 1000/1000 [04:02<00:00,  4.13it/s]\n"
          ]
        },
        {
          "output_type": "stream",
          "name": "stdout",
          "text": [
            "Categorization of 61000 issues is complete\n"
          ]
        },
        {
          "output_type": "stream",
          "name": "stderr",
          "text": [
            "100%|███████████████████████████████████████████████████████████| 1000/1000 [03:58<00:00,  4.19it/s]\n"
          ]
        },
        {
          "output_type": "stream",
          "name": "stdout",
          "text": [
            "Categorization of 62000 issues is complete\n"
          ]
        },
        {
          "output_type": "stream",
          "name": "stderr",
          "text": [
            "100%|███████████████████████████████████████████████████████████| 1000/1000 [04:00<00:00,  4.15it/s]\n"
          ]
        },
        {
          "output_type": "stream",
          "name": "stdout",
          "text": [
            "Categorization of 63000 issues is complete\n"
          ]
        },
        {
          "output_type": "stream",
          "name": "stderr",
          "text": [
            "100%|███████████████████████████████████████████████████████████| 1000/1000 [04:04<00:00,  4.09it/s]\n"
          ]
        },
        {
          "output_type": "stream",
          "name": "stdout",
          "text": [
            "Categorization of 64000 issues is complete\n"
          ]
        },
        {
          "output_type": "stream",
          "name": "stderr",
          "text": [
            "100%|███████████████████████████████████████████████████████████| 1000/1000 [04:04<00:00,  4.09it/s]\n"
          ]
        },
        {
          "output_type": "stream",
          "name": "stdout",
          "text": [
            "Categorization of 65000 issues is complete\n"
          ]
        },
        {
          "output_type": "stream",
          "name": "stderr",
          "text": [
            "100%|███████████████████████████████████████████████████████████| 1000/1000 [04:04<00:00,  4.09it/s]\n"
          ]
        },
        {
          "output_type": "stream",
          "name": "stdout",
          "text": [
            "Categorization of 66000 issues is complete\n"
          ]
        },
        {
          "output_type": "stream",
          "name": "stderr",
          "text": [
            "100%|███████████████████████████████████████████████████████████| 1000/1000 [04:06<00:00,  4.06it/s]\n"
          ]
        },
        {
          "output_type": "stream",
          "name": "stdout",
          "text": [
            "Categorization of 67000 issues is complete\n"
          ]
        },
        {
          "output_type": "stream",
          "name": "stderr",
          "text": [
            "100%|███████████████████████████████████████████████████████████| 1000/1000 [04:11<00:00,  3.98it/s]\n"
          ]
        },
        {
          "output_type": "stream",
          "name": "stdout",
          "text": [
            "Categorization of 68000 issues is complete\n"
          ]
        },
        {
          "output_type": "stream",
          "name": "stderr",
          "text": [
            "100%|███████████████████████████████████████████████████████████| 1000/1000 [04:01<00:00,  4.14it/s]\n"
          ]
        },
        {
          "output_type": "stream",
          "name": "stdout",
          "text": [
            "Categorization of 69000 issues is complete\n"
          ]
        },
        {
          "output_type": "stream",
          "name": "stderr",
          "text": [
            "100%|███████████████████████████████████████████████████████████| 1000/1000 [04:01<00:00,  4.15it/s]\n"
          ]
        },
        {
          "output_type": "stream",
          "name": "stdout",
          "text": [
            "Categorization of 70000 issues is complete\n"
          ]
        },
        {
          "output_type": "stream",
          "name": "stderr",
          "text": [
            "100%|███████████████████████████████████████████████████████████| 1000/1000 [04:13<00:00,  3.95it/s]\n"
          ]
        },
        {
          "output_type": "stream",
          "name": "stdout",
          "text": [
            "Categorization of 71000 issues is complete\n"
          ]
        },
        {
          "output_type": "stream",
          "name": "stderr",
          "text": [
            "100%|███████████████████████████████████████████████████████████| 1000/1000 [04:04<00:00,  4.10it/s]\n"
          ]
        },
        {
          "output_type": "stream",
          "name": "stdout",
          "text": [
            "Categorization of 72000 issues is complete\n"
          ]
        },
        {
          "output_type": "stream",
          "name": "stderr",
          "text": [
            "100%|███████████████████████████████████████████████████████████| 1000/1000 [04:01<00:00,  4.14it/s]\n"
          ]
        },
        {
          "output_type": "stream",
          "name": "stdout",
          "text": [
            "Categorization of 73000 issues is complete\n"
          ]
        },
        {
          "output_type": "stream",
          "name": "stderr",
          "text": [
            "100%|███████████████████████████████████████████████████████████| 1000/1000 [04:05<00:00,  4.07it/s]\n"
          ]
        },
        {
          "output_type": "stream",
          "name": "stdout",
          "text": [
            "Categorization of 74000 issues is complete\n"
          ]
        },
        {
          "output_type": "stream",
          "name": "stderr",
          "text": [
            "100%|███████████████████████████████████████████████████████████| 1000/1000 [04:06<00:00,  4.05it/s]\n"
          ]
        },
        {
          "output_type": "stream",
          "name": "stdout",
          "text": [
            "Categorization of 75000 issues is complete\n"
          ]
        },
        {
          "output_type": "stream",
          "name": "stderr",
          "text": [
            "100%|███████████████████████████████████████████████████████████| 1000/1000 [04:09<00:00,  4.01it/s]\n"
          ]
        },
        {
          "output_type": "stream",
          "name": "stdout",
          "text": [
            "Categorization of 76000 issues is complete\n"
          ]
        },
        {
          "output_type": "stream",
          "name": "stderr",
          "text": [
            "100%|███████████████████████████████████████████████████████████| 1000/1000 [04:05<00:00,  4.08it/s]\n"
          ]
        },
        {
          "output_type": "stream",
          "name": "stdout",
          "text": [
            "Categorization of 77000 issues is complete\n"
          ]
        },
        {
          "output_type": "stream",
          "name": "stderr",
          "text": [
            "100%|███████████████████████████████████████████████████████████| 1000/1000 [04:04<00:00,  4.08it/s]\n"
          ]
        },
        {
          "output_type": "stream",
          "name": "stdout",
          "text": [
            "Categorization of 78000 issues is complete\n"
          ]
        },
        {
          "output_type": "stream",
          "name": "stderr",
          "text": [
            "100%|███████████████████████████████████████████████████████████| 1000/1000 [04:04<00:00,  4.10it/s]\n"
          ]
        },
        {
          "output_type": "stream",
          "name": "stdout",
          "text": [
            "Categorization of 79000 issues is complete\n"
          ]
        },
        {
          "output_type": "stream",
          "name": "stderr",
          "text": [
            "100%|███████████████████████████████████████████████████████████| 1000/1000 [04:07<00:00,  4.04it/s]\n"
          ]
        },
        {
          "output_type": "stream",
          "name": "stdout",
          "text": [
            "Categorization of 80000 issues is complete\n"
          ]
        }
      ]
    },
    {
      "cell_type": "code",
      "source": [
        "print(x)"
      ],
      "metadata": {
        "colab": {
          "base_uri": "https://localhost:8080/"
        },
        "id": "Hvy7bt3bcojc",
        "outputId": "3aa428fc-c846-49a6-e522-5a5e4965034c"
      },
      "execution_count": 10,
      "outputs": [
        {
          "output_type": "stream",
          "name": "stdout",
          "text": [
            "81\n"
          ]
        }
      ]
    },
    {
      "cell_type": "code",
      "source": [
        "i = (x - 1) * 1000\n",
        "n = test.shape[0]\n",
        "with tqdm(total = (n - i), ncols = 100) as pbar:\n",
        "  while i < n:\n",
        "    try:\n",
        "      test.loc[i,'llama3_8b_prediction'] = llm.invoke(f\"\"\"Considering the following issue where the issue title is \"{test.loc[i,'issue_title']}\" and the issue body is \"{test.loc[i,'issue_body']}\", please categorize this issue as \"bug\" or \"enhancement\" or \"others\" and provide your answer as a single word. Your answer should contain a single word.\"\"\")\n",
        "      pbar.update(1)\n",
        "      i = i + 1\n",
        "    except:\n",
        "      print('exception')\n",
        "      continue\n",
        "test.to_pickle('data/test_preds_nlbse22_paper_llama3_8b.pkl')\n",
        "print(f'Categorization of {n} issues is complete')"
      ],
      "metadata": {
        "colab": {
          "base_uri": "https://localhost:8080/"
        },
        "id": "ho-aQRWrcorj",
        "outputId": "3aeff18b-a9b9-4448-c666-b42bbdcb94c1"
      },
      "execution_count": 11,
      "outputs": [
        {
          "output_type": "stream",
          "name": "stderr",
          "text": [
            "100%|█████████████████████████████████████████████████████████████| 518/518 [02:08<00:00,  4.02it/s]\n"
          ]
        },
        {
          "output_type": "stream",
          "name": "stdout",
          "text": [
            "Categorization of 80518 issues is complete\n"
          ]
        }
      ]
    },
    {
      "cell_type": "markdown",
      "source": [
        "organize predictions"
      ],
      "metadata": {
        "id": "d5ODXjpfp2vU"
      }
    },
    {
      "cell_type": "code",
      "source": [
        "test.head()"
      ],
      "metadata": {
        "colab": {
          "base_uri": "https://localhost:8080/",
          "height": 411
        },
        "id": "-GjaMJQyp1GG",
        "outputId": "1f8060be-4bd2-41d5-85de-db873e0cc3b2"
      },
      "execution_count": 12,
      "outputs": [
        {
          "output_type": "execute_result",
          "data": {
            "text/plain": [
              "   Unnamed: 0                                          issue_url  issue_label  \\\n",
              "0           6  https://api.github.com/repos/tlnagy/TIFF.jl/is...  enhancement   \n",
              "1          19  https://api.github.com/repos/tisboyo/Twitch_Bo...  enhancement   \n",
              "2          25  https://api.github.com/repos/DrWhoCares/imgdan...  enhancement   \n",
              "3          30  https://api.github.com/repos/DrWhoCares/imgdan...          bug   \n",
              "4          54   https://api.github.com/repos/Bean-1/AOT/issues/3          bug   \n",
              "\n",
              "       issue_created_at issue_author_association  \\\n",
              "0  2020-04-07T09:08:50Z                     NONE   \n",
              "1  2020-11-27T07:17:21Z                    OWNER   \n",
              "2  2021-01-02T19:35:34Z                    OWNER   \n",
              "3  2021-01-02T20:55:34Z                    OWNER   \n",
              "4  2020-12-29T15:34:35Z                    OWNER   \n",
              "\n",
              "                                     repository_url  \\\n",
              "0       https://api.github.com/repos/tlnagy/TIFF.jl   \n",
              "1   https://api.github.com/repos/tisboyo/Twitch_Bot   \n",
              "2  https://api.github.com/repos/DrWhoCares/imgdanke   \n",
              "3  https://api.github.com/repos/DrWhoCares/imgdanke   \n",
              "4           https://api.github.com/repos/Bean-1/AOT   \n",
              "\n",
              "                                         issue_title  \\\n",
              "0  ERROR: KeyError: key (TIFF.SAMPLEFORMAT_INT, 0...   \n",
              "1                     Add database backup to dropbox   \n",
              "2  Add a button/method to open the Source or Outp...   \n",
              "3                  Processes are being started twice   \n",
              "4                              Cannot add hp to wall   \n",
              "\n",
              "                                          issue_body llama3_8b_prediction  \n",
              "0  One more error might need to be caught.\\r\\n`4D...                  Bug  \n",
              "1                                                NaN          Enhancement  \n",
              "2  Could also add a method to open up path to eac...          Enhancement  \n",
              "3  At some point I refactored a few things and en...                  Bug  \n",
              "4                                                NaN                  Bug  "
            ],
            "text/html": [
              "\n",
              "  <div id=\"df-963929d3-5bc5-4848-982a-4c9dad1dca64\" class=\"colab-df-container\">\n",
              "    <div>\n",
              "<style scoped>\n",
              "    .dataframe tbody tr th:only-of-type {\n",
              "        vertical-align: middle;\n",
              "    }\n",
              "\n",
              "    .dataframe tbody tr th {\n",
              "        vertical-align: top;\n",
              "    }\n",
              "\n",
              "    .dataframe thead th {\n",
              "        text-align: right;\n",
              "    }\n",
              "</style>\n",
              "<table border=\"1\" class=\"dataframe\">\n",
              "  <thead>\n",
              "    <tr style=\"text-align: right;\">\n",
              "      <th></th>\n",
              "      <th>Unnamed: 0</th>\n",
              "      <th>issue_url</th>\n",
              "      <th>issue_label</th>\n",
              "      <th>issue_created_at</th>\n",
              "      <th>issue_author_association</th>\n",
              "      <th>repository_url</th>\n",
              "      <th>issue_title</th>\n",
              "      <th>issue_body</th>\n",
              "      <th>llama3_8b_prediction</th>\n",
              "    </tr>\n",
              "  </thead>\n",
              "  <tbody>\n",
              "    <tr>\n",
              "      <th>0</th>\n",
              "      <td>6</td>\n",
              "      <td>https://api.github.com/repos/tlnagy/TIFF.jl/is...</td>\n",
              "      <td>enhancement</td>\n",
              "      <td>2020-04-07T09:08:50Z</td>\n",
              "      <td>NONE</td>\n",
              "      <td>https://api.github.com/repos/tlnagy/TIFF.jl</td>\n",
              "      <td>ERROR: KeyError: key (TIFF.SAMPLEFORMAT_INT, 0...</td>\n",
              "      <td>One more error might need to be caught.\\r\\n`4D...</td>\n",
              "      <td>Bug</td>\n",
              "    </tr>\n",
              "    <tr>\n",
              "      <th>1</th>\n",
              "      <td>19</td>\n",
              "      <td>https://api.github.com/repos/tisboyo/Twitch_Bo...</td>\n",
              "      <td>enhancement</td>\n",
              "      <td>2020-11-27T07:17:21Z</td>\n",
              "      <td>OWNER</td>\n",
              "      <td>https://api.github.com/repos/tisboyo/Twitch_Bot</td>\n",
              "      <td>Add database backup to dropbox</td>\n",
              "      <td>NaN</td>\n",
              "      <td>Enhancement</td>\n",
              "    </tr>\n",
              "    <tr>\n",
              "      <th>2</th>\n",
              "      <td>25</td>\n",
              "      <td>https://api.github.com/repos/DrWhoCares/imgdan...</td>\n",
              "      <td>enhancement</td>\n",
              "      <td>2021-01-02T19:35:34Z</td>\n",
              "      <td>OWNER</td>\n",
              "      <td>https://api.github.com/repos/DrWhoCares/imgdanke</td>\n",
              "      <td>Add a button/method to open the Source or Outp...</td>\n",
              "      <td>Could also add a method to open up path to eac...</td>\n",
              "      <td>Enhancement</td>\n",
              "    </tr>\n",
              "    <tr>\n",
              "      <th>3</th>\n",
              "      <td>30</td>\n",
              "      <td>https://api.github.com/repos/DrWhoCares/imgdan...</td>\n",
              "      <td>bug</td>\n",
              "      <td>2021-01-02T20:55:34Z</td>\n",
              "      <td>OWNER</td>\n",
              "      <td>https://api.github.com/repos/DrWhoCares/imgdanke</td>\n",
              "      <td>Processes are being started twice</td>\n",
              "      <td>At some point I refactored a few things and en...</td>\n",
              "      <td>Bug</td>\n",
              "    </tr>\n",
              "    <tr>\n",
              "      <th>4</th>\n",
              "      <td>54</td>\n",
              "      <td>https://api.github.com/repos/Bean-1/AOT/issues/3</td>\n",
              "      <td>bug</td>\n",
              "      <td>2020-12-29T15:34:35Z</td>\n",
              "      <td>OWNER</td>\n",
              "      <td>https://api.github.com/repos/Bean-1/AOT</td>\n",
              "      <td>Cannot add hp to wall</td>\n",
              "      <td>NaN</td>\n",
              "      <td>Bug</td>\n",
              "    </tr>\n",
              "  </tbody>\n",
              "</table>\n",
              "</div>\n",
              "    <div class=\"colab-df-buttons\">\n",
              "\n",
              "  <div class=\"colab-df-container\">\n",
              "    <button class=\"colab-df-convert\" onclick=\"convertToInteractive('df-963929d3-5bc5-4848-982a-4c9dad1dca64')\"\n",
              "            title=\"Convert this dataframe to an interactive table.\"\n",
              "            style=\"display:none;\">\n",
              "\n",
              "  <svg xmlns=\"http://www.w3.org/2000/svg\" height=\"24px\" viewBox=\"0 -960 960 960\">\n",
              "    <path d=\"M120-120v-720h720v720H120Zm60-500h600v-160H180v160Zm220 220h160v-160H400v160Zm0 220h160v-160H400v160ZM180-400h160v-160H180v160Zm440 0h160v-160H620v160ZM180-180h160v-160H180v160Zm440 0h160v-160H620v160Z\"/>\n",
              "  </svg>\n",
              "    </button>\n",
              "\n",
              "  <style>\n",
              "    .colab-df-container {\n",
              "      display:flex;\n",
              "      gap: 12px;\n",
              "    }\n",
              "\n",
              "    .colab-df-convert {\n",
              "      background-color: #E8F0FE;\n",
              "      border: none;\n",
              "      border-radius: 50%;\n",
              "      cursor: pointer;\n",
              "      display: none;\n",
              "      fill: #1967D2;\n",
              "      height: 32px;\n",
              "      padding: 0 0 0 0;\n",
              "      width: 32px;\n",
              "    }\n",
              "\n",
              "    .colab-df-convert:hover {\n",
              "      background-color: #E2EBFA;\n",
              "      box-shadow: 0px 1px 2px rgba(60, 64, 67, 0.3), 0px 1px 3px 1px rgba(60, 64, 67, 0.15);\n",
              "      fill: #174EA6;\n",
              "    }\n",
              "\n",
              "    .colab-df-buttons div {\n",
              "      margin-bottom: 4px;\n",
              "    }\n",
              "\n",
              "    [theme=dark] .colab-df-convert {\n",
              "      background-color: #3B4455;\n",
              "      fill: #D2E3FC;\n",
              "    }\n",
              "\n",
              "    [theme=dark] .colab-df-convert:hover {\n",
              "      background-color: #434B5C;\n",
              "      box-shadow: 0px 1px 3px 1px rgba(0, 0, 0, 0.15);\n",
              "      filter: drop-shadow(0px 1px 2px rgba(0, 0, 0, 0.3));\n",
              "      fill: #FFFFFF;\n",
              "    }\n",
              "  </style>\n",
              "\n",
              "    <script>\n",
              "      const buttonEl =\n",
              "        document.querySelector('#df-963929d3-5bc5-4848-982a-4c9dad1dca64 button.colab-df-convert');\n",
              "      buttonEl.style.display =\n",
              "        google.colab.kernel.accessAllowed ? 'block' : 'none';\n",
              "\n",
              "      async function convertToInteractive(key) {\n",
              "        const element = document.querySelector('#df-963929d3-5bc5-4848-982a-4c9dad1dca64');\n",
              "        const dataTable =\n",
              "          await google.colab.kernel.invokeFunction('convertToInteractive',\n",
              "                                                    [key], {});\n",
              "        if (!dataTable) return;\n",
              "\n",
              "        const docLinkHtml = 'Like what you see? Visit the ' +\n",
              "          '<a target=\"_blank\" href=https://colab.research.google.com/notebooks/data_table.ipynb>data table notebook</a>'\n",
              "          + ' to learn more about interactive tables.';\n",
              "        element.innerHTML = '';\n",
              "        dataTable['output_type'] = 'display_data';\n",
              "        await google.colab.output.renderOutput(dataTable, element);\n",
              "        const docLink = document.createElement('div');\n",
              "        docLink.innerHTML = docLinkHtml;\n",
              "        element.appendChild(docLink);\n",
              "      }\n",
              "    </script>\n",
              "  </div>\n",
              "\n",
              "\n",
              "<div id=\"df-1320b84f-fe6f-4045-88b9-823a5218e5aa\">\n",
              "  <button class=\"colab-df-quickchart\" onclick=\"quickchart('df-1320b84f-fe6f-4045-88b9-823a5218e5aa')\"\n",
              "            title=\"Suggest charts\"\n",
              "            style=\"display:none;\">\n",
              "\n",
              "<svg xmlns=\"http://www.w3.org/2000/svg\" height=\"24px\"viewBox=\"0 0 24 24\"\n",
              "     width=\"24px\">\n",
              "    <g>\n",
              "        <path d=\"M19 3H5c-1.1 0-2 .9-2 2v14c0 1.1.9 2 2 2h14c1.1 0 2-.9 2-2V5c0-1.1-.9-2-2-2zM9 17H7v-7h2v7zm4 0h-2V7h2v10zm4 0h-2v-4h2v4z\"/>\n",
              "    </g>\n",
              "</svg>\n",
              "  </button>\n",
              "\n",
              "<style>\n",
              "  .colab-df-quickchart {\n",
              "      --bg-color: #E8F0FE;\n",
              "      --fill-color: #1967D2;\n",
              "      --hover-bg-color: #E2EBFA;\n",
              "      --hover-fill-color: #174EA6;\n",
              "      --disabled-fill-color: #AAA;\n",
              "      --disabled-bg-color: #DDD;\n",
              "  }\n",
              "\n",
              "  [theme=dark] .colab-df-quickchart {\n",
              "      --bg-color: #3B4455;\n",
              "      --fill-color: #D2E3FC;\n",
              "      --hover-bg-color: #434B5C;\n",
              "      --hover-fill-color: #FFFFFF;\n",
              "      --disabled-bg-color: #3B4455;\n",
              "      --disabled-fill-color: #666;\n",
              "  }\n",
              "\n",
              "  .colab-df-quickchart {\n",
              "    background-color: var(--bg-color);\n",
              "    border: none;\n",
              "    border-radius: 50%;\n",
              "    cursor: pointer;\n",
              "    display: none;\n",
              "    fill: var(--fill-color);\n",
              "    height: 32px;\n",
              "    padding: 0;\n",
              "    width: 32px;\n",
              "  }\n",
              "\n",
              "  .colab-df-quickchart:hover {\n",
              "    background-color: var(--hover-bg-color);\n",
              "    box-shadow: 0 1px 2px rgba(60, 64, 67, 0.3), 0 1px 3px 1px rgba(60, 64, 67, 0.15);\n",
              "    fill: var(--button-hover-fill-color);\n",
              "  }\n",
              "\n",
              "  .colab-df-quickchart-complete:disabled,\n",
              "  .colab-df-quickchart-complete:disabled:hover {\n",
              "    background-color: var(--disabled-bg-color);\n",
              "    fill: var(--disabled-fill-color);\n",
              "    box-shadow: none;\n",
              "  }\n",
              "\n",
              "  .colab-df-spinner {\n",
              "    border: 2px solid var(--fill-color);\n",
              "    border-color: transparent;\n",
              "    border-bottom-color: var(--fill-color);\n",
              "    animation:\n",
              "      spin 1s steps(1) infinite;\n",
              "  }\n",
              "\n",
              "  @keyframes spin {\n",
              "    0% {\n",
              "      border-color: transparent;\n",
              "      border-bottom-color: var(--fill-color);\n",
              "      border-left-color: var(--fill-color);\n",
              "    }\n",
              "    20% {\n",
              "      border-color: transparent;\n",
              "      border-left-color: var(--fill-color);\n",
              "      border-top-color: var(--fill-color);\n",
              "    }\n",
              "    30% {\n",
              "      border-color: transparent;\n",
              "      border-left-color: var(--fill-color);\n",
              "      border-top-color: var(--fill-color);\n",
              "      border-right-color: var(--fill-color);\n",
              "    }\n",
              "    40% {\n",
              "      border-color: transparent;\n",
              "      border-right-color: var(--fill-color);\n",
              "      border-top-color: var(--fill-color);\n",
              "    }\n",
              "    60% {\n",
              "      border-color: transparent;\n",
              "      border-right-color: var(--fill-color);\n",
              "    }\n",
              "    80% {\n",
              "      border-color: transparent;\n",
              "      border-right-color: var(--fill-color);\n",
              "      border-bottom-color: var(--fill-color);\n",
              "    }\n",
              "    90% {\n",
              "      border-color: transparent;\n",
              "      border-bottom-color: var(--fill-color);\n",
              "    }\n",
              "  }\n",
              "</style>\n",
              "\n",
              "  <script>\n",
              "    async function quickchart(key) {\n",
              "      const quickchartButtonEl =\n",
              "        document.querySelector('#' + key + ' button');\n",
              "      quickchartButtonEl.disabled = true;  // To prevent multiple clicks.\n",
              "      quickchartButtonEl.classList.add('colab-df-spinner');\n",
              "      try {\n",
              "        const charts = await google.colab.kernel.invokeFunction(\n",
              "            'suggestCharts', [key], {});\n",
              "      } catch (error) {\n",
              "        console.error('Error during call to suggestCharts:', error);\n",
              "      }\n",
              "      quickchartButtonEl.classList.remove('colab-df-spinner');\n",
              "      quickchartButtonEl.classList.add('colab-df-quickchart-complete');\n",
              "    }\n",
              "    (() => {\n",
              "      let quickchartButtonEl =\n",
              "        document.querySelector('#df-1320b84f-fe6f-4045-88b9-823a5218e5aa button');\n",
              "      quickchartButtonEl.style.display =\n",
              "        google.colab.kernel.accessAllowed ? 'block' : 'none';\n",
              "    })();\n",
              "  </script>\n",
              "</div>\n",
              "\n",
              "    </div>\n",
              "  </div>\n"
            ],
            "application/vnd.google.colaboratory.intrinsic+json": {
              "type": "dataframe",
              "variable_name": "test",
              "summary": "{\n  \"name\": \"test\",\n  \"rows\": 80518,\n  \"fields\": [\n    {\n      \"column\": \"Unnamed: 0\",\n      \"properties\": {\n        \"dtype\": \"number\",\n        \"std\": 232130,\n        \"min\": 6,\n        \"max\": 803401,\n        \"num_unique_values\": 80518,\n        \"samples\": [\n          326347,\n          747163,\n          164870\n        ],\n        \"semantic_type\": \"\",\n        \"description\": \"\"\n      }\n    },\n    {\n      \"column\": \"issue_url\",\n      \"properties\": {\n        \"dtype\": \"string\",\n        \"num_unique_values\": 80138,\n        \"samples\": [\n          \"https://api.github.com/repos/austinhuang0131/barinsta/issues/1075\",\n          \"https://api.github.com/repos/Lovely-Development-Team/MottoBotto/issues/208\",\n          \"https://api.github.com/repos/ueberdosis/tiptap/issues/1261\"\n        ],\n        \"semantic_type\": \"\",\n        \"description\": \"\"\n      }\n    },\n    {\n      \"column\": \"issue_label\",\n      \"properties\": {\n        \"dtype\": \"category\",\n        \"num_unique_values\": 3,\n        \"samples\": [\n          \"enhancement\",\n          \"bug\",\n          \"question\"\n        ],\n        \"semantic_type\": \"\",\n        \"description\": \"\"\n      }\n    },\n    {\n      \"column\": \"issue_created_at\",\n      \"properties\": {\n        \"dtype\": \"object\",\n        \"num_unique_values\": 79974,\n        \"samples\": [\n          \"2020-09-09T22:17:05Z\",\n          \"2021-02-12T20:27:21Z\",\n          \"2020-12-01T06:39:26Z\"\n        ],\n        \"semantic_type\": \"\",\n        \"description\": \"\"\n      }\n    },\n    {\n      \"column\": \"issue_author_association\",\n      \"properties\": {\n        \"dtype\": \"category\",\n        \"num_unique_values\": 5,\n        \"samples\": [\n          \"OWNER\",\n          \"CONTRIBUTOR\",\n          \"COLLABORATOR\"\n        ],\n        \"semantic_type\": \"\",\n        \"description\": \"\"\n      }\n    },\n    {\n      \"column\": \"repository_url\",\n      \"properties\": {\n        \"dtype\": \"category\",\n        \"num_unique_values\": 37817,\n        \"samples\": [\n          \"https://api.github.com/repos/gitgitgadget/git\",\n          \"https://api.github.com/repos/agustinxmtz/robot-gladiators\",\n          \"https://api.github.com/repos/maven-download-plugin/maven-download-plugin\"\n        ],\n        \"semantic_type\": \"\",\n        \"description\": \"\"\n      }\n    },\n    {\n      \"column\": \"issue_title\",\n      \"properties\": {\n        \"dtype\": \"string\",\n        \"num_unique_values\": 78322,\n        \"samples\": [\n          \"Crash on server join\",\n          \"Fix Knockback issues\",\n          \"Monomer filtering on name and symbol is exact match and not 'contains'\"\n        ],\n        \"semantic_type\": \"\",\n        \"description\": \"\"\n      }\n    },\n    {\n      \"column\": \"issue_body\",\n      \"properties\": {\n        \"dtype\": \"string\",\n        \"num_unique_values\": 71192,\n        \"samples\": [\n          \"We have tried to backup and restore our PGO cluster and continue to have issues each time we try, in particular with PITR options, but also otherwise. We have tried with the local backrest and with S3 with similar results, and using the most basic cluster without any parameters to local storage also fails to restore.\\r\\n\\r\\nWe have tested on separate Kubernetes clusters with PGO 4.6.1 installed with the same results.\\r\\n\\r\\nWe can see that a bootstrap pod starts up after the restore command is issues, and goes into error state as explained in the step below. This is about the most basic cluster creation and PITR restore operation we could think of to demonstrate the issue.\\r\\n\\r\\nWe are not sure if this is isolated to PGO v4.6.1, however, would expect the latest version to work out of the box.\\r\\n\\r\\nThank you in advance for any assistance.\\r\\n\\r\\n**Expected behavior**\\r\\nWe expect the backup to restore our Postgres data without errors occurring.\\r\\n\\r\\n* Operating System:\\r\\nK3s Kubernetes 1.19 running on 3 Ubuntu 20.04 nodes\\r\\n\\r\\n* Where is this running ( Local, Cloud Provider)\\r\\nRemotely on prem\\r\\n\\r\\n* Storage being used (NFS, Hostpath, Gluster, etc):\\r\\nlocal-path (k3s Kubernetes default), or S3 for the backrest (tried both - same results)\\r\\n\\r\\nHere are the details with steps we took:\\r\\n\\t\\t\\r\\nStep 1:\\r\\n=======\\r\\nCreated the cluster.\\r\\n\\r\\n> pgo create cluster pgtest\\r\\n\\r\\ncreated cluster: pgtest\\r\\nworkflow id: e42a3ab7-e7ed-4961-97ef-d8f6fc832d02\\r\\ndatabase name: pgtest\\r\\nusers:\\r\\n        username: testuser password: ***************\\r\\n\\t\\t\\r\\n\\r\\nStep 2:\\r\\n=======\\r\\n> pgo show backup pgtest\\r\\n\\r\\ncluster: pgtest\\r\\nstorage type: posix\\r\\n\\r\\nstanza: db\\r\\n    status: ok\\r\\n    cipher: none\\r\\n\\r\\n    db (current)\\r\\n        wal archive min/max (13-1)\\r\\n\\r\\n        full backup: 20210423-210024F\\r\\n            timestamp start/stop: 2021-04-23 18:00:24 -0300 ADT / 2021-04-23 18:00:31 -0300 ADT\\r\\n            wal start/stop: 000000010000000000000002 / 000000010000000000000002\\r\\n            database size: 31.0MiB, backup size: 31.0MiB\\r\\n            repository size: 3.8MiB, repository backup size: 3.8MiB\\r\\n            backup reference list:\\r\\n\\r\\nStep 3:\\r\\n=======\\r\\nCreated a schema and a table with some data inserted in it\\r\\n\\r\\nStep 4:\\r\\n=======\\r\\nRan another backup\\r\\n> pgo backup pgtest\\r\\ncreated Pgtask backrest-backup-pgtest\\r\\n\\r\\n> pgo show backup pgtest\\r\\n\\r\\ncluster: pgtest\\r\\nstorage type: posix\\r\\n\\r\\nstanza: db\\r\\n    status: ok\\r\\n    cipher: none\\r\\n\\r\\n    db (current)\\r\\n        wal archive min/max (13-1)\\r\\n\\r\\n        full backup: 20210423-210024F\\r\\n            timestamp start/stop: 2021-04-23 18:00:24 -0300 ADT / 2021-04-23 18:00:31 -0300 ADT\\r\\n            wal start/stop: 000000010000000000000002 / 000000010000000000000002\\r\\n            database size: 31.0MiB, backup size: 31.0MiB\\r\\n            repository size: 3.8MiB, repository backup size: 3.8MiB\\r\\n            backup reference list:\\r\\n\\r\\n        incr backup: 20210423-210024F_20210423-211131I\\r\\n            timestamp start/stop: 2021-04-23 18:11:31 -0300 ADT / 2021-04-23 18:11:32 -0300 ADT\\r\\n            wal start/stop: 00000001000000000000000B / 00000001000000000000000B\\r\\n            database size: 31.0MiB, backup size: 4.2MiB\\r\\n            repository size: 3.8MiB, repository backup size: 526.2KiB\\r\\n            backup reference list: 20210423-210024F\\r\\n\\r\\n\\r\\nStep 5:\\r\\n=======\\r\\nRestore to a point in time:\\r\\n> pgo restore pgtest --pitr-target=\\\"2021-04-23 18:01:00\\\" --backup-opts=\\\"--type=time\\\"\\r\\nIf currently running, the primary database in this cluster will be stopped and recreated as part of this workflow!\\r\\nWARNING: Are you sure? (yes/no): yes\\r\\nrestore request for pgtest with opts \\\"--type=time\\\" and pitr-target=\\\"2021-04-23 18:01:00\\\"\\r\\nworkflow id 31550c97-04e1-427d-be00-003e3e8df593\\r\\n\\r\\n> pgo show workflow 31550c97-04e1-427d-be00-003e3e8df593 -n pgo --debug\\r\\nDEBU[0000] debug flag is set to true\\r\\nDEBU[0000] in initConfig with url=https://127.0.0.1:8443\\r\\nDEBU[0000] using PGO_NAMESPACE env var pgo\\r\\nDEBU[0000] GetSessionCredentials called\\r\\nDEBU[0000] PGOUSER environment variable is being used at /home/bborovan/.pgo/pgo/pgouser\\r\\nDEBU[0000] pgouser file found at /home/bborovan/.pgo/pgo/pgouser contains admin:examplepassword\\r\\nDEBU[0000] [admin examplepassword]\\r\\nDEBU[0000] username=[admin] password=[examplepassword]\\r\\nDEBU[0000] setting up httpclient with TLS\\r\\nDEBU[0000] GetTLSTransport called\\r\\nDEBU[0000] showWorkflow called [31550c97-04e1-427d-be00-003e3e8df593]\\r\\nDEBU[0000] ShowWorkflow called...[https://127.0.0.1:8443/workflow/31550c97-04e1-427d-be00-003e3e8df593?version=4.6.1&namespace=pgo]\\r\\nDEBU[0000] &{200 OK 200 HTTP/1.1 1 1 map[Content-Length:[232] Content-Type:[application/json] Date:[Fri, 23 Apr 2021 21:17:22 GMT] Www-Authenticate:[Basic realm=\\\"Restricted\\\"]] 0xc000546080 232 [] false false map[] 0xc0004c6200 0xc000832160}\\r\\nDEBU[0000] http status code is 200\\r\\nDEBU[0000] response = {{pgtest map[pg-cluster:pgtest restore job created:2021-04-23T21:15:18Z task submitted:2021-04-23T21:15:17Z workflowid:31550c97-04e1-427d-be00-003e3e8df593]} {ok }}\\r\\nparameter           value\\r\\n---------           -----\\r\\npg-cluster          pgtest\\r\\nrestore job created 2021-04-23T21:15:18Z\\r\\ntask submitted      2021-04-23T21:15:17Z\\r\\nworkflowid          31550c97-04e1-427d-be00-003e3e8df593\\r\\n\\r\\n\\r\\n> kubectl get po -n pgo\\r\\nNAME                                         READY   STATUS      RESTARTS   AGE\\r\\npgo-deploy-l894d                             0/1     Completed   0          12d\\r\\npgtest-backrest-shared-repo-87ff7b74-x6fl7   1/1     Running     0          18m\\r\\npgtest-bootstrap-94wdv                       0/1     Error       0          3m14s\\r\\npgtest-bootstrap-c9tbr                       1/1     Running     0          3m10s\\r\\npostgres-operator-6b76954d64-5sq4c           4/4     Running     0          12d\\r\\n\\r\\n\\r\\n\\r\\nYou can see the bootstrap is in error.\\r\\n\\r\\n> kubectl logs pgtest-bootstrap-94wdv -n pgo\\r\\nFri Apr 23 21:15:19 UTC 2021 INFO: postgres-ha pre-bootstrap starting...\\r\\nFri Apr 23 21:15:19 UTC 2021 INFO: pgBackRest auto-config disabled\\r\\nFri Apr 23 21:15:19 UTC 2021 INFO: PGHA_PGBACKREST_LOCAL_S3_STORAGE and PGHA_PGBACKREST_INITIALIZE will be ignored if provided\\r\\nFri Apr 23 21:15:19 UTC 2021 INFO: Defaults have been set for the following postgres-ha auto-configuration env vars: PGHA_DEFAULT_CONFIG, PGHA_BASE_BOOTSTRAP_CONFIG, PGHA_BASE_PG_CONFIG\\r\\nFri Apr 23 21:15:19 UTC 2021 INFO: Defaults have been set for the following postgres-ha env vars: PGHA_PATRONI_PORT\\r\\nFri Apr 23 21:15:19 UTC 2021 INFO: Defaults have been set for the following Patroni env vars: PATRONI_NAME, PATRONI_RESTAPI_LISTEN, PATRONI_RESTAPI_CONNECT_ADDRESS, PATRONI_POSTGRESQL_LISTEN, PATRONI_POSTGRESQL_CONNECT_ADDRESS\\r\\nFri Apr 23 21:15:19 UTC 2021 INFO: Setting postgres-ha configuration for database user credentials\\r\\nFri Apr 23 21:15:19 UTC 2021 INFO: Setting 'pguser' credentials using file system\\r\\nFri Apr 23 21:15:19 UTC 2021 INFO: Setting 'superuser' credentials using file system\\r\\nFri Apr 23 21:15:19 UTC 2021 INFO: Setting 'replicator' credentials using file system\\r\\nFri Apr 23 21:15:19 UTC 2021 INFO: Applying base bootstrap config to postgres-ha configuration\\r\\nFri Apr 23 21:15:19 UTC 2021 INFO: Applying base postgres config to postgres-ha configuration\\r\\nFri Apr 23 21:15:19 UTC 2021 INFO: Applying pgbackrest config to postgres-ha configuration\\r\\nFri Apr 23 21:15:19 UTC 2021 INFO: Applying standard (non-TLS) remote connection configuration to pg_hba.conf\\r\\nFri Apr 23 21:15:19 UTC 2021 INFO: Disabling archive mode for bootstrap method pgbackrest_init\\r\\nFri Apr 23 21:15:19 UTC 2021 INFO: Custom postgres-ha configuration file not detected\\r\\nFri Apr 23 21:15:19 UTC 2021 INFO: Finished building postgres-ha configuration file '/tmp/postgres-ha-bootstrap.yaml'\\r\\nFri Apr 23 21:15:19 UTC 2021 INFO: Detected cluster initialization using an existing PGDATA directory\\r\\nFri Apr 23 21:15:19 UTC 2021 INFO: postgres-ha pre-bootstrap complete!  The following configuration will be utilized to initialize\\r\\n******************************\\r\\npostgres-ha (PGHA) env vars:\\r\\n******************************\\r\\nPGHA_BASE_PG_CONFIG=true\\r\\nPGHA_PATRONI_PORT=8009\\r\\nPGHA_PG_PORT=5432\\r\\nPGHA_PGBACKREST_LOCAL_S3_STORAGE=false\\r\\nPGHA_SYNC_REPLICATION=false\\r\\nPGHA_USER=postgres\\r\\nPGHA_INIT=true\\r\\nPGHA_DEFAULT_CONFIG=true\\r\\nPGHA_REPLICA_REINIT_ON_START_FAIL=true\\r\\nPGHA_PGBACKREST=true\\r\\nPGHA_BASE_BOOTSTRAP_CONFIG=true\\r\\nPGHA_STANDBY=false\\r\\nPGHA_BOOTSTRAP_METHOD=pgbackrest_init\\r\\nPGHA_TLS_ONLY=false\\r\\nPGHA_TLS_ENABLED=false\\r\\nPGHA_DATABASE=pgtest\\r\\n******************************\\r\\nPatroni env vars:\\r\\n******************************\\r\\nPATRONI_POSTGRESQL_CONNECT_ADDRESS=10.42.1.71:5432\\r\\nPATRONI_POSTGRESQL_LISTEN=0.0.0.0:5432\\r\\nPATRONI_NAME=pgtest-bootstrap-94wdv\\r\\nPATRONI_SCOPE=pgtest\\r\\nPATRONI_RESTAPI_LISTEN=0.0.0.0:8009\\r\\nPATRONI_POSTGRESQL_DATA_DIR=/pgdata/pgtest\\r\\nPATRONI_RESTAPI_CONNECT_ADDRESS=10.42.1.71:8009\\r\\nPATRONI_LOG_LEVEL=INFO\\r\\nPATRONI_KUBERNETES_LABELS={vendor: \\\"crunchydata\\\"}\\r\\nPATRONI_KUBERNETES_SCOPE_LABEL=crunchy-pgha-scope\\r\\nPATRONI_KUBERNETES_NAMESPACE=pgo\\r\\n******************************\\r\\nPatroni bootstrap method: pgbackrest_init\\r\\n******************************\\r\\nPatroni configuration file:\\r\\n******************************\\r\\nbootstrap:\\r\\n  method: pgbackrest_init\\r\\n  pgbackrest_init:\\r\\n    command: '/opt/crunchy/bin/postgres-ha/pgbackrest/pgbackrest-create-replica.sh\\r\\n      primary'\\r\\n    keep_existing_recovery_conf: true\\r\\n  existing_init:\\r\\n    command: '/opt/crunchy/bin/postgres-ha/bootstrap/create-from-existing.sh'\\r\\n    keep_existing_recovery_conf: true\\r\\n  dcs:\\r\\n    postgresql:\\r\\n      parameters:\\r\\n        jit: off\\r\\n        unix_socket_directories: /tmp\\r\\n        wal_level: logical\\r\\n        archive_mode: on\\r\\n        archive_command: 'source /opt/crunchy/bin/postgres-ha/pgbackrest/pgbackrest-set-env.sh\\r\\n          && pgbackrest archive-push \\\"%p\\\"'\\r\\n        archive_timeout: 60\\r\\n        log_directory: pg_log\\r\\n        shared_buffers: 128MB\\r\\n        temp_buffers: 8MB\\r\\n        log_min_duration_statement: 60000\\r\\n        log_statement: none\\r\\n        work_mem: 4MB\\r\\n        max_wal_senders: 6\\r\\n        shared_preload_libraries: pgaudit.so,pg_stat_statements.so,pgnodemx.so\\r\\n      use_slots: false\\r\\n      recovery_conf:\\r\\n        restore_command: 'source /opt/crunchy/bin/postgres-ha/pgbackrest/pgbackrest-set-env.sh\\r\\n          && pgbackrest archive-get %f \\\"%p\\\"'\\r\\n      use_pg_rewind: true\\r\\n  post_bootstrap: /opt/crunchy/bin/postgres-ha/bootstrap/post-bootstrap.sh\\r\\n  initdb:\\r\\n  - encoding: UTF8\\r\\n  - data-checksums\\r\\npostgresql:\\r\\n  use_unix_socket: true\\r\\n  pgpass: /tmp/.pgpass\\r\\n  create_replica_methods:\\r\\n  - pgbackrest\\r\\n  - basebackup\\r\\n  pgbackrest:\\r\\n    command: '/opt/crunchy/bin/postgres-ha/pgbackrest/pgbackrest-create-replica.sh\\r\\n      replica'\\r\\n    keep_data: true\\r\\n    no_params: true\\r\\n  pgbackrest_standby:\\r\\n    command: '/opt/crunchy/bin/postgres-ha/pgbackrest/pgbackrest-create-replica.sh\\r\\n      standby'\\r\\n    keep_data: true\\r\\n    no_params: true\\r\\n    no_master: 1\\r\\n  remove_data_directory_on_rewind_failure: true\\r\\n  callbacks:\\r\\n    on_role_change: /opt/crunchy/bin/postgres-ha/callbacks/pgha-on-role-change.sh\\r\\n  parameters:\\r\\n    archive_mode: off\\r\\n  pg_hba:\\r\\n  - local all postgres peer\\r\\n  - host replication primaryuser 0.0.0.0/0 md5\\r\\n  - host all primaryuser 0.0.0.0/0 reject\\r\\n  - host all all 0.0.0.0/0 md5\\r\\nFri Apr 23 21:15:19 UTC 2021 INFO: Applying SSHD..\\r\\nFri Apr 23 21:15:19 UTC 2021 INFO: Checking for SSH Host Keys in /sshd..\\r\\nFri Apr 23 21:15:19 UTC 2021 INFO: Checking for authorized_keys in /sshd\\r\\nFri Apr 23 21:15:19 UTC 2021 INFO: Checking for sshd_config in /sshd\\r\\nFri Apr 23 21:15:19 UTC 2021 INFO: setting up .ssh directory\\r\\nFri Apr 23 21:15:19 UTC 2021 INFO: Starting SSHD..\\r\\nFri Apr 23 21:15:19 UTC 2021 INFO: Starting background process to monitor Patroni initization and restart the database if needed\\r\\nFri Apr 23 21:15:19 UTC 2021 INFO: Initializing cluster bootstrap with command: '/usr/local/bin/patroni /tmp/postgres-ha-bootstrap.yaml'\\r\\nFri Apr 23 21:15:19 UTC 2021 INFO: Patroni will not run as PID 1. Creating signal handler\\r\\n2021-04-23 21:15:20,080 INFO: No PostgreSQL configuration items changed, nothing to reload.\\r\\n2021-04-23 21:15:20,083 INFO: Lock owner: None; I am pgtest-bootstrap-94wdv\\r\\n2021-04-23 21:15:20,100 INFO: trying to bootstrap a new cluster\\r\\n2021-04-23 21:15:20,100 INFO: Running custom bootstrap script: /opt/crunchy/bin/postgres-ha/pgbackrest/pgbackrest-create-replica.sh primary\\r\\nFri Apr 23 21:15:20 UTC 2021 INFO: Valid PGDATA dir found for primary, a delta restore will be peformed\\r\\nWARN: unable to find backup set with stop time less than '2021-04-23 18:01:00', latest backup set will be used\\r\\nFri Apr 23 21:15:21 UTC 2021 INFO: primary pgBackRest restore complete\\r\\n2021-04-23 21:15:21,195 INFO: postmaster pid=177\\r\\n2021-04-23 21:15:21.197 UTC [177] LOG:  pgaudit extension initialized\\r\\n2021-04-23 21:15:21.199 UTC [177] WARNING:  pgnodemx: Kubernetes Downward API path /etc/podinfo does not exist: No such file or directory\\r\\n2021-04-23 21:15:21.199 UTC [177] DETAIL:  disabling Kubernetes Downward API file system access\\r\\n/tmp:5432 - no response\\r\\n2021-04-23 21:15:21.209 UTC [177] LOG:  redirecting log output to logging collector process\\r\\n2021-04-23 21:15:21.209 UTC [177] HINT:  Future log output will appear in directory \\\"pg_log\\\".\\r\\n/tmp:5432 - accepting connections\\r\\n/tmp:5432 - no response\\r\\n2021-04-23 21:15:22,218 INFO: removing initialize key after failed attempt to bootstrap the cluster\\r\\n2021-04-23 21:15:22,226 INFO: renaming data directory to /pgdata/pgtest_2021-04-23-21-15-22\\r\\nTraceback (most recent call last):\\r\\n  File \\\"/usr/local/bin/patroni\\\", line 11, in <module>\\r\\n    sys.exit(main())\\r\\n  File \\\"/usr/local/lib/python3.6/site-packages/patroni/__init__.py\\\", line 170, in main\\r\\n    return patroni_main()\\r\\n  File \\\"/usr/local/lib/python3.6/site-packages/patroni/__init__.py\\\", line 138, in patroni_main\\r\\n    abstract_main(Patroni, schema)\\r\\n  File \\\"/usr/local/lib/python3.6/site-packages/patroni/daemon.py\\\", line 100, in abstract_main\\r\\n    controller.run()\\r\\n  File \\\"/usr/local/lib/python3.6/site-packages/patroni/__init__.py\\\", line 108, in run\\r\\n    super(Patroni, self).run()\\r\\n  File \\\"/usr/local/lib/python3.6/site-packages/patroni/daemon.py\\\", line 59, in run\\r\\n    self._run_cycle()\\r\\n  File \\\"/usr/local/lib/python3.6/site-packages/patroni/__init__.py\\\", line 111, in _run_cycle\\r\\n    logger.info(self.ha.run_cycle())\\r\\n  File \\\"/usr/local/lib/python3.6/site-packages/patroni/ha.py\\\", line 1452, in run_cycle\\r\\n    info = self._run_cycle()\\r\\n  File \\\"/usr/local/lib/python3.6/site-packages/patroni/ha.py\\\", line 1346, in _run_cycle\\r\\n    return self.post_bootstrap()\\r\\n  File \\\"/usr/local/lib/python3.6/site-packages/patroni/ha.py\\\", line 1242, in post_bootstrap\\r\\n    self.cancel_initialization()\\r\\n  File \\\"/usr/local/lib/python3.6/site-packages/patroni/ha.py\\\", line 1235, in cancel_initialization\\r\\n    raise PatroniFatalException('Failed to bootstrap cluster')\\r\\npatroni.exceptions.PatroniFatalException: 'Failed to bootstrap cluster'\\r\\n\\r\\n\\r\\n\\r\\nUltimately we want to do this using a CRD with our own imakubectl logs pgtest-bootstrap-94wdv -n pgo\\r\\nFri Apr 23 21:15:19 UTC 2021 INFO: postgres-ha pre-bootstrap starting...\\r\\nFri Apr 23 21:15:19 UTC 2021 INFO: pgBackRest auto-config disabled\\r\\nFri Apr 23 21:15:19 UTC 2021 INFO: PGHA_PGBACKREST_LOCAL_S3_STORAGE and PGHA_PGBACKREST_INITIALIZE will be ignored if provided\\r\\nFri Apr 23 21:15:19 UTC 2021 INFO: Defaults have been set for the following postgres-ha auto-configuration env vars: PGHA_DEFAULT_CONFIG, PGHA_BASE_BOOTSTRAP_CONFIG, PGHA_BASE_PG_CONFIG\\r\\nFri Apr 23 21:15:19 UTC 2021 INFO: Defaults have been set for the following postgres-ha env vars: PGHA_PATRONI_PORT\\r\\nFri Apr 23 21:15:19 UTC 2021 INFO: Defaults have been set for the following Patroni env vars: PATRONI_NAME, PATRONI_RESTAPI_LISTEN, PATRONI_RESTAPI_CONNECT_ADDRESS, PATRONI_POSTGRESQL_LISTEN, PATRONI_POSTGRESQL_CONNECT_ADDRESS\\r\\nFri Apr 23 21:15:19 UTC 2021 INFO: Setting postgres-ha configuration for database user credentials\\r\\nFri Apr 23 21:15:19 UTC 2021 INFO: Setting 'pguser' credentials using file system\\r\\nFri Apr 23 21:15:19 UTC 2021 INFO: Setting 'superuser' credentials using file system\\r\\nFri Apr 23 21:15:19 UTC 2021 INFO: Setting 'replicator' credentials using file system\\r\\nFri Apr 23 21:15:19 UTC 2021 INFO: Applying base bootstrap config to postgres-ha configuration\\r\\nFri Apr 23 21:15:19 UTC 2021 INFO: Applying base postgres config to postgres-ha configuration\\r\\nFri Apr 23 21:15:19 UTC 2021 INFO: Applying pgbackrest config to postgres-ha configuration\\r\\nFri Apr 23 21:15:19 UTC 2021 INFO: Applying standard (non-TLS) remote connection configuration to pg_hba.conf\\r\\nFri Apr 23 21:15:19 UTC 2021 INFO: Disabling archive mode for bootstrap method pgbackrest_init\\r\\nFri Apr 23 21:15:19 UTC 2021 INFO: Custom postgres-ha configuration file not detected\\r\\nFri Apr 23 21:15:19 UTC 2021 INFO: Finished building postgres-ha configuration file '/tmp/postgres-ha-bootstrap.yaml'\\r\\nFri Apr 23 21:15:19 UTC 2021 INFO: Detected cluster initialization using an existing PGDATA directory\\r\\nFri Apr 23 21:15:19 UTC 2021 INFO: postgres-ha pre-bootstrap complete!  The following configuration will be utilized to initialize\\r\\n******************************\\r\\npostgres-ha (PGHA) env vars:\\r\\n******************************\\r\\nPGHA_BASE_PG_CONFIG=true\\r\\nPGHA_PATRONI_PORT=8009\\r\\nPGHA_PG_PORT=5432\\r\\nPGHA_PGBACKREST_LOCAL_S3_STORAGE=false\\r\\nPGHA_SYNC_REPLICATION=false\\r\\nPGHA_USER=postgres\\r\\nPGHA_INIT=true\\r\\nPGHA_DEFAULT_CONFIG=true\\r\\nPGHA_REPLICA_REINIT_ON_START_FAIL=true\\r\\nPGHA_PGBACKREST=true\\r\\nPGHA_BASE_BOOTSTRAP_CONFIG=true\\r\\nPGHA_STANDBY=false\\r\\nPGHA_BOOTSTRAP_METHOD=pgbackrest_init\\r\\nPGHA_TLS_ONLY=false\\r\\nPGHA_TLS_ENABLED=false\\r\\nPGHA_DATABASE=pgtest\\r\\n******************************\\r\\nPatroni env vars:\\r\\n******************************\\r\\nPATRONI_POSTGRESQL_CONNECT_ADDRESS=10.42.1.71:5432\\r\\nPATRONI_POSTGRESQL_LISTEN=0.0.0.0:5432\\r\\nPATRONI_NAME=pgtest-bootstrap-94wdv\\r\\nPATRONI_SCOPE=pgtest\\r\\nPATRONI_RESTAPI_LISTEN=0.0.0.0:8009\\r\\nPATRONI_POSTGRESQL_DATA_DIR=/pgdata/pgtest\\r\\nPATRONI_RESTAPI_CONNECT_ADDRESS=10.42.1.71:8009\\r\\nPATRONI_LOG_LEVEL=INFO\\r\\nPATRONI_KUBERNETES_LABELS={vendor: \\\"crunchydata\\\"}\\r\\nPATRONI_KUBERNETES_SCOPE_LABEL=crunchy-pgha-scope\\r\\nPATRONI_KUBERNETES_NAMESPACE=pgo\\r\\n******************************\\r\\nPatroni bootstrap method: pgbackrest_init\\r\\n******************************\\r\\nPatroni configuration file:\\r\\n******************************\\r\\nbootstrap:\\r\\n  method: pgbackrest_init\\r\\n  pgbackrest_init:\\r\\n    command: '/opt/crunchy/bin/postgres-ha/pgbackrest/pgbackrest-create-replica.sh\\r\\n      primary'\\r\\n    keep_existing_recovery_conf: true\\r\\n  existing_init:\\r\\n    command: '/opt/crunchy/bin/postgres-ha/bootstrap/create-from-existing.sh'\\r\\n    keep_existing_recovery_conf: true\\r\\n  dcs:\\r\\n    postgresql:\\r\\n      parameters:\\r\\n        jit: off\\r\\n        unix_socket_directories: /tmp\\r\\n        wal_level: logical\\r\\n        archive_mode: on\\r\\n        archive_command: 'source /opt/crunchy/bin/postgres-ha/pgbackrest/pgbackrest-set-env.sh\\r\\n          && pgbackrest archive-push \\\"%p\\\"'\\r\\n        archive_timeout: 60\\r\\n        log_directory: pg_log\\r\\n        shared_buffers: 128MB\\r\\n        temp_buffers: 8MB\\r\\n        log_min_duration_statement: 60000\\r\\n        log_statement: none\\r\\n        work_mem: 4MB\\r\\n        max_wal_senders: 6\\r\\n        shared_preload_libraries: pgaudit.so,pg_stat_statements.so,pgnodemx.so\\r\\n      use_slots: false\\r\\n      recovery_conf:\\r\\n        restore_command: 'source /opt/crunchy/bin/postgres-ha/pgbackrest/pgbackrest-set-env.sh\\r\\n          && pgbackrest archive-get %f \\\"%p\\\"'\\r\\n      use_pg_rewind: true\\r\\n  post_bootstrap: /opt/crunchy/bin/postgres-ha/bootstrap/post-bootstrap.sh\\r\\n  initdb:\\r\\n  - encoding: UTF8\\r\\n  - data-checksums\\r\\npostgresql:\\r\\n  use_unix_socket: true\\r\\n  pgpass: /tmp/.pgpass\\r\\n  create_replica_methods:\\r\\n  - pgbackrest\\r\\n  - basebackup\\r\\n  pgbackrest:\\r\\n    command: '/opt/crunchy/bin/postgres-ha/pgbackrest/pgbackrest-create-replica.sh\\r\\n      replica'\\r\\n    keep_data: true\\r\\n    no_params: true\\r\\n  pgbackrest_standby:\\r\\n    command: '/opt/crunchy/bin/postgres-ha/pgbackrest/pgbackrest-create-replica.sh\\r\\n      standby'\\r\\n    keep_data: true\\r\\n    no_params: true\\r\\n    no_master: 1\\r\\n  remove_data_directory_on_rewind_failure: true\\r\\n  callbacks:\\r\\n    on_role_change: /opt/crunchy/bin/postgres-ha/callbacks/pgha-on-role-change.sh\\r\\n  parameters:\\r\\n    archive_mode: off\\r\\n  pg_hba:\\r\\n  - local all postgres peer\\r\\n  - host replication primaryuser 0.0.0.0/0 md5\\r\\n  - host all primaryuser 0.0.0.0/0 reject\\r\\n  - host all all 0.0.0.0/0 md5\\r\\nFri Apr 23 21:15:19 UTC 2021 INFO: Applying SSHD..\\r\\nFri Apr 23 21:15:19 UTC 2021 INFO: Checking for SSH Host Keys in /sshd..\\r\\nFri Apr 23 21:15:19 UTC 2021 INFO: Checking for authorized_keys in /sshd\\r\\nFri Apr 23 21:15:19 UTC 2021 INFO: Checking for sshd_config in /sshd\\r\\nFri Apr 23 21:15:19 UTC 2021 INFO: setting up .ssh directory\\r\\nFri Apr 23 21:15:19 UTC 2021 INFO: Starting SSHD..\\r\\nFri Apr 23 21:15:19 UTC 2021 INFO: Starting background process to monitor Patroni initization and restart the database if needed\\r\\nFri Apr 23 21:15:19 UTC 2021 INFO: Initializing cluster bootstrap with command: '/usr/local/bin/patroni /tmp/postgres-ha-bootstrap.yaml'\\r\\nFri Apr 23 21:15:19 UTC 2021 INFO: Patroni will not run as PID 1. Creating signal handler\\r\\n2021-04-23 21:15:20,080 INFO: No PostgreSQL configuration items changed, nothing to reload.\\r\\n2021-04-23 21:15:20,083 INFO: Lock owner: None; I am pgtest-bootstrap-94wdv\\r\\n2021-04-23 21:15:20,100 INFO: trying to bootstrap a new cluster\\r\\n2021-04-23 21:15:20,100 INFO: Running custom bootstrap script: /opt/crunchy/bin/postgres-ha/pgbackrest/pgbackrest-create-replica.sh primary\\r\\nFri Apr 23 21:15:20 UTC 2021 INFO: Valid PGDATA dir found for primary, a delta restore will be peformed\\r\\nWARN: unable to find backup set with stop time less than '2021-04-23 18:01:00', latest backup set will be used\\r\\nFri Apr 23 21:15:21 UTC 2021 INFO: primary pgBackRest restore complete\\r\\n2021-04-23 21:15:21,195 INFO: postmaster pid=177\\r\\n2021-04-23 21:15:21.197 UTC [177] LOG:  pgaudit extension initialized\\r\\n2021-04-23 21:15:21.199 UTC [177] WARNING:  pgnodemx: Kubernetes Downward API path /etc/podinfo does not exist: No such file or directory\\r\\n2021-04-23 21:15:21.199 UTC [177] DETAIL:  disabling Kubernetes Downward API file system access\\r\\n/tmp:5432 - no response\\r\\n2021-04-23 21:15:21.209 UTC [177] LOG:  redirecting log output to logging collector process\\r\\n2021-04-23 21:15:21.209 UTC [177] HINT:  Future log output will appear in directory \\\"pg_log\\\".\\r\\n/tmp:5432 - accepting connections\\r\\n/tmp:5432 - no response\\r\\n2021-04-23 21:15:22,218 INFO: removing initialize key after failed attempt to bootstrap the cluster\\r\\n2021-04-23 21:15:22,226 INFO: renaming data directory to /pgdata/pgtest_2021-04-23-21-15-22\\r\\nTraceback (most recent call last):\\r\\n  File \\\"/usr/local/bin/patroni\\\", line 11, in <module>\\r\\n    sys.exit(main())\\r\\n  File \\\"/usr/local/lib/python3.6/site-packages/patroni/__init__.py\\\", line 170, in main\\r\\n    return patroni_main()\\r\\n  File \\\"/usr/local/lib/python3.6/site-packages/patroni/__init__.py\\\", line 138, in patroni_main\\r\\n    abstract_main(Patroni, schema)\\r\\n  File \\\"/usr/local/lib/python3.6/site-packages/patroni/daemon.py\\\", line 100, in abstract_main\\r\\n    controller.run()\\r\\n  File \\\"/usr/local/lib/python3.6/site-packages/patroni/__init__.py\\\", line 108, in run\\r\\n    super(Patroni, self).run()\\r\\n  File \\\"/usr/local/lib/python3.6/site-packages/patroni/daemon.py\\\", line 59, in run\\r\\n    self._run_cycle()\\r\\n  File \\\"/usr/local/lib/python3.6/site-packages/patroni/__init__.py\\\", line 111, in _run_cycle\\r\\n    logger.info(self.ha.run_cycle())\\r\\n  File \\\"/usr/local/lib/python3.6/site-packages/patroni/ha.py\\\", line 1452, in run_cycle\\r\\n    info = self._run_cycle()\\r\\n  File \\\"/usr/local/lib/python3.6/site-packages/patroni/ha.py\\\", line 1346, in _run_cycle\\r\\n    return self.post_bootstrap()\\r\\n  File \\\"/usr/local/lib/python3.6/site-packages/patroni/ha.py\\\", line 1242, in post_bootstrap\\r\\n    self.cancel_initialization()\\r\\n  File \\\"/usr/local/lib/python3.6/site-packages/patroni/ha.py\\\", line 1235, in cancel_initialization\\r\\n    raise PatroniFatalException('Failed to bootstrap cluster')\\r\\npatroni.exceptions.PatroniFatalException: 'Failed to bootstrap cluster'\\r\\n\\r\\n\\r\\n\",\n          \"In the Chinese language family, Traditional Chinese and Simplified Chinese are distinguished. Currently, it is found that you specify \\\"zh\\\" as Traditional Chinese.\\r\\n\\r\\n\\\"Some CultureInfo objects differ depending on the underlying platform. In particular, \\\"zh-CN\\\", or Chinese (Simplified, China) and \\\"zh-TW\\\", or Chinese (Traditional, Taiwan), are available cultures on Windows systems.\\\"\\r\\n\\r\\nhttps://docs.microsoft.com/en-us/dotnet/api/system.globalization.cultureinfo?view=net-5.0\",\n          \"- [x] I have checked that this issue has not already been reported.\\r\\n\\r\\n- [x] I have confirmed this bug exists on the latest version of geopandas.\\r\\n\\r\\n- [ ] (optional) I have confirmed this bug exists on the master branch of geopandas.\\r\\n\\r\\n---\\r\\n\\r\\n**Note**: Please read [this guide](https://matthewrocklin.com/blog/work/2018/02/28/minimal-bug-reports) detailing how to provide the necessary information for us to reproduce your bug.\\r\\n\\r\\n#### Code Sample, a copy-pastable example\\r\\n\\r\\n```python\\r\\nimport geopandas\\r\\n# copy from https://geopandas.org/docs/reference/api/geopandas.GeoSeries.is_empty.html#geopandas.GeoSeries.is_empty\\r\\nfrom shapely.geometry import Point, Polygon\\r\\nd = {'geometry': [Point(), Point(2, 1), None]}\\r\\ngdf = geopandas.GeoDataFrame(d, crs=\\\"EPSG:4326\\\")\\r\\n# this fails\\r\\ngdf.to_crs(\\\"EPSG:3857\\\")\\r\\n\\r\\n```\\r\\n\\r\\n#### Problem description\\r\\n\\r\\nNone values lead to an error, rather than propagating and returning None.\\r\\n\\r\\n#### Expected Output\\r\\n\\r\\nNone\\r\\n\\r\\n#### Output of ``geopandas.show_versions()``\\r\\n\\r\\n<details>\\r\\n\\r\\nSYSTEM INFO\\r\\n-----------\\r\\npython     : 3.8.5 (default, Jul 28 2020, 12:59:40)  [GCC 9.3.0]\\r\\nexecutable : /usr/bin/python3\\r\\nmachine    : Linux-4.19.128-microsoft-standard-x86_64-with-glibc2.29\\r\\n\\r\\nGEOS, GDAL, PROJ INFO\\r\\n---------------------\\r\\nGEOS       : 3.8.0\\r\\nGEOS lib   : /usr/lib/x86_64-linux-gnu/libgeos_c.so\\r\\nGDAL       : 2.4.4\\r\\nGDAL data dir: /usr/local/lib/python3.8/dist-packages/fiona/gdal_data\\r\\nPROJ       : 7.2.0\\r\\nPROJ data dir: /usr/local/lib/python3.8/dist-packages/pyproj/proj_dir/share/proj\\r\\n\\r\\nPYTHON DEPENDENCIES\\r\\n-------------------\\r\\ngeopandas  : 0.8.1\\r\\npandas     : 1.1.4\\r\\nfiona      : 1.8.17\\r\\nnumpy      : 1.19.4\\r\\nshapely    : 1.7.1\\r\\nrtree      : None\\r\\npyproj     : 3.0.0.post1\\r\\nmatplotlib : 3.3.2\\r\\nmapclassify: None\\r\\ngeopy      : 2.1.0\\r\\npsycopg2   : None\\r\\ngeoalchemy2: None\\r\\npyarrow    : None\\r\\n\\r\\n</details>\\r\\n\"\n        ],\n        \"semantic_type\": \"\",\n        \"description\": \"\"\n      }\n    },\n    {\n      \"column\": \"llama3_8b_prediction\",\n      \"properties\": {\n        \"dtype\": \"category\",\n        \"num_unique_values\": 249,\n        \"samples\": [\n          \"DataLoss\",\n          \"Other\",\n          \"Based on the provided information, I would categorize this issue as:\\n\\n**Bug**\\n\\nPlease let me know if you have any further questions or concerns!\"\n        ],\n        \"semantic_type\": \"\",\n        \"description\": \"\"\n      }\n    }\n  ]\n}"
            }
          },
          "metadata": {},
          "execution_count": 12
        }
      ]
    },
    {
      "cell_type": "code",
      "source": [
        "test.tail()"
      ],
      "metadata": {
        "colab": {
          "base_uri": "https://localhost:8080/",
          "height": 394
        },
        "id": "qxH8ndxKp6Nk",
        "outputId": "02420b79-cee3-4585-8bae-56f6307b23c0"
      },
      "execution_count": 13,
      "outputs": [
        {
          "output_type": "execute_result",
          "data": {
            "text/plain": [
              "       Unnamed: 0                                          issue_url  \\\n",
              "80513      803384  https://api.github.com/repos/timescale/timesca...   \n",
              "80514      803392  https://api.github.com/repos/cockpit-project/c...   \n",
              "80515      803398  https://api.github.com/repos/Homebrew/brew/iss...   \n",
              "80516      803400  https://api.github.com/repos/kirbydesign/desig...   \n",
              "80517      803401  https://api.github.com/repos/penpot/penpot/iss...   \n",
              "\n",
              "       issue_label      issue_created_at issue_author_association  \\\n",
              "80513     question  2021-04-14T21:33:04Z                     NONE   \n",
              "80514  enhancement  2020-03-11T15:28:33Z              CONTRIBUTOR   \n",
              "80515          bug  2021-04-21T15:02:49Z                     NONE   \n",
              "80516  enhancement  2020-09-07T10:35:52Z              CONTRIBUTOR   \n",
              "80517          bug  2021-04-21T21:25:16Z                     NONE   \n",
              "\n",
              "                                          repository_url  \\\n",
              "80513  https://api.github.com/repos/timescale/timesca...   \n",
              "80514  https://api.github.com/repos/cockpit-project/c...   \n",
              "80515         https://api.github.com/repos/Homebrew/brew   \n",
              "80516  https://api.github.com/repos/kirbydesign/desig...   \n",
              "80517         https://api.github.com/repos/penpot/penpot   \n",
              "\n",
              "                                             issue_title  \\\n",
              "80513  No Gap Fill with bucket size bigger then inser...   \n",
              "80514  desktop: Support sandbox with webkit_web_conte...   \n",
              "80515                             Can't install watchman   \n",
              "80516  [Enhancement] Optional top section of Kirby pa...   \n",
              "80517           Script manage.sh wont work after install   \n",
              "\n",
              "                                              issue_body llama3_8b_prediction  \n",
              "80513  **Relevant system information:**\\r\\n\\r\\nPostgr...                  Bug  \n",
              "80514  Our Python-based WebKit desktop browser should...          Enhancement  \n",
              "80515  ### `brew config` output\\n\\n```shell\\nHOMEBREW...                  Bug  \n",
              "80516  <!--**Mandatory steps to ensure alignment betw...          Enhancement  \n",
              "80517  **Describe the bug**\\r\\nAfter starting the app...                  Bug  "
            ],
            "text/html": [
              "\n",
              "  <div id=\"df-1d541bf3-ac69-487f-9700-d6d2ad1bc309\" class=\"colab-df-container\">\n",
              "    <div>\n",
              "<style scoped>\n",
              "    .dataframe tbody tr th:only-of-type {\n",
              "        vertical-align: middle;\n",
              "    }\n",
              "\n",
              "    .dataframe tbody tr th {\n",
              "        vertical-align: top;\n",
              "    }\n",
              "\n",
              "    .dataframe thead th {\n",
              "        text-align: right;\n",
              "    }\n",
              "</style>\n",
              "<table border=\"1\" class=\"dataframe\">\n",
              "  <thead>\n",
              "    <tr style=\"text-align: right;\">\n",
              "      <th></th>\n",
              "      <th>Unnamed: 0</th>\n",
              "      <th>issue_url</th>\n",
              "      <th>issue_label</th>\n",
              "      <th>issue_created_at</th>\n",
              "      <th>issue_author_association</th>\n",
              "      <th>repository_url</th>\n",
              "      <th>issue_title</th>\n",
              "      <th>issue_body</th>\n",
              "      <th>llama3_8b_prediction</th>\n",
              "    </tr>\n",
              "  </thead>\n",
              "  <tbody>\n",
              "    <tr>\n",
              "      <th>80513</th>\n",
              "      <td>803384</td>\n",
              "      <td>https://api.github.com/repos/timescale/timesca...</td>\n",
              "      <td>question</td>\n",
              "      <td>2021-04-14T21:33:04Z</td>\n",
              "      <td>NONE</td>\n",
              "      <td>https://api.github.com/repos/timescale/timesca...</td>\n",
              "      <td>No Gap Fill with bucket size bigger then inser...</td>\n",
              "      <td>**Relevant system information:**\\r\\n\\r\\nPostgr...</td>\n",
              "      <td>Bug</td>\n",
              "    </tr>\n",
              "    <tr>\n",
              "      <th>80514</th>\n",
              "      <td>803392</td>\n",
              "      <td>https://api.github.com/repos/cockpit-project/c...</td>\n",
              "      <td>enhancement</td>\n",
              "      <td>2020-03-11T15:28:33Z</td>\n",
              "      <td>CONTRIBUTOR</td>\n",
              "      <td>https://api.github.com/repos/cockpit-project/c...</td>\n",
              "      <td>desktop: Support sandbox with webkit_web_conte...</td>\n",
              "      <td>Our Python-based WebKit desktop browser should...</td>\n",
              "      <td>Enhancement</td>\n",
              "    </tr>\n",
              "    <tr>\n",
              "      <th>80515</th>\n",
              "      <td>803398</td>\n",
              "      <td>https://api.github.com/repos/Homebrew/brew/iss...</td>\n",
              "      <td>bug</td>\n",
              "      <td>2021-04-21T15:02:49Z</td>\n",
              "      <td>NONE</td>\n",
              "      <td>https://api.github.com/repos/Homebrew/brew</td>\n",
              "      <td>Can't install watchman</td>\n",
              "      <td>### `brew config` output\\n\\n```shell\\nHOMEBREW...</td>\n",
              "      <td>Bug</td>\n",
              "    </tr>\n",
              "    <tr>\n",
              "      <th>80516</th>\n",
              "      <td>803400</td>\n",
              "      <td>https://api.github.com/repos/kirbydesign/desig...</td>\n",
              "      <td>enhancement</td>\n",
              "      <td>2020-09-07T10:35:52Z</td>\n",
              "      <td>CONTRIBUTOR</td>\n",
              "      <td>https://api.github.com/repos/kirbydesign/desig...</td>\n",
              "      <td>[Enhancement] Optional top section of Kirby pa...</td>\n",
              "      <td>&lt;!--**Mandatory steps to ensure alignment betw...</td>\n",
              "      <td>Enhancement</td>\n",
              "    </tr>\n",
              "    <tr>\n",
              "      <th>80517</th>\n",
              "      <td>803401</td>\n",
              "      <td>https://api.github.com/repos/penpot/penpot/iss...</td>\n",
              "      <td>bug</td>\n",
              "      <td>2021-04-21T21:25:16Z</td>\n",
              "      <td>NONE</td>\n",
              "      <td>https://api.github.com/repos/penpot/penpot</td>\n",
              "      <td>Script manage.sh wont work after install</td>\n",
              "      <td>**Describe the bug**\\r\\nAfter starting the app...</td>\n",
              "      <td>Bug</td>\n",
              "    </tr>\n",
              "  </tbody>\n",
              "</table>\n",
              "</div>\n",
              "    <div class=\"colab-df-buttons\">\n",
              "\n",
              "  <div class=\"colab-df-container\">\n",
              "    <button class=\"colab-df-convert\" onclick=\"convertToInteractive('df-1d541bf3-ac69-487f-9700-d6d2ad1bc309')\"\n",
              "            title=\"Convert this dataframe to an interactive table.\"\n",
              "            style=\"display:none;\">\n",
              "\n",
              "  <svg xmlns=\"http://www.w3.org/2000/svg\" height=\"24px\" viewBox=\"0 -960 960 960\">\n",
              "    <path d=\"M120-120v-720h720v720H120Zm60-500h600v-160H180v160Zm220 220h160v-160H400v160Zm0 220h160v-160H400v160ZM180-400h160v-160H180v160Zm440 0h160v-160H620v160ZM180-180h160v-160H180v160Zm440 0h160v-160H620v160Z\"/>\n",
              "  </svg>\n",
              "    </button>\n",
              "\n",
              "  <style>\n",
              "    .colab-df-container {\n",
              "      display:flex;\n",
              "      gap: 12px;\n",
              "    }\n",
              "\n",
              "    .colab-df-convert {\n",
              "      background-color: #E8F0FE;\n",
              "      border: none;\n",
              "      border-radius: 50%;\n",
              "      cursor: pointer;\n",
              "      display: none;\n",
              "      fill: #1967D2;\n",
              "      height: 32px;\n",
              "      padding: 0 0 0 0;\n",
              "      width: 32px;\n",
              "    }\n",
              "\n",
              "    .colab-df-convert:hover {\n",
              "      background-color: #E2EBFA;\n",
              "      box-shadow: 0px 1px 2px rgba(60, 64, 67, 0.3), 0px 1px 3px 1px rgba(60, 64, 67, 0.15);\n",
              "      fill: #174EA6;\n",
              "    }\n",
              "\n",
              "    .colab-df-buttons div {\n",
              "      margin-bottom: 4px;\n",
              "    }\n",
              "\n",
              "    [theme=dark] .colab-df-convert {\n",
              "      background-color: #3B4455;\n",
              "      fill: #D2E3FC;\n",
              "    }\n",
              "\n",
              "    [theme=dark] .colab-df-convert:hover {\n",
              "      background-color: #434B5C;\n",
              "      box-shadow: 0px 1px 3px 1px rgba(0, 0, 0, 0.15);\n",
              "      filter: drop-shadow(0px 1px 2px rgba(0, 0, 0, 0.3));\n",
              "      fill: #FFFFFF;\n",
              "    }\n",
              "  </style>\n",
              "\n",
              "    <script>\n",
              "      const buttonEl =\n",
              "        document.querySelector('#df-1d541bf3-ac69-487f-9700-d6d2ad1bc309 button.colab-df-convert');\n",
              "      buttonEl.style.display =\n",
              "        google.colab.kernel.accessAllowed ? 'block' : 'none';\n",
              "\n",
              "      async function convertToInteractive(key) {\n",
              "        const element = document.querySelector('#df-1d541bf3-ac69-487f-9700-d6d2ad1bc309');\n",
              "        const dataTable =\n",
              "          await google.colab.kernel.invokeFunction('convertToInteractive',\n",
              "                                                    [key], {});\n",
              "        if (!dataTable) return;\n",
              "\n",
              "        const docLinkHtml = 'Like what you see? Visit the ' +\n",
              "          '<a target=\"_blank\" href=https://colab.research.google.com/notebooks/data_table.ipynb>data table notebook</a>'\n",
              "          + ' to learn more about interactive tables.';\n",
              "        element.innerHTML = '';\n",
              "        dataTable['output_type'] = 'display_data';\n",
              "        await google.colab.output.renderOutput(dataTable, element);\n",
              "        const docLink = document.createElement('div');\n",
              "        docLink.innerHTML = docLinkHtml;\n",
              "        element.appendChild(docLink);\n",
              "      }\n",
              "    </script>\n",
              "  </div>\n",
              "\n",
              "\n",
              "<div id=\"df-55bdae29-5f67-4079-90a4-219bef40935a\">\n",
              "  <button class=\"colab-df-quickchart\" onclick=\"quickchart('df-55bdae29-5f67-4079-90a4-219bef40935a')\"\n",
              "            title=\"Suggest charts\"\n",
              "            style=\"display:none;\">\n",
              "\n",
              "<svg xmlns=\"http://www.w3.org/2000/svg\" height=\"24px\"viewBox=\"0 0 24 24\"\n",
              "     width=\"24px\">\n",
              "    <g>\n",
              "        <path d=\"M19 3H5c-1.1 0-2 .9-2 2v14c0 1.1.9 2 2 2h14c1.1 0 2-.9 2-2V5c0-1.1-.9-2-2-2zM9 17H7v-7h2v7zm4 0h-2V7h2v10zm4 0h-2v-4h2v4z\"/>\n",
              "    </g>\n",
              "</svg>\n",
              "  </button>\n",
              "\n",
              "<style>\n",
              "  .colab-df-quickchart {\n",
              "      --bg-color: #E8F0FE;\n",
              "      --fill-color: #1967D2;\n",
              "      --hover-bg-color: #E2EBFA;\n",
              "      --hover-fill-color: #174EA6;\n",
              "      --disabled-fill-color: #AAA;\n",
              "      --disabled-bg-color: #DDD;\n",
              "  }\n",
              "\n",
              "  [theme=dark] .colab-df-quickchart {\n",
              "      --bg-color: #3B4455;\n",
              "      --fill-color: #D2E3FC;\n",
              "      --hover-bg-color: #434B5C;\n",
              "      --hover-fill-color: #FFFFFF;\n",
              "      --disabled-bg-color: #3B4455;\n",
              "      --disabled-fill-color: #666;\n",
              "  }\n",
              "\n",
              "  .colab-df-quickchart {\n",
              "    background-color: var(--bg-color);\n",
              "    border: none;\n",
              "    border-radius: 50%;\n",
              "    cursor: pointer;\n",
              "    display: none;\n",
              "    fill: var(--fill-color);\n",
              "    height: 32px;\n",
              "    padding: 0;\n",
              "    width: 32px;\n",
              "  }\n",
              "\n",
              "  .colab-df-quickchart:hover {\n",
              "    background-color: var(--hover-bg-color);\n",
              "    box-shadow: 0 1px 2px rgba(60, 64, 67, 0.3), 0 1px 3px 1px rgba(60, 64, 67, 0.15);\n",
              "    fill: var(--button-hover-fill-color);\n",
              "  }\n",
              "\n",
              "  .colab-df-quickchart-complete:disabled,\n",
              "  .colab-df-quickchart-complete:disabled:hover {\n",
              "    background-color: var(--disabled-bg-color);\n",
              "    fill: var(--disabled-fill-color);\n",
              "    box-shadow: none;\n",
              "  }\n",
              "\n",
              "  .colab-df-spinner {\n",
              "    border: 2px solid var(--fill-color);\n",
              "    border-color: transparent;\n",
              "    border-bottom-color: var(--fill-color);\n",
              "    animation:\n",
              "      spin 1s steps(1) infinite;\n",
              "  }\n",
              "\n",
              "  @keyframes spin {\n",
              "    0% {\n",
              "      border-color: transparent;\n",
              "      border-bottom-color: var(--fill-color);\n",
              "      border-left-color: var(--fill-color);\n",
              "    }\n",
              "    20% {\n",
              "      border-color: transparent;\n",
              "      border-left-color: var(--fill-color);\n",
              "      border-top-color: var(--fill-color);\n",
              "    }\n",
              "    30% {\n",
              "      border-color: transparent;\n",
              "      border-left-color: var(--fill-color);\n",
              "      border-top-color: var(--fill-color);\n",
              "      border-right-color: var(--fill-color);\n",
              "    }\n",
              "    40% {\n",
              "      border-color: transparent;\n",
              "      border-right-color: var(--fill-color);\n",
              "      border-top-color: var(--fill-color);\n",
              "    }\n",
              "    60% {\n",
              "      border-color: transparent;\n",
              "      border-right-color: var(--fill-color);\n",
              "    }\n",
              "    80% {\n",
              "      border-color: transparent;\n",
              "      border-right-color: var(--fill-color);\n",
              "      border-bottom-color: var(--fill-color);\n",
              "    }\n",
              "    90% {\n",
              "      border-color: transparent;\n",
              "      border-bottom-color: var(--fill-color);\n",
              "    }\n",
              "  }\n",
              "</style>\n",
              "\n",
              "  <script>\n",
              "    async function quickchart(key) {\n",
              "      const quickchartButtonEl =\n",
              "        document.querySelector('#' + key + ' button');\n",
              "      quickchartButtonEl.disabled = true;  // To prevent multiple clicks.\n",
              "      quickchartButtonEl.classList.add('colab-df-spinner');\n",
              "      try {\n",
              "        const charts = await google.colab.kernel.invokeFunction(\n",
              "            'suggestCharts', [key], {});\n",
              "      } catch (error) {\n",
              "        console.error('Error during call to suggestCharts:', error);\n",
              "      }\n",
              "      quickchartButtonEl.classList.remove('colab-df-spinner');\n",
              "      quickchartButtonEl.classList.add('colab-df-quickchart-complete');\n",
              "    }\n",
              "    (() => {\n",
              "      let quickchartButtonEl =\n",
              "        document.querySelector('#df-55bdae29-5f67-4079-90a4-219bef40935a button');\n",
              "      quickchartButtonEl.style.display =\n",
              "        google.colab.kernel.accessAllowed ? 'block' : 'none';\n",
              "    })();\n",
              "  </script>\n",
              "</div>\n",
              "\n",
              "    </div>\n",
              "  </div>\n"
            ],
            "application/vnd.google.colaboratory.intrinsic+json": {
              "type": "dataframe",
              "repr_error": "0"
            }
          },
          "metadata": {},
          "execution_count": 13
        }
      ]
    },
    {
      "cell_type": "code",
      "source": [
        "test['llama3_8b_prediction'].value_counts()"
      ],
      "metadata": {
        "colab": {
          "base_uri": "https://localhost:8080/"
        },
        "id": "TcVG8JIgp9Ef",
        "outputId": "67158ecb-dfaa-423c-f93a-84cddfbc17d4"
      },
      "execution_count": 14,
      "outputs": [
        {
          "output_type": "execute_result",
          "data": {
            "text/plain": [
              "llama3_8b_prediction\n",
              "Bug                                                                                                                                                     41603\n",
              "Enhancement                                                                                                                                             36028\n",
              "Others                                                                                                                                                   1378\n",
              "bug                                                                                                                                                       210\n",
              "Question                                                                                                                                                  186\n",
              "                                                                                                                                                        ...  \n",
              "**configuration**                                                                                                                                           1\n",
              "The issue is categorized as **bug** with one word.                                                                                                          1\n",
              "fixed                                                                                                                                                       1\n",
              "I would categorize this issue as **enhancement**.\\n\\nThe answer to what should be the final translation for the menu item is: **Leaderboard**.              1\n",
              "Based on the provided information, I would categorize this issue as:\\n\\n**Bug**\\n\\nPlease let me know if you have any further questions or concerns!        1\n",
              "Name: count, Length: 249, dtype: int64"
            ]
          },
          "metadata": {},
          "execution_count": 14
        }
      ]
    },
    {
      "cell_type": "code",
      "source": [
        "test['llama3_8b_prediction'].unique()"
      ],
      "metadata": {
        "colab": {
          "base_uri": "https://localhost:8080/"
        },
        "id": "3JHMH47Up_zh",
        "outputId": "db177ec7-3570-48b2-b4aa-79e75a0dd6d6"
      },
      "execution_count": 15,
      "outputs": [
        {
          "output_type": "execute_result",
          "data": {
            "text/plain": [
              "array(['Bug', 'Enhancement', 'Others', 'Bug.', 'optimization',\n",
              "       'Configuration.', 'Other', 'Deployment', 'Configuration',\n",
              "       'Question', 'Todo', 'Bugfix', 'None', 'Merge', 'Task',\n",
              "       'Performance', 'bug', 'Issue.', 'Data',\n",
              "       'I would categorize this issue as **bug**.',\n",
              "       'I would categorize this issue as \"question\".\\n\\nReason: The issue title is \"question \" and the body clearly states that it\\'s asking for help with installing Sherlock, which falls under the category of a question.',\n",
              "       'I would categorize this issue as **Bug**.', 'Optimization',\n",
              "       'Bugs', 'BUG', 'Buggy', '**Bug**', 'Workaround', 'Enhancement.',\n",
              "       'Confusion', 'issue', 'Documentation', 'Network.', 'Renaming',\n",
              "       ' Bug', 'question', 'Questionable', 'Warning', 'Remind',\n",
              "       'I would categorize this issue as \"enhancement\".', 'RFE',\n",
              "       'Learning', 'The answer is: Bug', '**Enhancement**', 'enhancement',\n",
              "       'Verification', 'Unknown', 'Security', 'Refactoring', 'others',\n",
              "       'ENHANCEMENT', 'Typo', 'Discussion', 'none', 'Proposal',\n",
              "       'Refactoring.',\n",
              "       \"**Bug**\\n\\nThis issue appears to be related to the AWS Java SDK, specifically with the `NettyRequestExecutor` class, which is causing a `NoClassDefFoundError`. The error message suggests that the class could not be initialized. This might be due to a version mismatch or a missing dependency.\\n\\nTo help troubleshoot this issue, it would be helpful to know:\\n\\n1. What is the exact version of the AWS Java SDK and its dependencies being used?\\n2. Are there any specific configurations or settings that might be causing the issue?\\n3. Have there been any recent changes to the code or environment that could be contributing to the problem?\\n\\nAdditionally, as suggested in the log message, enabling SDK logging may provide more insights into what's happening during the execution of the code.\",\n",
              "       'Notification', 'FalsePositive', 'Fix', 'Chore', 'Refactor',\n",
              "       '**Throttle**\\n\\n(Note: I categorized the issue as \"others\" since it\\'s not necessarily a bug or an enhancement, but rather a request to optimize the behavior of Envoy.)',\n",
              "       'Tests', 'Test', 'Upgrade', 'Help', 'Tutorial', 'Cleanup',\n",
              "       'process', 'I would categorize this issue as **configuration**.',\n",
              "       'Restoration', 'Hotfix', 'Error', 'Support',\n",
              "       'I would categorize this issue as **Enhancement**. The user is requesting the ability to customize the Probe Handler from `httpGet` to something else (like `tpcSocket` or `exec`) in their Helm chart, which is not currently possible. This is an enhancement request rather than a bug report.',\n",
              "       'Debug', 'Migration', 'Validation', 'Issue', 'Update', '**bug**',\n",
              "       'Guidelines',\n",
              "       '**Question**\\n\\nThe issue title is \"[how-to] Install and use library\", but the problem seems to be with `bundle exec rake install --trace` command. The error message indicates that no Rakefile was found, which means the command is looking for a file named `Rakefile`, `rakefile`, `Rakefile.rb`, or `rakefile.rb` in the current directory.\\n\\n**Answer**\\n\\n**Bug**',\n",
              "       'Enhancements', 'Path', 'Design', 'Deprecation', 'False Positive',\n",
              "       'NotABug', '**configuration**', 'security',\n",
              "       'The issue is categorized as **bug** with one word.', 'A bug!',\n",
              "       'fixed',\n",
              "       'I would categorize this issue as **enhancement**.\\n\\nThe answer to what should be the final translation for the menu item is: **Leaderboard**.',\n",
              "       'Memory',\n",
              "       'Based on the provided information, I would categorize this issue as:\\n\\n**Bug**\\n\\nPlease let me know if you have any further questions or concerns!',\n",
              "       \"Based on the provided issue, I would categorize it as **bug**.\\n\\nThe issue is related to YAML parsing error while trying to deploy Jenkins with HTTPS capabilities using Helm. The error occurs when enabling `httpsKeyStore` in the values.yaml file. The error message indicates that there is a YAML parse error on line 58 of the `jenkins/templates/jenkins-controller-statefulset.yaml` file, which suggests that there may be an issue with the chart's configuration or template files.\",\n",
              "       'Based on the provided issue title and body, I would categorize this issue as:\\n\\n**Bug**\\n\\nReason: The issue is about a specific functionality not working as expected (volume gesture not changing volume, but instead affecting brightness).',\n",
              "       'A simple one!\\n\\nThe answer is: Bug', 'Clarification',\n",
              "       'Permissions',\n",
              "       \"Bug.\\n\\nThe error message suggests that the issue is with the indexing in the `predict_model` function. The problem might be caused by the way you're setting up the data for prediction. \\n\\nLooking at your code, I think the issue might be with this line:\\n\\n```Python\\nX_train = train[features].groupby('id').aggregate([np.min, np.max, np.mean]).round(decimals=2)\\n```\\n\\nHere, `train` is a DataFrame and you're trying to group it by 'id'. If there are no rows in the DataFrame that have 'id' as their index, or if the 'id' column doesn't exist, this might be causing the error.\\n\\nTo solve this issue, I would first check the structure of your dataframes `train`, `test` and `submission`. Make sure they're what you expect. Then try to predict on a small subset of your data to make sure it's not a problem with your data itself.\",\n",
              "       'A Helm chart issue!\\n\\nIt looks like the error is related to an invalid image ID being expected, which seems to be caused by the way FluxCD handles images in the HelmRelease.\\n\\nThe symptom is that the release deploys successfully, but each time FluxCD syncs, it reports this error. The root cause might be that the `image` field in the Helm chart\\'s values file (in this case, the `controller.image` field) is not being properly interpreted by FluxCD.\\n\\nTo reproduce the issue, one needs to create a HelmRelease with the specified configuration and observe the Flux logs.\\n\\nGiven that this is an error specific to FluxCD, I would categorize this as a \"bug\"',\n",
              "       'Exercise', 'Hint', 'Request',\n",
              "       '**Annotation of superscript text**\\n\\n**What went wrong, step-by-step?**\\n1. posted an annotation on text that\\'s formatted as superscript in a pub draft\\n2. annotation box appears very far over in the right margin\\n\\n**What did you expect to happen?**\\nappear as normal\\n\\n**What URL can we use to see the issue?**\\nhttps://notes.knowledgefutures.org/pub/ettejwvb/draft\\n\\n**What browser/operating system were you using?**\\nChrome\\n\\n**Have any screenshots? (Attach them by dragging the image here)**\\n<img width=\"1296\" alt=\"Screen Shot 2021-02-24 at 11 35 12 AM\" src=\"https://user-images.githubusercontent.com/32333767/109033196-6401a980-7694-11eb-9c6c-4bcbc6a6fe1b.png\">\\n\\n**Who reported this?**\\nCA',\n",
              "       'Patch', 'Infra', 'The issue is categorized as \"bug\".', 'SPAM',\n",
              "       'configuration',\n",
              "       '**Bug**\\n\\nAdditionally, I would like to suggest some hints for debugging and resolving the issue:\\n\\n1. **Check the dependencies**: Make sure that all dependencies are up-to-date, especially those related to source maps (e.g., `source-map`).\\n2. **Verify the configuration**: Double-check your `webpack.config.js` file for any potential issues or conflicts with other configurations.\\n3. **Inspect the error message**: Take a closer look at the error message and see if it provides any clues about what might be causing the issue.\\n4. **Test locally**: Try running your build script locally to see if the issue is specific to the GCP Cloud Build environment.\\n5. **Use a debugger**: If possible, use a debugger like `node --inspect` or `chrome://inspect` to inspect the error and understand what\\'s going on.\\n\\nAs for the expected behavior, I would expect no \"UnhandledPromiseRejectionWarning\" exception to be thrown, as it seems that the issue is related to an unhandled promise rejection.',\n",
              "       'Setup', 'I would categorize this issue as **enhancement**.',\n",
              "       'Install.', 'Information', 'performance', 'Analysis',\n",
              "       \"A great example of a well-structured feature request!\\n\\nHere's my analysis:\\n\\n**Summary**: The issue title is concise, and the summary provides an overview of the problem.\\n\\n**Pre-checks**: The submitter has ensured that there is no existing issue regarding the same topic.\\n\\n**Feature description**: A clear explanation of what you want to achieve (using job name as build key during back-propagation) along with specific options (use build number or job name).\\n\\n**Use case**: A practical example illustrates the usefulness of this feature in a real-world scenario.\\n\\n**Possible Implementation**: The suggestion is to store this choice in the Global config (BitBucketPPRPluginConfig).\\n\\nAs for the categorization, I would suggest: **enhancement**\\n\\nYour answer should contain a single word, so here it is:\\n\\nEnhancement\",\n",
              "       '**Enhancement**\\n\\nThis is an enhancement request to extend the left sidebar in Files to the title bar (tab page bar) area, and limit the tab page bar to the right area of the window, while maintaining the left and right structure with transparent acrylic effect on the left side and opaque background on the right.',\n",
              "       'Notabug',\n",
              "       'Based on the provided text, it seems that you want to create a new label called \"fill issue template\" (or something similar) that serves a similar purpose to the existing \"needs info\" label.\\n\\nWhen this label is added to an issue, it will:\\n\\n1. Ask whether the issue is a bug or enhancement.\\n2. Prompt the user to fill out the issue template again accordingly.\\n3. Set the auto-close time for the issue to half of its usual duration (e.g., 10 days).\\n4. Comment on why these steps are important.\\n\\nThe alternative proposed is to add this information directly to the \"needs info\" comment, asking users to categorize the issue as either a bug, enhancement, or others, with their answer being a single word.\\n\\nOverall, it appears that you want to create a new label and process for ensuring that issue templates are properly filled out, while also providing additional guidance and incentives for users to do so.',\n",
              "       'upgrade', 'deprecation', 'Helpwanted', 'Authentication', 'Meta',\n",
              "       'Questions', 'Issue: others', 'Change', 'Linting', 'unknown',\n",
              "       'Please provide the issue title (\"asp\") and body (\"desc\"). I\\'ll categorize it for you.\\n\\n(Note: Since there\\'s no actual issue description provided, I\\'m assuming \"asp\" is the title and \"desc\" is the body. If that\\'s not correct, please provide more information.)',\n",
              "       'Timeout', 'DataLoss', 'Release', 'FAQ', 'Not', 'Informational',\n",
              "       'Meeting', 'The answer is: enhancement',\n",
              "       \"**Network**\\n\\nThe error you're experiencing suggests that there's an issue with the network connection when trying to connect to `api.wandb.ai`. This could be due to various reasons such as:\\n\\n* Temporary outages or maintenance on the WandB API\\n* Firewalls or proxy settings blocking the request\\n* DNS resolution issues\\n* Network congestion or packet loss\\n\\nTry checking your network configuration, firewall rules, and DNS resolution to see if that resolves the issue. If not, it might be a bug or enhancement specific to WandB.\",\n",
              "       \"A nice, detailed bug report!\\n\\nHere's the summary:\\n\\n**Bug**\\n\\nThe issue is that an activity returns an associative array (e.g., `['Peter' => '123', ...]`) but when used in a workflow, it's parsed as an object (`stdClass`), not an array. This causes errors when trying to use the return value as an array.\\n\\nThe report provides:\\n\\n1. A clear description of the bug.\\n2. Steps to reproduce the issue.\\n3. Expected behavior (i.e., that the return value should be used as an array).\\n4. Screenshots/Terminal output showing the error message.\\n5. Version information (OS, Temporal version, and deployment method).\\n\\nI'll make sure to categorize this issue correctly as a **Bug**.\",\n",
              "       '**Bug**\\n\\nThe issue appears to be a bug, where the installation of Big Sur on an external USB drive using OCLP v0.0.17 and booting from the EFI partition results in the installer suddenly rebooting and not completing the installation. The presence of the `macOSInstaller` volume and the inability to boot from it further suggests that there is a problem with the installation process.',\n",
              "       'Based on the issue body, I would categorize this issue as **bug**.',\n",
              "       'Benchmark', 'Maintenance', 'test', 'Setup.',\n",
              "       \"What a well-structured issue!\\n\\nThe answer is: **omit**\\n\\nIn other words, you can use the `omit` parameter when calling `dict()` on a Pydantic model to exclude attributes that are not provided. For example:\\n```python\\nA(x=3).dict(by_alias=True)  # {'x': 3}\\n```\\nThis will only include the `x` attribute in the output dictionary, omitting the `y` attribute since it was not provided.\",\n",
              "       \"Based on the issue body, I would categorize this issue as:\\n\\n**Enhancement**\\n\\nThe reason is that the issue is not about fixing a bug, but rather suggesting an alternative approach (using the Windows Cloud Files API) to improve the functionality of Nextcloud's virtual drive on Windows. The tone of the issue description is also more collaborative and forward-looking, indicating that the goal is to enhance or add new features rather than fix existing issues.\",\n",
              "       \"A detailed bug report!\\n\\nBased on the provided template, I'd categorize this issue as:\\n\\n**bug**\\n\\nReason: The user reports that the Trending page gets stuck loading forever, while other features like Personal feed and videos load normally. This suggests a specific issue with the Trending page's functionality.\",\n",
              "       'Testing', 'patch', 'Outage',\n",
              "       'The category for this issue is: enhancement', 'Idea', 'Report',\n",
              "       'Falsepositive',\n",
              "       'A bug report!\\n\\nHere\\'s my analysis:\\n\\n**Home Assistant Android version:** 2021.5.1-full\\n**Android version:** 11\\n**Phone model:** OnePlus Nord (AC2003)\\n**Home Assistant version:** core-2021.5.5\\n\\n**Description of problem:**\\nThe user is unable to dim a group of lights (with dimmable lights) in the new power menu.\\n\\n**Screenshot of problem:**\\nTwo images are provided, showing the issue with the \"Chambre Yvan\" lights group not being dimmable.\\n\\n**Additional information:**\\nNo additional details provided beyond the screenshots.\\n\\nBased on this information, I would categorize this issue as a **bug**.',\n",
              "       \"**Others**\\n\\nThe `poll()` method is used to retrieve the current value of an attribute from a device. It's not related to updating attributes on the GUI side.\\n\\nIn your macro, you're already updating the `laseractive` attribute using `write(value)`. This should be sufficient for updating the attribute in the GUI.\\n\\nTo update the `state` and `status` attributes in the GUI, you'll need to use a similar approach as you did for `laseractive`, i.e., call `write()` or another method specific to your device that updates these attributes.\\n\\nThe issue is not related to polling, but rather to updating attributes on the GUI side.\",\n",
              "       'Troll', 'Enthusiasm', 'Unclear',\n",
              "       '**Bug**\\n\\nThe issue appears to be related to the extraction of player config from YouTube, which is necessary for playback. The error message suggests that the extractor was unable to obtain the player config after three attempts.\\n\\nTo better understand and reproduce this issue, it would be helpful to know more about the steps you took leading up to this error, as well as any relevant device or system information (e.g., Android version, device model).',\n",
              "       'Benchmarking', 'Configuation', 'workaround',\n",
              "       \"I'd categorize this issue as: **bug**\", 'TechnicalDebt',\n",
              "       'A bug report!\\n\\nHere\\'s the filled-out template:\\n\\n**(Author) citation style is missing closing parenthesis.**\\n\\n**Before filing your bug report, please search existing issues to make sure a similar one doesn\\'t already exist. If one does, please leave a comment or reaction in support of the issue rather than creating a new one.**\\n\\n**What went wrong, step-by-step?**\\n1. Add a structured citation to a pub.\\n2. In Pub Settings, choose the (Author) inline style.\\n3. It will appear without the closing parenthesis, as seen in the screenshot.\\n\\n**What did you expect to happen?**\\nClosing parenthesis should be present.\\n\\n**What URL can we use to see the issue?**\\nhttps://demo.duqduq.org/pub/diasuuy0/draft\\n\\n**What browser/operating system were you using?**\\nMac / Chrome\\n\\n**Have any screenshots? (Attach them by dragging the image here)**\\n<img width=\"308\" alt=\"Screen Shot 2021-01-04 at 18 18 28\" src=\"https://user-images.githubusercontent.com/639110/103589455-6bd57680-4eb9-11eb-9dbf-5f91bf4a2b41.png\">\\n\\n**Who reported this? (If not you)**\\nBug',\n",
              "       'feat', 'The categorization of the issue is:\\n\\nEnhancement',\n",
              "       'Based on the provided information, I would categorize this issue as **bug**.',\n",
              "       'Problem',\n",
              "       'The issue title is \"As an editor, I want People automatically organized into person list pages so I don\\'t have to manually manage these pages.\" Therefore, the categorization of this issue would be:\\n\\nEnhancement',\n",
              "       'The issue title is \"Couldn\\'t request stream of video\". This is a bug report, and the issue body provides a detailed template for reporting bugs in NewPipe. The user has reported that they encountered an error when trying to play a video, specifically a YouTube video. The error message is \"<org.schabi.newpipe.extractor.stream.StreamInfo$StreamExtractException: Could not get any stream. See error variable to get further details.\".\\n\\nThe issue body includes the following sections:\\n\\n1. Checklist - This section requires the user to check if they are using the latest version of NewPipe, if they have checked for duplicate issues, and if they have read the contribution guidelines.\\n2. Steps to reproduce the bug - The user has provided a set of steps that can be used to reproduce the issue.\\n3. Expected behavior - The expected behavior is that the video should play when the user requests it.\\n4. Logs - This section includes a crash log generated by NewPipe, which provides more information about the error.\\n\\nThe device information section includes details such as the Android version (9), device model (Xiaomi), and custom ROM version.\\n\\nCategorizing this issue as a single word, I would say \"bug\".',\n",
              "       'Review',\n",
              "       \"The issue is due to the column 'store_type_pdist' having a categorical data type ('category') but not being specified in the `cat_features` list. The solution is to either convert this column to a numerical type (e.g., integer or float) or include it in the `cat_features` list.\\n\\nI would categorize this issue as: **bug**\",\n",
              "       'update', 'Network', 'Troubleshooting',\n",
              "       'Based on the provided issue body, I would categorize this issue as:\\n\\n**bug**\\n\\nThis is because the error message indicates that there is an \"invalid YAML syntax\" in the provided configuration file, which suggests a problem with the plugin\\'s ability to parse and execute the given command.',\n",
              "       'Risk', 'Installation',\n",
              "       'A nicely formatted issue!\\n\\nCategorization: enhancement',\n",
              "       'Questioning', 'Scam', 'Note',\n",
              "       \"The issue title mentions that it's about MuadDib90's playtesting feedbacks, which seems to be related to a game development project.\\n\\nAs for whether I want to deal with this or not, I'd say it's worth taking a look at the specific issues mentioned (different font, declension system, and C1M4 counter) to provide some insights. It appears that there are some language-related issues that need attention, which might require coordination with @Talon1024.\\n\\nDealing with these issues could lead to improvements in the game's UI and overall user experience.\",\n",
              "       'I would categorize this issue as: **bug**', '\"Bug\"',\n",
              "       'Question.\\n\\nAccording to the text, you must affix a complete copy of this License (0.1.2 QuestWorlds Open Game License, Version 1.0) to any QuestWorlds Open Game Content that You Use and include the Copyright Notice detailed in Section 7 in all appropriate locations.\\n\\nAppropriate locations might include:\\n\\n* Credits on page 1\\n* Appendix\\n* Download page\\n* Cover page\\n* Any other relevant location where you\\'re publishing your adventure supplement\\n\\nYou should provide a complete copy of the license and quote Section 7 (which should indeed be updated to \"This work was created...\" as you mentioned) in all these locations.',\n",
              "       'Investigation', 'Upgrade.', 'Dependency',\n",
              "       'Based on the provided code and information, it seems that there is an issue with rendering tables in GitBook format (html) when using Bookdown. The table renders fine in PDF format, but not in HTML.\\n\\nI would categorize this issue as \"bug\".',\n",
              "       'Updation', 'JS', 'dependency',\n",
              "       'Others.\\n\\nThe Prometheus adapter is not able to fetch rabbitmq metrics because it\\'s expecting a different query structure than the one you provided. The rules you set are for the Alertmanager, which is used to define alerting rules based on time series data. To fetch rabbitmq metrics from prometheus, you need to create a Prometheus query that retrieves the desired metrics.\\n\\nFor example, if you want to retrieve the number of messages in a RabbitMQ queue, your query might look like this:\\n\\n```\\nrabbitmq_queue_messages_ready{queue=\"my_queue\"}\\n```\\n\\nThis would give you the current number of messages ready in the \"my_queue\" queue. To set up Prometheus to fetch these metrics, you\\'ll need to configure the data source for your RabbitMQ server and create a scrape config that retrieves the desired metrics.\\n\\nYou can refer to the Prometheus documentation for more information on how to do this: https://prometheus.io/docs/guides/basic-install/#configuring-prometheus-to-scan-your-targets',\n",
              "       'Question.', 'Issue: Bug', 'hotfix', 'Bugfixing',\n",
              "       \"A nice RFC (Request for Comments)!\\n\\nHere's my analysis:\\n\\n**Categorization:** Enhancement\\n\\n**Summary:**\\n\\nThe proposal is to update the PHPDoc of `Laminas\\\\Form\\\\Element\\\\Select::setEmptyOption()` to allow an array as a valid parameter type, alongside string and null. This change would make it official and convenient for users to set the empty option with HTML attributes, without static analyzers (like phpstan) complaining about the mismatch.\\n\\n**Key points:**\\n\\n1. The proposal aims to provide a mechanism for setting the `Laminas\\\\Form\\\\Element\\\\Select` empty option as an array with HTML attributes.\\n2. The current PHPDoc requires either string or null, but users have found a workaround by passing an array.\\n3. The change is minor and won't break current behavior.\\n4. Users who need this feature would benefit from having it officially documented and supported.\\n\\nOverall, the proposal appears to be a reasonable enhancement that aligns with the goal of making it easier for users to set the empty option with HTML attributes.\",\n",
              "       'Discussion.\\n\\n(I categorized it as \"others\" because the issue is not about fixing a bug, but rather about clarifying a concept and having a discussion on how to categorize certain types of libraries.)',\n",
              "       'API', 'Issue: bug', 'Conversion',\n",
              "       'Here is the filled-in template:\\n\\n**Version**: 0.25.0-rc.4\\n**Platform**: Node.js for Windows 10 / Ubuntu 16.04 LTS (on Windows 10) - 64bit\\n**Subsystem**: pubsub\\n\\n**Bug**\\n\\nOne of following:\\nCritical - System crash, application panic.\\nHigh - The main functionality of the application does not work, API breakage, repo format breakage, etc.\\nMedium - A non-essential functionality does not work, performance issues, etc.\\nLow - An optional functionality does not work.\\nVery Low - Translation or documentation mistake. Something that won\\'t give anyone a bad day.\\n\\n#### Severity: Low\\n\\n#### Description:\\n\\nThe [PubSub example](https://github.com/libp2p/js-libp2p/blob/master/examples/pubsub/1.js) ends with a TypeError:\\n\\n```\\nC:\\\\Users\\\\Patrick\\\\Desktop\\\\libp2p\\\\node_modules\\\\superstruct\\\\lib\\\\index.js:1181\\n        throw new StructError(error);\\n        ^\\n\\nTypeError: Expected a value of type `function | object` but received `undefined`.\\n    at Function.Struct.assert.value [as assert] (C:\\\\Users\\\\Patrick\\\\Desktop\\\\libp2p\\\\node_modules\\\\superstruct\\\\lib\\\\index.js:1181:15)\\n    at Struct (C:\\\\Users\\\\Patrick\\\\Desktop\\\\libp2p\\\\node_modules\\\\superstruct\\\\lib\\\\index.js:1165:21)\\n    at module.exports.validate (C:\\\\Users\\\\Patrick\\\\Desktop\\\\libp2p\\\\src\\\\config.js:73:27)\\n    at new Node (C:\\\\Users\\\\Patrick\\\\Desktop\\\\libp2p\\\\src\\\\index.js:48:16)\\n    at new MyBundle (C:\\\\Users\\\\Patrick\\\\Desktop\\\\libp2p\\\\examples\\\\pubsub\\\\1.js:37:5)\\n    at waterfall (C:\\\\Users\\\\Patrick\\\\Desktop\\\\libp2p\\\\examples\\\\pubsub\\\\1.js:48:14)\\n    at nextTask (C:\\\\Users\\\\Patrick\\\\Desktop\\\\libp2p\\\\node_modules\\\\async\\\\waterfall.js:16:14)\\n    at next (C:\\\\Users\\\\Patrick\\\\Desktop\\\\libp2p\\\\node_modules\\\\async\\\\waterfall.js:23:9)\\n    at C:\\\\Users\\\\Patrick\\\\Desktop\\\\libp2p\\\\node_modules\\\\async\\\\internal\\\\onlyOnce.js:12:16\\n    at PeerId.create (C:\\\\Users\\\\Patrick\\\\Desktop\\\\libp2p\\\\node_modules\\\\peer-info\\\\src\\\\index.js:47:7)\\n```\\n\\n#### Steps to reproduce the error:\\n\\n1. Clone js-libp2p trunk to desktop.\\n2. In cloned folder run `npm install` to install all dependencies.\\n3. Run `npm audit fix` to attempt to fix 3 low-priority vulnerabilities. Result:\\n````\\nnpm WARN acorn-dynamic-import@4.0.0 requires a peer of acorn@^6.0.0 but none is installed. You must install peer dependencies yourself.\\nnpm WARN acorn-jsx@5.0.1 requires a peer of acorn@^6.0.0 but none is installed. You must install peer dependencies yourself.\\nnpm WARN wrtc@0.3.5 requires a peer of domexception@^1.0.1 but none is installed. You must install peer dependencies yourself.\\nnpm WARN optional SKIPPING OPTIONAL DEPENDENCY: fsevents@1.2.7 (node_modules/fsevents):\\nnpm WARN notsup SKIPPING OPTIONAL DEPENDENCY: Unsupported platform for fsevents@1.2.7: wanted {\"os\":\"darwin\",\"arch\":\"any\"} (current: {\"os\":\"linux\",\"arch\":\"x64\"})\\nfixed 0 of 3 vulnerabilities in 44953 scanned packages\\n  3 vulnerabilities required manual review and could not be updated\\n```\\n(I can update this issue with details on the reported vulnerabilities--please let me know if it\\'s relevant)\\n\\n4. In `{trunk}\\\\examples\\\\pubsub` run `node 1.js` (`nodejs 1.js` on Ubuntu) -- after a few moments the error is reported and example terminates.\\n\\n**Bug**\\n\\nLet me know if you\\'d like me to provide more details on the reported vulnerabilities!',\n",
              "       'A feature request!\\n\\nThe answer is: **Enhancement**',\n",
              "       '**others**\\n\\nReasoning: The observed behavior of ClickHouse not scaling beyond 28 threads is likely due to the specific characteristics of the query, dataset, and hardware configuration, rather than a bug or enhancement in ClickHouse itself.',\n",
              "       'Feature',\n",
              "       \"Please go ahead and provide the issue title and issue body, I'll categorize it for you.\\n\\n(Note: I'll respond with a single word answer)\",\n",
              "       '**Issue Type: Enhancement**\\n\\nHere is a draft blog post on how the Autocomplete feature can be implemented in real life:\\n\\n---\\n\\n**How is the Autocomplete Feature Implemented in Real Life?**\\n\\nHave you ever wondered how some search engines or commercial portals are able to match the entered letters to whatever words you\\'re trying to type almost instinctively? Are they simply attempting to match the entered letters in their database, or are they using some kind of \"intelligence\" to find what you\\'re looking for?\\n\\nAs it turns out, this feature is called \"Autocomplete\", and it can be implemented via standard data structures. One of the most naive methods is linear search and binary search, but these methods simply become inefficient when dealing with typo-tolerance.\\n\\nSo, how do we make Autocomplete more efficient? Enter TRIE and Ternary Search Tree - both are effective data structures for implementing Autocomplete. But the real winner here is Burkhard Keller Trees (BK-Trees), which can optimize your Autocomplete feature up to 40 times faster!\\n\\n**How BK-Trees Make Autocomplete Faster**\\n\\nSo, how does BK-Trees manage to do this? It rests its concepts on the Levenshtein distance, which is a measure of minimum operations needed to translate one string into another. This makes it efficient for Nearest Neighbour Search with a logarithmic time complexity and also boosts performance for Fuzzy Search.\\n\\n**Linear Search: The Naive Approach**\\n\\nLet\\'s start with linear search - a simple, yet inefficient method. Imagine you have a list of words, and you want to find the one that matches what the user has typed so far. You would simply iterate through the list until you find a match, or reach the end of the list.\\n\\n**Binary Search: A Slightly Better Approach**\\n\\nNext up is binary search - a bit more efficient than linear search. Imagine your list of words is sorted alphabetically. You can divide the list in half and check if the middle word matches what the user has typed. If it doesn\\'t, you can either move to the left or right half and repeat the process until you find a match.\\n\\n**Ternary Search Tree: A Better Approach**\\n\\nNow let\\'s talk about Ternary Search Trees - a more efficient data structure for Autocomplete. Imagine a tree with three branches at each node. Each leaf node represents a word, and each internal node has a character that is the same as the corresponding character in one of its child nodes.\\n\\n**TRIE: A More Efficient Approach**\\n\\nTRIE (Trie) is another effective data structure for implementing Autocomplete. It\\'s essentially a tree-like data structure where each node has a set of characters and a reference to zero or more child nodes.\\n\\n**Burkhard Keller Trees: The Real Winner**\\n\\nAnd then there are Burkhard Keller Trees - the real winner when it comes to optimizing Autocomplete. BK-Trees use a combination of TRIE and Ternary Search Tree concepts, with an added twist. They use the Levenshtein distance to optimize their search algorithm.\\n\\n**How BK-Trees Work**\\n\\nSo, how do BK-Trees work? Imagine you have a list of words, and you want to find the one that matches what the user has typed so far. You would create a BK-Tree for each word in your list and use the Levenshtein distance to determine which words are most similar to the user\\'s input.\\n\\n**Conclusion**\\n\\nIn conclusion, Autocomplete is a powerful feature that can be implemented via standard data structures. While linear search and binary search may seem simple, they become inefficient when dealing with typo-tolerance. TRIE, Ternary Search Tree, and Burkhard Keller Trees offer more efficient solutions for implementing Autocomplete. And with the right combination of algorithms and data structures, you can create an Autocomplete feature that is fast, accurate, and user-friendly.\\n\\n---\\n\\n**Metadata:**\\n\\n* Title: How is the Autocomplete Feature Implemented in Real Life?\\n* Category: Enhancement\\n* Tags: Autocomplete, Data Structures, TRIE, Ternary Search Tree, Burkhard Keller Trees',\n",
              "       'The issue title is \"User scripts component\", and the issue body describes a feature request to add support for user scripts in the browser, similar to Tampermonkey. The issue includes several subtasks and considerations, such as:\\n\\n* Implementing the User Scripts component\\n* Adding UI management (enable/disable/remove script)\\n* Preferences (enable/disable) and help page link\\n* Reading from folder and adding details for unmatched headers\\n* Bug fixes (e.g., DOCUMENT_START not working)\\n* Security verification (e.g., denying network access to injected scripts, verifying file integrity)\\n\\nThe issue also includes several open questions and considerations, such as:\\n\\n* Whether to use zip files or self-updating features\\n* How to implement the feature flag\\n* How to request permission from the user\\n* How to prevent crashes in the startup\\n\\nI would categorize this issue as \"enhancement\".',\n",
              "       'Dúvida', 'Removal', 'Typos',\n",
              "       \"A delightful web development issue!\\n\\nTo fix the index.html errors, I'd recommend addressing the following issues:\\n\\n1. **Fix HTML structure**:\\n\\t* Remove `<br>` elements from within `<ul>` tags.\\n\\t* Replace `<a>` elements with valid children of `<ul>`, such as `<li>`.\\n2. **Correct iframe attributes**:\\n\\t* Use a digit instead of `%` for the `width` attribute.\\n\\t* Use a digit instead of `vh` for the `height` attribute.\\n\\t* Remove obsolete `frameborder` attribute and use CSS instead.\\n3. **Close unclosed elements**:\\n\\t* Close `<div>`, `<section>`, `<ol>`, and `<div>` elements where necessary.\\n4. **Fix nesting issues**:\\n\\t* Ensure that elements like `<footer>` do not appear as descendants of themselves.\\n5. **Clean up script tags**:\\n\\t* Remove stray start tag `<script>`.\\n\\nAfter fixing these issues, the HTML should be valid and ready for further development!\",\n",
              "       'permission', 'MemoryLeak', 'housekeeping',\n",
              "       'Based on the provided issue template, I would categorize this issue as **bug**.',\n",
              "       'Job',\n",
              "       'A bug report!\\n\\nAccording to the issue title, the problem is:\\n\\n\"Sacrificial Pact recommended with a Control Undead pet\"\\n\\nThe issue body explains that when using Control Undead on an enemy mob, Hekili suggests Sacrificial Pact, but this is incorrect because Sacrificial Pact can only be used on your own Ghoul.\\n\\nTo reproduce the behavior, one must go to Theatre of Pain, click on Ancient Captain, scroll down to ------; and see error ---------.\\n\\nThe expected behavior is that Hekili should never suggest Sacrificial Pact when using Control Undead on an enemy mob.\\n\\n**Classification:** Bug',\n",
              "       \"Based on the provided issue title and body, I would categorize this issue as:\\n\\n**BUG**\\n\\nThis is because the issue reports that the next/previous playback buttons are missing when auto-queue is turned off, which suggests a bug in NewPipe's functionality.\",\n",
              "       'Concern',\n",
              "       'Here is the filled-out template:\\n\\n**Can\\'t subscribe to channels without videos**\\n\\n### Checklist\\n\\n- [x] I am using the latest version - 0.21.0\\n- [x] I checked, but didn\\'t find any duplicates (open OR closed) of this issue in the repo.\\n- [x] I have read the contribution guidelines given at https://github.com/TeamNewPipe/NewPipe/blob/HEAD/.github/CONTRIBUTING.md.\\n- [x] This issue contains only one bug. I will open one issue for every bug report I want to file.\\n\\n### Steps to reproduce the bug\\n\\n1. Search Youtube for \"subscribers without videos\"\\n2. Tap on a channel that doesn\\'t show any videos.\\n\\nThe search term is just to find empty channels, I don\\'t want to subscribe to those, but sometimes people announce new channels that don\\'t have videos yet and it would be nice to have them in Newpipe so they show up in the new video feed once videos get uploaded.\\n\\n### Actual behaviour\\n\\nThe channel header with subscribe button shows up for a moment, then gets replaced by a \"No videos\" message.\\n\\n### Expected behavior\\n\\nChannel header stays, the \"No videos\" message only occupies the space where the videos would go, so the subscribe button is always visible.\\n\\nThere\\'s also a loading circle animation when looking for videos on a channel that seems to do the same and could also just be below the header instead of replacing it to keep the UI less busy.\\n\\n### Screenshots/Screen recordings\\n\\n<!-- No screenshots provided -->\\n\\n### Logs\\n\\nPlease provide logs.\\n\\n### Device info\\n\\n- Android version/Custom ROM version:\\n- Device model:\\n\\n**Issue categorization:** bug',\n",
              "       'I would categorize this issue as \"others\".\\n\\nThe reason is that the title \"How to get other pick like diamond pick?? \" is not asking for a bug fix or an enhancement, but rather seeking general guidance on how to achieve a specific result (getting picks similar to diamond picks).',\n",
              "       'Based on the provided information, I would categorize this issue as **BUG**.',\n",
              "       'False-positive', 'Bytes.', 'Notice', 'guidelines',\n",
              "       'I\\'d categorize this issue as \"enhancement\".',\n",
              "       '**Bug**\\n\\nThe issue is caused by a stack overflow due to the recursive calling of `Edge.getTerminalPoint()` in an infinite loop, which results in a crash. The workaround suggested is to validate edges before creating them, but this is not a suitable solution as it would prevent users from connecting nodes in certain ways.\\n\\nTo fix this issue, a more robust solution is needed to handle cycles in the graph and prevent stack overflows. This may involve implementing a depth-first search (DFS) or breadth-first search (BFS) algorithm to detect and prevent cycles.',\n",
              "       'refactor', 'Legal',\n",
              "       'Based on the provided information, I would categorize this issue as **Bug**.',\n",
              "       'Submission', 'Instructions', 'Wontfix', 'patching',\n",
              "       \"I cannot assist with illegal activities such as hacking another person's computer. Can I help you with something else?\"],\n",
              "      dtype=object)"
            ]
          },
          "metadata": {},
          "execution_count": 15
        }
      ]
    },
    {
      "cell_type": "code",
      "source": [
        "len(test['llama3_8b_prediction'].unique())"
      ],
      "metadata": {
        "colab": {
          "base_uri": "https://localhost:8080/"
        },
        "id": "WGCgH0sdqDp1",
        "outputId": "2c27f65d-05bf-4d77-83e2-ad70056b43df"
      },
      "execution_count": 16,
      "outputs": [
        {
          "output_type": "execute_result",
          "data": {
            "text/plain": [
              "249"
            ]
          },
          "metadata": {},
          "execution_count": 16
        }
      ]
    },
    {
      "cell_type": "code",
      "source": [
        "test['llama3_8b_prediction_organized'] = test['llama3_8b_prediction']"
      ],
      "metadata": {
        "id": "qrJZuFPRqHSo"
      },
      "execution_count": 17,
      "outputs": []
    },
    {
      "cell_type": "markdown",
      "source": [
        "arrange bug answers"
      ],
      "metadata": {
        "id": "VIbWQ-2tqMgm"
      }
    },
    {
      "cell_type": "code",
      "source": [
        "bug_labels = {'Bug',\n",
        "              'Bug.',\n",
        "              'Bugfix',\n",
        "              'bug',\n",
        "              'I would categorize this issue as **bug**.',\n",
        "              'I would categorize this issue as **Bug**.',\n",
        "              'Bugs',\n",
        "              'BUG',\n",
        "              'Buggy',\n",
        "              '**Bug**',\n",
        "              ' Bug',\n",
        "              'The answer is: Bug',\n",
        "              'Error',\n",
        "              '**bug**',\n",
        "              'The issue is categorized as **bug** with one word.',\n",
        "              'A bug!',\n",
        "              'The issue is categorized as \"bug\".',\n",
        "              'Based on the issue body, I would categorize this issue as **bug**.',\n",
        "              \"I'd categorize this issue as: **bug**\",\n",
        "              'Based on the provided information, I would categorize this issue as **bug**.',\n",
        "              'Problem',\n",
        "              'I would categorize this issue as: **bug**',\n",
        "              '\"Bug\"',\n",
        "              'Issue: Bug',\n",
        "              'Bugfixing',\n",
        "              'Issue: bug',\n",
        "              'Based on the provided issue template, I would categorize this issue as **bug**.',\n",
        "              'Based on the provided information, I would categorize this issue as **BUG**.',\n",
        "              'Based on the provided information, I would categorize this issue as **Bug**.'}\n",
        "\n",
        "test['llama3_8b_prediction_organized'] = test['llama3_8b_prediction_organized'].replace(bug_labels, 'bug')"
      ],
      "metadata": {
        "id": "w46vW2hKqNSt"
      },
      "execution_count": 72,
      "outputs": []
    },
    {
      "cell_type": "markdown",
      "source": [
        "arrange enhancement answers"
      ],
      "metadata": {
        "id": "j4shhhDdtpPy"
      }
    },
    {
      "cell_type": "code",
      "source": [
        "enhancement_labels = {'Enhancement',\n",
        "                      'Enhancement.',\n",
        "                      'I would categorize this issue as \"enhancement\".',\n",
        "                      'RFE',\n",
        "                      '**Enhancement**',\n",
        "                      'enhancement',\n",
        "                      'ENHANCEMENT',\n",
        "                      'Enhancements',\n",
        "                      'Request',\n",
        "                      'I would categorize this issue as **enhancement**.',\n",
        "                      'The answer is: enhancement',\n",
        "                      'The category for this issue is: enhancement',\n",
        "                      'Feature'}\n",
        "\n",
        "test['llama3_8b_prediction_organized'] = test['llama3_8b_prediction_organized'].replace(enhancement_labels, 'enhancement')"
      ],
      "metadata": {
        "id": "OPRygR7Otret"
      },
      "execution_count": 73,
      "outputs": []
    },
    {
      "cell_type": "markdown",
      "source": [
        "arrange others answers"
      ],
      "metadata": {
        "id": "UcuuptCMugjM"
      }
    },
    {
      "cell_type": "code",
      "source": [
        "other_labels = {'Others',\n",
        "                'optimization',\n",
        "                'Configuration.',\n",
        "                'Other',\n",
        "                'Deployment',\n",
        "                'Configuration',\n",
        "                'Question',\n",
        "                'Todo',\n",
        "                'None',\n",
        "                'Merge',\n",
        "                'Task',\n",
        "                'Performance',\n",
        "                'Issue.',\n",
        "                'Data',\n",
        "                'Optimization',\n",
        "                'Workaround',\n",
        "                'Confusion',\n",
        "                'issue',\n",
        "                'Documentation',\n",
        "                'Network.',\n",
        "                'Renaming',\n",
        "                'question',\n",
        "                'Questionable',\n",
        "                'Warning',\n",
        "                'Remind',\n",
        "                'Learning',\n",
        "                'Verification',\n",
        "                'Unknown',\n",
        "                'Security',\n",
        "                'Refactoring',\n",
        "                'others',\n",
        "                'Typo',\n",
        "                'Discussion',\n",
        "                'none',\n",
        "                'Proposal',\n",
        "                'Refactoring.',\n",
        "                'Notification',\n",
        "                'FalsePositive',\n",
        "                'Fix',\n",
        "                'Chore',\n",
        "                'Refactor',\n",
        "                'Tests',\n",
        "                'Test',\n",
        "                'Upgrade',\n",
        "                'Help',\n",
        "                'Tutorial',\n",
        "                'Cleanup',\n",
        "                'process',\n",
        "                'I would categorize this issue as **configuration**.',\n",
        "                'Restoration',\n",
        "                'Hotfix',\n",
        "                'Support',\n",
        "                'Debug',\n",
        "                'Migration',\n",
        "                'Validation',\n",
        "                'Issue',\n",
        "                'Update',\n",
        "                'Guidelines',\n",
        "                'Path',\n",
        "                'Design',\n",
        "                'Deprecation',\n",
        "                'False Positive',\n",
        "                'NotABug',\n",
        "                '**configuration**',\n",
        "                'security',\n",
        "                'fixed',\n",
        "                'Memory',\n",
        "                'Clarification',\n",
        "                'Permissions',\n",
        "                'Exercise',\n",
        "                'Hint',\n",
        "                'Patch',\n",
        "                'Infra',\n",
        "                'SPAM',\n",
        "                'configuration',\n",
        "                'Setup',\n",
        "                'Install.',\n",
        "                'Information',\n",
        "                'performance',\n",
        "                'Analysis',\n",
        "                'Notabug',\n",
        "                'upgrade',\n",
        "                'deprecation',\n",
        "                'Helpwanted',\n",
        "                'Authentication',\n",
        "                'Meta',\n",
        "                'Questions',\n",
        "                'Issue: others',\n",
        "                'Change',\n",
        "                'Linting',\n",
        "                'unknown',\n",
        "                'Timeout',\n",
        "                'DataLoss',\n",
        "                'Release',\n",
        "                'FAQ',\n",
        "                'Not',\n",
        "                'Informational',\n",
        "                'Meeting',\n",
        "                'Benchmark',\n",
        "                'Maintenance',\n",
        "                'test',\n",
        "                'Setup.',\n",
        "                'Testing',\n",
        "                'patch',\n",
        "                'Outage',\n",
        "                'Idea',\n",
        "                'Report',\n",
        "                'Falsepositive',\n",
        "                'Troll',\n",
        "                'Enthusiasm',\n",
        "                'Unclear',\n",
        "                'Benchmarking',\n",
        "                'Configuation',\n",
        "                'workaround',\n",
        "                'TechnicalDebt',\n",
        "                'feat',\n",
        "                'Review',\n",
        "                'update',\n",
        "                'Network',\n",
        "                'Troubleshooting',\n",
        "                'Risk',\n",
        "                'Installation',\n",
        "                'Questioning',\n",
        "                'Scam',\n",
        "                'Note',\n",
        "                'Investigation',\n",
        "                'Upgrade.',\n",
        "                'Dependency',\n",
        "                'Updation',\n",
        "                'JS',\n",
        "                'dependency',\n",
        "                'Question.',\n",
        "                'hotfix',\n",
        "                'API',\n",
        "                'Conversion',\n",
        "                'Dúvida',\n",
        "                'Removal',\n",
        "                'Typos',\n",
        "                'permission',\n",
        "                'MemoryLeak',\n",
        "                'housekeeping',\n",
        "                'Job',\n",
        "                'Concern',\n",
        "                'False-positive',\n",
        "                'Bytes.',\n",
        "                'Notice',\n",
        "                'guidelines',\n",
        "                'refactor',\n",
        "                'Legal',\n",
        "                'Submission',\n",
        "                'Instructions',\n",
        "                'Wontfix',\n",
        "                'patching',\n",
        "                \"I cannot assist with illegal activities such as hacking another person's computer. Can I help you with something else?\"}\n",
        "\n",
        "test['llama3_8b_prediction_organized'] = test['llama3_8b_prediction_organized'].replace(other_labels, 'question')"
      ],
      "metadata": {
        "id": "HCuPpP0YunOX"
      },
      "execution_count": 74,
      "outputs": []
    },
    {
      "cell_type": "markdown",
      "source": [
        "arrange long sentences from the csv"
      ],
      "metadata": {
        "id": "xs_t0RJh0ATD"
      }
    },
    {
      "cell_type": "code",
      "source": [
        "test.loc[1433,'llama3_8b_prediction_organized']"
      ],
      "metadata": {
        "colab": {
          "base_uri": "https://localhost:8080/",
          "height": 69
        },
        "id": "xJswQXoY0CWf",
        "outputId": "0a2a0b10-dab1-4fe4-8f7a-bd4d5b247f3f"
      },
      "execution_count": 75,
      "outputs": [
        {
          "output_type": "execute_result",
          "data": {
            "text/plain": [
              "'I would categorize this issue as \"question\".\\n\\nReason: The issue title is \"question \" and the body clearly states that it\\'s asking for help with installing Sherlock, which falls under the category of a question.'"
            ],
            "application/vnd.google.colaboratory.intrinsic+json": {
              "type": "string"
            }
          },
          "metadata": {},
          "execution_count": 75
        }
      ]
    },
    {
      "cell_type": "code",
      "source": [
        "test.loc[1433,'llama3_8b_prediction_organized'] = 'question'"
      ],
      "metadata": {
        "id": "7Ep4TAo40KlH"
      },
      "execution_count": 76,
      "outputs": []
    },
    {
      "cell_type": "code",
      "source": [
        "test.loc[9416,'llama3_8b_prediction_organized']"
      ],
      "metadata": {
        "colab": {
          "base_uri": "https://localhost:8080/",
          "height": 154
        },
        "id": "BIDnTH5Z1i-U",
        "outputId": "582453a3-2c2d-4178-85b7-c8f1004109de"
      },
      "execution_count": 77,
      "outputs": [
        {
          "output_type": "execute_result",
          "data": {
            "text/plain": [
              "\"**Bug**\\n\\nThis issue appears to be related to the AWS Java SDK, specifically with the `NettyRequestExecutor` class, which is causing a `NoClassDefFoundError`. The error message suggests that the class could not be initialized. This might be due to a version mismatch or a missing dependency.\\n\\nTo help troubleshoot this issue, it would be helpful to know:\\n\\n1. What is the exact version of the AWS Java SDK and its dependencies being used?\\n2. Are there any specific configurations or settings that might be causing the issue?\\n3. Have there been any recent changes to the code or environment that could be contributing to the problem?\\n\\nAdditionally, as suggested in the log message, enabling SDK logging may provide more insights into what's happening during the execution of the code.\""
            ],
            "application/vnd.google.colaboratory.intrinsic+json": {
              "type": "string"
            }
          },
          "metadata": {},
          "execution_count": 77
        }
      ]
    },
    {
      "cell_type": "code",
      "source": [
        "test.loc[9416,'llama3_8b_prediction_organized'] = 'bug'"
      ],
      "metadata": {
        "id": "wA3Io7fu1nz5"
      },
      "execution_count": 78,
      "outputs": []
    },
    {
      "cell_type": "code",
      "source": [
        "test.loc[9834,'llama3_8b_prediction_organized']"
      ],
      "metadata": {
        "colab": {
          "base_uri": "https://localhost:8080/",
          "height": 52
        },
        "id": "bngGpFVf2LML",
        "outputId": "04d6de06-b598-4bb5-8198-243a41839014"
      },
      "execution_count": 79,
      "outputs": [
        {
          "output_type": "execute_result",
          "data": {
            "text/plain": [
              "'**Throttle**\\n\\n(Note: I categorized the issue as \"others\" since it\\'s not necessarily a bug or an enhancement, but rather a request to optimize the behavior of Envoy.)'"
            ],
            "application/vnd.google.colaboratory.intrinsic+json": {
              "type": "string"
            }
          },
          "metadata": {},
          "execution_count": 79
        }
      ]
    },
    {
      "cell_type": "code",
      "source": [
        "test.loc[9834,'llama3_8b_prediction_organized'] = 'question'"
      ],
      "metadata": {
        "id": "ih5Eir7S2OMv"
      },
      "execution_count": 80,
      "outputs": []
    },
    {
      "cell_type": "code",
      "source": [
        "test.loc[12887,'llama3_8b_prediction_organized']"
      ],
      "metadata": {
        "colab": {
          "base_uri": "https://localhost:8080/",
          "height": 69
        },
        "id": "e9Xosfm728UR",
        "outputId": "6ac61be8-e6c0-4803-9325-476ff3491ec8"
      },
      "execution_count": 81,
      "outputs": [
        {
          "output_type": "execute_result",
          "data": {
            "text/plain": [
              "'I would categorize this issue as **Enhancement**. The user is requesting the ability to customize the Probe Handler from `httpGet` to something else (like `tpcSocket` or `exec`) in their Helm chart, which is not currently possible. This is an enhancement request rather than a bug report.'"
            ],
            "application/vnd.google.colaboratory.intrinsic+json": {
              "type": "string"
            }
          },
          "metadata": {},
          "execution_count": 81
        }
      ]
    },
    {
      "cell_type": "code",
      "source": [
        "test.loc[12887,'llama3_8b_prediction_organized'] = 'enhancement'"
      ],
      "metadata": {
        "id": "xlLXNA0b2-NK"
      },
      "execution_count": 82,
      "outputs": []
    },
    {
      "cell_type": "code",
      "source": [
        "test.loc[15016,'llama3_8b_prediction_organized']"
      ],
      "metadata": {
        "colab": {
          "base_uri": "https://localhost:8080/",
          "height": 86
        },
        "id": "hXNY1VAT3Xb7",
        "outputId": "4fe675dd-392a-473e-93d2-9c25f8437d2b"
      },
      "execution_count": 83,
      "outputs": [
        {
          "output_type": "execute_result",
          "data": {
            "text/plain": [
              "'**Question**\\n\\nThe issue title is \"[how-to] Install and use library\", but the problem seems to be with `bundle exec rake install --trace` command. The error message indicates that no Rakefile was found, which means the command is looking for a file named `Rakefile`, `rakefile`, `Rakefile.rb`, or `rakefile.rb` in the current directory.\\n\\n**Answer**\\n\\n**Bug**'"
            ],
            "application/vnd.google.colaboratory.intrinsic+json": {
              "type": "string"
            }
          },
          "metadata": {},
          "execution_count": 83
        }
      ]
    },
    {
      "cell_type": "code",
      "source": [
        "test.loc[15016,'llama3_8b_prediction_organized'] = 'question'"
      ],
      "metadata": {
        "id": "vo8KX-Xm3ZsK"
      },
      "execution_count": 84,
      "outputs": []
    },
    {
      "cell_type": "code",
      "source": [
        "test.loc[19503,'llama3_8b_prediction_organized']"
      ],
      "metadata": {
        "colab": {
          "base_uri": "https://localhost:8080/",
          "height": 52
        },
        "id": "A1Dcv1fj4E33",
        "outputId": "97422e6e-9652-43a5-a186-0a4d1286df17"
      },
      "execution_count": 85,
      "outputs": [
        {
          "output_type": "execute_result",
          "data": {
            "text/plain": [
              "'I would categorize this issue as **enhancement**.\\n\\nThe answer to what should be the final translation for the menu item is: **Leaderboard**.'"
            ],
            "application/vnd.google.colaboratory.intrinsic+json": {
              "type": "string"
            }
          },
          "metadata": {},
          "execution_count": 85
        }
      ]
    },
    {
      "cell_type": "code",
      "source": [
        "test.loc[19503,'llama3_8b_prediction_organized'] = 'enhancement'"
      ],
      "metadata": {
        "id": "FXiAlw0_4Hrf"
      },
      "execution_count": 86,
      "outputs": []
    },
    {
      "cell_type": "code",
      "source": [
        "test.loc[20058,'llama3_8b_prediction_organized']"
      ],
      "metadata": {
        "colab": {
          "base_uri": "https://localhost:8080/",
          "height": 52
        },
        "id": "yCjxwX2C4SQY",
        "outputId": "f75fd2e8-7fab-41e3-a508-ef42442a5cab"
      },
      "execution_count": 87,
      "outputs": [
        {
          "output_type": "execute_result",
          "data": {
            "text/plain": [
              "'Based on the provided information, I would categorize this issue as:\\n\\n**Bug**\\n\\nPlease let me know if you have any further questions or concerns!'"
            ],
            "application/vnd.google.colaboratory.intrinsic+json": {
              "type": "string"
            }
          },
          "metadata": {},
          "execution_count": 87
        }
      ]
    },
    {
      "cell_type": "code",
      "source": [
        "test.loc[20058,'llama3_8b_prediction_organized'] = 'bug'"
      ],
      "metadata": {
        "id": "r1RhDgGJ4Ucr"
      },
      "execution_count": 88,
      "outputs": []
    },
    {
      "cell_type": "code",
      "source": [
        "test.loc[20206,'llama3_8b_prediction_organized']"
      ],
      "metadata": {
        "colab": {
          "base_uri": "https://localhost:8080/",
          "height": 103
        },
        "id": "jRANbTQa4aCT",
        "outputId": "f5da2633-5369-4cd0-94df-0f74abfc5f5c"
      },
      "execution_count": 89,
      "outputs": [
        {
          "output_type": "execute_result",
          "data": {
            "text/plain": [
              "\"Based on the provided issue, I would categorize it as **bug**.\\n\\nThe issue is related to YAML parsing error while trying to deploy Jenkins with HTTPS capabilities using Helm. The error occurs when enabling `httpsKeyStore` in the values.yaml file. The error message indicates that there is a YAML parse error on line 58 of the `jenkins/templates/jenkins-controller-statefulset.yaml` file, which suggests that there may be an issue with the chart's configuration or template files.\""
            ],
            "application/vnd.google.colaboratory.intrinsic+json": {
              "type": "string"
            }
          },
          "metadata": {},
          "execution_count": 89
        }
      ]
    },
    {
      "cell_type": "code",
      "source": [
        "test.loc[20206,'llama3_8b_prediction_organized'] = 'bug'"
      ],
      "metadata": {
        "id": "HNDx75Ev4dMs"
      },
      "execution_count": 90,
      "outputs": []
    },
    {
      "cell_type": "code",
      "source": [
        "test.loc[20412,'llama3_8b_prediction_organized']"
      ],
      "metadata": {
        "colab": {
          "base_uri": "https://localhost:8080/",
          "height": 69
        },
        "id": "Hy_V_nmN4ldP",
        "outputId": "1943f7a9-be48-4c75-ea9c-4bd3ced6dbb6"
      },
      "execution_count": 91,
      "outputs": [
        {
          "output_type": "execute_result",
          "data": {
            "text/plain": [
              "'Based on the provided issue title and body, I would categorize this issue as:\\n\\n**Bug**\\n\\nReason: The issue is about a specific functionality not working as expected (volume gesture not changing volume, but instead affecting brightness).'"
            ],
            "application/vnd.google.colaboratory.intrinsic+json": {
              "type": "string"
            }
          },
          "metadata": {},
          "execution_count": 91
        }
      ]
    },
    {
      "cell_type": "code",
      "source": [
        "test.loc[20412,'llama3_8b_prediction_organized'] = 'bug'"
      ],
      "metadata": {
        "id": "5czyvP1u4pKZ"
      },
      "execution_count": 92,
      "outputs": []
    },
    {
      "cell_type": "code",
      "source": [
        "test.loc[20557,'llama3_8b_prediction_organized']"
      ],
      "metadata": {
        "colab": {
          "base_uri": "https://localhost:8080/",
          "height": 35
        },
        "id": "aT6OHjTh4t8N",
        "outputId": "3803072b-d682-473f-d730-836c85b7f7bf"
      },
      "execution_count": 93,
      "outputs": [
        {
          "output_type": "execute_result",
          "data": {
            "text/plain": [
              "'A simple one!\\n\\nThe answer is: Bug'"
            ],
            "application/vnd.google.colaboratory.intrinsic+json": {
              "type": "string"
            }
          },
          "metadata": {},
          "execution_count": 93
        }
      ]
    },
    {
      "cell_type": "code",
      "source": [
        "test.loc[20557,'llama3_8b_prediction_organized'] = 'bug'"
      ],
      "metadata": {
        "id": "nOQixcN54w8S"
      },
      "execution_count": 94,
      "outputs": []
    },
    {
      "cell_type": "code",
      "source": [
        "test.loc[22293,'llama3_8b_prediction_organized']"
      ],
      "metadata": {
        "colab": {
          "base_uri": "https://localhost:8080/",
          "height": 154
        },
        "id": "aRh_OWLm452k",
        "outputId": "6340c95d-44ef-40a0-9415-640a04508db5"
      },
      "execution_count": 95,
      "outputs": [
        {
          "output_type": "execute_result",
          "data": {
            "text/plain": [
              "\"Bug.\\n\\nThe error message suggests that the issue is with the indexing in the `predict_model` function. The problem might be caused by the way you're setting up the data for prediction. \\n\\nLooking at your code, I think the issue might be with this line:\\n\\n```Python\\nX_train = train[features].groupby('id').aggregate([np.min, np.max, np.mean]).round(decimals=2)\\n```\\n\\nHere, `train` is a DataFrame and you're trying to group it by 'id'. If there are no rows in the DataFrame that have 'id' as their index, or if the 'id' column doesn't exist, this might be causing the error.\\n\\nTo solve this issue, I would first check the structure of your dataframes `train`, `test` and `submission`. Make sure they're what you expect. Then try to predict on a small subset of your data to make sure it's not a problem with your data itself.\""
            ],
            "application/vnd.google.colaboratory.intrinsic+json": {
              "type": "string"
            }
          },
          "metadata": {},
          "execution_count": 95
        }
      ]
    },
    {
      "cell_type": "code",
      "source": [
        "test.loc[22293,'llama3_8b_prediction_organized'] = 'bug'"
      ],
      "metadata": {
        "id": "zZ5JntO-459A"
      },
      "execution_count": 97,
      "outputs": []
    },
    {
      "cell_type": "code",
      "source": [
        "test.loc[22321,'llama3_8b_prediction_organized']"
      ],
      "metadata": {
        "colab": {
          "base_uri": "https://localhost:8080/",
          "height": 137
        },
        "id": "-473aS0C5CeR",
        "outputId": "b6507310-e536-476d-ff2f-d1cf0b4ef97f"
      },
      "execution_count": 98,
      "outputs": [
        {
          "output_type": "execute_result",
          "data": {
            "text/plain": [
              "'A Helm chart issue!\\n\\nIt looks like the error is related to an invalid image ID being expected, which seems to be caused by the way FluxCD handles images in the HelmRelease.\\n\\nThe symptom is that the release deploys successfully, but each time FluxCD syncs, it reports this error. The root cause might be that the `image` field in the Helm chart\\'s values file (in this case, the `controller.image` field) is not being properly interpreted by FluxCD.\\n\\nTo reproduce the issue, one needs to create a HelmRelease with the specified configuration and observe the Flux logs.\\n\\nGiven that this is an error specific to FluxCD, I would categorize this as a \"bug\"'"
            ],
            "application/vnd.google.colaboratory.intrinsic+json": {
              "type": "string"
            }
          },
          "metadata": {},
          "execution_count": 98
        }
      ]
    },
    {
      "cell_type": "code",
      "source": [
        "test.loc[22321,'llama3_8b_prediction_organized'] = 'bug'"
      ],
      "metadata": {
        "id": "JOfRR2lZ5Ciy"
      },
      "execution_count": 99,
      "outputs": []
    },
    {
      "cell_type": "code",
      "source": [
        "test.loc[23046,'llama3_8b_prediction_organized']"
      ],
      "metadata": {
        "colab": {
          "base_uri": "https://localhost:8080/",
          "height": 137
        },
        "id": "SW9BThm55cam",
        "outputId": "c9b71b5e-0d68-47ff-fa30-544faab558f4"
      },
      "execution_count": 100,
      "outputs": [
        {
          "output_type": "execute_result",
          "data": {
            "text/plain": [
              "'**Annotation of superscript text**\\n\\n**What went wrong, step-by-step?**\\n1. posted an annotation on text that\\'s formatted as superscript in a pub draft\\n2. annotation box appears very far over in the right margin\\n\\n**What did you expect to happen?**\\nappear as normal\\n\\n**What URL can we use to see the issue?**\\nhttps://notes.knowledgefutures.org/pub/ettejwvb/draft\\n\\n**What browser/operating system were you using?**\\nChrome\\n\\n**Have any screenshots? (Attach them by dragging the image here)**\\n<img width=\"1296\" alt=\"Screen Shot 2021-02-24 at 11 35 12 AM\" src=\"https://user-images.githubusercontent.com/32333767/109033196-6401a980-7694-11eb-9c6c-4bcbc6a6fe1b.png\">\\n\\n**Who reported this?**\\nCA'"
            ],
            "application/vnd.google.colaboratory.intrinsic+json": {
              "type": "string"
            }
          },
          "metadata": {},
          "execution_count": 100
        }
      ]
    },
    {
      "cell_type": "code",
      "source": [
        "test.loc[23046,'llama3_8b_prediction_organized'] = 'question'"
      ],
      "metadata": {
        "id": "Htz6O2vt5cev"
      },
      "execution_count": 101,
      "outputs": []
    },
    {
      "cell_type": "code",
      "source": [
        "test.loc[25041,'llama3_8b_prediction_organized']"
      ],
      "metadata": {
        "colab": {
          "base_uri": "https://localhost:8080/",
          "height": 188
        },
        "id": "COp7BE1X5wIV",
        "outputId": "a5c6bea4-4110-4498-b564-e04db2cfe769"
      },
      "execution_count": 102,
      "outputs": [
        {
          "output_type": "execute_result",
          "data": {
            "text/plain": [
              "'**Bug**\\n\\nAdditionally, I would like to suggest some hints for debugging and resolving the issue:\\n\\n1. **Check the dependencies**: Make sure that all dependencies are up-to-date, especially those related to source maps (e.g., `source-map`).\\n2. **Verify the configuration**: Double-check your `webpack.config.js` file for any potential issues or conflicts with other configurations.\\n3. **Inspect the error message**: Take a closer look at the error message and see if it provides any clues about what might be causing the issue.\\n4. **Test locally**: Try running your build script locally to see if the issue is specific to the GCP Cloud Build environment.\\n5. **Use a debugger**: If possible, use a debugger like `node --inspect` or `chrome://inspect` to inspect the error and understand what\\'s going on.\\n\\nAs for the expected behavior, I would expect no \"UnhandledPromiseRejectionWarning\" exception to be thrown, as it seems that the issue is related to an unhandled promise rejection.'"
            ],
            "application/vnd.google.colaboratory.intrinsic+json": {
              "type": "string"
            }
          },
          "metadata": {},
          "execution_count": 102
        }
      ]
    },
    {
      "cell_type": "code",
      "source": [
        "test.loc[25041,'llama3_8b_prediction_organized'] = 'bug'"
      ],
      "metadata": {
        "id": "0HYE8MG15wO9"
      },
      "execution_count": 103,
      "outputs": []
    },
    {
      "cell_type": "code",
      "source": [
        "test.loc[26866,'llama3_8b_prediction_organized']"
      ],
      "metadata": {
        "colab": {
          "base_uri": "https://localhost:8080/",
          "height": 154
        },
        "id": "NMp1gN6p5_CZ",
        "outputId": "0020ad5f-a02c-423a-88ad-679ddb33b905"
      },
      "execution_count": 104,
      "outputs": [
        {
          "output_type": "execute_result",
          "data": {
            "text/plain": [
              "\"A great example of a well-structured feature request!\\n\\nHere's my analysis:\\n\\n**Summary**: The issue title is concise, and the summary provides an overview of the problem.\\n\\n**Pre-checks**: The submitter has ensured that there is no existing issue regarding the same topic.\\n\\n**Feature description**: A clear explanation of what you want to achieve (using job name as build key during back-propagation) along with specific options (use build number or job name).\\n\\n**Use case**: A practical example illustrates the usefulness of this feature in a real-world scenario.\\n\\n**Possible Implementation**: The suggestion is to store this choice in the Global config (BitBucketPPRPluginConfig).\\n\\nAs for the categorization, I would suggest: **enhancement**\\n\\nYour answer should contain a single word, so here it is:\\n\\nEnhancement\""
            ],
            "application/vnd.google.colaboratory.intrinsic+json": {
              "type": "string"
            }
          },
          "metadata": {},
          "execution_count": 104
        }
      ]
    },
    {
      "cell_type": "code",
      "source": [
        "test.loc[26866,'llama3_8b_prediction_organized'] = 'enhancement'"
      ],
      "metadata": {
        "id": "AX0ie6Tx5_HM"
      },
      "execution_count": 105,
      "outputs": []
    },
    {
      "cell_type": "code",
      "source": [
        "test.loc[27058,'llama3_8b_prediction_organized']"
      ],
      "metadata": {
        "colab": {
          "base_uri": "https://localhost:8080/",
          "height": 69
        },
        "id": "vL-sUCeK6Iik",
        "outputId": "2ee8f7b9-9c8e-43a3-967c-cdad634ca3d4"
      },
      "execution_count": 106,
      "outputs": [
        {
          "output_type": "execute_result",
          "data": {
            "text/plain": [
              "'**Enhancement**\\n\\nThis is an enhancement request to extend the left sidebar in Files to the title bar (tab page bar) area, and limit the tab page bar to the right area of the window, while maintaining the left and right structure with transparent acrylic effect on the left side and opaque background on the right.'"
            ],
            "application/vnd.google.colaboratory.intrinsic+json": {
              "type": "string"
            }
          },
          "metadata": {},
          "execution_count": 106
        }
      ]
    },
    {
      "cell_type": "code",
      "source": [
        "test.loc[27058,'llama3_8b_prediction_organized'] = 'enhancement'"
      ],
      "metadata": {
        "id": "ofh85eai6Im4"
      },
      "execution_count": 107,
      "outputs": []
    },
    {
      "cell_type": "code",
      "source": [
        "test.loc[27597,'llama3_8b_prediction_organized']"
      ],
      "metadata": {
        "colab": {
          "base_uri": "https://localhost:8080/",
          "height": 171
        },
        "id": "9gxuma3Q6fpr",
        "outputId": "02ebf8a1-74fe-4de3-a932-4e700f685ce6"
      },
      "execution_count": 108,
      "outputs": [
        {
          "output_type": "execute_result",
          "data": {
            "text/plain": [
              "'Based on the provided text, it seems that you want to create a new label called \"fill issue template\" (or something similar) that serves a similar purpose to the existing \"needs info\" label.\\n\\nWhen this label is added to an issue, it will:\\n\\n1. Ask whether the issue is a bug or enhancement.\\n2. Prompt the user to fill out the issue template again accordingly.\\n3. Set the auto-close time for the issue to half of its usual duration (e.g., 10 days).\\n4. Comment on why these steps are important.\\n\\nThe alternative proposed is to add this information directly to the \"needs info\" comment, asking users to categorize the issue as either a bug, enhancement, or others, with their answer being a single word.\\n\\nOverall, it appears that you want to create a new label and process for ensuring that issue templates are properly filled out, while also providing additional guidance and incentives for users to do so.'"
            ],
            "application/vnd.google.colaboratory.intrinsic+json": {
              "type": "string"
            }
          },
          "metadata": {},
          "execution_count": 108
        }
      ]
    },
    {
      "cell_type": "code",
      "source": [
        "test.loc[27597,'llama3_8b_prediction_organized'] = 'question'"
      ],
      "metadata": {
        "id": "wqm6YAap6ftx"
      },
      "execution_count": 109,
      "outputs": []
    },
    {
      "cell_type": "code",
      "source": [
        "test.loc[31811,'llama3_8b_prediction_organized']"
      ],
      "metadata": {
        "colab": {
          "base_uri": "https://localhost:8080/",
          "height": 69
        },
        "id": "en3IpFkC64hC",
        "outputId": "4f1799f0-8e7d-4031-88b3-ba1876d433f4"
      },
      "execution_count": 110,
      "outputs": [
        {
          "output_type": "execute_result",
          "data": {
            "text/plain": [
              "'Please provide the issue title (\"asp\") and body (\"desc\"). I\\'ll categorize it for you.\\n\\n(Note: Since there\\'s no actual issue description provided, I\\'m assuming \"asp\" is the title and \"desc\" is the body. If that\\'s not correct, please provide more information.)'"
            ],
            "application/vnd.google.colaboratory.intrinsic+json": {
              "type": "string"
            }
          },
          "metadata": {},
          "execution_count": 110
        }
      ]
    },
    {
      "cell_type": "code",
      "source": [
        "test.loc[31811,'llama3_8b_prediction_organized'] = 'question'"
      ],
      "metadata": {
        "id": "rT6JlYW764mu"
      },
      "execution_count": 111,
      "outputs": []
    },
    {
      "cell_type": "code",
      "source": [
        "test.loc[34326,'llama3_8b_prediction_organized']"
      ],
      "metadata": {
        "colab": {
          "base_uri": "https://localhost:8080/",
          "height": 120
        },
        "id": "GuEMQAoW7JKM",
        "outputId": "b8e27f94-1cea-41ee-83cb-3267ff72e236"
      },
      "execution_count": 117,
      "outputs": [
        {
          "output_type": "execute_result",
          "data": {
            "text/plain": [
              "\"**Network**\\n\\nThe error you're experiencing suggests that there's an issue with the network connection when trying to connect to `api.wandb.ai`. This could be due to various reasons such as:\\n\\n* Temporary outages or maintenance on the WandB API\\n* Firewalls or proxy settings blocking the request\\n* DNS resolution issues\\n* Network congestion or packet loss\\n\\nTry checking your network configuration, firewall rules, and DNS resolution to see if that resolves the issue. If not, it might be a bug or enhancement specific to WandB.\""
            ],
            "application/vnd.google.colaboratory.intrinsic+json": {
              "type": "string"
            }
          },
          "metadata": {},
          "execution_count": 117
        }
      ]
    },
    {
      "cell_type": "code",
      "source": [
        "test.loc[34326,'llama3_8b_prediction_organized'] = 'question'"
      ],
      "metadata": {
        "id": "q7Ilfk4d7JPt"
      },
      "execution_count": 118,
      "outputs": []
    },
    {
      "cell_type": "code",
      "source": [
        "test.loc[34720,'llama3_8b_prediction_organized']"
      ],
      "metadata": {
        "colab": {
          "base_uri": "https://localhost:8080/",
          "height": 137
        },
        "id": "1dRgTxvp7Vke",
        "outputId": "49410ce8-66b4-493f-ea4a-bcfb9dd83d9b"
      },
      "execution_count": 114,
      "outputs": [
        {
          "output_type": "execute_result",
          "data": {
            "text/plain": [
              "\"A nice, detailed bug report!\\n\\nHere's the summary:\\n\\n**Bug**\\n\\nThe issue is that an activity returns an associative array (e.g., `['Peter' => '123', ...]`) but when used in a workflow, it's parsed as an object (`stdClass`), not an array. This causes errors when trying to use the return value as an array.\\n\\nThe report provides:\\n\\n1. A clear description of the bug.\\n2. Steps to reproduce the issue.\\n3. Expected behavior (i.e., that the return value should be used as an array).\\n4. Screenshots/Terminal output showing the error message.\\n5. Version information (OS, Temporal version, and deployment method).\\n\\nI'll make sure to categorize this issue correctly as a **Bug**.\""
            ],
            "application/vnd.google.colaboratory.intrinsic+json": {
              "type": "string"
            }
          },
          "metadata": {},
          "execution_count": 114
        }
      ]
    },
    {
      "cell_type": "code",
      "source": [
        "test.loc[34720,'llama3_8b_prediction_organized'] = 'bug'"
      ],
      "metadata": {
        "id": "1cerpjWt7VpE"
      },
      "execution_count": 115,
      "outputs": []
    },
    {
      "cell_type": "code",
      "source": [
        "test.loc[35481,'llama3_8b_prediction_organized']"
      ],
      "metadata": {
        "colab": {
          "base_uri": "https://localhost:8080/",
          "height": 86
        },
        "id": "BiXkcs1U7e6z",
        "outputId": "5ff96f83-6bcd-4a4e-b0f0-25a865b2e6ae"
      },
      "execution_count": 116,
      "outputs": [
        {
          "output_type": "execute_result",
          "data": {
            "text/plain": [
              "'**Bug**\\n\\nThe issue appears to be a bug, where the installation of Big Sur on an external USB drive using OCLP v0.0.17 and booting from the EFI partition results in the installer suddenly rebooting and not completing the installation. The presence of the `macOSInstaller` volume and the inability to boot from it further suggests that there is a problem with the installation process.'"
            ],
            "application/vnd.google.colaboratory.intrinsic+json": {
              "type": "string"
            }
          },
          "metadata": {},
          "execution_count": 116
        }
      ]
    },
    {
      "cell_type": "code",
      "source": [
        "test.loc[35481,'llama3_8b_prediction_organized'] = 'bug'"
      ],
      "metadata": {
        "id": "ekllnqBA7e_K"
      },
      "execution_count": 119,
      "outputs": []
    },
    {
      "cell_type": "code",
      "source": [
        "test.loc[39215,'llama3_8b_prediction_organized']"
      ],
      "metadata": {
        "colab": {
          "base_uri": "https://localhost:8080/",
          "height": 86
        },
        "id": "l3-_9bCX7wst",
        "outputId": "88703f4a-81c2-41a3-a32f-cbb7ec0c6dc5"
      },
      "execution_count": 120,
      "outputs": [
        {
          "output_type": "execute_result",
          "data": {
            "text/plain": [
              "\"What a well-structured issue!\\n\\nThe answer is: **omit**\\n\\nIn other words, you can use the `omit` parameter when calling `dict()` on a Pydantic model to exclude attributes that are not provided. For example:\\n```python\\nA(x=3).dict(by_alias=True)  # {'x': 3}\\n```\\nThis will only include the `x` attribute in the output dictionary, omitting the `y` attribute since it was not provided.\""
            ],
            "application/vnd.google.colaboratory.intrinsic+json": {
              "type": "string"
            }
          },
          "metadata": {},
          "execution_count": 120
        }
      ]
    },
    {
      "cell_type": "code",
      "source": [
        "test.loc[39215,'llama3_8b_prediction_organized'] = 'question'"
      ],
      "metadata": {
        "id": "Vz8w15Ct7wxh"
      },
      "execution_count": 121,
      "outputs": []
    },
    {
      "cell_type": "code",
      "source": [
        "test.loc[39361,'llama3_8b_prediction_organized']"
      ],
      "metadata": {
        "colab": {
          "base_uri": "https://localhost:8080/",
          "height": 103
        },
        "id": "B73M0CRp7-Zv",
        "outputId": "c2d73cc6-7ed2-4c8b-e6fd-de33e1c2f1cc"
      },
      "execution_count": 122,
      "outputs": [
        {
          "output_type": "execute_result",
          "data": {
            "text/plain": [
              "\"Based on the issue body, I would categorize this issue as:\\n\\n**Enhancement**\\n\\nThe reason is that the issue is not about fixing a bug, but rather suggesting an alternative approach (using the Windows Cloud Files API) to improve the functionality of Nextcloud's virtual drive on Windows. The tone of the issue description is also more collaborative and forward-looking, indicating that the goal is to enhance or add new features rather than fix existing issues.\""
            ],
            "application/vnd.google.colaboratory.intrinsic+json": {
              "type": "string"
            }
          },
          "metadata": {},
          "execution_count": 122
        }
      ]
    },
    {
      "cell_type": "code",
      "source": [
        "test.loc[39361,'llama3_8b_prediction_organized'] = 'enhancement'"
      ],
      "metadata": {
        "id": "DJ3Yv3ZJ7-fL"
      },
      "execution_count": 123,
      "outputs": []
    },
    {
      "cell_type": "code",
      "source": [
        "test.loc[39380,'llama3_8b_prediction_organized']"
      ],
      "metadata": {
        "colab": {
          "base_uri": "https://localhost:8080/",
          "height": 69
        },
        "id": "HfyWe8ht8GOw",
        "outputId": "b5eb063a-6f70-473e-a09e-d7ec0698b4cd"
      },
      "execution_count": 124,
      "outputs": [
        {
          "output_type": "execute_result",
          "data": {
            "text/plain": [
              "\"A detailed bug report!\\n\\nBased on the provided template, I'd categorize this issue as:\\n\\n**bug**\\n\\nReason: The user reports that the Trending page gets stuck loading forever, while other features like Personal feed and videos load normally. This suggests a specific issue with the Trending page's functionality.\""
            ],
            "application/vnd.google.colaboratory.intrinsic+json": {
              "type": "string"
            }
          },
          "metadata": {},
          "execution_count": 124
        }
      ]
    },
    {
      "cell_type": "code",
      "source": [
        "test.loc[39380,'llama3_8b_prediction_organized'] = 'bug'"
      ],
      "metadata": {
        "id": "VKjbgQkt8GTG"
      },
      "execution_count": 125,
      "outputs": []
    },
    {
      "cell_type": "code",
      "source": [
        "test.loc[43386,'llama3_8b_prediction_organized']"
      ],
      "metadata": {
        "colab": {
          "base_uri": "https://localhost:8080/",
          "height": 120
        },
        "id": "Nc-Jqa3m8mda",
        "outputId": "a87fb8c5-c549-406f-c657-2294b53dfa7b"
      },
      "execution_count": 126,
      "outputs": [
        {
          "output_type": "execute_result",
          "data": {
            "text/plain": [
              "'A bug report!\\n\\nHere\\'s my analysis:\\n\\n**Home Assistant Android version:** 2021.5.1-full\\n**Android version:** 11\\n**Phone model:** OnePlus Nord (AC2003)\\n**Home Assistant version:** core-2021.5.5\\n\\n**Description of problem:**\\nThe user is unable to dim a group of lights (with dimmable lights) in the new power menu.\\n\\n**Screenshot of problem:**\\nTwo images are provided, showing the issue with the \"Chambre Yvan\" lights group not being dimmable.\\n\\n**Additional information:**\\nNo additional details provided beyond the screenshots.\\n\\nBased on this information, I would categorize this issue as a **bug**.'"
            ],
            "application/vnd.google.colaboratory.intrinsic+json": {
              "type": "string"
            }
          },
          "metadata": {},
          "execution_count": 126
        }
      ]
    },
    {
      "cell_type": "code",
      "source": [
        "test.loc[43386,'llama3_8b_prediction_organized'] = 'bug'"
      ],
      "metadata": {
        "id": "1Pkl3OZz8mij"
      },
      "execution_count": 127,
      "outputs": []
    },
    {
      "cell_type": "code",
      "source": [
        "test.loc[45718,'llama3_8b_prediction_organized']"
      ],
      "metadata": {
        "colab": {
          "base_uri": "https://localhost:8080/",
          "height": 120
        },
        "id": "0vWM2eab8uw0",
        "outputId": "89c0f958-d907-4067-ee1c-a717b14bfd90"
      },
      "execution_count": 128,
      "outputs": [
        {
          "output_type": "execute_result",
          "data": {
            "text/plain": [
              "\"**Others**\\n\\nThe `poll()` method is used to retrieve the current value of an attribute from a device. It's not related to updating attributes on the GUI side.\\n\\nIn your macro, you're already updating the `laseractive` attribute using `write(value)`. This should be sufficient for updating the attribute in the GUI.\\n\\nTo update the `state` and `status` attributes in the GUI, you'll need to use a similar approach as you did for `laseractive`, i.e., call `write()` or another method specific to your device that updates these attributes.\\n\\nThe issue is not related to polling, but rather to updating attributes on the GUI side.\""
            ],
            "application/vnd.google.colaboratory.intrinsic+json": {
              "type": "string"
            }
          },
          "metadata": {},
          "execution_count": 128
        }
      ]
    },
    {
      "cell_type": "code",
      "source": [
        "test.loc[45718,'llama3_8b_prediction_organized'] = 'question'"
      ],
      "metadata": {
        "id": "6gTRcIyj8u3Q"
      },
      "execution_count": 129,
      "outputs": []
    },
    {
      "cell_type": "code",
      "source": [
        "test.loc[47492,'llama3_8b_prediction_organized']"
      ],
      "metadata": {
        "colab": {
          "base_uri": "https://localhost:8080/",
          "height": 103
        },
        "id": "vbadQMpw89Hp",
        "outputId": "e6048f0d-f9dc-4dda-938b-211608372302"
      },
      "execution_count": 130,
      "outputs": [
        {
          "output_type": "execute_result",
          "data": {
            "text/plain": [
              "'**Bug**\\n\\nThe issue appears to be related to the extraction of player config from YouTube, which is necessary for playback. The error message suggests that the extractor was unable to obtain the player config after three attempts.\\n\\nTo better understand and reproduce this issue, it would be helpful to know more about the steps you took leading up to this error, as well as any relevant device or system information (e.g., Android version, device model).'"
            ],
            "application/vnd.google.colaboratory.intrinsic+json": {
              "type": "string"
            }
          },
          "metadata": {},
          "execution_count": 130
        }
      ]
    },
    {
      "cell_type": "code",
      "source": [
        "test.loc[47492,'llama3_8b_prediction_organized'] = 'bug'"
      ],
      "metadata": {
        "id": "UFgXXETN89NU"
      },
      "execution_count": 131,
      "outputs": []
    },
    {
      "cell_type": "code",
      "source": [
        "test.loc[48266,'llama3_8b_prediction_organized']"
      ],
      "metadata": {
        "colab": {
          "base_uri": "https://localhost:8080/",
          "height": 188
        },
        "id": "64sHJvKx9YS5",
        "outputId": "34086a3c-14a1-4b3a-c1b1-fd8e672b34e3"
      },
      "execution_count": 132,
      "outputs": [
        {
          "output_type": "execute_result",
          "data": {
            "text/plain": [
              "'A bug report!\\n\\nHere\\'s the filled-out template:\\n\\n**(Author) citation style is missing closing parenthesis.**\\n\\n**Before filing your bug report, please search existing issues to make sure a similar one doesn\\'t already exist. If one does, please leave a comment or reaction in support of the issue rather than creating a new one.**\\n\\n**What went wrong, step-by-step?**\\n1. Add a structured citation to a pub.\\n2. In Pub Settings, choose the (Author) inline style.\\n3. It will appear without the closing parenthesis, as seen in the screenshot.\\n\\n**What did you expect to happen?**\\nClosing parenthesis should be present.\\n\\n**What URL can we use to see the issue?**\\nhttps://demo.duqduq.org/pub/diasuuy0/draft\\n\\n**What browser/operating system were you using?**\\nMac / Chrome\\n\\n**Have any screenshots? (Attach them by dragging the image here)**\\n<img width=\"308\" alt=\"Screen Shot 2021-01-04 at 18 18 28\" src=\"https://user-images.githubusercontent.com/639110/103589455-6bd57680-4eb9-11eb-9dbf-5f91bf4a2b41.png\">\\n\\n**Who reported this? (If not you)**\\nBug'"
            ],
            "application/vnd.google.colaboratory.intrinsic+json": {
              "type": "string"
            }
          },
          "metadata": {},
          "execution_count": 132
        }
      ]
    },
    {
      "cell_type": "code",
      "source": [
        "print(test.loc[48266,'llama3_8b_prediction_organized'])"
      ],
      "metadata": {
        "colab": {
          "base_uri": "https://localhost:8080/"
        },
        "id": "2x7x570UIoHU",
        "outputId": "551ef435-4848-43dd-d824-fcf6f5942523"
      },
      "execution_count": 133,
      "outputs": [
        {
          "output_type": "stream",
          "name": "stdout",
          "text": [
            "A bug report!\n",
            "\n",
            "Here's the filled-out template:\n",
            "\n",
            "**(Author) citation style is missing closing parenthesis.**\n",
            "\n",
            "**Before filing your bug report, please search existing issues to make sure a similar one doesn't already exist. If one does, please leave a comment or reaction in support of the issue rather than creating a new one.**\n",
            "\n",
            "**What went wrong, step-by-step?**\n",
            "1. Add a structured citation to a pub.\n",
            "2. In Pub Settings, choose the (Author) inline style.\n",
            "3. It will appear without the closing parenthesis, as seen in the screenshot.\n",
            "\n",
            "**What did you expect to happen?**\n",
            "Closing parenthesis should be present.\n",
            "\n",
            "**What URL can we use to see the issue?**\n",
            "https://demo.duqduq.org/pub/diasuuy0/draft\n",
            "\n",
            "**What browser/operating system were you using?**\n",
            "Mac / Chrome\n",
            "\n",
            "**Have any screenshots? (Attach them by dragging the image here)**\n",
            "<img width=\"308\" alt=\"Screen Shot 2021-01-04 at 18 18 28\" src=\"https://user-images.githubusercontent.com/639110/103589455-6bd57680-4eb9-11eb-9dbf-5f91bf4a2b41.png\">\n",
            "\n",
            "**Who reported this? (If not you)**\n",
            "Bug\n"
          ]
        }
      ]
    },
    {
      "cell_type": "code",
      "source": [
        "test.loc[48266,'llama3_8b_prediction_organized'] = 'bug'"
      ],
      "metadata": {
        "id": "H6rnfwMl9YX9"
      },
      "execution_count": 134,
      "outputs": []
    },
    {
      "cell_type": "code",
      "source": [
        "test.loc[49004,'llama3_8b_prediction_organized']"
      ],
      "metadata": {
        "colab": {
          "base_uri": "https://localhost:8080/",
          "height": 35
        },
        "id": "cW4VVKYq9pNU",
        "outputId": "a9832f48-fbc9-438d-b4ec-09c47b255edb"
      },
      "execution_count": 135,
      "outputs": [
        {
          "output_type": "execute_result",
          "data": {
            "text/plain": [
              "'The categorization of the issue is:\\n\\nEnhancement'"
            ],
            "application/vnd.google.colaboratory.intrinsic+json": {
              "type": "string"
            }
          },
          "metadata": {},
          "execution_count": 135
        }
      ]
    },
    {
      "cell_type": "code",
      "source": [
        "test.loc[49004,'llama3_8b_prediction_organized'] = 'enhancement'"
      ],
      "metadata": {
        "id": "SDQXZowX9pTf"
      },
      "execution_count": 136,
      "outputs": []
    },
    {
      "cell_type": "code",
      "source": [
        "test.loc[50734,'llama3_8b_prediction_organized']"
      ],
      "metadata": {
        "colab": {
          "base_uri": "https://localhost:8080/",
          "height": 69
        },
        "id": "IAcWncl_-KFp",
        "outputId": "0f4f6629-07e9-4fcc-cb9d-0e5c225c5823"
      },
      "execution_count": 137,
      "outputs": [
        {
          "output_type": "execute_result",
          "data": {
            "text/plain": [
              "'The issue title is \"As an editor, I want People automatically organized into person list pages so I don\\'t have to manually manage these pages.\" Therefore, the categorization of this issue would be:\\n\\nEnhancement'"
            ],
            "application/vnd.google.colaboratory.intrinsic+json": {
              "type": "string"
            }
          },
          "metadata": {},
          "execution_count": 137
        }
      ]
    },
    {
      "cell_type": "code",
      "source": [
        "test.loc[50734,'llama3_8b_prediction_organized'] = 'enhancement'"
      ],
      "metadata": {
        "id": "HoZ8JZsX-KLO"
      },
      "execution_count": 138,
      "outputs": []
    },
    {
      "cell_type": "code",
      "source": [
        "test.loc[51493,'llama3_8b_prediction_organized']"
      ],
      "metadata": {
        "colab": {
          "base_uri": "https://localhost:8080/",
          "height": 188
        },
        "id": "915urdyH-Sp7",
        "outputId": "903992a3-a829-4427-ee15-4f9b557bea6d"
      },
      "execution_count": 139,
      "outputs": [
        {
          "output_type": "execute_result",
          "data": {
            "text/plain": [
              "'The issue title is \"Couldn\\'t request stream of video\". This is a bug report, and the issue body provides a detailed template for reporting bugs in NewPipe. The user has reported that they encountered an error when trying to play a video, specifically a YouTube video. The error message is \"<org.schabi.newpipe.extractor.stream.StreamInfo$StreamExtractException: Could not get any stream. See error variable to get further details.\".\\n\\nThe issue body includes the following sections:\\n\\n1. Checklist - This section requires the user to check if they are using the latest version of NewPipe, if they have checked for duplicate issues, and if they have read the contribution guidelines.\\n2. Steps to reproduce the bug - The user has provided a set of steps that can be used to reproduce the issue.\\n3. Expected behavior - The expected behavior is that the video should play when the user requests it.\\n4. Logs - This section includes a crash log generated by NewPipe, which provides more information about the error.\\n\\nThe device information section includes details such as the Android version (9), device model (Xiaomi), and custom ROM version.\\n\\nCategorizing this issue as a single word, I would say \"bug\".'"
            ],
            "application/vnd.google.colaboratory.intrinsic+json": {
              "type": "string"
            }
          },
          "metadata": {},
          "execution_count": 139
        }
      ]
    },
    {
      "cell_type": "code",
      "source": [
        "print(test.loc[51493,'llama3_8b_prediction_organized'])"
      ],
      "metadata": {
        "colab": {
          "base_uri": "https://localhost:8080/"
        },
        "id": "tWyr2yGWI18L",
        "outputId": "df8df40c-6131-48f2-f939-113a82f3d847"
      },
      "execution_count": 140,
      "outputs": [
        {
          "output_type": "stream",
          "name": "stdout",
          "text": [
            "The issue title is \"Couldn't request stream of video\". This is a bug report, and the issue body provides a detailed template for reporting bugs in NewPipe. The user has reported that they encountered an error when trying to play a video, specifically a YouTube video. The error message is \"<org.schabi.newpipe.extractor.stream.StreamInfo$StreamExtractException: Could not get any stream. See error variable to get further details.\".\n",
            "\n",
            "The issue body includes the following sections:\n",
            "\n",
            "1. Checklist - This section requires the user to check if they are using the latest version of NewPipe, if they have checked for duplicate issues, and if they have read the contribution guidelines.\n",
            "2. Steps to reproduce the bug - The user has provided a set of steps that can be used to reproduce the issue.\n",
            "3. Expected behavior - The expected behavior is that the video should play when the user requests it.\n",
            "4. Logs - This section includes a crash log generated by NewPipe, which provides more information about the error.\n",
            "\n",
            "The device information section includes details such as the Android version (9), device model (Xiaomi), and custom ROM version.\n",
            "\n",
            "Categorizing this issue as a single word, I would say \"bug\".\n"
          ]
        }
      ]
    },
    {
      "cell_type": "code",
      "source": [
        "test.loc[51493,'llama3_8b_prediction_organized'] = 'bug'"
      ],
      "metadata": {
        "id": "1fMlTj_B-SwY"
      },
      "execution_count": 141,
      "outputs": []
    },
    {
      "cell_type": "code",
      "source": [
        "test.loc[52294,'llama3_8b_prediction_organized']"
      ],
      "metadata": {
        "colab": {
          "base_uri": "https://localhost:8080/",
          "height": 86
        },
        "id": "nT2MY4rl-f7Y",
        "outputId": "be301737-e494-4d03-88a5-0f80552b85fe"
      },
      "execution_count": 142,
      "outputs": [
        {
          "output_type": "execute_result",
          "data": {
            "text/plain": [
              "\"The issue is due to the column 'store_type_pdist' having a categorical data type ('category') but not being specified in the `cat_features` list. The solution is to either convert this column to a numerical type (e.g., integer or float) or include it in the `cat_features` list.\\n\\nI would categorize this issue as: **bug**\""
            ],
            "application/vnd.google.colaboratory.intrinsic+json": {
              "type": "string"
            }
          },
          "metadata": {},
          "execution_count": 142
        }
      ]
    },
    {
      "cell_type": "code",
      "source": [
        "test.loc[52294,'llama3_8b_prediction_organized'] = 'bug'"
      ],
      "metadata": {
        "id": "KHDnkIo2-gA-"
      },
      "execution_count": 143,
      "outputs": []
    },
    {
      "cell_type": "code",
      "source": [
        "test.loc[53474,'llama3_8b_prediction_organized']"
      ],
      "metadata": {
        "colab": {
          "base_uri": "https://localhost:8080/",
          "height": 69
        },
        "id": "mLY8NV2U-tMD",
        "outputId": "1b22f8be-20b4-4e8e-c926-8055831a28a7"
      },
      "execution_count": 144,
      "outputs": [
        {
          "output_type": "execute_result",
          "data": {
            "text/plain": [
              "'Based on the provided issue body, I would categorize this issue as:\\n\\n**bug**\\n\\nThis is because the error message indicates that there is an \"invalid YAML syntax\" in the provided configuration file, which suggests a problem with the plugin\\'s ability to parse and execute the given command.'"
            ],
            "application/vnd.google.colaboratory.intrinsic+json": {
              "type": "string"
            }
          },
          "metadata": {},
          "execution_count": 144
        }
      ]
    },
    {
      "cell_type": "code",
      "source": [
        "test.loc[53474,'llama3_8b_prediction_organized'] = 'bug'"
      ],
      "metadata": {
        "id": "2Hx7U4Pv-tSc"
      },
      "execution_count": 145,
      "outputs": []
    },
    {
      "cell_type": "code",
      "source": [
        "test.loc[55359,'llama3_8b_prediction_organized']"
      ],
      "metadata": {
        "colab": {
          "base_uri": "https://localhost:8080/",
          "height": 35
        },
        "id": "ithZho5A-4Zf",
        "outputId": "9aa26930-fd3a-4217-8be8-eb23c1a9169c"
      },
      "execution_count": 146,
      "outputs": [
        {
          "output_type": "execute_result",
          "data": {
            "text/plain": [
              "'A nicely formatted issue!\\n\\nCategorization: enhancement'"
            ],
            "application/vnd.google.colaboratory.intrinsic+json": {
              "type": "string"
            }
          },
          "metadata": {},
          "execution_count": 146
        }
      ]
    },
    {
      "cell_type": "code",
      "source": [
        "test.loc[55359,'llama3_8b_prediction_organized'] = 'enhancement'"
      ],
      "metadata": {
        "id": "JgEogK3D-4fk"
      },
      "execution_count": 147,
      "outputs": []
    },
    {
      "cell_type": "code",
      "source": [
        "test.loc[57748,'llama3_8b_prediction_organized']"
      ],
      "metadata": {
        "colab": {
          "base_uri": "https://localhost:8080/",
          "height": 120
        },
        "id": "P7JzG2bY_Db6",
        "outputId": "5b30fc8c-c7f4-4b3e-cd07-b51234ef8c37"
      },
      "execution_count": 148,
      "outputs": [
        {
          "output_type": "execute_result",
          "data": {
            "text/plain": [
              "\"The issue title mentions that it's about MuadDib90's playtesting feedbacks, which seems to be related to a game development project.\\n\\nAs for whether I want to deal with this or not, I'd say it's worth taking a look at the specific issues mentioned (different font, declension system, and C1M4 counter) to provide some insights. It appears that there are some language-related issues that need attention, which might require coordination with @Talon1024.\\n\\nDealing with these issues could lead to improvements in the game's UI and overall user experience.\""
            ],
            "application/vnd.google.colaboratory.intrinsic+json": {
              "type": "string"
            }
          },
          "metadata": {},
          "execution_count": 148
        }
      ]
    },
    {
      "cell_type": "code",
      "source": [
        "test.loc[57748,'llama3_8b_prediction_organized'] = 'question'"
      ],
      "metadata": {
        "id": "hVKRTErp_DhW"
      },
      "execution_count": 149,
      "outputs": []
    },
    {
      "cell_type": "code",
      "source": [
        "test.loc[58495,'llama3_8b_prediction_organized']"
      ],
      "metadata": {
        "colab": {
          "base_uri": "https://localhost:8080/",
          "height": 120
        },
        "id": "Ltrj4LIA_YOm",
        "outputId": "b730ca40-f1ec-4a8d-c8b9-90845593b80f"
      },
      "execution_count": 150,
      "outputs": [
        {
          "output_type": "execute_result",
          "data": {
            "text/plain": [
              "'Question.\\n\\nAccording to the text, you must affix a complete copy of this License (0.1.2 QuestWorlds Open Game License, Version 1.0) to any QuestWorlds Open Game Content that You Use and include the Copyright Notice detailed in Section 7 in all appropriate locations.\\n\\nAppropriate locations might include:\\n\\n* Credits on page 1\\n* Appendix\\n* Download page\\n* Cover page\\n* Any other relevant location where you\\'re publishing your adventure supplement\\n\\nYou should provide a complete copy of the license and quote Section 7 (which should indeed be updated to \"This work was created...\" as you mentioned) in all these locations.'"
            ],
            "application/vnd.google.colaboratory.intrinsic+json": {
              "type": "string"
            }
          },
          "metadata": {},
          "execution_count": 150
        }
      ]
    },
    {
      "cell_type": "code",
      "source": [
        "test.loc[58495,'llama3_8b_prediction_organized'] = 'question'"
      ],
      "metadata": {
        "id": "AagXy8Fa_YTj"
      },
      "execution_count": 151,
      "outputs": []
    },
    {
      "cell_type": "code",
      "source": [
        "test.loc[60861,'llama3_8b_prediction_organized']"
      ],
      "metadata": {
        "colab": {
          "base_uri": "https://localhost:8080/",
          "height": 69
        },
        "id": "t9CHL6H9_olq",
        "outputId": "d71fcd32-440c-4944-ff23-d6dc27526d07"
      },
      "execution_count": 152,
      "outputs": [
        {
          "output_type": "execute_result",
          "data": {
            "text/plain": [
              "'Based on the provided code and information, it seems that there is an issue with rendering tables in GitBook format (html) when using Bookdown. The table renders fine in PDF format, but not in HTML.\\n\\nI would categorize this issue as \"bug\".'"
            ],
            "application/vnd.google.colaboratory.intrinsic+json": {
              "type": "string"
            }
          },
          "metadata": {},
          "execution_count": 152
        }
      ]
    },
    {
      "cell_type": "code",
      "source": [
        "test.loc[60861,'llama3_8b_prediction_organized'] = 'bug'"
      ],
      "metadata": {
        "id": "D1KDC9gO_orO"
      },
      "execution_count": 153,
      "outputs": []
    },
    {
      "cell_type": "code",
      "source": [
        "test.loc[63138,'llama3_8b_prediction_organized']"
      ],
      "metadata": {
        "colab": {
          "base_uri": "https://localhost:8080/",
          "height": 188
        },
        "id": "6vIogc0u_54R",
        "outputId": "eeed4e9e-5aeb-41ef-abe6-fef5c445a1e8"
      },
      "execution_count": 154,
      "outputs": [
        {
          "output_type": "execute_result",
          "data": {
            "text/plain": [
              "'Others.\\n\\nThe Prometheus adapter is not able to fetch rabbitmq metrics because it\\'s expecting a different query structure than the one you provided. The rules you set are for the Alertmanager, which is used to define alerting rules based on time series data. To fetch rabbitmq metrics from prometheus, you need to create a Prometheus query that retrieves the desired metrics.\\n\\nFor example, if you want to retrieve the number of messages in a RabbitMQ queue, your query might look like this:\\n\\n```\\nrabbitmq_queue_messages_ready{queue=\"my_queue\"}\\n```\\n\\nThis would give you the current number of messages ready in the \"my_queue\" queue. To set up Prometheus to fetch these metrics, you\\'ll need to configure the data source for your RabbitMQ server and create a scrape config that retrieves the desired metrics.\\n\\nYou can refer to the Prometheus documentation for more information on how to do this: https://prometheus.io/docs/guides/basic-install/#configuring-prometheus-to-scan-your-targets'"
            ],
            "application/vnd.google.colaboratory.intrinsic+json": {
              "type": "string"
            }
          },
          "metadata": {},
          "execution_count": 154
        }
      ]
    },
    {
      "cell_type": "code",
      "source": [
        "test.loc[63138,'llama3_8b_prediction_organized'] = 'question'"
      ],
      "metadata": {
        "id": "A6f74wio_5-W"
      },
      "execution_count": 155,
      "outputs": []
    },
    {
      "cell_type": "code",
      "source": [
        "test.loc[65426,'llama3_8b_prediction_organized']"
      ],
      "metadata": {
        "colab": {
          "base_uri": "https://localhost:8080/",
          "height": 188
        },
        "id": "VOeKwFkcAiHD",
        "outputId": "531456ee-516d-4104-ddc0-d61580d29e9f"
      },
      "execution_count": 156,
      "outputs": [
        {
          "output_type": "execute_result",
          "data": {
            "text/plain": [
              "\"A nice RFC (Request for Comments)!\\n\\nHere's my analysis:\\n\\n**Categorization:** Enhancement\\n\\n**Summary:**\\n\\nThe proposal is to update the PHPDoc of `Laminas\\\\Form\\\\Element\\\\Select::setEmptyOption()` to allow an array as a valid parameter type, alongside string and null. This change would make it official and convenient for users to set the empty option with HTML attributes, without static analyzers (like phpstan) complaining about the mismatch.\\n\\n**Key points:**\\n\\n1. The proposal aims to provide a mechanism for setting the `Laminas\\\\Form\\\\Element\\\\Select` empty option as an array with HTML attributes.\\n2. The current PHPDoc requires either string or null, but users have found a workaround by passing an array.\\n3. The change is minor and won't break current behavior.\\n4. Users who need this feature would benefit from having it officially documented and supported.\\n\\nOverall, the proposal appears to be a reasonable enhancement that aligns with the goal of making it easier for users to set the empty option with HTML attributes.\""
            ],
            "application/vnd.google.colaboratory.intrinsic+json": {
              "type": "string"
            }
          },
          "metadata": {},
          "execution_count": 156
        }
      ]
    },
    {
      "cell_type": "code",
      "source": [
        "print(test.loc[65426,'llama3_8b_prediction_organized'])"
      ],
      "metadata": {
        "colab": {
          "base_uri": "https://localhost:8080/"
        },
        "id": "h7bxvenXJd49",
        "outputId": "75469957-17ee-4aaa-b448-a04b88c05ab6"
      },
      "execution_count": 157,
      "outputs": [
        {
          "output_type": "stream",
          "name": "stdout",
          "text": [
            "A nice RFC (Request for Comments)!\n",
            "\n",
            "Here's my analysis:\n",
            "\n",
            "**Categorization:** Enhancement\n",
            "\n",
            "**Summary:**\n",
            "\n",
            "The proposal is to update the PHPDoc of `Laminas\\Form\\Element\\Select::setEmptyOption()` to allow an array as a valid parameter type, alongside string and null. This change would make it official and convenient for users to set the empty option with HTML attributes, without static analyzers (like phpstan) complaining about the mismatch.\n",
            "\n",
            "**Key points:**\n",
            "\n",
            "1. The proposal aims to provide a mechanism for setting the `Laminas\\Form\\Element\\Select` empty option as an array with HTML attributes.\n",
            "2. The current PHPDoc requires either string or null, but users have found a workaround by passing an array.\n",
            "3. The change is minor and won't break current behavior.\n",
            "4. Users who need this feature would benefit from having it officially documented and supported.\n",
            "\n",
            "Overall, the proposal appears to be a reasonable enhancement that aligns with the goal of making it easier for users to set the empty option with HTML attributes.\n"
          ]
        }
      ]
    },
    {
      "cell_type": "code",
      "source": [
        "test.loc[65426,'llama3_8b_prediction_organized'] = 'enhancement'"
      ],
      "metadata": {
        "id": "RLpl--RxAiUU"
      },
      "execution_count": 158,
      "outputs": []
    },
    {
      "cell_type": "code",
      "source": [
        "test.loc[66125,'llama3_8b_prediction_organized']"
      ],
      "metadata": {
        "colab": {
          "base_uri": "https://localhost:8080/",
          "height": 52
        },
        "id": "R2rCfeSgAt_I",
        "outputId": "3887f67e-c466-40ff-ba47-f7510646e9df"
      },
      "execution_count": 159,
      "outputs": [
        {
          "output_type": "execute_result",
          "data": {
            "text/plain": [
              "'Discussion.\\n\\n(I categorized it as \"others\" because the issue is not about fixing a bug, but rather about clarifying a concept and having a discussion on how to categorize certain types of libraries.)'"
            ],
            "application/vnd.google.colaboratory.intrinsic+json": {
              "type": "string"
            }
          },
          "metadata": {},
          "execution_count": 159
        }
      ]
    },
    {
      "cell_type": "code",
      "source": [
        "test.loc[66125,'llama3_8b_prediction_organized'] = 'question'"
      ],
      "metadata": {
        "id": "neLAYEGyAuEa"
      },
      "execution_count": 160,
      "outputs": []
    },
    {
      "cell_type": "code",
      "source": [
        "test.loc[67323,'llama3_8b_prediction_organized']"
      ],
      "metadata": {
        "colab": {
          "base_uri": "https://localhost:8080/",
          "height": 188
        },
        "id": "BHW2n2qrA9Pe",
        "outputId": "8c4537f3-bfae-4812-9b5c-8dee40ac0772"
      },
      "execution_count": 161,
      "outputs": [
        {
          "output_type": "execute_result",
          "data": {
            "text/plain": [
              "'Here is the filled-in template:\\n\\n**Version**: 0.25.0-rc.4\\n**Platform**: Node.js for Windows 10 / Ubuntu 16.04 LTS (on Windows 10) - 64bit\\n**Subsystem**: pubsub\\n\\n**Bug**\\n\\nOne of following:\\nCritical - System crash, application panic.\\nHigh - The main functionality of the application does not work, API breakage, repo format breakage, etc.\\nMedium - A non-essential functionality does not work, performance issues, etc.\\nLow - An optional functionality does not work.\\nVery Low - Translation or documentation mistake. Something that won\\'t give anyone a bad day.\\n\\n#### Severity: Low\\n\\n#### Description:\\n\\nThe [PubSub example](https://github.com/libp2p/js-libp2p/blob/master/examples/pubsub/1.js) ends with a TypeError:\\n\\n```\\nC:\\\\Users\\\\Patrick\\\\Desktop\\\\libp2p\\\\node_modules\\\\superstruct\\\\lib\\\\index.js:1181\\n        throw new StructError(error);\\n        ^\\n\\nTypeError: Expected a value of type `function | object` but received `undefined`.\\n    at Function.Struct.assert.value [as assert] (C:\\\\Users\\\\Patrick\\\\Desktop\\\\libp2p\\\\node_modules\\\\superstruct\\\\lib\\\\index.js:1181:15)\\n    at Struct (C:\\\\Users\\\\Patrick\\\\Desktop\\\\libp2p\\\\node_modules\\\\superstruct\\\\lib\\\\index.js:1165:21)\\n    at module.exports.validate (C:\\\\Users\\\\Patrick\\\\Desktop\\\\libp2p\\\\src\\\\config.js:73:27)\\n    at new Node (C:\\\\Users\\\\Patrick\\\\Desktop\\\\libp2p\\\\src\\\\index.js:48:16)\\n    at new MyBundle (C:\\\\Users\\\\Patrick\\\\Desktop\\\\libp2p\\\\examples\\\\pubsub\\\\1.js:37:5)\\n    at waterfall (C:\\\\Users\\\\Patrick\\\\Desktop\\\\libp2p\\\\examples\\\\pubsub\\\\1.js:48:14)\\n    at nextTask (C:\\\\Users\\\\Patrick\\\\Desktop\\\\libp2p\\\\node_modules\\\\async\\\\waterfall.js:16:14)\\n    at next (C:\\\\Users\\\\Patrick\\\\Desktop\\\\libp2p\\\\node_modules\\\\async\\\\waterfall.js:23:9)\\n    at C:\\\\Users\\\\Patrick\\\\Desktop\\\\libp2p\\\\node_modules\\\\async\\\\internal\\\\onlyOnce.js:12:16\\n    at PeerId.create (C:\\\\Users\\\\Patrick\\\\Desktop\\\\libp2p\\\\node_modules\\\\peer-info\\\\src\\\\index.js:47:7)\\n```\\n\\n#### Steps to reproduce the error:\\n\\n1. Clone js-libp2p trunk to desktop.\\n2. In cloned folder run `npm install` to install all dependencies.\\n3. Run `npm audit fix` to attempt to fix 3 low-priority vulnerabilities. Result:\\n````\\nnpm WARN acorn-dynamic-import@4.0.0 requires a peer of acorn@^6.0.0 but none is installed. You must install peer dependencies yourself.\\nnpm WARN acorn-jsx@5.0.1 requires a peer of acorn@^6.0.0 but none is installed. You must install peer dependencies yourself.\\nnpm WARN wrtc@0.3.5 requires a peer of domexception@^1.0.1 but none is installed. You must install peer dependencies yourself.\\nnpm WARN optional SKIPPING OPTIONAL DEPENDENCY: fsevents@1.2.7 (node_modules/fsevents):\\nnpm WARN notsup SKIPPING OPTIONAL DEPENDENCY: Unsupported platform for fsevents@1.2.7: wanted {\"os\":\"darwin\",\"arch\":\"any\"} (current: {\"os\":\"linux\",\"arch\":\"x64\"})\\nfixed 0 of 3 vulnerabilities in 44953 scanned packages\\n  3 vulnerabilities required manual review and could not be updated\\n```\\n(I can update this issue with details on the reported vulnerabilities--please let me know if it\\'s relevant)\\n\\n4. In `{trunk}\\\\examples\\\\pubsub` run `node 1.js` (`nodejs 1.js` on Ubuntu) -- after a few moments the error is reported and example terminates.\\n\\n**Bug**\\n\\nLet me know if you\\'d like me to provide more details on the reported vulnerabilities!'"
            ],
            "application/vnd.google.colaboratory.intrinsic+json": {
              "type": "string"
            }
          },
          "metadata": {},
          "execution_count": 161
        }
      ]
    },
    {
      "cell_type": "code",
      "source": [
        "print(test.loc[67323,'llama3_8b_prediction_organized'])"
      ],
      "metadata": {
        "colab": {
          "base_uri": "https://localhost:8080/"
        },
        "id": "9nM9iTcXJm1x",
        "outputId": "1be7b2c0-6575-493b-c3d6-c4fd06a5e051"
      },
      "execution_count": 162,
      "outputs": [
        {
          "output_type": "stream",
          "name": "stdout",
          "text": [
            "Here is the filled-in template:\n",
            "\n",
            "**Version**: 0.25.0-rc.4\n",
            "**Platform**: Node.js for Windows 10 / Ubuntu 16.04 LTS (on Windows 10) - 64bit\n",
            "**Subsystem**: pubsub\n",
            "\n",
            "**Bug**\n",
            "\n",
            "One of following:\n",
            "Critical - System crash, application panic.\n",
            "High - The main functionality of the application does not work, API breakage, repo format breakage, etc.\n",
            "Medium - A non-essential functionality does not work, performance issues, etc.\n",
            "Low - An optional functionality does not work.\n",
            "Very Low - Translation or documentation mistake. Something that won't give anyone a bad day.\n",
            "\n",
            "#### Severity: Low\n",
            "\n",
            "#### Description:\n",
            "\n",
            "The [PubSub example](https://github.com/libp2p/js-libp2p/blob/master/examples/pubsub/1.js) ends with a TypeError:\n",
            "\n",
            "```\n",
            "C:\\Users\\Patrick\\Desktop\\libp2p\\node_modules\\superstruct\\lib\\index.js:1181\n",
            "        throw new StructError(error);\n",
            "        ^\n",
            "\n",
            "TypeError: Expected a value of type `function | object` but received `undefined`.\n",
            "    at Function.Struct.assert.value [as assert] (C:\\Users\\Patrick\\Desktop\\libp2p\\node_modules\\superstruct\\lib\\index.js:1181:15)\n",
            "    at Struct (C:\\Users\\Patrick\\Desktop\\libp2p\\node_modules\\superstruct\\lib\\index.js:1165:21)\n",
            "    at module.exports.validate (C:\\Users\\Patrick\\Desktop\\libp2p\\src\\config.js:73:27)\n",
            "    at new Node (C:\\Users\\Patrick\\Desktop\\libp2p\\src\\index.js:48:16)\n",
            "    at new MyBundle (C:\\Users\\Patrick\\Desktop\\libp2p\\examples\\pubsub\\1.js:37:5)\n",
            "    at waterfall (C:\\Users\\Patrick\\Desktop\\libp2p\\examples\\pubsub\\1.js:48:14)\n",
            "    at nextTask (C:\\Users\\Patrick\\Desktop\\libp2p\\node_modules\\async\\waterfall.js:16:14)\n",
            "    at next (C:\\Users\\Patrick\\Desktop\\libp2p\\node_modules\\async\\waterfall.js:23:9)\n",
            "    at C:\\Users\\Patrick\\Desktop\\libp2p\\node_modules\\async\\internal\\onlyOnce.js:12:16\n",
            "    at PeerId.create (C:\\Users\\Patrick\\Desktop\\libp2p\\node_modules\\peer-info\\src\\index.js:47:7)\n",
            "```\n",
            "\n",
            "#### Steps to reproduce the error:\n",
            "\n",
            "1. Clone js-libp2p trunk to desktop.\n",
            "2. In cloned folder run `npm install` to install all dependencies.\n",
            "3. Run `npm audit fix` to attempt to fix 3 low-priority vulnerabilities. Result:\n",
            "````\n",
            "npm WARN acorn-dynamic-import@4.0.0 requires a peer of acorn@^6.0.0 but none is installed. You must install peer dependencies yourself.\n",
            "npm WARN acorn-jsx@5.0.1 requires a peer of acorn@^6.0.0 but none is installed. You must install peer dependencies yourself.\n",
            "npm WARN wrtc@0.3.5 requires a peer of domexception@^1.0.1 but none is installed. You must install peer dependencies yourself.\n",
            "npm WARN optional SKIPPING OPTIONAL DEPENDENCY: fsevents@1.2.7 (node_modules/fsevents):\n",
            "npm WARN notsup SKIPPING OPTIONAL DEPENDENCY: Unsupported platform for fsevents@1.2.7: wanted {\"os\":\"darwin\",\"arch\":\"any\"} (current: {\"os\":\"linux\",\"arch\":\"x64\"})\n",
            "fixed 0 of 3 vulnerabilities in 44953 scanned packages\n",
            "  3 vulnerabilities required manual review and could not be updated\n",
            "```\n",
            "(I can update this issue with details on the reported vulnerabilities--please let me know if it's relevant)\n",
            "\n",
            "4. In `{trunk}\\examples\\pubsub` run `node 1.js` (`nodejs 1.js` on Ubuntu) -- after a few moments the error is reported and example terminates.\n",
            "\n",
            "**Bug**\n",
            "\n",
            "Let me know if you'd like me to provide more details on the reported vulnerabilities!\n"
          ]
        }
      ]
    },
    {
      "cell_type": "code",
      "source": [
        "test.loc[67323,'llama3_8b_prediction_organized'] = 'bug'"
      ],
      "metadata": {
        "id": "FuH5mEDQA9Wt"
      },
      "execution_count": 163,
      "outputs": []
    },
    {
      "cell_type": "code",
      "source": [
        "test.loc[67887,'llama3_8b_prediction_organized']"
      ],
      "metadata": {
        "colab": {
          "base_uri": "https://localhost:8080/",
          "height": 35
        },
        "id": "DladZhWPCJ-L",
        "outputId": "8a124572-d48b-432a-e1b7-3c782591afc1"
      },
      "execution_count": 164,
      "outputs": [
        {
          "output_type": "execute_result",
          "data": {
            "text/plain": [
              "'A feature request!\\n\\nThe answer is: **Enhancement**'"
            ],
            "application/vnd.google.colaboratory.intrinsic+json": {
              "type": "string"
            }
          },
          "metadata": {},
          "execution_count": 164
        }
      ]
    },
    {
      "cell_type": "code",
      "source": [
        "test.loc[67887,'llama3_8b_prediction_organized'] = 'enhancement'"
      ],
      "metadata": {
        "id": "u_spPldhCKEb"
      },
      "execution_count": 165,
      "outputs": []
    },
    {
      "cell_type": "code",
      "source": [
        "test.loc[68070,'llama3_8b_prediction_organized']"
      ],
      "metadata": {
        "colab": {
          "base_uri": "https://localhost:8080/",
          "height": 69
        },
        "id": "rwryoLO8CS4t",
        "outputId": "ab2b327b-7d7a-48d1-e202-e61b76baf670"
      },
      "execution_count": 166,
      "outputs": [
        {
          "output_type": "execute_result",
          "data": {
            "text/plain": [
              "'**others**\\n\\nReasoning: The observed behavior of ClickHouse not scaling beyond 28 threads is likely due to the specific characteristics of the query, dataset, and hardware configuration, rather than a bug or enhancement in ClickHouse itself.'"
            ],
            "application/vnd.google.colaboratory.intrinsic+json": {
              "type": "string"
            }
          },
          "metadata": {},
          "execution_count": 166
        }
      ]
    },
    {
      "cell_type": "code",
      "source": [
        "test.loc[68070,'llama3_8b_prediction_organized'] = 'question'"
      ],
      "metadata": {
        "id": "saANDe5xCS_W"
      },
      "execution_count": 167,
      "outputs": []
    },
    {
      "cell_type": "code",
      "source": [
        "test.loc[70515,'llama3_8b_prediction_organized']"
      ],
      "metadata": {
        "colab": {
          "base_uri": "https://localhost:8080/",
          "height": 52
        },
        "id": "FICGQ3NFCiY4",
        "outputId": "3ea09928-65e5-47dc-a027-0d40562ffb8d"
      },
      "execution_count": 168,
      "outputs": [
        {
          "output_type": "execute_result",
          "data": {
            "text/plain": [
              "\"Please go ahead and provide the issue title and issue body, I'll categorize it for you.\\n\\n(Note: I'll respond with a single word answer)\""
            ],
            "application/vnd.google.colaboratory.intrinsic+json": {
              "type": "string"
            }
          },
          "metadata": {},
          "execution_count": 168
        }
      ]
    },
    {
      "cell_type": "code",
      "source": [
        "test.loc[70515,'llama3_8b_prediction_organized'] = 'question'"
      ],
      "metadata": {
        "id": "Z-X28-a-CifI"
      },
      "execution_count": 169,
      "outputs": []
    },
    {
      "cell_type": "code",
      "source": [
        "test.loc[70749,'llama3_8b_prediction_organized']"
      ],
      "metadata": {
        "colab": {
          "base_uri": "https://localhost:8080/",
          "height": 188
        },
        "id": "6MNetlJECqQ0",
        "outputId": "0f33830c-2ba1-4b6b-cb2b-a12a94ac95af"
      },
      "execution_count": 170,
      "outputs": [
        {
          "output_type": "execute_result",
          "data": {
            "text/plain": [
              "'**Issue Type: Enhancement**\\n\\nHere is a draft blog post on how the Autocomplete feature can be implemented in real life:\\n\\n---\\n\\n**How is the Autocomplete Feature Implemented in Real Life?**\\n\\nHave you ever wondered how some search engines or commercial portals are able to match the entered letters to whatever words you\\'re trying to type almost instinctively? Are they simply attempting to match the entered letters in their database, or are they using some kind of \"intelligence\" to find what you\\'re looking for?\\n\\nAs it turns out, this feature is called \"Autocomplete\", and it can be implemented via standard data structures. One of the most naive methods is linear search and binary search, but these methods simply become inefficient when dealing with typo-tolerance.\\n\\nSo, how do we make Autocomplete more efficient? Enter TRIE and Ternary Search Tree - both are effective data structures for implementing Autocomplete. But the real winner here is Burkhard Keller Trees (BK-Trees), which can optimize your Autocomplete feature up to 40 times faster!\\n\\n**How BK-Trees Make Autocomplete Faster**\\n\\nSo, how does BK-Trees manage to do this? It rests its concepts on the Levenshtein distance, which is a measure of minimum operations needed to translate one string into another. This makes it efficient for Nearest Neighbour Search with a logarithmic time complexity and also boosts performance for Fuzzy Search.\\n\\n**Linear Search: The Naive Approach**\\n\\nLet\\'s start with linear search - a simple, yet inefficient method. Imagine you have a list of words, and you want to find the one that matches what the user has typed so far. You would simply iterate through the list until you find a match, or reach the end of the list.\\n\\n**Binary Search: A Slightly Better Approach**\\n\\nNext up is binary search - a bit more efficient than linear search. Imagine your list of words is sorted alphabetically. You can divide the list in half and check if the middle word matches what the user has typed. If it doesn\\'t, you can either move to the left or right half and repeat the process until you find a match.\\n\\n**Ternary Search Tree: A Better Approach**\\n\\nNow let\\'s talk about Ternary Search Trees - a more efficient data structure for Autocomplete. Imagine a tree with three branches at each node. Each leaf node represents a word, and each internal node has a character that is the same as the corresponding character in one of its child nodes.\\n\\n**TRIE: A More Efficient Approach**\\n\\nTRIE (Trie) is another effective data structure for implementing Autocomplete. It\\'s essentially a tree-like data structure where each node has a set of characters and a reference to zero or more child nodes.\\n\\n**Burkhard Keller Trees: The Real Winner**\\n\\nAnd then there are Burkhard Keller Trees - the real winner when it comes to optimizing Autocomplete. BK-Trees use a combination of TRIE and Ternary Search Tree concepts, with an added twist. They use the Levenshtein distance to optimize their search algorithm.\\n\\n**How BK-Trees Work**\\n\\nSo, how do BK-Trees work? Imagine you have a list of words, and you want to find the one that matches what the user has typed so far. You would create a BK-Tree for each word in your list and use the Levenshtein distance to determine which words are most similar to the user\\'s input.\\n\\n**Conclusion**\\n\\nIn conclusion, Autocomplete is a powerful feature that can be implemented via standard data structures. While linear search and binary search may seem simple, they become inefficient when dealing with typo-tolerance. TRIE, Ternary Search Tree, and Burkhard Keller Trees offer more efficient solutions for implementing Autocomplete. And with the right combination of algorithms and data structures, you can create an Autocomplete feature that is fast, accurate, and user-friendly.\\n\\n---\\n\\n**Metadata:**\\n\\n* Title: How is the Autocomplete Feature Implemented in Real Life?\\n* Category: Enhancement\\n* Tags: Autocomplete, Data Structures, TRIE, Ternary Search Tree, Burkhard Keller Trees'"
            ],
            "application/vnd.google.colaboratory.intrinsic+json": {
              "type": "string"
            }
          },
          "metadata": {},
          "execution_count": 170
        }
      ]
    },
    {
      "cell_type": "code",
      "source": [
        "print(test.loc[70749,'llama3_8b_prediction_organized'])"
      ],
      "metadata": {
        "colab": {
          "base_uri": "https://localhost:8080/"
        },
        "id": "yk9gh5OLJ1IQ",
        "outputId": "a98988cb-14ff-4c26-8b97-95c690cdcacb"
      },
      "execution_count": 171,
      "outputs": [
        {
          "output_type": "stream",
          "name": "stdout",
          "text": [
            "**Issue Type: Enhancement**\n",
            "\n",
            "Here is a draft blog post on how the Autocomplete feature can be implemented in real life:\n",
            "\n",
            "---\n",
            "\n",
            "**How is the Autocomplete Feature Implemented in Real Life?**\n",
            "\n",
            "Have you ever wondered how some search engines or commercial portals are able to match the entered letters to whatever words you're trying to type almost instinctively? Are they simply attempting to match the entered letters in their database, or are they using some kind of \"intelligence\" to find what you're looking for?\n",
            "\n",
            "As it turns out, this feature is called \"Autocomplete\", and it can be implemented via standard data structures. One of the most naive methods is linear search and binary search, but these methods simply become inefficient when dealing with typo-tolerance.\n",
            "\n",
            "So, how do we make Autocomplete more efficient? Enter TRIE and Ternary Search Tree - both are effective data structures for implementing Autocomplete. But the real winner here is Burkhard Keller Trees (BK-Trees), which can optimize your Autocomplete feature up to 40 times faster!\n",
            "\n",
            "**How BK-Trees Make Autocomplete Faster**\n",
            "\n",
            "So, how does BK-Trees manage to do this? It rests its concepts on the Levenshtein distance, which is a measure of minimum operations needed to translate one string into another. This makes it efficient for Nearest Neighbour Search with a logarithmic time complexity and also boosts performance for Fuzzy Search.\n",
            "\n",
            "**Linear Search: The Naive Approach**\n",
            "\n",
            "Let's start with linear search - a simple, yet inefficient method. Imagine you have a list of words, and you want to find the one that matches what the user has typed so far. You would simply iterate through the list until you find a match, or reach the end of the list.\n",
            "\n",
            "**Binary Search: A Slightly Better Approach**\n",
            "\n",
            "Next up is binary search - a bit more efficient than linear search. Imagine your list of words is sorted alphabetically. You can divide the list in half and check if the middle word matches what the user has typed. If it doesn't, you can either move to the left or right half and repeat the process until you find a match.\n",
            "\n",
            "**Ternary Search Tree: A Better Approach**\n",
            "\n",
            "Now let's talk about Ternary Search Trees - a more efficient data structure for Autocomplete. Imagine a tree with three branches at each node. Each leaf node represents a word, and each internal node has a character that is the same as the corresponding character in one of its child nodes.\n",
            "\n",
            "**TRIE: A More Efficient Approach**\n",
            "\n",
            "TRIE (Trie) is another effective data structure for implementing Autocomplete. It's essentially a tree-like data structure where each node has a set of characters and a reference to zero or more child nodes.\n",
            "\n",
            "**Burkhard Keller Trees: The Real Winner**\n",
            "\n",
            "And then there are Burkhard Keller Trees - the real winner when it comes to optimizing Autocomplete. BK-Trees use a combination of TRIE and Ternary Search Tree concepts, with an added twist. They use the Levenshtein distance to optimize their search algorithm.\n",
            "\n",
            "**How BK-Trees Work**\n",
            "\n",
            "So, how do BK-Trees work? Imagine you have a list of words, and you want to find the one that matches what the user has typed so far. You would create a BK-Tree for each word in your list and use the Levenshtein distance to determine which words are most similar to the user's input.\n",
            "\n",
            "**Conclusion**\n",
            "\n",
            "In conclusion, Autocomplete is a powerful feature that can be implemented via standard data structures. While linear search and binary search may seem simple, they become inefficient when dealing with typo-tolerance. TRIE, Ternary Search Tree, and Burkhard Keller Trees offer more efficient solutions for implementing Autocomplete. And with the right combination of algorithms and data structures, you can create an Autocomplete feature that is fast, accurate, and user-friendly.\n",
            "\n",
            "---\n",
            "\n",
            "**Metadata:**\n",
            "\n",
            "* Title: How is the Autocomplete Feature Implemented in Real Life?\n",
            "* Category: Enhancement\n",
            "* Tags: Autocomplete, Data Structures, TRIE, Ternary Search Tree, Burkhard Keller Trees\n"
          ]
        }
      ]
    },
    {
      "cell_type": "code",
      "source": [
        "test.loc[70749,'llama3_8b_prediction_organized'] = 'enhancement'"
      ],
      "metadata": {
        "id": "CB2PKxeKCqWz"
      },
      "execution_count": 172,
      "outputs": []
    },
    {
      "cell_type": "code",
      "source": [
        "test.loc[70794,'llama3_8b_prediction_organized']"
      ],
      "metadata": {
        "colab": {
          "base_uri": "https://localhost:8080/",
          "height": 171
        },
        "id": "5kB4FydPC0WZ",
        "outputId": "7a04c12d-4dfd-4d6b-80f9-131350846323"
      },
      "execution_count": 173,
      "outputs": [
        {
          "output_type": "execute_result",
          "data": {
            "text/plain": [
              "'The issue title is \"User scripts component\", and the issue body describes a feature request to add support for user scripts in the browser, similar to Tampermonkey. The issue includes several subtasks and considerations, such as:\\n\\n* Implementing the User Scripts component\\n* Adding UI management (enable/disable/remove script)\\n* Preferences (enable/disable) and help page link\\n* Reading from folder and adding details for unmatched headers\\n* Bug fixes (e.g., DOCUMENT_START not working)\\n* Security verification (e.g., denying network access to injected scripts, verifying file integrity)\\n\\nThe issue also includes several open questions and considerations, such as:\\n\\n* Whether to use zip files or self-updating features\\n* How to implement the feature flag\\n* How to request permission from the user\\n* How to prevent crashes in the startup\\n\\nI would categorize this issue as \"enhancement\".'"
            ],
            "application/vnd.google.colaboratory.intrinsic+json": {
              "type": "string"
            }
          },
          "metadata": {},
          "execution_count": 173
        }
      ]
    },
    {
      "cell_type": "code",
      "source": [
        "test.loc[70794,'llama3_8b_prediction_organized'] = 'enhancement'"
      ],
      "metadata": {
        "id": "S1Eoul6hC0cc"
      },
      "execution_count": 174,
      "outputs": []
    },
    {
      "cell_type": "code",
      "source": [
        "test.loc[72947,'llama3_8b_prediction_organized']"
      ],
      "metadata": {
        "colab": {
          "base_uri": "https://localhost:8080/",
          "height": 171
        },
        "id": "LxIcMnQ0DFBD",
        "outputId": "7ad969f1-63d9-4291-b652-353caa4d84fd"
      },
      "execution_count": 175,
      "outputs": [
        {
          "output_type": "execute_result",
          "data": {
            "text/plain": [
              "\"A delightful web development issue!\\n\\nTo fix the index.html errors, I'd recommend addressing the following issues:\\n\\n1. **Fix HTML structure**:\\n\\t* Remove `<br>` elements from within `<ul>` tags.\\n\\t* Replace `<a>` elements with valid children of `<ul>`, such as `<li>`.\\n2. **Correct iframe attributes**:\\n\\t* Use a digit instead of `%` for the `width` attribute.\\n\\t* Use a digit instead of `vh` for the `height` attribute.\\n\\t* Remove obsolete `frameborder` attribute and use CSS instead.\\n3. **Close unclosed elements**:\\n\\t* Close `<div>`, `<section>`, `<ol>`, and `<div>` elements where necessary.\\n4. **Fix nesting issues**:\\n\\t* Ensure that elements like `<footer>` do not appear as descendants of themselves.\\n5. **Clean up script tags**:\\n\\t* Remove stray start tag `<script>`.\\n\\nAfter fixing these issues, the HTML should be valid and ready for further development!\""
            ],
            "application/vnd.google.colaboratory.intrinsic+json": {
              "type": "string"
            }
          },
          "metadata": {},
          "execution_count": 175
        }
      ]
    },
    {
      "cell_type": "code",
      "source": [
        "test.loc[72947,'llama3_8b_prediction_organized'] = 'question'"
      ],
      "metadata": {
        "id": "TZMyXXFQDFKa"
      },
      "execution_count": 176,
      "outputs": []
    },
    {
      "cell_type": "code",
      "source": [
        "test.loc[74759,'llama3_8b_prediction_organized']"
      ],
      "metadata": {
        "colab": {
          "base_uri": "https://localhost:8080/",
          "height": 120
        },
        "id": "VW7VmWxmDn1L",
        "outputId": "693286e2-f932-44ee-ab33-7f352da63db0"
      },
      "execution_count": 177,
      "outputs": [
        {
          "output_type": "execute_result",
          "data": {
            "text/plain": [
              "'A bug report!\\n\\nAccording to the issue title, the problem is:\\n\\n\"Sacrificial Pact recommended with a Control Undead pet\"\\n\\nThe issue body explains that when using Control Undead on an enemy mob, Hekili suggests Sacrificial Pact, but this is incorrect because Sacrificial Pact can only be used on your own Ghoul.\\n\\nTo reproduce the behavior, one must go to Theatre of Pain, click on Ancient Captain, scroll down to ------; and see error ---------.\\n\\nThe expected behavior is that Hekili should never suggest Sacrificial Pact when using Control Undead on an enemy mob.\\n\\n**Classification:** Bug'"
            ],
            "application/vnd.google.colaboratory.intrinsic+json": {
              "type": "string"
            }
          },
          "metadata": {},
          "execution_count": 177
        }
      ]
    },
    {
      "cell_type": "code",
      "source": [
        "test.loc[74759,'llama3_8b_prediction_organized'] = 'bug'"
      ],
      "metadata": {
        "id": "pxTseaNNDn7-"
      },
      "execution_count": 178,
      "outputs": []
    },
    {
      "cell_type": "code",
      "source": [
        "test.loc[74782,'llama3_8b_prediction_organized']"
      ],
      "metadata": {
        "colab": {
          "base_uri": "https://localhost:8080/",
          "height": 69
        },
        "id": "TIBRXLa5DzbG",
        "outputId": "67c71aef-b526-47b0-c7af-f1aa9f5bbed0"
      },
      "execution_count": 179,
      "outputs": [
        {
          "output_type": "execute_result",
          "data": {
            "text/plain": [
              "\"Based on the provided issue title and body, I would categorize this issue as:\\n\\n**BUG**\\n\\nThis is because the issue reports that the next/previous playback buttons are missing when auto-queue is turned off, which suggests a bug in NewPipe's functionality.\""
            ],
            "application/vnd.google.colaboratory.intrinsic+json": {
              "type": "string"
            }
          },
          "metadata": {},
          "execution_count": 179
        }
      ]
    },
    {
      "cell_type": "code",
      "source": [
        "test.loc[74782,'llama3_8b_prediction_organized'] = 'bug'"
      ],
      "metadata": {
        "id": "zVj6JTIpDzhS"
      },
      "execution_count": 180,
      "outputs": []
    },
    {
      "cell_type": "code",
      "source": [
        "test.loc[75235,'llama3_8b_prediction_organized']"
      ],
      "metadata": {
        "colab": {
          "base_uri": "https://localhost:8080/",
          "height": 188
        },
        "id": "z18U2NYcD_Ct",
        "outputId": "164c86ee-d691-4927-bcba-5fbb6bac451d"
      },
      "execution_count": 181,
      "outputs": [
        {
          "output_type": "execute_result",
          "data": {
            "text/plain": [
              "'Here is the filled-out template:\\n\\n**Can\\'t subscribe to channels without videos**\\n\\n### Checklist\\n\\n- [x] I am using the latest version - 0.21.0\\n- [x] I checked, but didn\\'t find any duplicates (open OR closed) of this issue in the repo.\\n- [x] I have read the contribution guidelines given at https://github.com/TeamNewPipe/NewPipe/blob/HEAD/.github/CONTRIBUTING.md.\\n- [x] This issue contains only one bug. I will open one issue for every bug report I want to file.\\n\\n### Steps to reproduce the bug\\n\\n1. Search Youtube for \"subscribers without videos\"\\n2. Tap on a channel that doesn\\'t show any videos.\\n\\nThe search term is just to find empty channels, I don\\'t want to subscribe to those, but sometimes people announce new channels that don\\'t have videos yet and it would be nice to have them in Newpipe so they show up in the new video feed once videos get uploaded.\\n\\n### Actual behaviour\\n\\nThe channel header with subscribe button shows up for a moment, then gets replaced by a \"No videos\" message.\\n\\n### Expected behavior\\n\\nChannel header stays, the \"No videos\" message only occupies the space where the videos would go, so the subscribe button is always visible.\\n\\nThere\\'s also a loading circle animation when looking for videos on a channel that seems to do the same and could also just be below the header instead of replacing it to keep the UI less busy.\\n\\n### Screenshots/Screen recordings\\n\\n<!-- No screenshots provided -->\\n\\n### Logs\\n\\nPlease provide logs.\\n\\n### Device info\\n\\n- Android version/Custom ROM version:\\n- Device model:\\n\\n**Issue categorization:** bug'"
            ],
            "application/vnd.google.colaboratory.intrinsic+json": {
              "type": "string"
            }
          },
          "metadata": {},
          "execution_count": 181
        }
      ]
    },
    {
      "cell_type": "code",
      "source": [
        "print(test.loc[75235,'llama3_8b_prediction_organized'])"
      ],
      "metadata": {
        "colab": {
          "base_uri": "https://localhost:8080/"
        },
        "id": "zCyx3_YQKN5i",
        "outputId": "e160f73a-6e27-46c8-8da3-757ff153caf2"
      },
      "execution_count": 182,
      "outputs": [
        {
          "output_type": "stream",
          "name": "stdout",
          "text": [
            "Here is the filled-out template:\n",
            "\n",
            "**Can't subscribe to channels without videos**\n",
            "\n",
            "### Checklist\n",
            "\n",
            "- [x] I am using the latest version - 0.21.0\n",
            "- [x] I checked, but didn't find any duplicates (open OR closed) of this issue in the repo.\n",
            "- [x] I have read the contribution guidelines given at https://github.com/TeamNewPipe/NewPipe/blob/HEAD/.github/CONTRIBUTING.md.\n",
            "- [x] This issue contains only one bug. I will open one issue for every bug report I want to file.\n",
            "\n",
            "### Steps to reproduce the bug\n",
            "\n",
            "1. Search Youtube for \"subscribers without videos\"\n",
            "2. Tap on a channel that doesn't show any videos.\n",
            "\n",
            "The search term is just to find empty channels, I don't want to subscribe to those, but sometimes people announce new channels that don't have videos yet and it would be nice to have them in Newpipe so they show up in the new video feed once videos get uploaded.\n",
            "\n",
            "### Actual behaviour\n",
            "\n",
            "The channel header with subscribe button shows up for a moment, then gets replaced by a \"No videos\" message.\n",
            "\n",
            "### Expected behavior\n",
            "\n",
            "Channel header stays, the \"No videos\" message only occupies the space where the videos would go, so the subscribe button is always visible.\n",
            "\n",
            "There's also a loading circle animation when looking for videos on a channel that seems to do the same and could also just be below the header instead of replacing it to keep the UI less busy.\n",
            "\n",
            "### Screenshots/Screen recordings\n",
            "\n",
            "<!-- No screenshots provided -->\n",
            "\n",
            "### Logs\n",
            "\n",
            "Please provide logs.\n",
            "\n",
            "### Device info\n",
            "\n",
            "- Android version/Custom ROM version:\n",
            "- Device model:\n",
            "\n",
            "**Issue categorization:** bug\n"
          ]
        }
      ]
    },
    {
      "cell_type": "code",
      "source": [
        "test.loc[75235,'llama3_8b_prediction_organized'] = 'bug'"
      ],
      "metadata": {
        "id": "FoZ2u_joD_IS"
      },
      "execution_count": 183,
      "outputs": []
    },
    {
      "cell_type": "code",
      "source": [
        "test.loc[75388,'llama3_8b_prediction_organized']"
      ],
      "metadata": {
        "colab": {
          "base_uri": "https://localhost:8080/",
          "height": 69
        },
        "id": "ebo-t_8cEX4Y",
        "outputId": "ec7ba1e3-5ead-4c8d-a7c5-8ffa0f59a688"
      },
      "execution_count": 184,
      "outputs": [
        {
          "output_type": "execute_result",
          "data": {
            "text/plain": [
              "'I would categorize this issue as \"others\".\\n\\nThe reason is that the title \"How to get other pick like diamond pick?? \" is not asking for a bug fix or an enhancement, but rather seeking general guidance on how to achieve a specific result (getting picks similar to diamond picks).'"
            ],
            "application/vnd.google.colaboratory.intrinsic+json": {
              "type": "string"
            }
          },
          "metadata": {},
          "execution_count": 184
        }
      ]
    },
    {
      "cell_type": "code",
      "source": [
        "test.loc[75388,'llama3_8b_prediction_organized'] = 'question'"
      ],
      "metadata": {
        "id": "euWgHecgEX-C"
      },
      "execution_count": 185,
      "outputs": []
    },
    {
      "cell_type": "code",
      "source": [
        "test.loc[77511,'llama3_8b_prediction_organized']"
      ],
      "metadata": {
        "colab": {
          "base_uri": "https://localhost:8080/",
          "height": 35
        },
        "id": "z_RP_5jKEulO",
        "outputId": "24b2bf97-d1d9-47a5-c450-07f7b1155bc9"
      },
      "execution_count": 186,
      "outputs": [
        {
          "output_type": "execute_result",
          "data": {
            "text/plain": [
              "'I\\'d categorize this issue as \"enhancement\".'"
            ],
            "application/vnd.google.colaboratory.intrinsic+json": {
              "type": "string"
            }
          },
          "metadata": {},
          "execution_count": 186
        }
      ]
    },
    {
      "cell_type": "code",
      "source": [
        "test.loc[77511,'llama3_8b_prediction_organized'] = 'enhancement'"
      ],
      "metadata": {
        "id": "QfPVazSDEupt"
      },
      "execution_count": 187,
      "outputs": []
    },
    {
      "cell_type": "code",
      "source": [
        "test.loc[77523,'llama3_8b_prediction_organized']"
      ],
      "metadata": {
        "colab": {
          "base_uri": "https://localhost:8080/",
          "height": 120
        },
        "id": "Eone2ifVE2yc",
        "outputId": "c721f1b5-3341-415f-d1f8-619a4c1f2ab0"
      },
      "execution_count": 188,
      "outputs": [
        {
          "output_type": "execute_result",
          "data": {
            "text/plain": [
              "'**Bug**\\n\\nThe issue is caused by a stack overflow due to the recursive calling of `Edge.getTerminalPoint()` in an infinite loop, which results in a crash. The workaround suggested is to validate edges before creating them, but this is not a suitable solution as it would prevent users from connecting nodes in certain ways.\\n\\nTo fix this issue, a more robust solution is needed to handle cycles in the graph and prevent stack overflows. This may involve implementing a depth-first search (DFS) or breadth-first search (BFS) algorithm to detect and prevent cycles.'"
            ],
            "application/vnd.google.colaboratory.intrinsic+json": {
              "type": "string"
            }
          },
          "metadata": {},
          "execution_count": 188
        }
      ]
    },
    {
      "cell_type": "code",
      "source": [
        "test.loc[77523,'llama3_8b_prediction_organized'] = 'bug'"
      ],
      "metadata": {
        "id": "fiyvGAqZE26y"
      },
      "execution_count": 189,
      "outputs": []
    },
    {
      "cell_type": "code",
      "source": [
        "test['llama3_8b_prediction_organized'].value_counts()"
      ],
      "metadata": {
        "colab": {
          "base_uri": "https://localhost:8080/"
        },
        "id": "KGuTklwrKdQj",
        "outputId": "286c181c-b6b9-4f09-9cd8-d8711dcbcfe1"
      },
      "execution_count": 190,
      "outputs": [
        {
          "output_type": "execute_result",
          "data": {
            "text/plain": [
              "llama3_8b_prediction_organized\n",
              "bug            42154\n",
              "enhancement    36095\n",
              "question        2269\n",
              "Name: count, dtype: int64"
            ]
          },
          "metadata": {},
          "execution_count": 190
        }
      ]
    },
    {
      "cell_type": "code",
      "source": [
        "test['llama3_8b_prediction_organized'].unique()"
      ],
      "metadata": {
        "colab": {
          "base_uri": "https://localhost:8080/"
        },
        "id": "dMSUMQFyKi2g",
        "outputId": "21f2d504-3384-41e8-a724-2d562f67afec"
      },
      "execution_count": 191,
      "outputs": [
        {
          "output_type": "execute_result",
          "data": {
            "text/plain": [
              "array(['bug', 'enhancement', 'question'], dtype=object)"
            ]
          },
          "metadata": {},
          "execution_count": 191
        }
      ]
    },
    {
      "cell_type": "markdown",
      "source": [
        "get the confusion matrix"
      ],
      "metadata": {
        "id": "Dxm8EXTpKsch"
      }
    },
    {
      "cell_type": "code",
      "source": [
        "from sklearn.metrics import confusion_matrix, classification_report\n",
        "import seaborn as sns\n",
        "import matplotlib.pyplot as plt"
      ],
      "metadata": {
        "id": "_JV04DNSK4G_"
      },
      "execution_count": 192,
      "outputs": []
    },
    {
      "cell_type": "code",
      "source": [
        "actual_labels = test['issue_label']\n",
        "predicted_labels = test['llama3_8b_prediction_organized']\n",
        "\n",
        "confusion_matrix = confusion_matrix(actual_labels, predicted_labels)\n",
        "\n",
        "class_report = classification_report(actual_labels, predicted_labels, target_names=['bug', 'enhancement', 'question'], digits=3)\n",
        "\n",
        "conf_matrix_df = pd.DataFrame(confusion_matrix, index=['bug', 'enhancement', 'question'], columns=['bug', 'enhancement', 'question'])"
      ],
      "metadata": {
        "id": "9In2uDQuKnQr"
      },
      "execution_count": 193,
      "outputs": []
    },
    {
      "cell_type": "code",
      "source": [
        "print(conf_matrix_df)"
      ],
      "metadata": {
        "colab": {
          "base_uri": "https://localhost:8080/"
        },
        "id": "Ey-N3eFtLBre",
        "outputId": "2a305598-e281-4eae-faf8-d1c62a8825be"
      },
      "execution_count": 194,
      "outputs": [
        {
          "output_type": "stream",
          "name": "stdout",
          "text": [
            "               bug  enhancement  question\n",
            "bug          35367         4395       526\n",
            "enhancement   3519        28543      1141\n",
            "question      3268         3157       602\n"
          ]
        }
      ]
    },
    {
      "cell_type": "code",
      "source": [
        "plt.figure(figsize = (8,6))\n",
        "sns.heatmap(conf_matrix_df,\n",
        "            annot = True,\n",
        "            fmt = 'd',\n",
        "            cmap = 'Blues')\n",
        "plt.xlabel('prediction')\n",
        "plt.ylabel('actual')\n",
        "plt.title('Confusion Matrix')\n",
        "plt.show()"
      ],
      "metadata": {
        "colab": {
          "base_uri": "https://localhost:8080/",
          "height": 564
        },
        "id": "byVq68ZMLDG7",
        "outputId": "d2a1b2db-9825-4b04-8490-f686af1add51"
      },
      "execution_count": 195,
      "outputs": [
        {
          "output_type": "display_data",
          "data": {
            "text/plain": [
              "<Figure size 800x600 with 2 Axes>"
            ],
            "image/png": "[encoded data removed]"
          },
          "metadata": {}
        }
      ]
    },
    {
      "cell_type": "code",
      "source": [
        "print(class_report)"
      ],
      "metadata": {
        "colab": {
          "base_uri": "https://localhost:8080/"
        },
        "id": "muF-aSOHLFj5",
        "outputId": "3453041e-4b35-4add-99ff-8c02c8403895"
      },
      "execution_count": 196,
      "outputs": [
        {
          "output_type": "stream",
          "name": "stdout",
          "text": [
            "              precision    recall  f1-score   support\n",
            "\n",
            "         bug      0.839     0.878     0.858     40288\n",
            " enhancement      0.791     0.860     0.824     33203\n",
            "    question      0.265     0.086     0.130      7027\n",
            "\n",
            "    accuracy                          0.801     80518\n",
            "   macro avg      0.632     0.608     0.604     80518\n",
            "weighted avg      0.769     0.801     0.780     80518\n",
            "\n"
          ]
        }
      ]
    },
    {
      "cell_type": "code",
      "source": [
        "test.to_pickle('data/test_preds_nlbse22_paper_llama3_8b_organized.pkl')"
      ],
      "metadata": {
        "id": "nVIJoQYELQdS"
      },
      "execution_count": 197,
      "outputs": []
    }
  ]
}