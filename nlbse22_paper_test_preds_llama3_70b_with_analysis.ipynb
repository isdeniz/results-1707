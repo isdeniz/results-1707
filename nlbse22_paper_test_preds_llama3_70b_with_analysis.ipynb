{
  "nbformat": 4,
  "nbformat_minor": 0,
  "metadata": {
    "colab": {
      "provenance": [],
      "machine_shape": "hm",
      "gpuType": "A100",
      "authorship_tag": "ABX9TyN0451G5RFKnZs1wIMQPg8b",
      "include_colab_link": true
    },
    "kernelspec": {
      "name": "python3",
      "display_name": "Python 3"
    },
    "language_info": {
      "name": "python"
    },
    "accelerator": "GPU"
  },
  "cells": [
    {
      "cell_type": "markdown",
      "metadata": {
        "id": "view-in-github",
        "colab_type": "text"
      },
      "source": [
        "<a href=\"https://colab.research.google.com/github/isdeniz/results-1707/blob/main/nlbse22_paper_test_preds_llama3_70b_with_analysis.ipynb\" target=\"_parent\"><img src=\"https://colab.research.google.com/assets/colab-badge.svg\" alt=\"Open In Colab\"/></a>"
      ]
    },
    {
      "cell_type": "code",
      "execution_count": 1,
      "metadata": {
        "colab": {
          "base_uri": "https://localhost:8080/"
        },
        "id": "BVLxs8w4N7vv",
        "outputId": "a9d2e3f8-716f-4edf-ef2b-f31e2687ff2d"
      },
      "outputs": [
        {
          "output_type": "stream",
          "name": "stdout",
          "text": [
            ">>> Downloading ollama...\n",
            "############################################################################################# 100.0%\n",
            ">>> Installing ollama to /usr/local/bin...\n",
            ">>> Creating ollama user...\n",
            ">>> Adding ollama user to video group...\n",
            ">>> Adding current user to ollama group...\n",
            ">>> Creating ollama systemd service...\n",
            "WARNING: Unable to detect NVIDIA/AMD GPU. Install lspci or lshw to automatically detect and install GPU dependencies.\n",
            ">>> The Ollama API is now available at 127.0.0.1:11434.\n",
            ">>> Install complete. Run \"ollama\" from the command line.\n"
          ]
        }
      ],
      "source": [
        "!curl -fsSL https://ollama.com/install.sh | sh"
      ]
    },
    {
      "cell_type": "code",
      "source": [
        "!pip install langchain\n",
        "!pip install langchain-core\n",
        "!pip install langchain-community"
      ],
      "metadata": {
        "colab": {
          "base_uri": "https://localhost:8080/"
        },
        "id": "Ju0Bln85P1cd",
        "outputId": "dc1cea31-e840-4ccb-91ea-df35f467c3d6"
      },
      "execution_count": 2,
      "outputs": [
        {
          "output_type": "stream",
          "name": "stdout",
          "text": [
            "Collecting langchain\n",
            "  Downloading langchain-0.2.10-py3-none-any.whl (990 kB)\n",
            "\u001b[?25l     \u001b[90m━━━━━━━━━━━━━━━━━━━━━━━━━━━━━━━━━━━━━━━━\u001b[0m \u001b[32m0.0/990.0 kB\u001b[0m \u001b[31m?\u001b[0m eta \u001b[36m-:--:--\u001b[0m\r\u001b[2K     \u001b[91m━━━━━━━━━━━━━━━━━━━━━━━━━━━━━━━━━━\u001b[0m\u001b[91m╸\u001b[0m\u001b[90m━━━━━\u001b[0m \u001b[32m860.2/990.0 kB\u001b[0m \u001b[31m28.9 MB/s\u001b[0m eta \u001b[36m0:00:01\u001b[0m\r\u001b[2K     \u001b[90m━━━━━━━━━━━━━━━━━━━━━━━━━━━━━━━━━━━━━━━━\u001b[0m \u001b[32m990.0/990.0 kB\u001b[0m \u001b[31m22.2 MB/s\u001b[0m eta \u001b[36m0:00:00\u001b[0m\n",
            "\u001b[?25hRequirement already satisfied: PyYAML>=5.3 in /usr/local/lib/python3.10/dist-packages (from langchain) (6.0.1)\n",
            "Requirement already satisfied: SQLAlchemy<3,>=1.4 in /usr/local/lib/python3.10/dist-packages (from langchain) (2.0.31)\n",
            "Requirement already satisfied: aiohttp<4.0.0,>=3.8.3 in /usr/local/lib/python3.10/dist-packages (from langchain) (3.9.5)\n",
            "Requirement already satisfied: async-timeout<5.0.0,>=4.0.0 in /usr/local/lib/python3.10/dist-packages (from langchain) (4.0.3)\n",
            "Collecting langchain-core<0.3.0,>=0.2.22 (from langchain)\n",
            "  Downloading langchain_core-0.2.22-py3-none-any.whl (373 kB)\n",
            "\u001b[2K     \u001b[90m━━━━━━━━━━━━━━━━━━━━━━━━━━━━━━━━━━━━━━━━\u001b[0m \u001b[32m373.5/373.5 kB\u001b[0m \u001b[31m31.2 MB/s\u001b[0m eta \u001b[36m0:00:00\u001b[0m\n",
            "\u001b[?25hCollecting langchain-text-splitters<0.3.0,>=0.2.0 (from langchain)\n",
            "  Downloading langchain_text_splitters-0.2.2-py3-none-any.whl (25 kB)\n",
            "Collecting langsmith<0.2.0,>=0.1.17 (from langchain)\n",
            "  Downloading langsmith-0.1.93-py3-none-any.whl (139 kB)\n",
            "\u001b[2K     \u001b[90m━━━━━━━━━━━━━━━━━━━━━━━━━━━━━━━━━━━━━━━━\u001b[0m \u001b[32m139.8/139.8 kB\u001b[0m \u001b[31m20.2 MB/s\u001b[0m eta \u001b[36m0:00:00\u001b[0m\n",
            "\u001b[?25hRequirement already satisfied: numpy<2,>=1 in /usr/local/lib/python3.10/dist-packages (from langchain) (1.25.2)\n",
            "Requirement already satisfied: pydantic<3,>=1 in /usr/local/lib/python3.10/dist-packages (from langchain) (2.8.2)\n",
            "Requirement already satisfied: requests<3,>=2 in /usr/local/lib/python3.10/dist-packages (from langchain) (2.31.0)\n",
            "Requirement already satisfied: tenacity!=8.4.0,<9.0.0,>=8.1.0 in /usr/local/lib/python3.10/dist-packages (from langchain) (8.5.0)\n",
            "Requirement already satisfied: aiosignal>=1.1.2 in /usr/local/lib/python3.10/dist-packages (from aiohttp<4.0.0,>=3.8.3->langchain) (1.3.1)\n",
            "Requirement already satisfied: attrs>=17.3.0 in /usr/local/lib/python3.10/dist-packages (from aiohttp<4.0.0,>=3.8.3->langchain) (23.2.0)\n",
            "Requirement already satisfied: frozenlist>=1.1.1 in /usr/local/lib/python3.10/dist-packages (from aiohttp<4.0.0,>=3.8.3->langchain) (1.4.1)\n",
            "Requirement already satisfied: multidict<7.0,>=4.5 in /usr/local/lib/python3.10/dist-packages (from aiohttp<4.0.0,>=3.8.3->langchain) (6.0.5)\n",
            "Requirement already satisfied: yarl<2.0,>=1.0 in /usr/local/lib/python3.10/dist-packages (from aiohttp<4.0.0,>=3.8.3->langchain) (1.9.4)\n",
            "Collecting jsonpatch<2.0,>=1.33 (from langchain-core<0.3.0,>=0.2.22->langchain)\n",
            "  Downloading jsonpatch-1.33-py2.py3-none-any.whl (12 kB)\n",
            "Requirement already satisfied: packaging<25,>=23.2 in /usr/local/lib/python3.10/dist-packages (from langchain-core<0.3.0,>=0.2.22->langchain) (24.1)\n",
            "Collecting orjson<4.0.0,>=3.9.14 (from langsmith<0.2.0,>=0.1.17->langchain)\n",
            "  Downloading orjson-3.10.6-cp310-cp310-manylinux_2_17_x86_64.manylinux2014_x86_64.whl (141 kB)\n",
            "\u001b[2K     \u001b[90m━━━━━━━━━━━━━━━━━━━━━━━━━━━━━━━━━━━━━━━━\u001b[0m \u001b[32m141.1/141.1 kB\u001b[0m \u001b[31m19.8 MB/s\u001b[0m eta \u001b[36m0:00:00\u001b[0m\n",
            "\u001b[?25hRequirement already satisfied: annotated-types>=0.4.0 in /usr/local/lib/python3.10/dist-packages (from pydantic<3,>=1->langchain) (0.7.0)\n",
            "Requirement already satisfied: pydantic-core==2.20.1 in /usr/local/lib/python3.10/dist-packages (from pydantic<3,>=1->langchain) (2.20.1)\n",
            "Requirement already satisfied: typing-extensions>=4.6.1 in /usr/local/lib/python3.10/dist-packages (from pydantic<3,>=1->langchain) (4.12.2)\n",
            "Requirement already satisfied: charset-normalizer<4,>=2 in /usr/local/lib/python3.10/dist-packages (from requests<3,>=2->langchain) (3.3.2)\n",
            "Requirement already satisfied: idna<4,>=2.5 in /usr/local/lib/python3.10/dist-packages (from requests<3,>=2->langchain) (3.7)\n",
            "Requirement already satisfied: urllib3<3,>=1.21.1 in /usr/local/lib/python3.10/dist-packages (from requests<3,>=2->langchain) (2.0.7)\n",
            "Requirement already satisfied: certifi>=2017.4.17 in /usr/local/lib/python3.10/dist-packages (from requests<3,>=2->langchain) (2024.7.4)\n",
            "Requirement already satisfied: greenlet!=0.4.17 in /usr/local/lib/python3.10/dist-packages (from SQLAlchemy<3,>=1.4->langchain) (3.0.3)\n",
            "Collecting jsonpointer>=1.9 (from jsonpatch<2.0,>=1.33->langchain-core<0.3.0,>=0.2.22->langchain)\n",
            "  Downloading jsonpointer-3.0.0-py2.py3-none-any.whl (7.6 kB)\n",
            "Installing collected packages: orjson, jsonpointer, jsonpatch, langsmith, langchain-core, langchain-text-splitters, langchain\n",
            "Successfully installed jsonpatch-1.33 jsonpointer-3.0.0 langchain-0.2.10 langchain-core-0.2.22 langchain-text-splitters-0.2.2 langsmith-0.1.93 orjson-3.10.6\n",
            "Requirement already satisfied: langchain-core in /usr/local/lib/python3.10/dist-packages (0.2.22)\n",
            "Requirement already satisfied: PyYAML>=5.3 in /usr/local/lib/python3.10/dist-packages (from langchain-core) (6.0.1)\n",
            "Requirement already satisfied: jsonpatch<2.0,>=1.33 in /usr/local/lib/python3.10/dist-packages (from langchain-core) (1.33)\n",
            "Requirement already satisfied: langsmith<0.2.0,>=0.1.75 in /usr/local/lib/python3.10/dist-packages (from langchain-core) (0.1.93)\n",
            "Requirement already satisfied: packaging<25,>=23.2 in /usr/local/lib/python3.10/dist-packages (from langchain-core) (24.1)\n",
            "Requirement already satisfied: pydantic<3,>=1 in /usr/local/lib/python3.10/dist-packages (from langchain-core) (2.8.2)\n",
            "Requirement already satisfied: tenacity!=8.4.0,<9.0.0,>=8.1.0 in /usr/local/lib/python3.10/dist-packages (from langchain-core) (8.5.0)\n",
            "Requirement already satisfied: jsonpointer>=1.9 in /usr/local/lib/python3.10/dist-packages (from jsonpatch<2.0,>=1.33->langchain-core) (3.0.0)\n",
            "Requirement already satisfied: orjson<4.0.0,>=3.9.14 in /usr/local/lib/python3.10/dist-packages (from langsmith<0.2.0,>=0.1.75->langchain-core) (3.10.6)\n",
            "Requirement already satisfied: requests<3,>=2 in /usr/local/lib/python3.10/dist-packages (from langsmith<0.2.0,>=0.1.75->langchain-core) (2.31.0)\n",
            "Requirement already satisfied: annotated-types>=0.4.0 in /usr/local/lib/python3.10/dist-packages (from pydantic<3,>=1->langchain-core) (0.7.0)\n",
            "Requirement already satisfied: pydantic-core==2.20.1 in /usr/local/lib/python3.10/dist-packages (from pydantic<3,>=1->langchain-core) (2.20.1)\n",
            "Requirement already satisfied: typing-extensions>=4.6.1 in /usr/local/lib/python3.10/dist-packages (from pydantic<3,>=1->langchain-core) (4.12.2)\n",
            "Requirement already satisfied: charset-normalizer<4,>=2 in /usr/local/lib/python3.10/dist-packages (from requests<3,>=2->langsmith<0.2.0,>=0.1.75->langchain-core) (3.3.2)\n",
            "Requirement already satisfied: idna<4,>=2.5 in /usr/local/lib/python3.10/dist-packages (from requests<3,>=2->langsmith<0.2.0,>=0.1.75->langchain-core) (3.7)\n",
            "Requirement already satisfied: urllib3<3,>=1.21.1 in /usr/local/lib/python3.10/dist-packages (from requests<3,>=2->langsmith<0.2.0,>=0.1.75->langchain-core) (2.0.7)\n",
            "Requirement already satisfied: certifi>=2017.4.17 in /usr/local/lib/python3.10/dist-packages (from requests<3,>=2->langsmith<0.2.0,>=0.1.75->langchain-core) (2024.7.4)\n",
            "Collecting langchain-community\n",
            "  Downloading langchain_community-0.2.9-py3-none-any.whl (2.3 MB)\n",
            "\u001b[2K     \u001b[90m━━━━━━━━━━━━━━━━━━━━━━━━━━━━━━━━━━━━━━━━\u001b[0m \u001b[32m2.3/2.3 MB\u001b[0m \u001b[31m40.5 MB/s\u001b[0m eta \u001b[36m0:00:00\u001b[0m\n",
            "\u001b[?25hRequirement already satisfied: PyYAML>=5.3 in /usr/local/lib/python3.10/dist-packages (from langchain-community) (6.0.1)\n",
            "Requirement already satisfied: SQLAlchemy<3,>=1.4 in /usr/local/lib/python3.10/dist-packages (from langchain-community) (2.0.31)\n",
            "Requirement already satisfied: aiohttp<4.0.0,>=3.8.3 in /usr/local/lib/python3.10/dist-packages (from langchain-community) (3.9.5)\n",
            "Collecting dataclasses-json<0.7,>=0.5.7 (from langchain-community)\n",
            "  Downloading dataclasses_json-0.6.7-py3-none-any.whl (28 kB)\n",
            "Requirement already satisfied: langchain<0.3.0,>=0.2.9 in /usr/local/lib/python3.10/dist-packages (from langchain-community) (0.2.10)\n",
            "Requirement already satisfied: langchain-core<0.3.0,>=0.2.22 in /usr/local/lib/python3.10/dist-packages (from langchain-community) (0.2.22)\n",
            "Requirement already satisfied: langsmith<0.2.0,>=0.1.0 in /usr/local/lib/python3.10/dist-packages (from langchain-community) (0.1.93)\n",
            "Requirement already satisfied: numpy<2,>=1 in /usr/local/lib/python3.10/dist-packages (from langchain-community) (1.25.2)\n",
            "Requirement already satisfied: requests<3,>=2 in /usr/local/lib/python3.10/dist-packages (from langchain-community) (2.31.0)\n",
            "Requirement already satisfied: tenacity!=8.4.0,<9.0.0,>=8.1.0 in /usr/local/lib/python3.10/dist-packages (from langchain-community) (8.5.0)\n",
            "Requirement already satisfied: aiosignal>=1.1.2 in /usr/local/lib/python3.10/dist-packages (from aiohttp<4.0.0,>=3.8.3->langchain-community) (1.3.1)\n",
            "Requirement already satisfied: attrs>=17.3.0 in /usr/local/lib/python3.10/dist-packages (from aiohttp<4.0.0,>=3.8.3->langchain-community) (23.2.0)\n",
            "Requirement already satisfied: frozenlist>=1.1.1 in /usr/local/lib/python3.10/dist-packages (from aiohttp<4.0.0,>=3.8.3->langchain-community) (1.4.1)\n",
            "Requirement already satisfied: multidict<7.0,>=4.5 in /usr/local/lib/python3.10/dist-packages (from aiohttp<4.0.0,>=3.8.3->langchain-community) (6.0.5)\n",
            "Requirement already satisfied: yarl<2.0,>=1.0 in /usr/local/lib/python3.10/dist-packages (from aiohttp<4.0.0,>=3.8.3->langchain-community) (1.9.4)\n",
            "Requirement already satisfied: async-timeout<5.0,>=4.0 in /usr/local/lib/python3.10/dist-packages (from aiohttp<4.0.0,>=3.8.3->langchain-community) (4.0.3)\n",
            "Collecting marshmallow<4.0.0,>=3.18.0 (from dataclasses-json<0.7,>=0.5.7->langchain-community)\n",
            "  Downloading marshmallow-3.21.3-py3-none-any.whl (49 kB)\n",
            "\u001b[2K     \u001b[90m━━━━━━━━━━━━━━━━━━━━━━━━━━━━━━━━━━━━━━━━\u001b[0m \u001b[32m49.2/49.2 kB\u001b[0m \u001b[31m7.9 MB/s\u001b[0m eta \u001b[36m0:00:00\u001b[0m\n",
            "\u001b[?25hCollecting typing-inspect<1,>=0.4.0 (from dataclasses-json<0.7,>=0.5.7->langchain-community)\n",
            "  Downloading typing_inspect-0.9.0-py3-none-any.whl (8.8 kB)\n",
            "Requirement already satisfied: langchain-text-splitters<0.3.0,>=0.2.0 in /usr/local/lib/python3.10/dist-packages (from langchain<0.3.0,>=0.2.9->langchain-community) (0.2.2)\n",
            "Requirement already satisfied: pydantic<3,>=1 in /usr/local/lib/python3.10/dist-packages (from langchain<0.3.0,>=0.2.9->langchain-community) (2.8.2)\n",
            "Requirement already satisfied: jsonpatch<2.0,>=1.33 in /usr/local/lib/python3.10/dist-packages (from langchain-core<0.3.0,>=0.2.22->langchain-community) (1.33)\n",
            "Requirement already satisfied: packaging<25,>=23.2 in /usr/local/lib/python3.10/dist-packages (from langchain-core<0.3.0,>=0.2.22->langchain-community) (24.1)\n",
            "Requirement already satisfied: orjson<4.0.0,>=3.9.14 in /usr/local/lib/python3.10/dist-packages (from langsmith<0.2.0,>=0.1.0->langchain-community) (3.10.6)\n",
            "Requirement already satisfied: charset-normalizer<4,>=2 in /usr/local/lib/python3.10/dist-packages (from requests<3,>=2->langchain-community) (3.3.2)\n",
            "Requirement already satisfied: idna<4,>=2.5 in /usr/local/lib/python3.10/dist-packages (from requests<3,>=2->langchain-community) (3.7)\n",
            "Requirement already satisfied: urllib3<3,>=1.21.1 in /usr/local/lib/python3.10/dist-packages (from requests<3,>=2->langchain-community) (2.0.7)\n",
            "Requirement already satisfied: certifi>=2017.4.17 in /usr/local/lib/python3.10/dist-packages (from requests<3,>=2->langchain-community) (2024.7.4)\n",
            "Requirement already satisfied: typing-extensions>=4.6.0 in /usr/local/lib/python3.10/dist-packages (from SQLAlchemy<3,>=1.4->langchain-community) (4.12.2)\n",
            "Requirement already satisfied: greenlet!=0.4.17 in /usr/local/lib/python3.10/dist-packages (from SQLAlchemy<3,>=1.4->langchain-community) (3.0.3)\n",
            "Requirement already satisfied: jsonpointer>=1.9 in /usr/local/lib/python3.10/dist-packages (from jsonpatch<2.0,>=1.33->langchain-core<0.3.0,>=0.2.22->langchain-community) (3.0.0)\n",
            "Requirement already satisfied: annotated-types>=0.4.0 in /usr/local/lib/python3.10/dist-packages (from pydantic<3,>=1->langchain<0.3.0,>=0.2.9->langchain-community) (0.7.0)\n",
            "Requirement already satisfied: pydantic-core==2.20.1 in /usr/local/lib/python3.10/dist-packages (from pydantic<3,>=1->langchain<0.3.0,>=0.2.9->langchain-community) (2.20.1)\n",
            "Collecting mypy-extensions>=0.3.0 (from typing-inspect<1,>=0.4.0->dataclasses-json<0.7,>=0.5.7->langchain-community)\n",
            "  Downloading mypy_extensions-1.0.0-py3-none-any.whl (4.7 kB)\n",
            "Installing collected packages: mypy-extensions, marshmallow, typing-inspect, dataclasses-json, langchain-community\n",
            "Successfully installed dataclasses-json-0.6.7 langchain-community-0.2.9 marshmallow-3.21.3 mypy-extensions-1.0.0 typing-inspect-0.9.0\n"
          ]
        }
      ]
    },
    {
      "cell_type": "code",
      "source": [
        "from langchain_community.llms import Ollama\n",
        "llm = Ollama(model = \"llama3:70b\")"
      ],
      "metadata": {
        "id": "yknPJmhGP1h2"
      },
      "execution_count": 3,
      "outputs": []
    },
    {
      "cell_type": "code",
      "source": [
        "pip install tqdm"
      ],
      "metadata": {
        "colab": {
          "base_uri": "https://localhost:8080/"
        },
        "id": "zEwVmwPoP1rP",
        "outputId": "6f52b59c-f755-489d-a591-3b4c8720dde2"
      },
      "execution_count": 4,
      "outputs": [
        {
          "output_type": "stream",
          "name": "stdout",
          "text": [
            "Requirement already satisfied: tqdm in /usr/local/lib/python3.10/dist-packages (4.66.4)\n"
          ]
        }
      ]
    },
    {
      "cell_type": "code",
      "source": [
        "import pandas as pd\n",
        "from tqdm import tqdm"
      ],
      "metadata": {
        "id": "ZiRCPG2BQFDP"
      },
      "execution_count": 5,
      "outputs": []
    },
    {
      "cell_type": "code",
      "source": [
        "test = pd.read_csv('data/github-labels-top3-803k-test.csv')\n",
        "print('Number of issues: ', test.shape)"
      ],
      "metadata": {
        "colab": {
          "base_uri": "https://localhost:8080/"
        },
        "id": "fPOpmLMWQHUK",
        "outputId": "f7098f91-df6e-4863-d4a1-7ac2877f578b"
      },
      "execution_count": 6,
      "outputs": [
        {
          "output_type": "stream",
          "name": "stdout",
          "text": [
            "Number of issues:  (80518, 8)\n"
          ]
        }
      ]
    },
    {
      "cell_type": "code",
      "source": [
        "test.head()"
      ],
      "metadata": {
        "colab": {
          "base_uri": "https://localhost:8080/",
          "height": 411
        },
        "id": "aP79GxqUQJSh",
        "outputId": "59b92e9c-bea2-4bb1-8444-8b44f81151fc"
      },
      "execution_count": 7,
      "outputs": [
        {
          "output_type": "execute_result",
          "data": {
            "text/plain": [
              "   Unnamed: 0                                          issue_url  issue_label  \\\n",
              "0           6  https://api.github.com/repos/tlnagy/TIFF.jl/is...  enhancement   \n",
              "1          19  https://api.github.com/repos/tisboyo/Twitch_Bo...  enhancement   \n",
              "2          25  https://api.github.com/repos/DrWhoCares/imgdan...  enhancement   \n",
              "3          30  https://api.github.com/repos/DrWhoCares/imgdan...          bug   \n",
              "4          54   https://api.github.com/repos/Bean-1/AOT/issues/3          bug   \n",
              "\n",
              "       issue_created_at issue_author_association  \\\n",
              "0  2020-04-07T09:08:50Z                     NONE   \n",
              "1  2020-11-27T07:17:21Z                    OWNER   \n",
              "2  2021-01-02T19:35:34Z                    OWNER   \n",
              "3  2021-01-02T20:55:34Z                    OWNER   \n",
              "4  2020-12-29T15:34:35Z                    OWNER   \n",
              "\n",
              "                                     repository_url  \\\n",
              "0       https://api.github.com/repos/tlnagy/TIFF.jl   \n",
              "1   https://api.github.com/repos/tisboyo/Twitch_Bot   \n",
              "2  https://api.github.com/repos/DrWhoCares/imgdanke   \n",
              "3  https://api.github.com/repos/DrWhoCares/imgdanke   \n",
              "4           https://api.github.com/repos/Bean-1/AOT   \n",
              "\n",
              "                                         issue_title  \\\n",
              "0  ERROR: KeyError: key (TIFF.SAMPLEFORMAT_INT, 0...   \n",
              "1                     Add database backup to dropbox   \n",
              "2  Add a button/method to open the Source or Outp...   \n",
              "3                  Processes are being started twice   \n",
              "4                              Cannot add hp to wall   \n",
              "\n",
              "                                          issue_body  \n",
              "0  One more error might need to be caught.\\r\\n`4D...  \n",
              "1                                                NaN  \n",
              "2  Could also add a method to open up path to eac...  \n",
              "3  At some point I refactored a few things and en...  \n",
              "4                                                NaN  "
            ],
            "text/html": [
              "\n",
              "  <div id=\"df-a7e9149f-e512-4806-bd8c-328839ed41d8\" class=\"colab-df-container\">\n",
              "    <div>\n",
              "<style scoped>\n",
              "    .dataframe tbody tr th:only-of-type {\n",
              "        vertical-align: middle;\n",
              "    }\n",
              "\n",
              "    .dataframe tbody tr th {\n",
              "        vertical-align: top;\n",
              "    }\n",
              "\n",
              "    .dataframe thead th {\n",
              "        text-align: right;\n",
              "    }\n",
              "</style>\n",
              "<table border=\"1\" class=\"dataframe\">\n",
              "  <thead>\n",
              "    <tr style=\"text-align: right;\">\n",
              "      <th></th>\n",
              "      <th>Unnamed: 0</th>\n",
              "      <th>issue_url</th>\n",
              "      <th>issue_label</th>\n",
              "      <th>issue_created_at</th>\n",
              "      <th>issue_author_association</th>\n",
              "      <th>repository_url</th>\n",
              "      <th>issue_title</th>\n",
              "      <th>issue_body</th>\n",
              "    </tr>\n",
              "  </thead>\n",
              "  <tbody>\n",
              "    <tr>\n",
              "      <th>0</th>\n",
              "      <td>6</td>\n",
              "      <td>https://api.github.com/repos/tlnagy/TIFF.jl/is...</td>\n",
              "      <td>enhancement</td>\n",
              "      <td>2020-04-07T09:08:50Z</td>\n",
              "      <td>NONE</td>\n",
              "      <td>https://api.github.com/repos/tlnagy/TIFF.jl</td>\n",
              "      <td>ERROR: KeyError: key (TIFF.SAMPLEFORMAT_INT, 0...</td>\n",
              "      <td>One more error might need to be caught.\\r\\n`4D...</td>\n",
              "    </tr>\n",
              "    <tr>\n",
              "      <th>1</th>\n",
              "      <td>19</td>\n",
              "      <td>https://api.github.com/repos/tisboyo/Twitch_Bo...</td>\n",
              "      <td>enhancement</td>\n",
              "      <td>2020-11-27T07:17:21Z</td>\n",
              "      <td>OWNER</td>\n",
              "      <td>https://api.github.com/repos/tisboyo/Twitch_Bot</td>\n",
              "      <td>Add database backup to dropbox</td>\n",
              "      <td>NaN</td>\n",
              "    </tr>\n",
              "    <tr>\n",
              "      <th>2</th>\n",
              "      <td>25</td>\n",
              "      <td>https://api.github.com/repos/DrWhoCares/imgdan...</td>\n",
              "      <td>enhancement</td>\n",
              "      <td>2021-01-02T19:35:34Z</td>\n",
              "      <td>OWNER</td>\n",
              "      <td>https://api.github.com/repos/DrWhoCares/imgdanke</td>\n",
              "      <td>Add a button/method to open the Source or Outp...</td>\n",
              "      <td>Could also add a method to open up path to eac...</td>\n",
              "    </tr>\n",
              "    <tr>\n",
              "      <th>3</th>\n",
              "      <td>30</td>\n",
              "      <td>https://api.github.com/repos/DrWhoCares/imgdan...</td>\n",
              "      <td>bug</td>\n",
              "      <td>2021-01-02T20:55:34Z</td>\n",
              "      <td>OWNER</td>\n",
              "      <td>https://api.github.com/repos/DrWhoCares/imgdanke</td>\n",
              "      <td>Processes are being started twice</td>\n",
              "      <td>At some point I refactored a few things and en...</td>\n",
              "    </tr>\n",
              "    <tr>\n",
              "      <th>4</th>\n",
              "      <td>54</td>\n",
              "      <td>https://api.github.com/repos/Bean-1/AOT/issues/3</td>\n",
              "      <td>bug</td>\n",
              "      <td>2020-12-29T15:34:35Z</td>\n",
              "      <td>OWNER</td>\n",
              "      <td>https://api.github.com/repos/Bean-1/AOT</td>\n",
              "      <td>Cannot add hp to wall</td>\n",
              "      <td>NaN</td>\n",
              "    </tr>\n",
              "  </tbody>\n",
              "</table>\n",
              "</div>\n",
              "    <div class=\"colab-df-buttons\">\n",
              "\n",
              "  <div class=\"colab-df-container\">\n",
              "    <button class=\"colab-df-convert\" onclick=\"convertToInteractive('df-a7e9149f-e512-4806-bd8c-328839ed41d8')\"\n",
              "            title=\"Convert this dataframe to an interactive table.\"\n",
              "            style=\"display:none;\">\n",
              "\n",
              "  <svg xmlns=\"http://www.w3.org/2000/svg\" height=\"24px\" viewBox=\"0 -960 960 960\">\n",
              "    <path d=\"M120-120v-720h720v720H120Zm60-500h600v-160H180v160Zm220 220h160v-160H400v160Zm0 220h160v-160H400v160ZM180-400h160v-160H180v160Zm440 0h160v-160H620v160ZM180-180h160v-160H180v160Zm440 0h160v-160H620v160Z\"/>\n",
              "  </svg>\n",
              "    </button>\n",
              "\n",
              "  <style>\n",
              "    .colab-df-container {\n",
              "      display:flex;\n",
              "      gap: 12px;\n",
              "    }\n",
              "\n",
              "    .colab-df-convert {\n",
              "      background-color: #E8F0FE;\n",
              "      border: none;\n",
              "      border-radius: 50%;\n",
              "      cursor: pointer;\n",
              "      display: none;\n",
              "      fill: #1967D2;\n",
              "      height: 32px;\n",
              "      padding: 0 0 0 0;\n",
              "      width: 32px;\n",
              "    }\n",
              "\n",
              "    .colab-df-convert:hover {\n",
              "      background-color: #E2EBFA;\n",
              "      box-shadow: 0px 1px 2px rgba(60, 64, 67, 0.3), 0px 1px 3px 1px rgba(60, 64, 67, 0.15);\n",
              "      fill: #174EA6;\n",
              "    }\n",
              "\n",
              "    .colab-df-buttons div {\n",
              "      margin-bottom: 4px;\n",
              "    }\n",
              "\n",
              "    [theme=dark] .colab-df-convert {\n",
              "      background-color: #3B4455;\n",
              "      fill: #D2E3FC;\n",
              "    }\n",
              "\n",
              "    [theme=dark] .colab-df-convert:hover {\n",
              "      background-color: #434B5C;\n",
              "      box-shadow: 0px 1px 3px 1px rgba(0, 0, 0, 0.15);\n",
              "      filter: drop-shadow(0px 1px 2px rgba(0, 0, 0, 0.3));\n",
              "      fill: #FFFFFF;\n",
              "    }\n",
              "  </style>\n",
              "\n",
              "    <script>\n",
              "      const buttonEl =\n",
              "        document.querySelector('#df-a7e9149f-e512-4806-bd8c-328839ed41d8 button.colab-df-convert');\n",
              "      buttonEl.style.display =\n",
              "        google.colab.kernel.accessAllowed ? 'block' : 'none';\n",
              "\n",
              "      async function convertToInteractive(key) {\n",
              "        const element = document.querySelector('#df-a7e9149f-e512-4806-bd8c-328839ed41d8');\n",
              "        const dataTable =\n",
              "          await google.colab.kernel.invokeFunction('convertToInteractive',\n",
              "                                                    [key], {});\n",
              "        if (!dataTable) return;\n",
              "\n",
              "        const docLinkHtml = 'Like what you see? Visit the ' +\n",
              "          '<a target=\"_blank\" href=https://colab.research.google.com/notebooks/data_table.ipynb>data table notebook</a>'\n",
              "          + ' to learn more about interactive tables.';\n",
              "        element.innerHTML = '';\n",
              "        dataTable['output_type'] = 'display_data';\n",
              "        await google.colab.output.renderOutput(dataTable, element);\n",
              "        const docLink = document.createElement('div');\n",
              "        docLink.innerHTML = docLinkHtml;\n",
              "        element.appendChild(docLink);\n",
              "      }\n",
              "    </script>\n",
              "  </div>\n",
              "\n",
              "\n",
              "<div id=\"df-0537ddea-8df3-4354-969d-3f60115c97f2\">\n",
              "  <button class=\"colab-df-quickchart\" onclick=\"quickchart('df-0537ddea-8df3-4354-969d-3f60115c97f2')\"\n",
              "            title=\"Suggest charts\"\n",
              "            style=\"display:none;\">\n",
              "\n",
              "<svg xmlns=\"http://www.w3.org/2000/svg\" height=\"24px\"viewBox=\"0 0 24 24\"\n",
              "     width=\"24px\">\n",
              "    <g>\n",
              "        <path d=\"M19 3H5c-1.1 0-2 .9-2 2v14c0 1.1.9 2 2 2h14c1.1 0 2-.9 2-2V5c0-1.1-.9-2-2-2zM9 17H7v-7h2v7zm4 0h-2V7h2v10zm4 0h-2v-4h2v4z\"/>\n",
              "    </g>\n",
              "</svg>\n",
              "  </button>\n",
              "\n",
              "<style>\n",
              "  .colab-df-quickchart {\n",
              "      --bg-color: #E8F0FE;\n",
              "      --fill-color: #1967D2;\n",
              "      --hover-bg-color: #E2EBFA;\n",
              "      --hover-fill-color: #174EA6;\n",
              "      --disabled-fill-color: #AAA;\n",
              "      --disabled-bg-color: #DDD;\n",
              "  }\n",
              "\n",
              "  [theme=dark] .colab-df-quickchart {\n",
              "      --bg-color: #3B4455;\n",
              "      --fill-color: #D2E3FC;\n",
              "      --hover-bg-color: #434B5C;\n",
              "      --hover-fill-color: #FFFFFF;\n",
              "      --disabled-bg-color: #3B4455;\n",
              "      --disabled-fill-color: #666;\n",
              "  }\n",
              "\n",
              "  .colab-df-quickchart {\n",
              "    background-color: var(--bg-color);\n",
              "    border: none;\n",
              "    border-radius: 50%;\n",
              "    cursor: pointer;\n",
              "    display: none;\n",
              "    fill: var(--fill-color);\n",
              "    height: 32px;\n",
              "    padding: 0;\n",
              "    width: 32px;\n",
              "  }\n",
              "\n",
              "  .colab-df-quickchart:hover {\n",
              "    background-color: var(--hover-bg-color);\n",
              "    box-shadow: 0 1px 2px rgba(60, 64, 67, 0.3), 0 1px 3px 1px rgba(60, 64, 67, 0.15);\n",
              "    fill: var(--button-hover-fill-color);\n",
              "  }\n",
              "\n",
              "  .colab-df-quickchart-complete:disabled,\n",
              "  .colab-df-quickchart-complete:disabled:hover {\n",
              "    background-color: var(--disabled-bg-color);\n",
              "    fill: var(--disabled-fill-color);\n",
              "    box-shadow: none;\n",
              "  }\n",
              "\n",
              "  .colab-df-spinner {\n",
              "    border: 2px solid var(--fill-color);\n",
              "    border-color: transparent;\n",
              "    border-bottom-color: var(--fill-color);\n",
              "    animation:\n",
              "      spin 1s steps(1) infinite;\n",
              "  }\n",
              "\n",
              "  @keyframes spin {\n",
              "    0% {\n",
              "      border-color: transparent;\n",
              "      border-bottom-color: var(--fill-color);\n",
              "      border-left-color: var(--fill-color);\n",
              "    }\n",
              "    20% {\n",
              "      border-color: transparent;\n",
              "      border-left-color: var(--fill-color);\n",
              "      border-top-color: var(--fill-color);\n",
              "    }\n",
              "    30% {\n",
              "      border-color: transparent;\n",
              "      border-left-color: var(--fill-color);\n",
              "      border-top-color: var(--fill-color);\n",
              "      border-right-color: var(--fill-color);\n",
              "    }\n",
              "    40% {\n",
              "      border-color: transparent;\n",
              "      border-right-color: var(--fill-color);\n",
              "      border-top-color: var(--fill-color);\n",
              "    }\n",
              "    60% {\n",
              "      border-color: transparent;\n",
              "      border-right-color: var(--fill-color);\n",
              "    }\n",
              "    80% {\n",
              "      border-color: transparent;\n",
              "      border-right-color: var(--fill-color);\n",
              "      border-bottom-color: var(--fill-color);\n",
              "    }\n",
              "    90% {\n",
              "      border-color: transparent;\n",
              "      border-bottom-color: var(--fill-color);\n",
              "    }\n",
              "  }\n",
              "</style>\n",
              "\n",
              "  <script>\n",
              "    async function quickchart(key) {\n",
              "      const quickchartButtonEl =\n",
              "        document.querySelector('#' + key + ' button');\n",
              "      quickchartButtonEl.disabled = true;  // To prevent multiple clicks.\n",
              "      quickchartButtonEl.classList.add('colab-df-spinner');\n",
              "      try {\n",
              "        const charts = await google.colab.kernel.invokeFunction(\n",
              "            'suggestCharts', [key], {});\n",
              "      } catch (error) {\n",
              "        console.error('Error during call to suggestCharts:', error);\n",
              "      }\n",
              "      quickchartButtonEl.classList.remove('colab-df-spinner');\n",
              "      quickchartButtonEl.classList.add('colab-df-quickchart-complete');\n",
              "    }\n",
              "    (() => {\n",
              "      let quickchartButtonEl =\n",
              "        document.querySelector('#df-0537ddea-8df3-4354-969d-3f60115c97f2 button');\n",
              "      quickchartButtonEl.style.display =\n",
              "        google.colab.kernel.accessAllowed ? 'block' : 'none';\n",
              "    })();\n",
              "  </script>\n",
              "</div>\n",
              "\n",
              "    </div>\n",
              "  </div>\n"
            ],
            "application/vnd.google.colaboratory.intrinsic+json": {
              "type": "dataframe",
              "variable_name": "test",
              "summary": "{\n  \"name\": \"test\",\n  \"rows\": 80518,\n  \"fields\": [\n    {\n      \"column\": \"Unnamed: 0\",\n      \"properties\": {\n        \"dtype\": \"number\",\n        \"std\": 232130,\n        \"min\": 6,\n        \"max\": 803401,\n        \"num_unique_values\": 80518,\n        \"samples\": [\n          326347,\n          747163,\n          164870\n        ],\n        \"semantic_type\": \"\",\n        \"description\": \"\"\n      }\n    },\n    {\n      \"column\": \"issue_url\",\n      \"properties\": {\n        \"dtype\": \"string\",\n        \"num_unique_values\": 80138,\n        \"samples\": [\n          \"https://api.github.com/repos/austinhuang0131/barinsta/issues/1075\",\n          \"https://api.github.com/repos/Lovely-Development-Team/MottoBotto/issues/208\",\n          \"https://api.github.com/repos/ueberdosis/tiptap/issues/1261\"\n        ],\n        \"semantic_type\": \"\",\n        \"description\": \"\"\n      }\n    },\n    {\n      \"column\": \"issue_label\",\n      \"properties\": {\n        \"dtype\": \"category\",\n        \"num_unique_values\": 3,\n        \"samples\": [\n          \"enhancement\",\n          \"bug\",\n          \"question\"\n        ],\n        \"semantic_type\": \"\",\n        \"description\": \"\"\n      }\n    },\n    {\n      \"column\": \"issue_created_at\",\n      \"properties\": {\n        \"dtype\": \"object\",\n        \"num_unique_values\": 79974,\n        \"samples\": [\n          \"2020-09-09T22:17:05Z\",\n          \"2021-02-12T20:27:21Z\",\n          \"2020-12-01T06:39:26Z\"\n        ],\n        \"semantic_type\": \"\",\n        \"description\": \"\"\n      }\n    },\n    {\n      \"column\": \"issue_author_association\",\n      \"properties\": {\n        \"dtype\": \"category\",\n        \"num_unique_values\": 5,\n        \"samples\": [\n          \"OWNER\",\n          \"CONTRIBUTOR\",\n          \"COLLABORATOR\"\n        ],\n        \"semantic_type\": \"\",\n        \"description\": \"\"\n      }\n    },\n    {\n      \"column\": \"repository_url\",\n      \"properties\": {\n        \"dtype\": \"category\",\n        \"num_unique_values\": 37817,\n        \"samples\": [\n          \"https://api.github.com/repos/gitgitgadget/git\",\n          \"https://api.github.com/repos/agustinxmtz/robot-gladiators\",\n          \"https://api.github.com/repos/maven-download-plugin/maven-download-plugin\"\n        ],\n        \"semantic_type\": \"\",\n        \"description\": \"\"\n      }\n    },\n    {\n      \"column\": \"issue_title\",\n      \"properties\": {\n        \"dtype\": \"string\",\n        \"num_unique_values\": 78322,\n        \"samples\": [\n          \"Crash on server join\",\n          \"Fix Knockback issues\",\n          \"Monomer filtering on name and symbol is exact match and not 'contains'\"\n        ],\n        \"semantic_type\": \"\",\n        \"description\": \"\"\n      }\n    },\n    {\n      \"column\": \"issue_body\",\n      \"properties\": {\n        \"dtype\": \"string\",\n        \"num_unique_values\": 71192,\n        \"samples\": [\n          \"We have tried to backup and restore our PGO cluster and continue to have issues each time we try, in particular with PITR options, but also otherwise. We have tried with the local backrest and with S3 with similar results, and using the most basic cluster without any parameters to local storage also fails to restore.\\r\\n\\r\\nWe have tested on separate Kubernetes clusters with PGO 4.6.1 installed with the same results.\\r\\n\\r\\nWe can see that a bootstrap pod starts up after the restore command is issues, and goes into error state as explained in the step below. This is about the most basic cluster creation and PITR restore operation we could think of to demonstrate the issue.\\r\\n\\r\\nWe are not sure if this is isolated to PGO v4.6.1, however, would expect the latest version to work out of the box.\\r\\n\\r\\nThank you in advance for any assistance.\\r\\n\\r\\n**Expected behavior**\\r\\nWe expect the backup to restore our Postgres data without errors occurring.\\r\\n\\r\\n* Operating System:\\r\\nK3s Kubernetes 1.19 running on 3 Ubuntu 20.04 nodes\\r\\n\\r\\n* Where is this running ( Local, Cloud Provider)\\r\\nRemotely on prem\\r\\n\\r\\n* Storage being used (NFS, Hostpath, Gluster, etc):\\r\\nlocal-path (k3s Kubernetes default), or S3 for the backrest (tried both - same results)\\r\\n\\r\\nHere are the details with steps we took:\\r\\n\\t\\t\\r\\nStep 1:\\r\\n=======\\r\\nCreated the cluster.\\r\\n\\r\\n> pgo create cluster pgtest\\r\\n\\r\\ncreated cluster: pgtest\\r\\nworkflow id: e42a3ab7-e7ed-4961-97ef-d8f6fc832d02\\r\\ndatabase name: pgtest\\r\\nusers:\\r\\n        username: testuser password: ***************\\r\\n\\t\\t\\r\\n\\r\\nStep 2:\\r\\n=======\\r\\n> pgo show backup pgtest\\r\\n\\r\\ncluster: pgtest\\r\\nstorage type: posix\\r\\n\\r\\nstanza: db\\r\\n    status: ok\\r\\n    cipher: none\\r\\n\\r\\n    db (current)\\r\\n        wal archive min/max (13-1)\\r\\n\\r\\n        full backup: 20210423-210024F\\r\\n            timestamp start/stop: 2021-04-23 18:00:24 -0300 ADT / 2021-04-23 18:00:31 -0300 ADT\\r\\n            wal start/stop: 000000010000000000000002 / 000000010000000000000002\\r\\n            database size: 31.0MiB, backup size: 31.0MiB\\r\\n            repository size: 3.8MiB, repository backup size: 3.8MiB\\r\\n            backup reference list:\\r\\n\\r\\nStep 3:\\r\\n=======\\r\\nCreated a schema and a table with some data inserted in it\\r\\n\\r\\nStep 4:\\r\\n=======\\r\\nRan another backup\\r\\n> pgo backup pgtest\\r\\ncreated Pgtask backrest-backup-pgtest\\r\\n\\r\\n> pgo show backup pgtest\\r\\n\\r\\ncluster: pgtest\\r\\nstorage type: posix\\r\\n\\r\\nstanza: db\\r\\n    status: ok\\r\\n    cipher: none\\r\\n\\r\\n    db (current)\\r\\n        wal archive min/max (13-1)\\r\\n\\r\\n        full backup: 20210423-210024F\\r\\n            timestamp start/stop: 2021-04-23 18:00:24 -0300 ADT / 2021-04-23 18:00:31 -0300 ADT\\r\\n            wal start/stop: 000000010000000000000002 / 000000010000000000000002\\r\\n            database size: 31.0MiB, backup size: 31.0MiB\\r\\n            repository size: 3.8MiB, repository backup size: 3.8MiB\\r\\n            backup reference list:\\r\\n\\r\\n        incr backup: 20210423-210024F_20210423-211131I\\r\\n            timestamp start/stop: 2021-04-23 18:11:31 -0300 ADT / 2021-04-23 18:11:32 -0300 ADT\\r\\n            wal start/stop: 00000001000000000000000B / 00000001000000000000000B\\r\\n            database size: 31.0MiB, backup size: 4.2MiB\\r\\n            repository size: 3.8MiB, repository backup size: 526.2KiB\\r\\n            backup reference list: 20210423-210024F\\r\\n\\r\\n\\r\\nStep 5:\\r\\n=======\\r\\nRestore to a point in time:\\r\\n> pgo restore pgtest --pitr-target=\\\"2021-04-23 18:01:00\\\" --backup-opts=\\\"--type=time\\\"\\r\\nIf currently running, the primary database in this cluster will be stopped and recreated as part of this workflow!\\r\\nWARNING: Are you sure? (yes/no): yes\\r\\nrestore request for pgtest with opts \\\"--type=time\\\" and pitr-target=\\\"2021-04-23 18:01:00\\\"\\r\\nworkflow id 31550c97-04e1-427d-be00-003e3e8df593\\r\\n\\r\\n> pgo show workflow 31550c97-04e1-427d-be00-003e3e8df593 -n pgo --debug\\r\\nDEBU[0000] debug flag is set to true\\r\\nDEBU[0000] in initConfig with url=https://127.0.0.1:8443\\r\\nDEBU[0000] using PGO_NAMESPACE env var pgo\\r\\nDEBU[0000] GetSessionCredentials called\\r\\nDEBU[0000] PGOUSER environment variable is being used at /home/bborovan/.pgo/pgo/pgouser\\r\\nDEBU[0000] pgouser file found at /home/bborovan/.pgo/pgo/pgouser contains admin:examplepassword\\r\\nDEBU[0000] [admin examplepassword]\\r\\nDEBU[0000] username=[admin] password=[examplepassword]\\r\\nDEBU[0000] setting up httpclient with TLS\\r\\nDEBU[0000] GetTLSTransport called\\r\\nDEBU[0000] showWorkflow called [31550c97-04e1-427d-be00-003e3e8df593]\\r\\nDEBU[0000] ShowWorkflow called...[https://127.0.0.1:8443/workflow/31550c97-04e1-427d-be00-003e3e8df593?version=4.6.1&namespace=pgo]\\r\\nDEBU[0000] &{200 OK 200 HTTP/1.1 1 1 map[Content-Length:[232] Content-Type:[application/json] Date:[Fri, 23 Apr 2021 21:17:22 GMT] Www-Authenticate:[Basic realm=\\\"Restricted\\\"]] 0xc000546080 232 [] false false map[] 0xc0004c6200 0xc000832160}\\r\\nDEBU[0000] http status code is 200\\r\\nDEBU[0000] response = {{pgtest map[pg-cluster:pgtest restore job created:2021-04-23T21:15:18Z task submitted:2021-04-23T21:15:17Z workflowid:31550c97-04e1-427d-be00-003e3e8df593]} {ok }}\\r\\nparameter           value\\r\\n---------           -----\\r\\npg-cluster          pgtest\\r\\nrestore job created 2021-04-23T21:15:18Z\\r\\ntask submitted      2021-04-23T21:15:17Z\\r\\nworkflowid          31550c97-04e1-427d-be00-003e3e8df593\\r\\n\\r\\n\\r\\n> kubectl get po -n pgo\\r\\nNAME                                         READY   STATUS      RESTARTS   AGE\\r\\npgo-deploy-l894d                             0/1     Completed   0          12d\\r\\npgtest-backrest-shared-repo-87ff7b74-x6fl7   1/1     Running     0          18m\\r\\npgtest-bootstrap-94wdv                       0/1     Error       0          3m14s\\r\\npgtest-bootstrap-c9tbr                       1/1     Running     0          3m10s\\r\\npostgres-operator-6b76954d64-5sq4c           4/4     Running     0          12d\\r\\n\\r\\n\\r\\n\\r\\nYou can see the bootstrap is in error.\\r\\n\\r\\n> kubectl logs pgtest-bootstrap-94wdv -n pgo\\r\\nFri Apr 23 21:15:19 UTC 2021 INFO: postgres-ha pre-bootstrap starting...\\r\\nFri Apr 23 21:15:19 UTC 2021 INFO: pgBackRest auto-config disabled\\r\\nFri Apr 23 21:15:19 UTC 2021 INFO: PGHA_PGBACKREST_LOCAL_S3_STORAGE and PGHA_PGBACKREST_INITIALIZE will be ignored if provided\\r\\nFri Apr 23 21:15:19 UTC 2021 INFO: Defaults have been set for the following postgres-ha auto-configuration env vars: PGHA_DEFAULT_CONFIG, PGHA_BASE_BOOTSTRAP_CONFIG, PGHA_BASE_PG_CONFIG\\r\\nFri Apr 23 21:15:19 UTC 2021 INFO: Defaults have been set for the following postgres-ha env vars: PGHA_PATRONI_PORT\\r\\nFri Apr 23 21:15:19 UTC 2021 INFO: Defaults have been set for the following Patroni env vars: PATRONI_NAME, PATRONI_RESTAPI_LISTEN, PATRONI_RESTAPI_CONNECT_ADDRESS, PATRONI_POSTGRESQL_LISTEN, PATRONI_POSTGRESQL_CONNECT_ADDRESS\\r\\nFri Apr 23 21:15:19 UTC 2021 INFO: Setting postgres-ha configuration for database user credentials\\r\\nFri Apr 23 21:15:19 UTC 2021 INFO: Setting 'pguser' credentials using file system\\r\\nFri Apr 23 21:15:19 UTC 2021 INFO: Setting 'superuser' credentials using file system\\r\\nFri Apr 23 21:15:19 UTC 2021 INFO: Setting 'replicator' credentials using file system\\r\\nFri Apr 23 21:15:19 UTC 2021 INFO: Applying base bootstrap config to postgres-ha configuration\\r\\nFri Apr 23 21:15:19 UTC 2021 INFO: Applying base postgres config to postgres-ha configuration\\r\\nFri Apr 23 21:15:19 UTC 2021 INFO: Applying pgbackrest config to postgres-ha configuration\\r\\nFri Apr 23 21:15:19 UTC 2021 INFO: Applying standard (non-TLS) remote connection configuration to pg_hba.conf\\r\\nFri Apr 23 21:15:19 UTC 2021 INFO: Disabling archive mode for bootstrap method pgbackrest_init\\r\\nFri Apr 23 21:15:19 UTC 2021 INFO: Custom postgres-ha configuration file not detected\\r\\nFri Apr 23 21:15:19 UTC 2021 INFO: Finished building postgres-ha configuration file '/tmp/postgres-ha-bootstrap.yaml'\\r\\nFri Apr 23 21:15:19 UTC 2021 INFO: Detected cluster initialization using an existing PGDATA directory\\r\\nFri Apr 23 21:15:19 UTC 2021 INFO: postgres-ha pre-bootstrap complete!  The following configuration will be utilized to initialize\\r\\n******************************\\r\\npostgres-ha (PGHA) env vars:\\r\\n******************************\\r\\nPGHA_BASE_PG_CONFIG=true\\r\\nPGHA_PATRONI_PORT=8009\\r\\nPGHA_PG_PORT=5432\\r\\nPGHA_PGBACKREST_LOCAL_S3_STORAGE=false\\r\\nPGHA_SYNC_REPLICATION=false\\r\\nPGHA_USER=postgres\\r\\nPGHA_INIT=true\\r\\nPGHA_DEFAULT_CONFIG=true\\r\\nPGHA_REPLICA_REINIT_ON_START_FAIL=true\\r\\nPGHA_PGBACKREST=true\\r\\nPGHA_BASE_BOOTSTRAP_CONFIG=true\\r\\nPGHA_STANDBY=false\\r\\nPGHA_BOOTSTRAP_METHOD=pgbackrest_init\\r\\nPGHA_TLS_ONLY=false\\r\\nPGHA_TLS_ENABLED=false\\r\\nPGHA_DATABASE=pgtest\\r\\n******************************\\r\\nPatroni env vars:\\r\\n******************************\\r\\nPATRONI_POSTGRESQL_CONNECT_ADDRESS=10.42.1.71:5432\\r\\nPATRONI_POSTGRESQL_LISTEN=0.0.0.0:5432\\r\\nPATRONI_NAME=pgtest-bootstrap-94wdv\\r\\nPATRONI_SCOPE=pgtest\\r\\nPATRONI_RESTAPI_LISTEN=0.0.0.0:8009\\r\\nPATRONI_POSTGRESQL_DATA_DIR=/pgdata/pgtest\\r\\nPATRONI_RESTAPI_CONNECT_ADDRESS=10.42.1.71:8009\\r\\nPATRONI_LOG_LEVEL=INFO\\r\\nPATRONI_KUBERNETES_LABELS={vendor: \\\"crunchydata\\\"}\\r\\nPATRONI_KUBERNETES_SCOPE_LABEL=crunchy-pgha-scope\\r\\nPATRONI_KUBERNETES_NAMESPACE=pgo\\r\\n******************************\\r\\nPatroni bootstrap method: pgbackrest_init\\r\\n******************************\\r\\nPatroni configuration file:\\r\\n******************************\\r\\nbootstrap:\\r\\n  method: pgbackrest_init\\r\\n  pgbackrest_init:\\r\\n    command: '/opt/crunchy/bin/postgres-ha/pgbackrest/pgbackrest-create-replica.sh\\r\\n      primary'\\r\\n    keep_existing_recovery_conf: true\\r\\n  existing_init:\\r\\n    command: '/opt/crunchy/bin/postgres-ha/bootstrap/create-from-existing.sh'\\r\\n    keep_existing_recovery_conf: true\\r\\n  dcs:\\r\\n    postgresql:\\r\\n      parameters:\\r\\n        jit: off\\r\\n        unix_socket_directories: /tmp\\r\\n        wal_level: logical\\r\\n        archive_mode: on\\r\\n        archive_command: 'source /opt/crunchy/bin/postgres-ha/pgbackrest/pgbackrest-set-env.sh\\r\\n          && pgbackrest archive-push \\\"%p\\\"'\\r\\n        archive_timeout: 60\\r\\n        log_directory: pg_log\\r\\n        shared_buffers: 128MB\\r\\n        temp_buffers: 8MB\\r\\n        log_min_duration_statement: 60000\\r\\n        log_statement: none\\r\\n        work_mem: 4MB\\r\\n        max_wal_senders: 6\\r\\n        shared_preload_libraries: pgaudit.so,pg_stat_statements.so,pgnodemx.so\\r\\n      use_slots: false\\r\\n      recovery_conf:\\r\\n        restore_command: 'source /opt/crunchy/bin/postgres-ha/pgbackrest/pgbackrest-set-env.sh\\r\\n          && pgbackrest archive-get %f \\\"%p\\\"'\\r\\n      use_pg_rewind: true\\r\\n  post_bootstrap: /opt/crunchy/bin/postgres-ha/bootstrap/post-bootstrap.sh\\r\\n  initdb:\\r\\n  - encoding: UTF8\\r\\n  - data-checksums\\r\\npostgresql:\\r\\n  use_unix_socket: true\\r\\n  pgpass: /tmp/.pgpass\\r\\n  create_replica_methods:\\r\\n  - pgbackrest\\r\\n  - basebackup\\r\\n  pgbackrest:\\r\\n    command: '/opt/crunchy/bin/postgres-ha/pgbackrest/pgbackrest-create-replica.sh\\r\\n      replica'\\r\\n    keep_data: true\\r\\n    no_params: true\\r\\n  pgbackrest_standby:\\r\\n    command: '/opt/crunchy/bin/postgres-ha/pgbackrest/pgbackrest-create-replica.sh\\r\\n      standby'\\r\\n    keep_data: true\\r\\n    no_params: true\\r\\n    no_master: 1\\r\\n  remove_data_directory_on_rewind_failure: true\\r\\n  callbacks:\\r\\n    on_role_change: /opt/crunchy/bin/postgres-ha/callbacks/pgha-on-role-change.sh\\r\\n  parameters:\\r\\n    archive_mode: off\\r\\n  pg_hba:\\r\\n  - local all postgres peer\\r\\n  - host replication primaryuser 0.0.0.0/0 md5\\r\\n  - host all primaryuser 0.0.0.0/0 reject\\r\\n  - host all all 0.0.0.0/0 md5\\r\\nFri Apr 23 21:15:19 UTC 2021 INFO: Applying SSHD..\\r\\nFri Apr 23 21:15:19 UTC 2021 INFO: Checking for SSH Host Keys in /sshd..\\r\\nFri Apr 23 21:15:19 UTC 2021 INFO: Checking for authorized_keys in /sshd\\r\\nFri Apr 23 21:15:19 UTC 2021 INFO: Checking for sshd_config in /sshd\\r\\nFri Apr 23 21:15:19 UTC 2021 INFO: setting up .ssh directory\\r\\nFri Apr 23 21:15:19 UTC 2021 INFO: Starting SSHD..\\r\\nFri Apr 23 21:15:19 UTC 2021 INFO: Starting background process to monitor Patroni initization and restart the database if needed\\r\\nFri Apr 23 21:15:19 UTC 2021 INFO: Initializing cluster bootstrap with command: '/usr/local/bin/patroni /tmp/postgres-ha-bootstrap.yaml'\\r\\nFri Apr 23 21:15:19 UTC 2021 INFO: Patroni will not run as PID 1. Creating signal handler\\r\\n2021-04-23 21:15:20,080 INFO: No PostgreSQL configuration items changed, nothing to reload.\\r\\n2021-04-23 21:15:20,083 INFO: Lock owner: None; I am pgtest-bootstrap-94wdv\\r\\n2021-04-23 21:15:20,100 INFO: trying to bootstrap a new cluster\\r\\n2021-04-23 21:15:20,100 INFO: Running custom bootstrap script: /opt/crunchy/bin/postgres-ha/pgbackrest/pgbackrest-create-replica.sh primary\\r\\nFri Apr 23 21:15:20 UTC 2021 INFO: Valid PGDATA dir found for primary, a delta restore will be peformed\\r\\nWARN: unable to find backup set with stop time less than '2021-04-23 18:01:00', latest backup set will be used\\r\\nFri Apr 23 21:15:21 UTC 2021 INFO: primary pgBackRest restore complete\\r\\n2021-04-23 21:15:21,195 INFO: postmaster pid=177\\r\\n2021-04-23 21:15:21.197 UTC [177] LOG:  pgaudit extension initialized\\r\\n2021-04-23 21:15:21.199 UTC [177] WARNING:  pgnodemx: Kubernetes Downward API path /etc/podinfo does not exist: No such file or directory\\r\\n2021-04-23 21:15:21.199 UTC [177] DETAIL:  disabling Kubernetes Downward API file system access\\r\\n/tmp:5432 - no response\\r\\n2021-04-23 21:15:21.209 UTC [177] LOG:  redirecting log output to logging collector process\\r\\n2021-04-23 21:15:21.209 UTC [177] HINT:  Future log output will appear in directory \\\"pg_log\\\".\\r\\n/tmp:5432 - accepting connections\\r\\n/tmp:5432 - no response\\r\\n2021-04-23 21:15:22,218 INFO: removing initialize key after failed attempt to bootstrap the cluster\\r\\n2021-04-23 21:15:22,226 INFO: renaming data directory to /pgdata/pgtest_2021-04-23-21-15-22\\r\\nTraceback (most recent call last):\\r\\n  File \\\"/usr/local/bin/patroni\\\", line 11, in <module>\\r\\n    sys.exit(main())\\r\\n  File \\\"/usr/local/lib/python3.6/site-packages/patroni/__init__.py\\\", line 170, in main\\r\\n    return patroni_main()\\r\\n  File \\\"/usr/local/lib/python3.6/site-packages/patroni/__init__.py\\\", line 138, in patroni_main\\r\\n    abstract_main(Patroni, schema)\\r\\n  File \\\"/usr/local/lib/python3.6/site-packages/patroni/daemon.py\\\", line 100, in abstract_main\\r\\n    controller.run()\\r\\n  File \\\"/usr/local/lib/python3.6/site-packages/patroni/__init__.py\\\", line 108, in run\\r\\n    super(Patroni, self).run()\\r\\n  File \\\"/usr/local/lib/python3.6/site-packages/patroni/daemon.py\\\", line 59, in run\\r\\n    self._run_cycle()\\r\\n  File \\\"/usr/local/lib/python3.6/site-packages/patroni/__init__.py\\\", line 111, in _run_cycle\\r\\n    logger.info(self.ha.run_cycle())\\r\\n  File \\\"/usr/local/lib/python3.6/site-packages/patroni/ha.py\\\", line 1452, in run_cycle\\r\\n    info = self._run_cycle()\\r\\n  File \\\"/usr/local/lib/python3.6/site-packages/patroni/ha.py\\\", line 1346, in _run_cycle\\r\\n    return self.post_bootstrap()\\r\\n  File \\\"/usr/local/lib/python3.6/site-packages/patroni/ha.py\\\", line 1242, in post_bootstrap\\r\\n    self.cancel_initialization()\\r\\n  File \\\"/usr/local/lib/python3.6/site-packages/patroni/ha.py\\\", line 1235, in cancel_initialization\\r\\n    raise PatroniFatalException('Failed to bootstrap cluster')\\r\\npatroni.exceptions.PatroniFatalException: 'Failed to bootstrap cluster'\\r\\n\\r\\n\\r\\n\\r\\nUltimately we want to do this using a CRD with our own imakubectl logs pgtest-bootstrap-94wdv -n pgo\\r\\nFri Apr 23 21:15:19 UTC 2021 INFO: postgres-ha pre-bootstrap starting...\\r\\nFri Apr 23 21:15:19 UTC 2021 INFO: pgBackRest auto-config disabled\\r\\nFri Apr 23 21:15:19 UTC 2021 INFO: PGHA_PGBACKREST_LOCAL_S3_STORAGE and PGHA_PGBACKREST_INITIALIZE will be ignored if provided\\r\\nFri Apr 23 21:15:19 UTC 2021 INFO: Defaults have been set for the following postgres-ha auto-configuration env vars: PGHA_DEFAULT_CONFIG, PGHA_BASE_BOOTSTRAP_CONFIG, PGHA_BASE_PG_CONFIG\\r\\nFri Apr 23 21:15:19 UTC 2021 INFO: Defaults have been set for the following postgres-ha env vars: PGHA_PATRONI_PORT\\r\\nFri Apr 23 21:15:19 UTC 2021 INFO: Defaults have been set for the following Patroni env vars: PATRONI_NAME, PATRONI_RESTAPI_LISTEN, PATRONI_RESTAPI_CONNECT_ADDRESS, PATRONI_POSTGRESQL_LISTEN, PATRONI_POSTGRESQL_CONNECT_ADDRESS\\r\\nFri Apr 23 21:15:19 UTC 2021 INFO: Setting postgres-ha configuration for database user credentials\\r\\nFri Apr 23 21:15:19 UTC 2021 INFO: Setting 'pguser' credentials using file system\\r\\nFri Apr 23 21:15:19 UTC 2021 INFO: Setting 'superuser' credentials using file system\\r\\nFri Apr 23 21:15:19 UTC 2021 INFO: Setting 'replicator' credentials using file system\\r\\nFri Apr 23 21:15:19 UTC 2021 INFO: Applying base bootstrap config to postgres-ha configuration\\r\\nFri Apr 23 21:15:19 UTC 2021 INFO: Applying base postgres config to postgres-ha configuration\\r\\nFri Apr 23 21:15:19 UTC 2021 INFO: Applying pgbackrest config to postgres-ha configuration\\r\\nFri Apr 23 21:15:19 UTC 2021 INFO: Applying standard (non-TLS) remote connection configuration to pg_hba.conf\\r\\nFri Apr 23 21:15:19 UTC 2021 INFO: Disabling archive mode for bootstrap method pgbackrest_init\\r\\nFri Apr 23 21:15:19 UTC 2021 INFO: Custom postgres-ha configuration file not detected\\r\\nFri Apr 23 21:15:19 UTC 2021 INFO: Finished building postgres-ha configuration file '/tmp/postgres-ha-bootstrap.yaml'\\r\\nFri Apr 23 21:15:19 UTC 2021 INFO: Detected cluster initialization using an existing PGDATA directory\\r\\nFri Apr 23 21:15:19 UTC 2021 INFO: postgres-ha pre-bootstrap complete!  The following configuration will be utilized to initialize\\r\\n******************************\\r\\npostgres-ha (PGHA) env vars:\\r\\n******************************\\r\\nPGHA_BASE_PG_CONFIG=true\\r\\nPGHA_PATRONI_PORT=8009\\r\\nPGHA_PG_PORT=5432\\r\\nPGHA_PGBACKREST_LOCAL_S3_STORAGE=false\\r\\nPGHA_SYNC_REPLICATION=false\\r\\nPGHA_USER=postgres\\r\\nPGHA_INIT=true\\r\\nPGHA_DEFAULT_CONFIG=true\\r\\nPGHA_REPLICA_REINIT_ON_START_FAIL=true\\r\\nPGHA_PGBACKREST=true\\r\\nPGHA_BASE_BOOTSTRAP_CONFIG=true\\r\\nPGHA_STANDBY=false\\r\\nPGHA_BOOTSTRAP_METHOD=pgbackrest_init\\r\\nPGHA_TLS_ONLY=false\\r\\nPGHA_TLS_ENABLED=false\\r\\nPGHA_DATABASE=pgtest\\r\\n******************************\\r\\nPatroni env vars:\\r\\n******************************\\r\\nPATRONI_POSTGRESQL_CONNECT_ADDRESS=10.42.1.71:5432\\r\\nPATRONI_POSTGRESQL_LISTEN=0.0.0.0:5432\\r\\nPATRONI_NAME=pgtest-bootstrap-94wdv\\r\\nPATRONI_SCOPE=pgtest\\r\\nPATRONI_RESTAPI_LISTEN=0.0.0.0:8009\\r\\nPATRONI_POSTGRESQL_DATA_DIR=/pgdata/pgtest\\r\\nPATRONI_RESTAPI_CONNECT_ADDRESS=10.42.1.71:8009\\r\\nPATRONI_LOG_LEVEL=INFO\\r\\nPATRONI_KUBERNETES_LABELS={vendor: \\\"crunchydata\\\"}\\r\\nPATRONI_KUBERNETES_SCOPE_LABEL=crunchy-pgha-scope\\r\\nPATRONI_KUBERNETES_NAMESPACE=pgo\\r\\n******************************\\r\\nPatroni bootstrap method: pgbackrest_init\\r\\n******************************\\r\\nPatroni configuration file:\\r\\n******************************\\r\\nbootstrap:\\r\\n  method: pgbackrest_init\\r\\n  pgbackrest_init:\\r\\n    command: '/opt/crunchy/bin/postgres-ha/pgbackrest/pgbackrest-create-replica.sh\\r\\n      primary'\\r\\n    keep_existing_recovery_conf: true\\r\\n  existing_init:\\r\\n    command: '/opt/crunchy/bin/postgres-ha/bootstrap/create-from-existing.sh'\\r\\n    keep_existing_recovery_conf: true\\r\\n  dcs:\\r\\n    postgresql:\\r\\n      parameters:\\r\\n        jit: off\\r\\n        unix_socket_directories: /tmp\\r\\n        wal_level: logical\\r\\n        archive_mode: on\\r\\n        archive_command: 'source /opt/crunchy/bin/postgres-ha/pgbackrest/pgbackrest-set-env.sh\\r\\n          && pgbackrest archive-push \\\"%p\\\"'\\r\\n        archive_timeout: 60\\r\\n        log_directory: pg_log\\r\\n        shared_buffers: 128MB\\r\\n        temp_buffers: 8MB\\r\\n        log_min_duration_statement: 60000\\r\\n        log_statement: none\\r\\n        work_mem: 4MB\\r\\n        max_wal_senders: 6\\r\\n        shared_preload_libraries: pgaudit.so,pg_stat_statements.so,pgnodemx.so\\r\\n      use_slots: false\\r\\n      recovery_conf:\\r\\n        restore_command: 'source /opt/crunchy/bin/postgres-ha/pgbackrest/pgbackrest-set-env.sh\\r\\n          && pgbackrest archive-get %f \\\"%p\\\"'\\r\\n      use_pg_rewind: true\\r\\n  post_bootstrap: /opt/crunchy/bin/postgres-ha/bootstrap/post-bootstrap.sh\\r\\n  initdb:\\r\\n  - encoding: UTF8\\r\\n  - data-checksums\\r\\npostgresql:\\r\\n  use_unix_socket: true\\r\\n  pgpass: /tmp/.pgpass\\r\\n  create_replica_methods:\\r\\n  - pgbackrest\\r\\n  - basebackup\\r\\n  pgbackrest:\\r\\n    command: '/opt/crunchy/bin/postgres-ha/pgbackrest/pgbackrest-create-replica.sh\\r\\n      replica'\\r\\n    keep_data: true\\r\\n    no_params: true\\r\\n  pgbackrest_standby:\\r\\n    command: '/opt/crunchy/bin/postgres-ha/pgbackrest/pgbackrest-create-replica.sh\\r\\n      standby'\\r\\n    keep_data: true\\r\\n    no_params: true\\r\\n    no_master: 1\\r\\n  remove_data_directory_on_rewind_failure: true\\r\\n  callbacks:\\r\\n    on_role_change: /opt/crunchy/bin/postgres-ha/callbacks/pgha-on-role-change.sh\\r\\n  parameters:\\r\\n    archive_mode: off\\r\\n  pg_hba:\\r\\n  - local all postgres peer\\r\\n  - host replication primaryuser 0.0.0.0/0 md5\\r\\n  - host all primaryuser 0.0.0.0/0 reject\\r\\n  - host all all 0.0.0.0/0 md5\\r\\nFri Apr 23 21:15:19 UTC 2021 INFO: Applying SSHD..\\r\\nFri Apr 23 21:15:19 UTC 2021 INFO: Checking for SSH Host Keys in /sshd..\\r\\nFri Apr 23 21:15:19 UTC 2021 INFO: Checking for authorized_keys in /sshd\\r\\nFri Apr 23 21:15:19 UTC 2021 INFO: Checking for sshd_config in /sshd\\r\\nFri Apr 23 21:15:19 UTC 2021 INFO: setting up .ssh directory\\r\\nFri Apr 23 21:15:19 UTC 2021 INFO: Starting SSHD..\\r\\nFri Apr 23 21:15:19 UTC 2021 INFO: Starting background process to monitor Patroni initization and restart the database if needed\\r\\nFri Apr 23 21:15:19 UTC 2021 INFO: Initializing cluster bootstrap with command: '/usr/local/bin/patroni /tmp/postgres-ha-bootstrap.yaml'\\r\\nFri Apr 23 21:15:19 UTC 2021 INFO: Patroni will not run as PID 1. Creating signal handler\\r\\n2021-04-23 21:15:20,080 INFO: No PostgreSQL configuration items changed, nothing to reload.\\r\\n2021-04-23 21:15:20,083 INFO: Lock owner: None; I am pgtest-bootstrap-94wdv\\r\\n2021-04-23 21:15:20,100 INFO: trying to bootstrap a new cluster\\r\\n2021-04-23 21:15:20,100 INFO: Running custom bootstrap script: /opt/crunchy/bin/postgres-ha/pgbackrest/pgbackrest-create-replica.sh primary\\r\\nFri Apr 23 21:15:20 UTC 2021 INFO: Valid PGDATA dir found for primary, a delta restore will be peformed\\r\\nWARN: unable to find backup set with stop time less than '2021-04-23 18:01:00', latest backup set will be used\\r\\nFri Apr 23 21:15:21 UTC 2021 INFO: primary pgBackRest restore complete\\r\\n2021-04-23 21:15:21,195 INFO: postmaster pid=177\\r\\n2021-04-23 21:15:21.197 UTC [177] LOG:  pgaudit extension initialized\\r\\n2021-04-23 21:15:21.199 UTC [177] WARNING:  pgnodemx: Kubernetes Downward API path /etc/podinfo does not exist: No such file or directory\\r\\n2021-04-23 21:15:21.199 UTC [177] DETAIL:  disabling Kubernetes Downward API file system access\\r\\n/tmp:5432 - no response\\r\\n2021-04-23 21:15:21.209 UTC [177] LOG:  redirecting log output to logging collector process\\r\\n2021-04-23 21:15:21.209 UTC [177] HINT:  Future log output will appear in directory \\\"pg_log\\\".\\r\\n/tmp:5432 - accepting connections\\r\\n/tmp:5432 - no response\\r\\n2021-04-23 21:15:22,218 INFO: removing initialize key after failed attempt to bootstrap the cluster\\r\\n2021-04-23 21:15:22,226 INFO: renaming data directory to /pgdata/pgtest_2021-04-23-21-15-22\\r\\nTraceback (most recent call last):\\r\\n  File \\\"/usr/local/bin/patroni\\\", line 11, in <module>\\r\\n    sys.exit(main())\\r\\n  File \\\"/usr/local/lib/python3.6/site-packages/patroni/__init__.py\\\", line 170, in main\\r\\n    return patroni_main()\\r\\n  File \\\"/usr/local/lib/python3.6/site-packages/patroni/__init__.py\\\", line 138, in patroni_main\\r\\n    abstract_main(Patroni, schema)\\r\\n  File \\\"/usr/local/lib/python3.6/site-packages/patroni/daemon.py\\\", line 100, in abstract_main\\r\\n    controller.run()\\r\\n  File \\\"/usr/local/lib/python3.6/site-packages/patroni/__init__.py\\\", line 108, in run\\r\\n    super(Patroni, self).run()\\r\\n  File \\\"/usr/local/lib/python3.6/site-packages/patroni/daemon.py\\\", line 59, in run\\r\\n    self._run_cycle()\\r\\n  File \\\"/usr/local/lib/python3.6/site-packages/patroni/__init__.py\\\", line 111, in _run_cycle\\r\\n    logger.info(self.ha.run_cycle())\\r\\n  File \\\"/usr/local/lib/python3.6/site-packages/patroni/ha.py\\\", line 1452, in run_cycle\\r\\n    info = self._run_cycle()\\r\\n  File \\\"/usr/local/lib/python3.6/site-packages/patroni/ha.py\\\", line 1346, in _run_cycle\\r\\n    return self.post_bootstrap()\\r\\n  File \\\"/usr/local/lib/python3.6/site-packages/patroni/ha.py\\\", line 1242, in post_bootstrap\\r\\n    self.cancel_initialization()\\r\\n  File \\\"/usr/local/lib/python3.6/site-packages/patroni/ha.py\\\", line 1235, in cancel_initialization\\r\\n    raise PatroniFatalException('Failed to bootstrap cluster')\\r\\npatroni.exceptions.PatroniFatalException: 'Failed to bootstrap cluster'\\r\\n\\r\\n\\r\\n\",\n          \"In the Chinese language family, Traditional Chinese and Simplified Chinese are distinguished. Currently, it is found that you specify \\\"zh\\\" as Traditional Chinese.\\r\\n\\r\\n\\\"Some CultureInfo objects differ depending on the underlying platform. In particular, \\\"zh-CN\\\", or Chinese (Simplified, China) and \\\"zh-TW\\\", or Chinese (Traditional, Taiwan), are available cultures on Windows systems.\\\"\\r\\n\\r\\nhttps://docs.microsoft.com/en-us/dotnet/api/system.globalization.cultureinfo?view=net-5.0\",\n          \"- [x] I have checked that this issue has not already been reported.\\r\\n\\r\\n- [x] I have confirmed this bug exists on the latest version of geopandas.\\r\\n\\r\\n- [ ] (optional) I have confirmed this bug exists on the master branch of geopandas.\\r\\n\\r\\n---\\r\\n\\r\\n**Note**: Please read [this guide](https://matthewrocklin.com/blog/work/2018/02/28/minimal-bug-reports) detailing how to provide the necessary information for us to reproduce your bug.\\r\\n\\r\\n#### Code Sample, a copy-pastable example\\r\\n\\r\\n```python\\r\\nimport geopandas\\r\\n# copy from https://geopandas.org/docs/reference/api/geopandas.GeoSeries.is_empty.html#geopandas.GeoSeries.is_empty\\r\\nfrom shapely.geometry import Point, Polygon\\r\\nd = {'geometry': [Point(), Point(2, 1), None]}\\r\\ngdf = geopandas.GeoDataFrame(d, crs=\\\"EPSG:4326\\\")\\r\\n# this fails\\r\\ngdf.to_crs(\\\"EPSG:3857\\\")\\r\\n\\r\\n```\\r\\n\\r\\n#### Problem description\\r\\n\\r\\nNone values lead to an error, rather than propagating and returning None.\\r\\n\\r\\n#### Expected Output\\r\\n\\r\\nNone\\r\\n\\r\\n#### Output of ``geopandas.show_versions()``\\r\\n\\r\\n<details>\\r\\n\\r\\nSYSTEM INFO\\r\\n-----------\\r\\npython     : 3.8.5 (default, Jul 28 2020, 12:59:40)  [GCC 9.3.0]\\r\\nexecutable : /usr/bin/python3\\r\\nmachine    : Linux-4.19.128-microsoft-standard-x86_64-with-glibc2.29\\r\\n\\r\\nGEOS, GDAL, PROJ INFO\\r\\n---------------------\\r\\nGEOS       : 3.8.0\\r\\nGEOS lib   : /usr/lib/x86_64-linux-gnu/libgeos_c.so\\r\\nGDAL       : 2.4.4\\r\\nGDAL data dir: /usr/local/lib/python3.8/dist-packages/fiona/gdal_data\\r\\nPROJ       : 7.2.0\\r\\nPROJ data dir: /usr/local/lib/python3.8/dist-packages/pyproj/proj_dir/share/proj\\r\\n\\r\\nPYTHON DEPENDENCIES\\r\\n-------------------\\r\\ngeopandas  : 0.8.1\\r\\npandas     : 1.1.4\\r\\nfiona      : 1.8.17\\r\\nnumpy      : 1.19.4\\r\\nshapely    : 1.7.1\\r\\nrtree      : None\\r\\npyproj     : 3.0.0.post1\\r\\nmatplotlib : 3.3.2\\r\\nmapclassify: None\\r\\ngeopy      : 2.1.0\\r\\npsycopg2   : None\\r\\ngeoalchemy2: None\\r\\npyarrow    : None\\r\\n\\r\\n</details>\\r\\n\"\n        ],\n        \"semantic_type\": \"\",\n        \"description\": \"\"\n      }\n    }\n  ]\n}"
            }
          },
          "metadata": {},
          "execution_count": 7
        }
      ]
    },
    {
      "cell_type": "code",
      "source": [
        "s = test.shape[0] // 1000\n",
        "print(s)"
      ],
      "metadata": {
        "colab": {
          "base_uri": "https://localhost:8080/"
        },
        "id": "9LbuuMJFQK9d",
        "outputId": "d6eb2fc6-1b71-4ff3-8109-ba0e4d1a63b3"
      },
      "execution_count": 8,
      "outputs": [
        {
          "output_type": "stream",
          "name": "stdout",
          "text": [
            "80\n"
          ]
        }
      ]
    },
    {
      "cell_type": "code",
      "source": [
        "x = 1\n",
        "\n",
        "while x < (s+1):\n",
        "    i = (x - 1) * 1000\n",
        "    n = x * 1000\n",
        "    with tqdm(total = (n - i), ncols = 100) as pbar:\n",
        "        while i < n:\n",
        "            try:\n",
        "                test.loc[i,'llama3_70b_prediction'] = llm.invoke(f\"\"\"Considering the following issue where the issue title is \"{test.loc[i,'issue_title']}\" and the issue body is \"{test.loc[i,'issue_body']}\", please categorize this issue as \"bug\" or \"enhancement\" or \"others\" and provide your answer as a single word. Your answer should contain a single word.\"\"\")\n",
        "                pbar.update(1)\n",
        "                i = i + 1\n",
        "            except:\n",
        "                print('exception')\n",
        "                continue\n",
        "    test.to_pickle('data/test_preds_nlbse22_paper_llama3_70b.pkl')\n",
        "    print(f'Categorization of {n} issues is complete')\n",
        "    x = x + 1"
      ],
      "metadata": {
        "colab": {
          "base_uri": "https://localhost:8080/"
        },
        "id": "PE1r_wDqQPaH",
        "outputId": "efa1da13-7981-4697-8055-15ac6f52baab"
      },
      "execution_count": 9,
      "outputs": [
        {
          "metadata": {
            "tags": null
          },
          "name": "stderr",
          "output_type": "stream",
          "text": [
            "100%|███████████████████████████████████████████████████████████| 1000/1000 [13:09<00:00,  1.27it/s]\n"
          ]
        },
        {
          "metadata": {
            "tags": null
          },
          "name": "stdout",
          "output_type": "stream",
          "text": [
            "Categorization of 1000 issues is complete\n"
          ]
        },
        {
          "metadata": {
            "tags": null
          },
          "name": "stderr",
          "output_type": "stream",
          "text": [
            "100%|███████████████████████████████████████████████████████████| 1000/1000 [12:52<00:00,  1.29it/s]\n"
          ]
        },
        {
          "metadata": {
            "tags": null
          },
          "name": "stdout",
          "output_type": "stream",
          "text": [
            "Categorization of 2000 issues is complete\n"
          ]
        },
        {
          "metadata": {
            "tags": null
          },
          "name": "stderr",
          "output_type": "stream",
          "text": [
            "100%|███████████████████████████████████████████████████████████| 1000/1000 [12:58<00:00,  1.28it/s]\n"
          ]
        },
        {
          "metadata": {
            "tags": null
          },
          "name": "stdout",
          "output_type": "stream",
          "text": [
            "Categorization of 3000 issues is complete\n"
          ]
        },
        {
          "metadata": {
            "tags": null
          },
          "name": "stderr",
          "output_type": "stream",
          "text": [
            "100%|███████████████████████████████████████████████████████████| 1000/1000 [12:56<00:00,  1.29it/s]\n"
          ]
        },
        {
          "metadata": {
            "tags": null
          },
          "name": "stdout",
          "output_type": "stream",
          "text": [
            "Categorization of 4000 issues is complete\n"
          ]
        },
        {
          "metadata": {
            "tags": null
          },
          "name": "stderr",
          "output_type": "stream",
          "text": [
            "100%|███████████████████████████████████████████████████████████| 1000/1000 [13:33<00:00,  1.23it/s]\n"
          ]
        },
        {
          "metadata": {
            "tags": null
          },
          "name": "stdout",
          "output_type": "stream",
          "text": [
            "Categorization of 5000 issues is complete\n"
          ]
        },
        {
          "metadata": {
            "tags": null
          },
          "name": "stderr",
          "output_type": "stream",
          "text": [
            "100%|███████████████████████████████████████████████████████████| 1000/1000 [12:35<00:00,  1.32it/s]\n"
          ]
        },
        {
          "metadata": {
            "tags": null
          },
          "name": "stdout",
          "output_type": "stream",
          "text": [
            "Categorization of 6000 issues is complete\n"
          ]
        },
        {
          "metadata": {
            "tags": null
          },
          "name": "stderr",
          "output_type": "stream",
          "text": [
            "100%|███████████████████████████████████████████████████████████| 1000/1000 [13:07<00:00,  1.27it/s]\n"
          ]
        },
        {
          "metadata": {
            "tags": null
          },
          "name": "stdout",
          "output_type": "stream",
          "text": [
            "Categorization of 7000 issues is complete\n"
          ]
        },
        {
          "metadata": {
            "tags": null
          },
          "name": "stderr",
          "output_type": "stream",
          "text": [
            "100%|███████████████████████████████████████████████████████████| 1000/1000 [13:33<00:00,  1.23it/s]\n"
          ]
        },
        {
          "metadata": {
            "tags": null
          },
          "name": "stdout",
          "output_type": "stream",
          "text": [
            "Categorization of 8000 issues is complete\n"
          ]
        },
        {
          "metadata": {
            "tags": null
          },
          "name": "stderr",
          "output_type": "stream",
          "text": [
            "100%|███████████████████████████████████████████████████████████| 1000/1000 [13:41<00:00,  1.22it/s]\n"
          ]
        },
        {
          "metadata": {
            "tags": null
          },
          "name": "stdout",
          "output_type": "stream",
          "text": [
            "Categorization of 9000 issues is complete\n"
          ]
        },
        {
          "metadata": {
            "tags": null
          },
          "name": "stderr",
          "output_type": "stream",
          "text": [
            "100%|███████████████████████████████████████████████████████████| 1000/1000 [13:18<00:00,  1.25it/s]\n"
          ]
        },
        {
          "metadata": {
            "tags": null
          },
          "name": "stdout",
          "output_type": "stream",
          "text": [
            "Categorization of 10000 issues is complete\n"
          ]
        },
        {
          "metadata": {
            "tags": null
          },
          "name": "stderr",
          "output_type": "stream",
          "text": [
            "100%|███████████████████████████████████████████████████████████| 1000/1000 [13:07<00:00,  1.27it/s]\n"
          ]
        },
        {
          "metadata": {
            "tags": null
          },
          "name": "stdout",
          "output_type": "stream",
          "text": [
            "Categorization of 11000 issues is complete\n"
          ]
        },
        {
          "metadata": {
            "tags": null
          },
          "name": "stderr",
          "output_type": "stream",
          "text": [
            "100%|███████████████████████████████████████████████████████████| 1000/1000 [13:26<00:00,  1.24it/s]\n"
          ]
        },
        {
          "metadata": {
            "tags": null
          },
          "name": "stdout",
          "output_type": "stream",
          "text": [
            "Categorization of 12000 issues is complete\n"
          ]
        },
        {
          "metadata": {
            "tags": null
          },
          "name": "stderr",
          "output_type": "stream",
          "text": [
            "100%|███████████████████████████████████████████████████████████| 1000/1000 [13:03<00:00,  1.28it/s]\n"
          ]
        },
        {
          "metadata": {
            "tags": null
          },
          "name": "stdout",
          "output_type": "stream",
          "text": [
            "Categorization of 13000 issues is complete\n"
          ]
        },
        {
          "metadata": {
            "tags": null
          },
          "name": "stderr",
          "output_type": "stream",
          "text": [
            "100%|███████████████████████████████████████████████████████████| 1000/1000 [12:59<00:00,  1.28it/s]\n"
          ]
        },
        {
          "metadata": {
            "tags": null
          },
          "name": "stdout",
          "output_type": "stream",
          "text": [
            "Categorization of 14000 issues is complete\n"
          ]
        },
        {
          "metadata": {
            "tags": null
          },
          "name": "stderr",
          "output_type": "stream",
          "text": [
            "100%|███████████████████████████████████████████████████████████| 1000/1000 [12:54<00:00,  1.29it/s]\n"
          ]
        },
        {
          "metadata": {
            "tags": null
          },
          "name": "stdout",
          "output_type": "stream",
          "text": [
            "Categorization of 15000 issues is complete\n"
          ]
        },
        {
          "metadata": {
            "tags": null
          },
          "name": "stderr",
          "output_type": "stream",
          "text": [
            "100%|███████████████████████████████████████████████████████████| 1000/1000 [13:04<00:00,  1.27it/s]\n"
          ]
        },
        {
          "metadata": {
            "tags": null
          },
          "name": "stdout",
          "output_type": "stream",
          "text": [
            "Categorization of 16000 issues is complete\n"
          ]
        },
        {
          "metadata": {
            "tags": null
          },
          "name": "stderr",
          "output_type": "stream",
          "text": [
            "100%|███████████████████████████████████████████████████████████| 1000/1000 [13:16<00:00,  1.26it/s]\n"
          ]
        },
        {
          "metadata": {
            "tags": null
          },
          "name": "stdout",
          "output_type": "stream",
          "text": [
            "Categorization of 17000 issues is complete\n"
          ]
        },
        {
          "metadata": {
            "tags": null
          },
          "name": "stderr",
          "output_type": "stream",
          "text": [
            "100%|███████████████████████████████████████████████████████████| 1000/1000 [13:22<00:00,  1.25it/s]\n"
          ]
        },
        {
          "metadata": {
            "tags": null
          },
          "name": "stdout",
          "output_type": "stream",
          "text": [
            "Categorization of 18000 issues is complete\n"
          ]
        },
        {
          "metadata": {
            "tags": null
          },
          "name": "stderr",
          "output_type": "stream",
          "text": [
            "100%|███████████████████████████████████████████████████████████| 1000/1000 [13:35<00:00,  1.23it/s]\n"
          ]
        },
        {
          "metadata": {
            "tags": null
          },
          "name": "stdout",
          "output_type": "stream",
          "text": [
            "Categorization of 19000 issues is complete\n"
          ]
        },
        {
          "metadata": {
            "tags": null
          },
          "name": "stderr",
          "output_type": "stream",
          "text": [
            "100%|███████████████████████████████████████████████████████████| 1000/1000 [13:07<00:00,  1.27it/s]\n"
          ]
        },
        {
          "metadata": {
            "tags": null
          },
          "name": "stdout",
          "output_type": "stream",
          "text": [
            "Categorization of 20000 issues is complete\n"
          ]
        },
        {
          "metadata": {
            "tags": null
          },
          "name": "stderr",
          "output_type": "stream",
          "text": [
            "100%|███████████████████████████████████████████████████████████| 1000/1000 [13:03<00:00,  1.28it/s]\n"
          ]
        },
        {
          "metadata": {
            "tags": null
          },
          "name": "stdout",
          "output_type": "stream",
          "text": [
            "Categorization of 21000 issues is complete\n"
          ]
        },
        {
          "metadata": {
            "tags": null
          },
          "name": "stderr",
          "output_type": "stream",
          "text": [
            "100%|███████████████████████████████████████████████████████████| 1000/1000 [13:00<00:00,  1.28it/s]\n"
          ]
        },
        {
          "metadata": {
            "tags": null
          },
          "name": "stdout",
          "output_type": "stream",
          "text": [
            "Categorization of 22000 issues is complete\n"
          ]
        },
        {
          "metadata": {
            "tags": null
          },
          "name": "stderr",
          "output_type": "stream",
          "text": [
            "100%|███████████████████████████████████████████████████████████| 1000/1000 [13:22<00:00,  1.25it/s]\n"
          ]
        },
        {
          "metadata": {
            "tags": null
          },
          "name": "stdout",
          "output_type": "stream",
          "text": [
            "Categorization of 23000 issues is complete\n"
          ]
        },
        {
          "metadata": {
            "tags": null
          },
          "name": "stderr",
          "output_type": "stream",
          "text": [
            "100%|███████████████████████████████████████████████████████████| 1000/1000 [13:23<00:00,  1.24it/s]\n"
          ]
        },
        {
          "metadata": {
            "tags": null
          },
          "name": "stdout",
          "output_type": "stream",
          "text": [
            "Categorization of 24000 issues is complete\n"
          ]
        },
        {
          "metadata": {
            "tags": null
          },
          "name": "stderr",
          "output_type": "stream",
          "text": [
            "100%|███████████████████████████████████████████████████████████| 1000/1000 [13:40<00:00,  1.22it/s]\n"
          ]
        },
        {
          "metadata": {
            "tags": null
          },
          "name": "stdout",
          "output_type": "stream",
          "text": [
            "Categorization of 25000 issues is complete\n"
          ]
        },
        {
          "metadata": {
            "tags": null
          },
          "name": "stderr",
          "output_type": "stream",
          "text": [
            "100%|███████████████████████████████████████████████████████████| 1000/1000 [13:28<00:00,  1.24it/s]\n"
          ]
        },
        {
          "metadata": {
            "tags": null
          },
          "name": "stdout",
          "output_type": "stream",
          "text": [
            "Categorization of 26000 issues is complete\n"
          ]
        },
        {
          "metadata": {
            "tags": null
          },
          "name": "stderr",
          "output_type": "stream",
          "text": [
            "100%|███████████████████████████████████████████████████████████| 1000/1000 [13:46<00:00,  1.21it/s]\n"
          ]
        },
        {
          "metadata": {
            "tags": null
          },
          "name": "stdout",
          "output_type": "stream",
          "text": [
            "Categorization of 27000 issues is complete\n"
          ]
        },
        {
          "metadata": {
            "tags": null
          },
          "name": "stderr",
          "output_type": "stream",
          "text": [
            "100%|███████████████████████████████████████████████████████████| 1000/1000 [13:25<00:00,  1.24it/s]\n"
          ]
        },
        {
          "metadata": {
            "tags": null
          },
          "name": "stdout",
          "output_type": "stream",
          "text": [
            "Categorization of 28000 issues is complete\n"
          ]
        },
        {
          "metadata": {
            "tags": null
          },
          "name": "stderr",
          "output_type": "stream",
          "text": [
            "100%|███████████████████████████████████████████████████████████| 1000/1000 [13:22<00:00,  1.25it/s]\n"
          ]
        },
        {
          "metadata": {
            "tags": null
          },
          "name": "stdout",
          "output_type": "stream",
          "text": [
            "Categorization of 29000 issues is complete\n"
          ]
        },
        {
          "metadata": {
            "tags": null
          },
          "name": "stderr",
          "output_type": "stream",
          "text": [
            "100%|███████████████████████████████████████████████████████████| 1000/1000 [13:16<00:00,  1.25it/s]\n"
          ]
        },
        {
          "metadata": {
            "tags": null
          },
          "name": "stdout",
          "output_type": "stream",
          "text": [
            "Categorization of 30000 issues is complete\n"
          ]
        },
        {
          "metadata": {
            "tags": null
          },
          "name": "stderr",
          "output_type": "stream",
          "text": [
            "100%|███████████████████████████████████████████████████████████| 1000/1000 [15:02<00:00,  1.11it/s]\n"
          ]
        },
        {
          "metadata": {
            "tags": null
          },
          "name": "stdout",
          "output_type": "stream",
          "text": [
            "Categorization of 31000 issues is complete\n"
          ]
        },
        {
          "metadata": {
            "tags": null
          },
          "name": "stderr",
          "output_type": "stream",
          "text": [
            "100%|███████████████████████████████████████████████████████████| 1000/1000 [14:00<00:00,  1.19it/s]\n"
          ]
        },
        {
          "metadata": {
            "tags": null
          },
          "name": "stdout",
          "output_type": "stream",
          "text": [
            "Categorization of 32000 issues is complete\n"
          ]
        },
        {
          "metadata": {
            "tags": null
          },
          "name": "stderr",
          "output_type": "stream",
          "text": [
            "100%|███████████████████████████████████████████████████████████| 1000/1000 [13:22<00:00,  1.25it/s]\n"
          ]
        },
        {
          "metadata": {
            "tags": null
          },
          "name": "stdout",
          "output_type": "stream",
          "text": [
            "Categorization of 33000 issues is complete\n"
          ]
        },
        {
          "metadata": {
            "tags": null
          },
          "name": "stderr",
          "output_type": "stream",
          "text": [
            "100%|███████████████████████████████████████████████████████████| 1000/1000 [13:25<00:00,  1.24it/s]\n"
          ]
        },
        {
          "metadata": {
            "tags": null
          },
          "name": "stdout",
          "output_type": "stream",
          "text": [
            "Categorization of 34000 issues is complete\n"
          ]
        },
        {
          "metadata": {
            "tags": null
          },
          "name": "stderr",
          "output_type": "stream",
          "text": [
            "100%|███████████████████████████████████████████████████████████| 1000/1000 [13:56<00:00,  1.20it/s]\n"
          ]
        },
        {
          "metadata": {
            "tags": null
          },
          "name": "stdout",
          "output_type": "stream",
          "text": [
            "Categorization of 35000 issues is complete\n"
          ]
        },
        {
          "metadata": {
            "tags": null
          },
          "name": "stderr",
          "output_type": "stream",
          "text": [
            "100%|███████████████████████████████████████████████████████████| 1000/1000 [13:28<00:00,  1.24it/s]\n"
          ]
        },
        {
          "metadata": {
            "tags": null
          },
          "name": "stdout",
          "output_type": "stream",
          "text": [
            "Categorization of 36000 issues is complete\n"
          ]
        },
        {
          "metadata": {
            "tags": null
          },
          "name": "stderr",
          "output_type": "stream",
          "text": [
            "100%|███████████████████████████████████████████████████████████| 1000/1000 [13:31<00:00,  1.23it/s]\n"
          ]
        },
        {
          "metadata": {
            "tags": null
          },
          "name": "stdout",
          "output_type": "stream",
          "text": [
            "Categorization of 37000 issues is complete\n"
          ]
        },
        {
          "metadata": {
            "tags": null
          },
          "name": "stderr",
          "output_type": "stream",
          "text": [
            "100%|███████████████████████████████████████████████████████████| 1000/1000 [13:11<00:00,  1.26it/s]\n"
          ]
        },
        {
          "metadata": {
            "tags": null
          },
          "name": "stdout",
          "output_type": "stream",
          "text": [
            "Categorization of 38000 issues is complete\n"
          ]
        },
        {
          "metadata": {
            "tags": null
          },
          "name": "stderr",
          "output_type": "stream",
          "text": [
            "100%|███████████████████████████████████████████████████████████| 1000/1000 [13:19<00:00,  1.25it/s]\n"
          ]
        },
        {
          "metadata": {
            "tags": null
          },
          "name": "stdout",
          "output_type": "stream",
          "text": [
            "Categorization of 39000 issues is complete\n"
          ]
        },
        {
          "metadata": {
            "tags": null
          },
          "name": "stderr",
          "output_type": "stream",
          "text": [
            "100%|███████████████████████████████████████████████████████████| 1000/1000 [12:59<00:00,  1.28it/s]\n"
          ]
        },
        {
          "metadata": {
            "tags": null
          },
          "name": "stdout",
          "output_type": "stream",
          "text": [
            "Categorization of 40000 issues is complete\n"
          ]
        },
        {
          "metadata": {
            "tags": null
          },
          "name": "stderr",
          "output_type": "stream",
          "text": [
            "100%|███████████████████████████████████████████████████████████| 1000/1000 [13:27<00:00,  1.24it/s]\n"
          ]
        },
        {
          "metadata": {
            "tags": null
          },
          "name": "stdout",
          "output_type": "stream",
          "text": [
            "Categorization of 41000 issues is complete\n"
          ]
        },
        {
          "metadata": {
            "tags": null
          },
          "name": "stderr",
          "output_type": "stream",
          "text": [
            "100%|███████████████████████████████████████████████████████████| 1000/1000 [13:24<00:00,  1.24it/s]\n"
          ]
        },
        {
          "metadata": {
            "tags": null
          },
          "name": "stdout",
          "output_type": "stream",
          "text": [
            "Categorization of 42000 issues is complete\n"
          ]
        },
        {
          "metadata": {
            "tags": null
          },
          "name": "stderr",
          "output_type": "stream",
          "text": [
            "100%|███████████████████████████████████████████████████████████| 1000/1000 [13:12<00:00,  1.26it/s]\n"
          ]
        },
        {
          "metadata": {
            "tags": null
          },
          "name": "stdout",
          "output_type": "stream",
          "text": [
            "Categorization of 43000 issues is complete\n"
          ]
        },
        {
          "metadata": {
            "tags": null
          },
          "name": "stderr",
          "output_type": "stream",
          "text": [
            "100%|███████████████████████████████████████████████████████████| 1000/1000 [13:30<00:00,  1.23it/s]\n"
          ]
        },
        {
          "metadata": {
            "tags": null
          },
          "name": "stdout",
          "output_type": "stream",
          "text": [
            "Categorization of 44000 issues is complete\n"
          ]
        },
        {
          "metadata": {
            "tags": null
          },
          "name": "stderr",
          "output_type": "stream",
          "text": [
            "100%|███████████████████████████████████████████████████████████| 1000/1000 [13:32<00:00,  1.23it/s]\n"
          ]
        },
        {
          "metadata": {
            "tags": null
          },
          "name": "stdout",
          "output_type": "stream",
          "text": [
            "Categorization of 45000 issues is complete\n"
          ]
        },
        {
          "metadata": {
            "tags": null
          },
          "name": "stderr",
          "output_type": "stream",
          "text": [
            "100%|███████████████████████████████████████████████████████████| 1000/1000 [15:45<00:00,  1.06it/s]\n"
          ]
        },
        {
          "metadata": {
            "tags": null
          },
          "name": "stdout",
          "output_type": "stream",
          "text": [
            "Categorization of 46000 issues is complete\n"
          ]
        },
        {
          "metadata": {
            "tags": null
          },
          "name": "stderr",
          "output_type": "stream",
          "text": [
            "100%|███████████████████████████████████████████████████████████| 1000/1000 [13:30<00:00,  1.23it/s]\n"
          ]
        },
        {
          "metadata": {
            "tags": null
          },
          "name": "stdout",
          "output_type": "stream",
          "text": [
            "Categorization of 47000 issues is complete\n"
          ]
        },
        {
          "metadata": {
            "tags": null
          },
          "name": "stderr",
          "output_type": "stream",
          "text": [
            "100%|███████████████████████████████████████████████████████████| 1000/1000 [13:19<00:00,  1.25it/s]\n"
          ]
        },
        {
          "metadata": {
            "tags": null
          },
          "name": "stdout",
          "output_type": "stream",
          "text": [
            "Categorization of 48000 issues is complete\n"
          ]
        },
        {
          "metadata": {
            "tags": null
          },
          "name": "stderr",
          "output_type": "stream",
          "text": [
            "100%|███████████████████████████████████████████████████████████| 1000/1000 [13:39<00:00,  1.22it/s]\n"
          ]
        },
        {
          "metadata": {
            "tags": null
          },
          "name": "stdout",
          "output_type": "stream",
          "text": [
            "Categorization of 49000 issues is complete\n"
          ]
        },
        {
          "metadata": {
            "tags": null
          },
          "name": "stderr",
          "output_type": "stream",
          "text": [
            "100%|███████████████████████████████████████████████████████████| 1000/1000 [13:20<00:00,  1.25it/s]\n"
          ]
        },
        {
          "metadata": {
            "tags": null
          },
          "name": "stdout",
          "output_type": "stream",
          "text": [
            "Categorization of 50000 issues is complete\n"
          ]
        },
        {
          "metadata": {
            "tags": null
          },
          "name": "stderr",
          "output_type": "stream",
          "text": [
            "100%|███████████████████████████████████████████████████████████| 1000/1000 [13:37<00:00,  1.22it/s]\n"
          ]
        },
        {
          "metadata": {
            "tags": null
          },
          "name": "stdout",
          "output_type": "stream",
          "text": [
            "Categorization of 51000 issues is complete\n"
          ]
        },
        {
          "metadata": {
            "tags": null
          },
          "name": "stderr",
          "output_type": "stream",
          "text": [
            "100%|███████████████████████████████████████████████████████████| 1000/1000 [13:17<00:00,  1.25it/s]\n"
          ]
        },
        {
          "metadata": {
            "tags": null
          },
          "name": "stdout",
          "output_type": "stream",
          "text": [
            "Categorization of 52000 issues is complete\n"
          ]
        },
        {
          "metadata": {
            "tags": null
          },
          "name": "stderr",
          "output_type": "stream",
          "text": [
            "100%|███████████████████████████████████████████████████████████| 1000/1000 [13:22<00:00,  1.25it/s]\n"
          ]
        },
        {
          "metadata": {
            "tags": null
          },
          "name": "stdout",
          "output_type": "stream",
          "text": [
            "Categorization of 53000 issues is complete\n"
          ]
        },
        {
          "metadata": {
            "tags": null
          },
          "name": "stderr",
          "output_type": "stream",
          "text": [
            "100%|███████████████████████████████████████████████████████████| 1000/1000 [12:49<00:00,  1.30it/s]\n"
          ]
        },
        {
          "metadata": {
            "tags": null
          },
          "name": "stdout",
          "output_type": "stream",
          "text": [
            "Categorization of 54000 issues is complete\n"
          ]
        },
        {
          "metadata": {
            "tags": null
          },
          "name": "stderr",
          "output_type": "stream",
          "text": [
            "100%|███████████████████████████████████████████████████████████| 1000/1000 [12:56<00:00,  1.29it/s]\n"
          ]
        },
        {
          "metadata": {
            "tags": null
          },
          "name": "stdout",
          "output_type": "stream",
          "text": [
            "Categorization of 55000 issues is complete\n"
          ]
        },
        {
          "metadata": {
            "tags": null
          },
          "name": "stderr",
          "output_type": "stream",
          "text": [
            "100%|███████████████████████████████████████████████████████████| 1000/1000 [13:19<00:00,  1.25it/s]\n"
          ]
        },
        {
          "metadata": {
            "tags": null
          },
          "name": "stdout",
          "output_type": "stream",
          "text": [
            "Categorization of 56000 issues is complete\n"
          ]
        },
        {
          "metadata": {
            "tags": null
          },
          "name": "stderr",
          "output_type": "stream",
          "text": [
            "100%|███████████████████████████████████████████████████████████| 1000/1000 [13:16<00:00,  1.26it/s]\n"
          ]
        },
        {
          "metadata": {
            "tags": null
          },
          "name": "stdout",
          "output_type": "stream",
          "text": [
            "Categorization of 57000 issues is complete\n"
          ]
        },
        {
          "metadata": {
            "tags": null
          },
          "name": "stderr",
          "output_type": "stream",
          "text": [
            "100%|███████████████████████████████████████████████████████████| 1000/1000 [13:42<00:00,  1.22it/s]\n"
          ]
        },
        {
          "metadata": {
            "tags": null
          },
          "name": "stdout",
          "output_type": "stream",
          "text": [
            "Categorization of 58000 issues is complete\n"
          ]
        },
        {
          "metadata": {
            "tags": null
          },
          "name": "stderr",
          "output_type": "stream",
          "text": [
            "100%|███████████████████████████████████████████████████████████| 1000/1000 [12:58<00:00,  1.28it/s]\n"
          ]
        },
        {
          "metadata": {
            "tags": null
          },
          "name": "stdout",
          "output_type": "stream",
          "text": [
            "Categorization of 59000 issues is complete\n"
          ]
        },
        {
          "metadata": {
            "tags": null
          },
          "name": "stderr",
          "output_type": "stream",
          "text": [
            "100%|███████████████████████████████████████████████████████████| 1000/1000 [13:02<00:00,  1.28it/s]\n"
          ]
        },
        {
          "metadata": {
            "tags": null
          },
          "name": "stdout",
          "output_type": "stream",
          "text": [
            "Categorization of 60000 issues is complete\n"
          ]
        },
        {
          "metadata": {
            "tags": null
          },
          "name": "stderr",
          "output_type": "stream",
          "text": [
            "100%|███████████████████████████████████████████████████████████| 1000/1000 [13:01<00:00,  1.28it/s]\n"
          ]
        },
        {
          "metadata": {
            "tags": null
          },
          "name": "stdout",
          "output_type": "stream",
          "text": [
            "Categorization of 61000 issues is complete\n"
          ]
        },
        {
          "metadata": {
            "tags": null
          },
          "name": "stderr",
          "output_type": "stream",
          "text": [
            "100%|███████████████████████████████████████████████████████████| 1000/1000 [12:31<00:00,  1.33it/s]\n"
          ]
        },
        {
          "metadata": {
            "tags": null
          },
          "name": "stdout",
          "output_type": "stream",
          "text": [
            "Categorization of 62000 issues is complete\n"
          ]
        },
        {
          "metadata": {
            "tags": null
          },
          "name": "stderr",
          "output_type": "stream",
          "text": [
            "100%|███████████████████████████████████████████████████████████| 1000/1000 [12:49<00:00,  1.30it/s]\n"
          ]
        },
        {
          "metadata": {
            "tags": null
          },
          "name": "stdout",
          "output_type": "stream",
          "text": [
            "Categorization of 63000 issues is complete\n"
          ]
        },
        {
          "metadata": {
            "tags": null
          },
          "name": "stderr",
          "output_type": "stream",
          "text": [
            "100%|███████████████████████████████████████████████████████████| 1000/1000 [13:11<00:00,  1.26it/s]\n"
          ]
        },
        {
          "metadata": {
            "tags": null
          },
          "name": "stdout",
          "output_type": "stream",
          "text": [
            "Categorization of 64000 issues is complete\n"
          ]
        },
        {
          "metadata": {
            "tags": null
          },
          "name": "stderr",
          "output_type": "stream",
          "text": [
            "100%|███████████████████████████████████████████████████████████| 1000/1000 [13:28<00:00,  1.24it/s]\n"
          ]
        },
        {
          "metadata": {
            "tags": null
          },
          "name": "stdout",
          "output_type": "stream",
          "text": [
            "Categorization of 65000 issues is complete\n"
          ]
        },
        {
          "metadata": {
            "tags": null
          },
          "name": "stderr",
          "output_type": "stream",
          "text": [
            "100%|███████████████████████████████████████████████████████████| 1000/1000 [13:00<00:00,  1.28it/s]\n"
          ]
        },
        {
          "metadata": {
            "tags": null
          },
          "name": "stdout",
          "output_type": "stream",
          "text": [
            "Categorization of 66000 issues is complete\n"
          ]
        },
        {
          "metadata": {
            "tags": null
          },
          "name": "stderr",
          "output_type": "stream",
          "text": [
            "100%|███████████████████████████████████████████████████████████| 1000/1000 [13:44<00:00,  1.21it/s]\n"
          ]
        },
        {
          "metadata": {
            "tags": null
          },
          "name": "stdout",
          "output_type": "stream",
          "text": [
            "Categorization of 67000 issues is complete\n"
          ]
        },
        {
          "metadata": {
            "tags": null
          },
          "name": "stderr",
          "output_type": "stream",
          "text": [
            "100%|███████████████████████████████████████████████████████████| 1000/1000 [12:55<00:00,  1.29it/s]\n"
          ]
        },
        {
          "metadata": {
            "tags": null
          },
          "name": "stdout",
          "output_type": "stream",
          "text": [
            "Categorization of 68000 issues is complete\n"
          ]
        },
        {
          "metadata": {
            "tags": null
          },
          "name": "stderr",
          "output_type": "stream",
          "text": [
            "100%|███████████████████████████████████████████████████████████| 1000/1000 [13:01<00:00,  1.28it/s]\n"
          ]
        },
        {
          "metadata": {
            "tags": null
          },
          "name": "stdout",
          "output_type": "stream",
          "text": [
            "Categorization of 69000 issues is complete\n"
          ]
        },
        {
          "metadata": {
            "tags": null
          },
          "name": "stderr",
          "output_type": "stream",
          "text": [
            "100%|███████████████████████████████████████████████████████████| 1000/1000 [12:50<00:00,  1.30it/s]\n"
          ]
        },
        {
          "metadata": {
            "tags": null
          },
          "name": "stdout",
          "output_type": "stream",
          "text": [
            "Categorization of 70000 issues is complete\n"
          ]
        },
        {
          "metadata": {
            "tags": null
          },
          "name": "stderr",
          "output_type": "stream",
          "text": [
            "100%|███████████████████████████████████████████████████████████| 1000/1000 [13:02<00:00,  1.28it/s]\n"
          ]
        },
        {
          "metadata": {
            "tags": null
          },
          "name": "stdout",
          "output_type": "stream",
          "text": [
            "Categorization of 71000 issues is complete\n"
          ]
        },
        {
          "metadata": {
            "tags": null
          },
          "name": "stderr",
          "output_type": "stream",
          "text": [
            "100%|███████████████████████████████████████████████████████████| 1000/1000 [13:24<00:00,  1.24it/s]\n"
          ]
        },
        {
          "metadata": {
            "tags": null
          },
          "name": "stdout",
          "output_type": "stream",
          "text": [
            "Categorization of 72000 issues is complete\n"
          ]
        },
        {
          "metadata": {
            "tags": null
          },
          "name": "stderr",
          "output_type": "stream",
          "text": [
            "100%|███████████████████████████████████████████████████████████| 1000/1000 [12:41<00:00,  1.31it/s]\n"
          ]
        },
        {
          "metadata": {
            "tags": null
          },
          "name": "stdout",
          "output_type": "stream",
          "text": [
            "Categorization of 73000 issues is complete\n"
          ]
        },
        {
          "metadata": {
            "tags": null
          },
          "name": "stderr",
          "output_type": "stream",
          "text": [
            "100%|███████████████████████████████████████████████████████████| 1000/1000 [13:28<00:00,  1.24it/s]\n"
          ]
        },
        {
          "metadata": {
            "tags": null
          },
          "name": "stdout",
          "output_type": "stream",
          "text": [
            "Categorization of 74000 issues is complete\n"
          ]
        },
        {
          "metadata": {
            "tags": null
          },
          "name": "stderr",
          "output_type": "stream",
          "text": [
            "100%|███████████████████████████████████████████████████████████| 1000/1000 [13:32<00:00,  1.23it/s]\n"
          ]
        },
        {
          "metadata": {
            "tags": null
          },
          "name": "stdout",
          "output_type": "stream",
          "text": [
            "Categorization of 75000 issues is complete\n"
          ]
        },
        {
          "metadata": {
            "tags": null
          },
          "name": "stderr",
          "output_type": "stream",
          "text": [
            "100%|███████████████████████████████████████████████████████████| 1000/1000 [13:24<00:00,  1.24it/s]\n"
          ]
        },
        {
          "metadata": {
            "tags": null
          },
          "name": "stdout",
          "output_type": "stream",
          "text": [
            "Categorization of 76000 issues is complete\n"
          ]
        },
        {
          "metadata": {
            "tags": null
          },
          "name": "stderr",
          "output_type": "stream",
          "text": [
            "100%|███████████████████████████████████████████████████████████| 1000/1000 [13:37<00:00,  1.22it/s]\n"
          ]
        },
        {
          "metadata": {
            "tags": null
          },
          "name": "stdout",
          "output_type": "stream",
          "text": [
            "Categorization of 77000 issues is complete\n"
          ]
        },
        {
          "output_type": "stream",
          "name": "stderr",
          "text": [
            "100%|███████████████████████████████████████████████████████████| 1000/1000 [13:13<00:00,  1.26it/s]\n"
          ]
        },
        {
          "output_type": "stream",
          "name": "stdout",
          "text": [
            "Categorization of 78000 issues is complete\n"
          ]
        },
        {
          "output_type": "stream",
          "name": "stderr",
          "text": [
            "100%|███████████████████████████████████████████████████████████| 1000/1000 [13:23<00:00,  1.24it/s]\n"
          ]
        },
        {
          "output_type": "stream",
          "name": "stdout",
          "text": [
            "Categorization of 79000 issues is complete\n"
          ]
        },
        {
          "output_type": "stream",
          "name": "stderr",
          "text": [
            "100%|███████████████████████████████████████████████████████████| 1000/1000 [14:00<00:00,  1.19it/s]\n"
          ]
        },
        {
          "output_type": "stream",
          "name": "stdout",
          "text": [
            "Categorization of 80000 issues is complete\n"
          ]
        }
      ]
    },
    {
      "cell_type": "code",
      "source": [
        "print(x)"
      ],
      "metadata": {
        "colab": {
          "base_uri": "https://localhost:8080/"
        },
        "id": "fhVlp5Y9QVwK",
        "outputId": "d1ed4d05-c5e8-4053-c8c4-08dd72a07373"
      },
      "execution_count": 10,
      "outputs": [
        {
          "output_type": "stream",
          "name": "stdout",
          "text": [
            "81\n"
          ]
        }
      ]
    },
    {
      "cell_type": "code",
      "source": [
        "i = (x - 1) * 1000\n",
        "n = test.shape[0]\n",
        "with tqdm(total = (n - i), ncols = 100) as pbar:\n",
        "  while i < n:\n",
        "    try:\n",
        "      test.loc[i,'llama3_70b_prediction'] = llm.invoke(f\"\"\"Considering the following issue where the issue title is \"{test.loc[i,'issue_title']}\" and the issue body is \"{test.loc[i,'issue_body']}\", please categorize this issue as \"bug\" or \"enhancement\" or \"others\" and provide your answer as a single word. Your answer should contain a single word.\"\"\")\n",
        "      pbar.update(1)\n",
        "      i = i + 1\n",
        "    except:\n",
        "      print('exception')\n",
        "      continue\n",
        "test.to_pickle('data/test_preds_nlbse22_paper_llama3_70b.pkl')\n",
        "print(f'Categorization of {n} issues is complete')"
      ],
      "metadata": {
        "colab": {
          "base_uri": "https://localhost:8080/"
        },
        "id": "iuKUr20dQX-Y",
        "outputId": "79433bbe-e4ca-408a-ef6e-a4a945c5bd87"
      },
      "execution_count": 11,
      "outputs": [
        {
          "output_type": "stream",
          "name": "stderr",
          "text": [
            "100%|█████████████████████████████████████████████████████████████| 518/518 [07:14<00:00,  1.19it/s]\n"
          ]
        },
        {
          "output_type": "stream",
          "name": "stdout",
          "text": [
            "Categorization of 80518 issues is complete\n"
          ]
        }
      ]
    },
    {
      "cell_type": "markdown",
      "source": [
        "organize predictions"
      ],
      "metadata": {
        "id": "3ApVVVGLJ7vi"
      }
    },
    {
      "cell_type": "code",
      "source": [
        "import pandas as pd"
      ],
      "metadata": {
        "id": "Gj84hKQ9I4yR"
      },
      "execution_count": 1,
      "outputs": []
    },
    {
      "cell_type": "code",
      "source": [
        "test = pd.read_pickle('data/test_preds_nlbse22_paper_llama3_70b.pkl')"
      ],
      "metadata": {
        "id": "W1MQxt9JI6nk"
      },
      "execution_count": 2,
      "outputs": []
    },
    {
      "cell_type": "code",
      "source": [
        "test.head()"
      ],
      "metadata": {
        "colab": {
          "base_uri": "https://localhost:8080/",
          "height": 411
        },
        "id": "ZeI5Z-enJ76H",
        "outputId": "c98420d1-eb66-4f6a-cf23-70b51ff2f26a"
      },
      "execution_count": 3,
      "outputs": [
        {
          "output_type": "execute_result",
          "data": {
            "text/plain": [
              "   Unnamed: 0                                          issue_url  issue_label  \\\n",
              "0           6  https://api.github.com/repos/tlnagy/TIFF.jl/is...  enhancement   \n",
              "1          19  https://api.github.com/repos/tisboyo/Twitch_Bo...  enhancement   \n",
              "2          25  https://api.github.com/repos/DrWhoCares/imgdan...  enhancement   \n",
              "3          30  https://api.github.com/repos/DrWhoCares/imgdan...          bug   \n",
              "4          54   https://api.github.com/repos/Bean-1/AOT/issues/3          bug   \n",
              "\n",
              "       issue_created_at issue_author_association  \\\n",
              "0  2020-04-07T09:08:50Z                     NONE   \n",
              "1  2020-11-27T07:17:21Z                    OWNER   \n",
              "2  2021-01-02T19:35:34Z                    OWNER   \n",
              "3  2021-01-02T20:55:34Z                    OWNER   \n",
              "4  2020-12-29T15:34:35Z                    OWNER   \n",
              "\n",
              "                                     repository_url  \\\n",
              "0       https://api.github.com/repos/tlnagy/TIFF.jl   \n",
              "1   https://api.github.com/repos/tisboyo/Twitch_Bot   \n",
              "2  https://api.github.com/repos/DrWhoCares/imgdanke   \n",
              "3  https://api.github.com/repos/DrWhoCares/imgdanke   \n",
              "4           https://api.github.com/repos/Bean-1/AOT   \n",
              "\n",
              "                                         issue_title  \\\n",
              "0  ERROR: KeyError: key (TIFF.SAMPLEFORMAT_INT, 0...   \n",
              "1                     Add database backup to dropbox   \n",
              "2  Add a button/method to open the Source or Outp...   \n",
              "3                  Processes are being started twice   \n",
              "4                              Cannot add hp to wall   \n",
              "\n",
              "                                          issue_body llama3_70b_prediction  \n",
              "0  One more error might need to be caught.\\r\\n`4D...                   Bug  \n",
              "1                                                NaN           Enhancement  \n",
              "2  Could also add a method to open up path to eac...           Enhancement  \n",
              "3  At some point I refactored a few things and en...                   Bug  \n",
              "4                                                NaN                   Bug  "
            ],
            "text/html": [
              "\n",
              "  <div id=\"df-cd28bd42-2be2-4190-aec0-8a00bc068976\" class=\"colab-df-container\">\n",
              "    <div>\n",
              "<style scoped>\n",
              "    .dataframe tbody tr th:only-of-type {\n",
              "        vertical-align: middle;\n",
              "    }\n",
              "\n",
              "    .dataframe tbody tr th {\n",
              "        vertical-align: top;\n",
              "    }\n",
              "\n",
              "    .dataframe thead th {\n",
              "        text-align: right;\n",
              "    }\n",
              "</style>\n",
              "<table border=\"1\" class=\"dataframe\">\n",
              "  <thead>\n",
              "    <tr style=\"text-align: right;\">\n",
              "      <th></th>\n",
              "      <th>Unnamed: 0</th>\n",
              "      <th>issue_url</th>\n",
              "      <th>issue_label</th>\n",
              "      <th>issue_created_at</th>\n",
              "      <th>issue_author_association</th>\n",
              "      <th>repository_url</th>\n",
              "      <th>issue_title</th>\n",
              "      <th>issue_body</th>\n",
              "      <th>llama3_70b_prediction</th>\n",
              "    </tr>\n",
              "  </thead>\n",
              "  <tbody>\n",
              "    <tr>\n",
              "      <th>0</th>\n",
              "      <td>6</td>\n",
              "      <td>https://api.github.com/repos/tlnagy/TIFF.jl/is...</td>\n",
              "      <td>enhancement</td>\n",
              "      <td>2020-04-07T09:08:50Z</td>\n",
              "      <td>NONE</td>\n",
              "      <td>https://api.github.com/repos/tlnagy/TIFF.jl</td>\n",
              "      <td>ERROR: KeyError: key (TIFF.SAMPLEFORMAT_INT, 0...</td>\n",
              "      <td>One more error might need to be caught.\\r\\n`4D...</td>\n",
              "      <td>Bug</td>\n",
              "    </tr>\n",
              "    <tr>\n",
              "      <th>1</th>\n",
              "      <td>19</td>\n",
              "      <td>https://api.github.com/repos/tisboyo/Twitch_Bo...</td>\n",
              "      <td>enhancement</td>\n",
              "      <td>2020-11-27T07:17:21Z</td>\n",
              "      <td>OWNER</td>\n",
              "      <td>https://api.github.com/repos/tisboyo/Twitch_Bot</td>\n",
              "      <td>Add database backup to dropbox</td>\n",
              "      <td>NaN</td>\n",
              "      <td>Enhancement</td>\n",
              "    </tr>\n",
              "    <tr>\n",
              "      <th>2</th>\n",
              "      <td>25</td>\n",
              "      <td>https://api.github.com/repos/DrWhoCares/imgdan...</td>\n",
              "      <td>enhancement</td>\n",
              "      <td>2021-01-02T19:35:34Z</td>\n",
              "      <td>OWNER</td>\n",
              "      <td>https://api.github.com/repos/DrWhoCares/imgdanke</td>\n",
              "      <td>Add a button/method to open the Source or Outp...</td>\n",
              "      <td>Could also add a method to open up path to eac...</td>\n",
              "      <td>Enhancement</td>\n",
              "    </tr>\n",
              "    <tr>\n",
              "      <th>3</th>\n",
              "      <td>30</td>\n",
              "      <td>https://api.github.com/repos/DrWhoCares/imgdan...</td>\n",
              "      <td>bug</td>\n",
              "      <td>2021-01-02T20:55:34Z</td>\n",
              "      <td>OWNER</td>\n",
              "      <td>https://api.github.com/repos/DrWhoCares/imgdanke</td>\n",
              "      <td>Processes are being started twice</td>\n",
              "      <td>At some point I refactored a few things and en...</td>\n",
              "      <td>Bug</td>\n",
              "    </tr>\n",
              "    <tr>\n",
              "      <th>4</th>\n",
              "      <td>54</td>\n",
              "      <td>https://api.github.com/repos/Bean-1/AOT/issues/3</td>\n",
              "      <td>bug</td>\n",
              "      <td>2020-12-29T15:34:35Z</td>\n",
              "      <td>OWNER</td>\n",
              "      <td>https://api.github.com/repos/Bean-1/AOT</td>\n",
              "      <td>Cannot add hp to wall</td>\n",
              "      <td>NaN</td>\n",
              "      <td>Bug</td>\n",
              "    </tr>\n",
              "  </tbody>\n",
              "</table>\n",
              "</div>\n",
              "    <div class=\"colab-df-buttons\">\n",
              "\n",
              "  <div class=\"colab-df-container\">\n",
              "    <button class=\"colab-df-convert\" onclick=\"convertToInteractive('df-cd28bd42-2be2-4190-aec0-8a00bc068976')\"\n",
              "            title=\"Convert this dataframe to an interactive table.\"\n",
              "            style=\"display:none;\">\n",
              "\n",
              "  <svg xmlns=\"http://www.w3.org/2000/svg\" height=\"24px\" viewBox=\"0 -960 960 960\">\n",
              "    <path d=\"M120-120v-720h720v720H120Zm60-500h600v-160H180v160Zm220 220h160v-160H400v160Zm0 220h160v-160H400v160ZM180-400h160v-160H180v160Zm440 0h160v-160H620v160ZM180-180h160v-160H180v160Zm440 0h160v-160H620v160Z\"/>\n",
              "  </svg>\n",
              "    </button>\n",
              "\n",
              "  <style>\n",
              "    .colab-df-container {\n",
              "      display:flex;\n",
              "      gap: 12px;\n",
              "    }\n",
              "\n",
              "    .colab-df-convert {\n",
              "      background-color: #E8F0FE;\n",
              "      border: none;\n",
              "      border-radius: 50%;\n",
              "      cursor: pointer;\n",
              "      display: none;\n",
              "      fill: #1967D2;\n",
              "      height: 32px;\n",
              "      padding: 0 0 0 0;\n",
              "      width: 32px;\n",
              "    }\n",
              "\n",
              "    .colab-df-convert:hover {\n",
              "      background-color: #E2EBFA;\n",
              "      box-shadow: 0px 1px 2px rgba(60, 64, 67, 0.3), 0px 1px 3px 1px rgba(60, 64, 67, 0.15);\n",
              "      fill: #174EA6;\n",
              "    }\n",
              "\n",
              "    .colab-df-buttons div {\n",
              "      margin-bottom: 4px;\n",
              "    }\n",
              "\n",
              "    [theme=dark] .colab-df-convert {\n",
              "      background-color: #3B4455;\n",
              "      fill: #D2E3FC;\n",
              "    }\n",
              "\n",
              "    [theme=dark] .colab-df-convert:hover {\n",
              "      background-color: #434B5C;\n",
              "      box-shadow: 0px 1px 3px 1px rgba(0, 0, 0, 0.15);\n",
              "      filter: drop-shadow(0px 1px 2px rgba(0, 0, 0, 0.3));\n",
              "      fill: #FFFFFF;\n",
              "    }\n",
              "  </style>\n",
              "\n",
              "    <script>\n",
              "      const buttonEl =\n",
              "        document.querySelector('#df-cd28bd42-2be2-4190-aec0-8a00bc068976 button.colab-df-convert');\n",
              "      buttonEl.style.display =\n",
              "        google.colab.kernel.accessAllowed ? 'block' : 'none';\n",
              "\n",
              "      async function convertToInteractive(key) {\n",
              "        const element = document.querySelector('#df-cd28bd42-2be2-4190-aec0-8a00bc068976');\n",
              "        const dataTable =\n",
              "          await google.colab.kernel.invokeFunction('convertToInteractive',\n",
              "                                                    [key], {});\n",
              "        if (!dataTable) return;\n",
              "\n",
              "        const docLinkHtml = 'Like what you see? Visit the ' +\n",
              "          '<a target=\"_blank\" href=https://colab.research.google.com/notebooks/data_table.ipynb>data table notebook</a>'\n",
              "          + ' to learn more about interactive tables.';\n",
              "        element.innerHTML = '';\n",
              "        dataTable['output_type'] = 'display_data';\n",
              "        await google.colab.output.renderOutput(dataTable, element);\n",
              "        const docLink = document.createElement('div');\n",
              "        docLink.innerHTML = docLinkHtml;\n",
              "        element.appendChild(docLink);\n",
              "      }\n",
              "    </script>\n",
              "  </div>\n",
              "\n",
              "\n",
              "<div id=\"df-2747ace2-f56a-4910-a3ea-f00e47f4b150\">\n",
              "  <button class=\"colab-df-quickchart\" onclick=\"quickchart('df-2747ace2-f56a-4910-a3ea-f00e47f4b150')\"\n",
              "            title=\"Suggest charts\"\n",
              "            style=\"display:none;\">\n",
              "\n",
              "<svg xmlns=\"http://www.w3.org/2000/svg\" height=\"24px\"viewBox=\"0 0 24 24\"\n",
              "     width=\"24px\">\n",
              "    <g>\n",
              "        <path d=\"M19 3H5c-1.1 0-2 .9-2 2v14c0 1.1.9 2 2 2h14c1.1 0 2-.9 2-2V5c0-1.1-.9-2-2-2zM9 17H7v-7h2v7zm4 0h-2V7h2v10zm4 0h-2v-4h2v4z\"/>\n",
              "    </g>\n",
              "</svg>\n",
              "  </button>\n",
              "\n",
              "<style>\n",
              "  .colab-df-quickchart {\n",
              "      --bg-color: #E8F0FE;\n",
              "      --fill-color: #1967D2;\n",
              "      --hover-bg-color: #E2EBFA;\n",
              "      --hover-fill-color: #174EA6;\n",
              "      --disabled-fill-color: #AAA;\n",
              "      --disabled-bg-color: #DDD;\n",
              "  }\n",
              "\n",
              "  [theme=dark] .colab-df-quickchart {\n",
              "      --bg-color: #3B4455;\n",
              "      --fill-color: #D2E3FC;\n",
              "      --hover-bg-color: #434B5C;\n",
              "      --hover-fill-color: #FFFFFF;\n",
              "      --disabled-bg-color: #3B4455;\n",
              "      --disabled-fill-color: #666;\n",
              "  }\n",
              "\n",
              "  .colab-df-quickchart {\n",
              "    background-color: var(--bg-color);\n",
              "    border: none;\n",
              "    border-radius: 50%;\n",
              "    cursor: pointer;\n",
              "    display: none;\n",
              "    fill: var(--fill-color);\n",
              "    height: 32px;\n",
              "    padding: 0;\n",
              "    width: 32px;\n",
              "  }\n",
              "\n",
              "  .colab-df-quickchart:hover {\n",
              "    background-color: var(--hover-bg-color);\n",
              "    box-shadow: 0 1px 2px rgba(60, 64, 67, 0.3), 0 1px 3px 1px rgba(60, 64, 67, 0.15);\n",
              "    fill: var(--button-hover-fill-color);\n",
              "  }\n",
              "\n",
              "  .colab-df-quickchart-complete:disabled,\n",
              "  .colab-df-quickchart-complete:disabled:hover {\n",
              "    background-color: var(--disabled-bg-color);\n",
              "    fill: var(--disabled-fill-color);\n",
              "    box-shadow: none;\n",
              "  }\n",
              "\n",
              "  .colab-df-spinner {\n",
              "    border: 2px solid var(--fill-color);\n",
              "    border-color: transparent;\n",
              "    border-bottom-color: var(--fill-color);\n",
              "    animation:\n",
              "      spin 1s steps(1) infinite;\n",
              "  }\n",
              "\n",
              "  @keyframes spin {\n",
              "    0% {\n",
              "      border-color: transparent;\n",
              "      border-bottom-color: var(--fill-color);\n",
              "      border-left-color: var(--fill-color);\n",
              "    }\n",
              "    20% {\n",
              "      border-color: transparent;\n",
              "      border-left-color: var(--fill-color);\n",
              "      border-top-color: var(--fill-color);\n",
              "    }\n",
              "    30% {\n",
              "      border-color: transparent;\n",
              "      border-left-color: var(--fill-color);\n",
              "      border-top-color: var(--fill-color);\n",
              "      border-right-color: var(--fill-color);\n",
              "    }\n",
              "    40% {\n",
              "      border-color: transparent;\n",
              "      border-right-color: var(--fill-color);\n",
              "      border-top-color: var(--fill-color);\n",
              "    }\n",
              "    60% {\n",
              "      border-color: transparent;\n",
              "      border-right-color: var(--fill-color);\n",
              "    }\n",
              "    80% {\n",
              "      border-color: transparent;\n",
              "      border-right-color: var(--fill-color);\n",
              "      border-bottom-color: var(--fill-color);\n",
              "    }\n",
              "    90% {\n",
              "      border-color: transparent;\n",
              "      border-bottom-color: var(--fill-color);\n",
              "    }\n",
              "  }\n",
              "</style>\n",
              "\n",
              "  <script>\n",
              "    async function quickchart(key) {\n",
              "      const quickchartButtonEl =\n",
              "        document.querySelector('#' + key + ' button');\n",
              "      quickchartButtonEl.disabled = true;  // To prevent multiple clicks.\n",
              "      quickchartButtonEl.classList.add('colab-df-spinner');\n",
              "      try {\n",
              "        const charts = await google.colab.kernel.invokeFunction(\n",
              "            'suggestCharts', [key], {});\n",
              "      } catch (error) {\n",
              "        console.error('Error during call to suggestCharts:', error);\n",
              "      }\n",
              "      quickchartButtonEl.classList.remove('colab-df-spinner');\n",
              "      quickchartButtonEl.classList.add('colab-df-quickchart-complete');\n",
              "    }\n",
              "    (() => {\n",
              "      let quickchartButtonEl =\n",
              "        document.querySelector('#df-2747ace2-f56a-4910-a3ea-f00e47f4b150 button');\n",
              "      quickchartButtonEl.style.display =\n",
              "        google.colab.kernel.accessAllowed ? 'block' : 'none';\n",
              "    })();\n",
              "  </script>\n",
              "</div>\n",
              "\n",
              "    </div>\n",
              "  </div>\n"
            ],
            "application/vnd.google.colaboratory.intrinsic+json": {
              "type": "dataframe",
              "variable_name": "test",
              "summary": "{\n  \"name\": \"test\",\n  \"rows\": 80518,\n  \"fields\": [\n    {\n      \"column\": \"Unnamed: 0\",\n      \"properties\": {\n        \"dtype\": \"number\",\n        \"std\": 232130,\n        \"min\": 6,\n        \"max\": 803401,\n        \"num_unique_values\": 80518,\n        \"samples\": [\n          326347,\n          747163,\n          164870\n        ],\n        \"semantic_type\": \"\",\n        \"description\": \"\"\n      }\n    },\n    {\n      \"column\": \"issue_url\",\n      \"properties\": {\n        \"dtype\": \"string\",\n        \"num_unique_values\": 80138,\n        \"samples\": [\n          \"https://api.github.com/repos/austinhuang0131/barinsta/issues/1075\",\n          \"https://api.github.com/repos/Lovely-Development-Team/MottoBotto/issues/208\",\n          \"https://api.github.com/repos/ueberdosis/tiptap/issues/1261\"\n        ],\n        \"semantic_type\": \"\",\n        \"description\": \"\"\n      }\n    },\n    {\n      \"column\": \"issue_label\",\n      \"properties\": {\n        \"dtype\": \"category\",\n        \"num_unique_values\": 3,\n        \"samples\": [\n          \"enhancement\",\n          \"bug\",\n          \"question\"\n        ],\n        \"semantic_type\": \"\",\n        \"description\": \"\"\n      }\n    },\n    {\n      \"column\": \"issue_created_at\",\n      \"properties\": {\n        \"dtype\": \"object\",\n        \"num_unique_values\": 79974,\n        \"samples\": [\n          \"2020-09-09T22:17:05Z\",\n          \"2021-02-12T20:27:21Z\",\n          \"2020-12-01T06:39:26Z\"\n        ],\n        \"semantic_type\": \"\",\n        \"description\": \"\"\n      }\n    },\n    {\n      \"column\": \"issue_author_association\",\n      \"properties\": {\n        \"dtype\": \"category\",\n        \"num_unique_values\": 5,\n        \"samples\": [\n          \"OWNER\",\n          \"CONTRIBUTOR\",\n          \"COLLABORATOR\"\n        ],\n        \"semantic_type\": \"\",\n        \"description\": \"\"\n      }\n    },\n    {\n      \"column\": \"repository_url\",\n      \"properties\": {\n        \"dtype\": \"category\",\n        \"num_unique_values\": 37817,\n        \"samples\": [\n          \"https://api.github.com/repos/gitgitgadget/git\",\n          \"https://api.github.com/repos/agustinxmtz/robot-gladiators\",\n          \"https://api.github.com/repos/maven-download-plugin/maven-download-plugin\"\n        ],\n        \"semantic_type\": \"\",\n        \"description\": \"\"\n      }\n    },\n    {\n      \"column\": \"issue_title\",\n      \"properties\": {\n        \"dtype\": \"string\",\n        \"num_unique_values\": 78322,\n        \"samples\": [\n          \"Crash on server join\",\n          \"Fix Knockback issues\",\n          \"Monomer filtering on name and symbol is exact match and not 'contains'\"\n        ],\n        \"semantic_type\": \"\",\n        \"description\": \"\"\n      }\n    },\n    {\n      \"column\": \"issue_body\",\n      \"properties\": {\n        \"dtype\": \"string\",\n        \"num_unique_values\": 71192,\n        \"samples\": [\n          \"We have tried to backup and restore our PGO cluster and continue to have issues each time we try, in particular with PITR options, but also otherwise. We have tried with the local backrest and with S3 with similar results, and using the most basic cluster without any parameters to local storage also fails to restore.\\r\\n\\r\\nWe have tested on separate Kubernetes clusters with PGO 4.6.1 installed with the same results.\\r\\n\\r\\nWe can see that a bootstrap pod starts up after the restore command is issues, and goes into error state as explained in the step below. This is about the most basic cluster creation and PITR restore operation we could think of to demonstrate the issue.\\r\\n\\r\\nWe are not sure if this is isolated to PGO v4.6.1, however, would expect the latest version to work out of the box.\\r\\n\\r\\nThank you in advance for any assistance.\\r\\n\\r\\n**Expected behavior**\\r\\nWe expect the backup to restore our Postgres data without errors occurring.\\r\\n\\r\\n* Operating System:\\r\\nK3s Kubernetes 1.19 running on 3 Ubuntu 20.04 nodes\\r\\n\\r\\n* Where is this running ( Local, Cloud Provider)\\r\\nRemotely on prem\\r\\n\\r\\n* Storage being used (NFS, Hostpath, Gluster, etc):\\r\\nlocal-path (k3s Kubernetes default), or S3 for the backrest (tried both - same results)\\r\\n\\r\\nHere are the details with steps we took:\\r\\n\\t\\t\\r\\nStep 1:\\r\\n=======\\r\\nCreated the cluster.\\r\\n\\r\\n> pgo create cluster pgtest\\r\\n\\r\\ncreated cluster: pgtest\\r\\nworkflow id: e42a3ab7-e7ed-4961-97ef-d8f6fc832d02\\r\\ndatabase name: pgtest\\r\\nusers:\\r\\n        username: testuser password: ***************\\r\\n\\t\\t\\r\\n\\r\\nStep 2:\\r\\n=======\\r\\n> pgo show backup pgtest\\r\\n\\r\\ncluster: pgtest\\r\\nstorage type: posix\\r\\n\\r\\nstanza: db\\r\\n    status: ok\\r\\n    cipher: none\\r\\n\\r\\n    db (current)\\r\\n        wal archive min/max (13-1)\\r\\n\\r\\n        full backup: 20210423-210024F\\r\\n            timestamp start/stop: 2021-04-23 18:00:24 -0300 ADT / 2021-04-23 18:00:31 -0300 ADT\\r\\n            wal start/stop: 000000010000000000000002 / 000000010000000000000002\\r\\n            database size: 31.0MiB, backup size: 31.0MiB\\r\\n            repository size: 3.8MiB, repository backup size: 3.8MiB\\r\\n            backup reference list:\\r\\n\\r\\nStep 3:\\r\\n=======\\r\\nCreated a schema and a table with some data inserted in it\\r\\n\\r\\nStep 4:\\r\\n=======\\r\\nRan another backup\\r\\n> pgo backup pgtest\\r\\ncreated Pgtask backrest-backup-pgtest\\r\\n\\r\\n> pgo show backup pgtest\\r\\n\\r\\ncluster: pgtest\\r\\nstorage type: posix\\r\\n\\r\\nstanza: db\\r\\n    status: ok\\r\\n    cipher: none\\r\\n\\r\\n    db (current)\\r\\n        wal archive min/max (13-1)\\r\\n\\r\\n        full backup: 20210423-210024F\\r\\n            timestamp start/stop: 2021-04-23 18:00:24 -0300 ADT / 2021-04-23 18:00:31 -0300 ADT\\r\\n            wal start/stop: 000000010000000000000002 / 000000010000000000000002\\r\\n            database size: 31.0MiB, backup size: 31.0MiB\\r\\n            repository size: 3.8MiB, repository backup size: 3.8MiB\\r\\n            backup reference list:\\r\\n\\r\\n        incr backup: 20210423-210024F_20210423-211131I\\r\\n            timestamp start/stop: 2021-04-23 18:11:31 -0300 ADT / 2021-04-23 18:11:32 -0300 ADT\\r\\n            wal start/stop: 00000001000000000000000B / 00000001000000000000000B\\r\\n            database size: 31.0MiB, backup size: 4.2MiB\\r\\n            repository size: 3.8MiB, repository backup size: 526.2KiB\\r\\n            backup reference list: 20210423-210024F\\r\\n\\r\\n\\r\\nStep 5:\\r\\n=======\\r\\nRestore to a point in time:\\r\\n> pgo restore pgtest --pitr-target=\\\"2021-04-23 18:01:00\\\" --backup-opts=\\\"--type=time\\\"\\r\\nIf currently running, the primary database in this cluster will be stopped and recreated as part of this workflow!\\r\\nWARNING: Are you sure? (yes/no): yes\\r\\nrestore request for pgtest with opts \\\"--type=time\\\" and pitr-target=\\\"2021-04-23 18:01:00\\\"\\r\\nworkflow id 31550c97-04e1-427d-be00-003e3e8df593\\r\\n\\r\\n> pgo show workflow 31550c97-04e1-427d-be00-003e3e8df593 -n pgo --debug\\r\\nDEBU[0000] debug flag is set to true\\r\\nDEBU[0000] in initConfig with url=https://127.0.0.1:8443\\r\\nDEBU[0000] using PGO_NAMESPACE env var pgo\\r\\nDEBU[0000] GetSessionCredentials called\\r\\nDEBU[0000] PGOUSER environment variable is being used at /home/bborovan/.pgo/pgo/pgouser\\r\\nDEBU[0000] pgouser file found at /home/bborovan/.pgo/pgo/pgouser contains admin:examplepassword\\r\\nDEBU[0000] [admin examplepassword]\\r\\nDEBU[0000] username=[admin] password=[examplepassword]\\r\\nDEBU[0000] setting up httpclient with TLS\\r\\nDEBU[0000] GetTLSTransport called\\r\\nDEBU[0000] showWorkflow called [31550c97-04e1-427d-be00-003e3e8df593]\\r\\nDEBU[0000] ShowWorkflow called...[https://127.0.0.1:8443/workflow/31550c97-04e1-427d-be00-003e3e8df593?version=4.6.1&namespace=pgo]\\r\\nDEBU[0000] &{200 OK 200 HTTP/1.1 1 1 map[Content-Length:[232] Content-Type:[application/json] Date:[Fri, 23 Apr 2021 21:17:22 GMT] Www-Authenticate:[Basic realm=\\\"Restricted\\\"]] 0xc000546080 232 [] false false map[] 0xc0004c6200 0xc000832160}\\r\\nDEBU[0000] http status code is 200\\r\\nDEBU[0000] response = {{pgtest map[pg-cluster:pgtest restore job created:2021-04-23T21:15:18Z task submitted:2021-04-23T21:15:17Z workflowid:31550c97-04e1-427d-be00-003e3e8df593]} {ok }}\\r\\nparameter           value\\r\\n---------           -----\\r\\npg-cluster          pgtest\\r\\nrestore job created 2021-04-23T21:15:18Z\\r\\ntask submitted      2021-04-23T21:15:17Z\\r\\nworkflowid          31550c97-04e1-427d-be00-003e3e8df593\\r\\n\\r\\n\\r\\n> kubectl get po -n pgo\\r\\nNAME                                         READY   STATUS      RESTARTS   AGE\\r\\npgo-deploy-l894d                             0/1     Completed   0          12d\\r\\npgtest-backrest-shared-repo-87ff7b74-x6fl7   1/1     Running     0          18m\\r\\npgtest-bootstrap-94wdv                       0/1     Error       0          3m14s\\r\\npgtest-bootstrap-c9tbr                       1/1     Running     0          3m10s\\r\\npostgres-operator-6b76954d64-5sq4c           4/4     Running     0          12d\\r\\n\\r\\n\\r\\n\\r\\nYou can see the bootstrap is in error.\\r\\n\\r\\n> kubectl logs pgtest-bootstrap-94wdv -n pgo\\r\\nFri Apr 23 21:15:19 UTC 2021 INFO: postgres-ha pre-bootstrap starting...\\r\\nFri Apr 23 21:15:19 UTC 2021 INFO: pgBackRest auto-config disabled\\r\\nFri Apr 23 21:15:19 UTC 2021 INFO: PGHA_PGBACKREST_LOCAL_S3_STORAGE and PGHA_PGBACKREST_INITIALIZE will be ignored if provided\\r\\nFri Apr 23 21:15:19 UTC 2021 INFO: Defaults have been set for the following postgres-ha auto-configuration env vars: PGHA_DEFAULT_CONFIG, PGHA_BASE_BOOTSTRAP_CONFIG, PGHA_BASE_PG_CONFIG\\r\\nFri Apr 23 21:15:19 UTC 2021 INFO: Defaults have been set for the following postgres-ha env vars: PGHA_PATRONI_PORT\\r\\nFri Apr 23 21:15:19 UTC 2021 INFO: Defaults have been set for the following Patroni env vars: PATRONI_NAME, PATRONI_RESTAPI_LISTEN, PATRONI_RESTAPI_CONNECT_ADDRESS, PATRONI_POSTGRESQL_LISTEN, PATRONI_POSTGRESQL_CONNECT_ADDRESS\\r\\nFri Apr 23 21:15:19 UTC 2021 INFO: Setting postgres-ha configuration for database user credentials\\r\\nFri Apr 23 21:15:19 UTC 2021 INFO: Setting 'pguser' credentials using file system\\r\\nFri Apr 23 21:15:19 UTC 2021 INFO: Setting 'superuser' credentials using file system\\r\\nFri Apr 23 21:15:19 UTC 2021 INFO: Setting 'replicator' credentials using file system\\r\\nFri Apr 23 21:15:19 UTC 2021 INFO: Applying base bootstrap config to postgres-ha configuration\\r\\nFri Apr 23 21:15:19 UTC 2021 INFO: Applying base postgres config to postgres-ha configuration\\r\\nFri Apr 23 21:15:19 UTC 2021 INFO: Applying pgbackrest config to postgres-ha configuration\\r\\nFri Apr 23 21:15:19 UTC 2021 INFO: Applying standard (non-TLS) remote connection configuration to pg_hba.conf\\r\\nFri Apr 23 21:15:19 UTC 2021 INFO: Disabling archive mode for bootstrap method pgbackrest_init\\r\\nFri Apr 23 21:15:19 UTC 2021 INFO: Custom postgres-ha configuration file not detected\\r\\nFri Apr 23 21:15:19 UTC 2021 INFO: Finished building postgres-ha configuration file '/tmp/postgres-ha-bootstrap.yaml'\\r\\nFri Apr 23 21:15:19 UTC 2021 INFO: Detected cluster initialization using an existing PGDATA directory\\r\\nFri Apr 23 21:15:19 UTC 2021 INFO: postgres-ha pre-bootstrap complete!  The following configuration will be utilized to initialize\\r\\n******************************\\r\\npostgres-ha (PGHA) env vars:\\r\\n******************************\\r\\nPGHA_BASE_PG_CONFIG=true\\r\\nPGHA_PATRONI_PORT=8009\\r\\nPGHA_PG_PORT=5432\\r\\nPGHA_PGBACKREST_LOCAL_S3_STORAGE=false\\r\\nPGHA_SYNC_REPLICATION=false\\r\\nPGHA_USER=postgres\\r\\nPGHA_INIT=true\\r\\nPGHA_DEFAULT_CONFIG=true\\r\\nPGHA_REPLICA_REINIT_ON_START_FAIL=true\\r\\nPGHA_PGBACKREST=true\\r\\nPGHA_BASE_BOOTSTRAP_CONFIG=true\\r\\nPGHA_STANDBY=false\\r\\nPGHA_BOOTSTRAP_METHOD=pgbackrest_init\\r\\nPGHA_TLS_ONLY=false\\r\\nPGHA_TLS_ENABLED=false\\r\\nPGHA_DATABASE=pgtest\\r\\n******************************\\r\\nPatroni env vars:\\r\\n******************************\\r\\nPATRONI_POSTGRESQL_CONNECT_ADDRESS=10.42.1.71:5432\\r\\nPATRONI_POSTGRESQL_LISTEN=0.0.0.0:5432\\r\\nPATRONI_NAME=pgtest-bootstrap-94wdv\\r\\nPATRONI_SCOPE=pgtest\\r\\nPATRONI_RESTAPI_LISTEN=0.0.0.0:8009\\r\\nPATRONI_POSTGRESQL_DATA_DIR=/pgdata/pgtest\\r\\nPATRONI_RESTAPI_CONNECT_ADDRESS=10.42.1.71:8009\\r\\nPATRONI_LOG_LEVEL=INFO\\r\\nPATRONI_KUBERNETES_LABELS={vendor: \\\"crunchydata\\\"}\\r\\nPATRONI_KUBERNETES_SCOPE_LABEL=crunchy-pgha-scope\\r\\nPATRONI_KUBERNETES_NAMESPACE=pgo\\r\\n******************************\\r\\nPatroni bootstrap method: pgbackrest_init\\r\\n******************************\\r\\nPatroni configuration file:\\r\\n******************************\\r\\nbootstrap:\\r\\n  method: pgbackrest_init\\r\\n  pgbackrest_init:\\r\\n    command: '/opt/crunchy/bin/postgres-ha/pgbackrest/pgbackrest-create-replica.sh\\r\\n      primary'\\r\\n    keep_existing_recovery_conf: true\\r\\n  existing_init:\\r\\n    command: '/opt/crunchy/bin/postgres-ha/bootstrap/create-from-existing.sh'\\r\\n    keep_existing_recovery_conf: true\\r\\n  dcs:\\r\\n    postgresql:\\r\\n      parameters:\\r\\n        jit: off\\r\\n        unix_socket_directories: /tmp\\r\\n        wal_level: logical\\r\\n        archive_mode: on\\r\\n        archive_command: 'source /opt/crunchy/bin/postgres-ha/pgbackrest/pgbackrest-set-env.sh\\r\\n          && pgbackrest archive-push \\\"%p\\\"'\\r\\n        archive_timeout: 60\\r\\n        log_directory: pg_log\\r\\n        shared_buffers: 128MB\\r\\n        temp_buffers: 8MB\\r\\n        log_min_duration_statement: 60000\\r\\n        log_statement: none\\r\\n        work_mem: 4MB\\r\\n        max_wal_senders: 6\\r\\n        shared_preload_libraries: pgaudit.so,pg_stat_statements.so,pgnodemx.so\\r\\n      use_slots: false\\r\\n      recovery_conf:\\r\\n        restore_command: 'source /opt/crunchy/bin/postgres-ha/pgbackrest/pgbackrest-set-env.sh\\r\\n          && pgbackrest archive-get %f \\\"%p\\\"'\\r\\n      use_pg_rewind: true\\r\\n  post_bootstrap: /opt/crunchy/bin/postgres-ha/bootstrap/post-bootstrap.sh\\r\\n  initdb:\\r\\n  - encoding: UTF8\\r\\n  - data-checksums\\r\\npostgresql:\\r\\n  use_unix_socket: true\\r\\n  pgpass: /tmp/.pgpass\\r\\n  create_replica_methods:\\r\\n  - pgbackrest\\r\\n  - basebackup\\r\\n  pgbackrest:\\r\\n    command: '/opt/crunchy/bin/postgres-ha/pgbackrest/pgbackrest-create-replica.sh\\r\\n      replica'\\r\\n    keep_data: true\\r\\n    no_params: true\\r\\n  pgbackrest_standby:\\r\\n    command: '/opt/crunchy/bin/postgres-ha/pgbackrest/pgbackrest-create-replica.sh\\r\\n      standby'\\r\\n    keep_data: true\\r\\n    no_params: true\\r\\n    no_master: 1\\r\\n  remove_data_directory_on_rewind_failure: true\\r\\n  callbacks:\\r\\n    on_role_change: /opt/crunchy/bin/postgres-ha/callbacks/pgha-on-role-change.sh\\r\\n  parameters:\\r\\n    archive_mode: off\\r\\n  pg_hba:\\r\\n  - local all postgres peer\\r\\n  - host replication primaryuser 0.0.0.0/0 md5\\r\\n  - host all primaryuser 0.0.0.0/0 reject\\r\\n  - host all all 0.0.0.0/0 md5\\r\\nFri Apr 23 21:15:19 UTC 2021 INFO: Applying SSHD..\\r\\nFri Apr 23 21:15:19 UTC 2021 INFO: Checking for SSH Host Keys in /sshd..\\r\\nFri Apr 23 21:15:19 UTC 2021 INFO: Checking for authorized_keys in /sshd\\r\\nFri Apr 23 21:15:19 UTC 2021 INFO: Checking for sshd_config in /sshd\\r\\nFri Apr 23 21:15:19 UTC 2021 INFO: setting up .ssh directory\\r\\nFri Apr 23 21:15:19 UTC 2021 INFO: Starting SSHD..\\r\\nFri Apr 23 21:15:19 UTC 2021 INFO: Starting background process to monitor Patroni initization and restart the database if needed\\r\\nFri Apr 23 21:15:19 UTC 2021 INFO: Initializing cluster bootstrap with command: '/usr/local/bin/patroni /tmp/postgres-ha-bootstrap.yaml'\\r\\nFri Apr 23 21:15:19 UTC 2021 INFO: Patroni will not run as PID 1. Creating signal handler\\r\\n2021-04-23 21:15:20,080 INFO: No PostgreSQL configuration items changed, nothing to reload.\\r\\n2021-04-23 21:15:20,083 INFO: Lock owner: None; I am pgtest-bootstrap-94wdv\\r\\n2021-04-23 21:15:20,100 INFO: trying to bootstrap a new cluster\\r\\n2021-04-23 21:15:20,100 INFO: Running custom bootstrap script: /opt/crunchy/bin/postgres-ha/pgbackrest/pgbackrest-create-replica.sh primary\\r\\nFri Apr 23 21:15:20 UTC 2021 INFO: Valid PGDATA dir found for primary, a delta restore will be peformed\\r\\nWARN: unable to find backup set with stop time less than '2021-04-23 18:01:00', latest backup set will be used\\r\\nFri Apr 23 21:15:21 UTC 2021 INFO: primary pgBackRest restore complete\\r\\n2021-04-23 21:15:21,195 INFO: postmaster pid=177\\r\\n2021-04-23 21:15:21.197 UTC [177] LOG:  pgaudit extension initialized\\r\\n2021-04-23 21:15:21.199 UTC [177] WARNING:  pgnodemx: Kubernetes Downward API path /etc/podinfo does not exist: No such file or directory\\r\\n2021-04-23 21:15:21.199 UTC [177] DETAIL:  disabling Kubernetes Downward API file system access\\r\\n/tmp:5432 - no response\\r\\n2021-04-23 21:15:21.209 UTC [177] LOG:  redirecting log output to logging collector process\\r\\n2021-04-23 21:15:21.209 UTC [177] HINT:  Future log output will appear in directory \\\"pg_log\\\".\\r\\n/tmp:5432 - accepting connections\\r\\n/tmp:5432 - no response\\r\\n2021-04-23 21:15:22,218 INFO: removing initialize key after failed attempt to bootstrap the cluster\\r\\n2021-04-23 21:15:22,226 INFO: renaming data directory to /pgdata/pgtest_2021-04-23-21-15-22\\r\\nTraceback (most recent call last):\\r\\n  File \\\"/usr/local/bin/patroni\\\", line 11, in <module>\\r\\n    sys.exit(main())\\r\\n  File \\\"/usr/local/lib/python3.6/site-packages/patroni/__init__.py\\\", line 170, in main\\r\\n    return patroni_main()\\r\\n  File \\\"/usr/local/lib/python3.6/site-packages/patroni/__init__.py\\\", line 138, in patroni_main\\r\\n    abstract_main(Patroni, schema)\\r\\n  File \\\"/usr/local/lib/python3.6/site-packages/patroni/daemon.py\\\", line 100, in abstract_main\\r\\n    controller.run()\\r\\n  File \\\"/usr/local/lib/python3.6/site-packages/patroni/__init__.py\\\", line 108, in run\\r\\n    super(Patroni, self).run()\\r\\n  File \\\"/usr/local/lib/python3.6/site-packages/patroni/daemon.py\\\", line 59, in run\\r\\n    self._run_cycle()\\r\\n  File \\\"/usr/local/lib/python3.6/site-packages/patroni/__init__.py\\\", line 111, in _run_cycle\\r\\n    logger.info(self.ha.run_cycle())\\r\\n  File \\\"/usr/local/lib/python3.6/site-packages/patroni/ha.py\\\", line 1452, in run_cycle\\r\\n    info = self._run_cycle()\\r\\n  File \\\"/usr/local/lib/python3.6/site-packages/patroni/ha.py\\\", line 1346, in _run_cycle\\r\\n    return self.post_bootstrap()\\r\\n  File \\\"/usr/local/lib/python3.6/site-packages/patroni/ha.py\\\", line 1242, in post_bootstrap\\r\\n    self.cancel_initialization()\\r\\n  File \\\"/usr/local/lib/python3.6/site-packages/patroni/ha.py\\\", line 1235, in cancel_initialization\\r\\n    raise PatroniFatalException('Failed to bootstrap cluster')\\r\\npatroni.exceptions.PatroniFatalException: 'Failed to bootstrap cluster'\\r\\n\\r\\n\\r\\n\\r\\nUltimately we want to do this using a CRD with our own imakubectl logs pgtest-bootstrap-94wdv -n pgo\\r\\nFri Apr 23 21:15:19 UTC 2021 INFO: postgres-ha pre-bootstrap starting...\\r\\nFri Apr 23 21:15:19 UTC 2021 INFO: pgBackRest auto-config disabled\\r\\nFri Apr 23 21:15:19 UTC 2021 INFO: PGHA_PGBACKREST_LOCAL_S3_STORAGE and PGHA_PGBACKREST_INITIALIZE will be ignored if provided\\r\\nFri Apr 23 21:15:19 UTC 2021 INFO: Defaults have been set for the following postgres-ha auto-configuration env vars: PGHA_DEFAULT_CONFIG, PGHA_BASE_BOOTSTRAP_CONFIG, PGHA_BASE_PG_CONFIG\\r\\nFri Apr 23 21:15:19 UTC 2021 INFO: Defaults have been set for the following postgres-ha env vars: PGHA_PATRONI_PORT\\r\\nFri Apr 23 21:15:19 UTC 2021 INFO: Defaults have been set for the following Patroni env vars: PATRONI_NAME, PATRONI_RESTAPI_LISTEN, PATRONI_RESTAPI_CONNECT_ADDRESS, PATRONI_POSTGRESQL_LISTEN, PATRONI_POSTGRESQL_CONNECT_ADDRESS\\r\\nFri Apr 23 21:15:19 UTC 2021 INFO: Setting postgres-ha configuration for database user credentials\\r\\nFri Apr 23 21:15:19 UTC 2021 INFO: Setting 'pguser' credentials using file system\\r\\nFri Apr 23 21:15:19 UTC 2021 INFO: Setting 'superuser' credentials using file system\\r\\nFri Apr 23 21:15:19 UTC 2021 INFO: Setting 'replicator' credentials using file system\\r\\nFri Apr 23 21:15:19 UTC 2021 INFO: Applying base bootstrap config to postgres-ha configuration\\r\\nFri Apr 23 21:15:19 UTC 2021 INFO: Applying base postgres config to postgres-ha configuration\\r\\nFri Apr 23 21:15:19 UTC 2021 INFO: Applying pgbackrest config to postgres-ha configuration\\r\\nFri Apr 23 21:15:19 UTC 2021 INFO: Applying standard (non-TLS) remote connection configuration to pg_hba.conf\\r\\nFri Apr 23 21:15:19 UTC 2021 INFO: Disabling archive mode for bootstrap method pgbackrest_init\\r\\nFri Apr 23 21:15:19 UTC 2021 INFO: Custom postgres-ha configuration file not detected\\r\\nFri Apr 23 21:15:19 UTC 2021 INFO: Finished building postgres-ha configuration file '/tmp/postgres-ha-bootstrap.yaml'\\r\\nFri Apr 23 21:15:19 UTC 2021 INFO: Detected cluster initialization using an existing PGDATA directory\\r\\nFri Apr 23 21:15:19 UTC 2021 INFO: postgres-ha pre-bootstrap complete!  The following configuration will be utilized to initialize\\r\\n******************************\\r\\npostgres-ha (PGHA) env vars:\\r\\n******************************\\r\\nPGHA_BASE_PG_CONFIG=true\\r\\nPGHA_PATRONI_PORT=8009\\r\\nPGHA_PG_PORT=5432\\r\\nPGHA_PGBACKREST_LOCAL_S3_STORAGE=false\\r\\nPGHA_SYNC_REPLICATION=false\\r\\nPGHA_USER=postgres\\r\\nPGHA_INIT=true\\r\\nPGHA_DEFAULT_CONFIG=true\\r\\nPGHA_REPLICA_REINIT_ON_START_FAIL=true\\r\\nPGHA_PGBACKREST=true\\r\\nPGHA_BASE_BOOTSTRAP_CONFIG=true\\r\\nPGHA_STANDBY=false\\r\\nPGHA_BOOTSTRAP_METHOD=pgbackrest_init\\r\\nPGHA_TLS_ONLY=false\\r\\nPGHA_TLS_ENABLED=false\\r\\nPGHA_DATABASE=pgtest\\r\\n******************************\\r\\nPatroni env vars:\\r\\n******************************\\r\\nPATRONI_POSTGRESQL_CONNECT_ADDRESS=10.42.1.71:5432\\r\\nPATRONI_POSTGRESQL_LISTEN=0.0.0.0:5432\\r\\nPATRONI_NAME=pgtest-bootstrap-94wdv\\r\\nPATRONI_SCOPE=pgtest\\r\\nPATRONI_RESTAPI_LISTEN=0.0.0.0:8009\\r\\nPATRONI_POSTGRESQL_DATA_DIR=/pgdata/pgtest\\r\\nPATRONI_RESTAPI_CONNECT_ADDRESS=10.42.1.71:8009\\r\\nPATRONI_LOG_LEVEL=INFO\\r\\nPATRONI_KUBERNETES_LABELS={vendor: \\\"crunchydata\\\"}\\r\\nPATRONI_KUBERNETES_SCOPE_LABEL=crunchy-pgha-scope\\r\\nPATRONI_KUBERNETES_NAMESPACE=pgo\\r\\n******************************\\r\\nPatroni bootstrap method: pgbackrest_init\\r\\n******************************\\r\\nPatroni configuration file:\\r\\n******************************\\r\\nbootstrap:\\r\\n  method: pgbackrest_init\\r\\n  pgbackrest_init:\\r\\n    command: '/opt/crunchy/bin/postgres-ha/pgbackrest/pgbackrest-create-replica.sh\\r\\n      primary'\\r\\n    keep_existing_recovery_conf: true\\r\\n  existing_init:\\r\\n    command: '/opt/crunchy/bin/postgres-ha/bootstrap/create-from-existing.sh'\\r\\n    keep_existing_recovery_conf: true\\r\\n  dcs:\\r\\n    postgresql:\\r\\n      parameters:\\r\\n        jit: off\\r\\n        unix_socket_directories: /tmp\\r\\n        wal_level: logical\\r\\n        archive_mode: on\\r\\n        archive_command: 'source /opt/crunchy/bin/postgres-ha/pgbackrest/pgbackrest-set-env.sh\\r\\n          && pgbackrest archive-push \\\"%p\\\"'\\r\\n        archive_timeout: 60\\r\\n        log_directory: pg_log\\r\\n        shared_buffers: 128MB\\r\\n        temp_buffers: 8MB\\r\\n        log_min_duration_statement: 60000\\r\\n        log_statement: none\\r\\n        work_mem: 4MB\\r\\n        max_wal_senders: 6\\r\\n        shared_preload_libraries: pgaudit.so,pg_stat_statements.so,pgnodemx.so\\r\\n      use_slots: false\\r\\n      recovery_conf:\\r\\n        restore_command: 'source /opt/crunchy/bin/postgres-ha/pgbackrest/pgbackrest-set-env.sh\\r\\n          && pgbackrest archive-get %f \\\"%p\\\"'\\r\\n      use_pg_rewind: true\\r\\n  post_bootstrap: /opt/crunchy/bin/postgres-ha/bootstrap/post-bootstrap.sh\\r\\n  initdb:\\r\\n  - encoding: UTF8\\r\\n  - data-checksums\\r\\npostgresql:\\r\\n  use_unix_socket: true\\r\\n  pgpass: /tmp/.pgpass\\r\\n  create_replica_methods:\\r\\n  - pgbackrest\\r\\n  - basebackup\\r\\n  pgbackrest:\\r\\n    command: '/opt/crunchy/bin/postgres-ha/pgbackrest/pgbackrest-create-replica.sh\\r\\n      replica'\\r\\n    keep_data: true\\r\\n    no_params: true\\r\\n  pgbackrest_standby:\\r\\n    command: '/opt/crunchy/bin/postgres-ha/pgbackrest/pgbackrest-create-replica.sh\\r\\n      standby'\\r\\n    keep_data: true\\r\\n    no_params: true\\r\\n    no_master: 1\\r\\n  remove_data_directory_on_rewind_failure: true\\r\\n  callbacks:\\r\\n    on_role_change: /opt/crunchy/bin/postgres-ha/callbacks/pgha-on-role-change.sh\\r\\n  parameters:\\r\\n    archive_mode: off\\r\\n  pg_hba:\\r\\n  - local all postgres peer\\r\\n  - host replication primaryuser 0.0.0.0/0 md5\\r\\n  - host all primaryuser 0.0.0.0/0 reject\\r\\n  - host all all 0.0.0.0/0 md5\\r\\nFri Apr 23 21:15:19 UTC 2021 INFO: Applying SSHD..\\r\\nFri Apr 23 21:15:19 UTC 2021 INFO: Checking for SSH Host Keys in /sshd..\\r\\nFri Apr 23 21:15:19 UTC 2021 INFO: Checking for authorized_keys in /sshd\\r\\nFri Apr 23 21:15:19 UTC 2021 INFO: Checking for sshd_config in /sshd\\r\\nFri Apr 23 21:15:19 UTC 2021 INFO: setting up .ssh directory\\r\\nFri Apr 23 21:15:19 UTC 2021 INFO: Starting SSHD..\\r\\nFri Apr 23 21:15:19 UTC 2021 INFO: Starting background process to monitor Patroni initization and restart the database if needed\\r\\nFri Apr 23 21:15:19 UTC 2021 INFO: Initializing cluster bootstrap with command: '/usr/local/bin/patroni /tmp/postgres-ha-bootstrap.yaml'\\r\\nFri Apr 23 21:15:19 UTC 2021 INFO: Patroni will not run as PID 1. Creating signal handler\\r\\n2021-04-23 21:15:20,080 INFO: No PostgreSQL configuration items changed, nothing to reload.\\r\\n2021-04-23 21:15:20,083 INFO: Lock owner: None; I am pgtest-bootstrap-94wdv\\r\\n2021-04-23 21:15:20,100 INFO: trying to bootstrap a new cluster\\r\\n2021-04-23 21:15:20,100 INFO: Running custom bootstrap script: /opt/crunchy/bin/postgres-ha/pgbackrest/pgbackrest-create-replica.sh primary\\r\\nFri Apr 23 21:15:20 UTC 2021 INFO: Valid PGDATA dir found for primary, a delta restore will be peformed\\r\\nWARN: unable to find backup set with stop time less than '2021-04-23 18:01:00', latest backup set will be used\\r\\nFri Apr 23 21:15:21 UTC 2021 INFO: primary pgBackRest restore complete\\r\\n2021-04-23 21:15:21,195 INFO: postmaster pid=177\\r\\n2021-04-23 21:15:21.197 UTC [177] LOG:  pgaudit extension initialized\\r\\n2021-04-23 21:15:21.199 UTC [177] WARNING:  pgnodemx: Kubernetes Downward API path /etc/podinfo does not exist: No such file or directory\\r\\n2021-04-23 21:15:21.199 UTC [177] DETAIL:  disabling Kubernetes Downward API file system access\\r\\n/tmp:5432 - no response\\r\\n2021-04-23 21:15:21.209 UTC [177] LOG:  redirecting log output to logging collector process\\r\\n2021-04-23 21:15:21.209 UTC [177] HINT:  Future log output will appear in directory \\\"pg_log\\\".\\r\\n/tmp:5432 - accepting connections\\r\\n/tmp:5432 - no response\\r\\n2021-04-23 21:15:22,218 INFO: removing initialize key after failed attempt to bootstrap the cluster\\r\\n2021-04-23 21:15:22,226 INFO: renaming data directory to /pgdata/pgtest_2021-04-23-21-15-22\\r\\nTraceback (most recent call last):\\r\\n  File \\\"/usr/local/bin/patroni\\\", line 11, in <module>\\r\\n    sys.exit(main())\\r\\n  File \\\"/usr/local/lib/python3.6/site-packages/patroni/__init__.py\\\", line 170, in main\\r\\n    return patroni_main()\\r\\n  File \\\"/usr/local/lib/python3.6/site-packages/patroni/__init__.py\\\", line 138, in patroni_main\\r\\n    abstract_main(Patroni, schema)\\r\\n  File \\\"/usr/local/lib/python3.6/site-packages/patroni/daemon.py\\\", line 100, in abstract_main\\r\\n    controller.run()\\r\\n  File \\\"/usr/local/lib/python3.6/site-packages/patroni/__init__.py\\\", line 108, in run\\r\\n    super(Patroni, self).run()\\r\\n  File \\\"/usr/local/lib/python3.6/site-packages/patroni/daemon.py\\\", line 59, in run\\r\\n    self._run_cycle()\\r\\n  File \\\"/usr/local/lib/python3.6/site-packages/patroni/__init__.py\\\", line 111, in _run_cycle\\r\\n    logger.info(self.ha.run_cycle())\\r\\n  File \\\"/usr/local/lib/python3.6/site-packages/patroni/ha.py\\\", line 1452, in run_cycle\\r\\n    info = self._run_cycle()\\r\\n  File \\\"/usr/local/lib/python3.6/site-packages/patroni/ha.py\\\", line 1346, in _run_cycle\\r\\n    return self.post_bootstrap()\\r\\n  File \\\"/usr/local/lib/python3.6/site-packages/patroni/ha.py\\\", line 1242, in post_bootstrap\\r\\n    self.cancel_initialization()\\r\\n  File \\\"/usr/local/lib/python3.6/site-packages/patroni/ha.py\\\", line 1235, in cancel_initialization\\r\\n    raise PatroniFatalException('Failed to bootstrap cluster')\\r\\npatroni.exceptions.PatroniFatalException: 'Failed to bootstrap cluster'\\r\\n\\r\\n\\r\\n\",\n          \"In the Chinese language family, Traditional Chinese and Simplified Chinese are distinguished. Currently, it is found that you specify \\\"zh\\\" as Traditional Chinese.\\r\\n\\r\\n\\\"Some CultureInfo objects differ depending on the underlying platform. In particular, \\\"zh-CN\\\", or Chinese (Simplified, China) and \\\"zh-TW\\\", or Chinese (Traditional, Taiwan), are available cultures on Windows systems.\\\"\\r\\n\\r\\nhttps://docs.microsoft.com/en-us/dotnet/api/system.globalization.cultureinfo?view=net-5.0\",\n          \"- [x] I have checked that this issue has not already been reported.\\r\\n\\r\\n- [x] I have confirmed this bug exists on the latest version of geopandas.\\r\\n\\r\\n- [ ] (optional) I have confirmed this bug exists on the master branch of geopandas.\\r\\n\\r\\n---\\r\\n\\r\\n**Note**: Please read [this guide](https://matthewrocklin.com/blog/work/2018/02/28/minimal-bug-reports) detailing how to provide the necessary information for us to reproduce your bug.\\r\\n\\r\\n#### Code Sample, a copy-pastable example\\r\\n\\r\\n```python\\r\\nimport geopandas\\r\\n# copy from https://geopandas.org/docs/reference/api/geopandas.GeoSeries.is_empty.html#geopandas.GeoSeries.is_empty\\r\\nfrom shapely.geometry import Point, Polygon\\r\\nd = {'geometry': [Point(), Point(2, 1), None]}\\r\\ngdf = geopandas.GeoDataFrame(d, crs=\\\"EPSG:4326\\\")\\r\\n# this fails\\r\\ngdf.to_crs(\\\"EPSG:3857\\\")\\r\\n\\r\\n```\\r\\n\\r\\n#### Problem description\\r\\n\\r\\nNone values lead to an error, rather than propagating and returning None.\\r\\n\\r\\n#### Expected Output\\r\\n\\r\\nNone\\r\\n\\r\\n#### Output of ``geopandas.show_versions()``\\r\\n\\r\\n<details>\\r\\n\\r\\nSYSTEM INFO\\r\\n-----------\\r\\npython     : 3.8.5 (default, Jul 28 2020, 12:59:40)  [GCC 9.3.0]\\r\\nexecutable : /usr/bin/python3\\r\\nmachine    : Linux-4.19.128-microsoft-standard-x86_64-with-glibc2.29\\r\\n\\r\\nGEOS, GDAL, PROJ INFO\\r\\n---------------------\\r\\nGEOS       : 3.8.0\\r\\nGEOS lib   : /usr/lib/x86_64-linux-gnu/libgeos_c.so\\r\\nGDAL       : 2.4.4\\r\\nGDAL data dir: /usr/local/lib/python3.8/dist-packages/fiona/gdal_data\\r\\nPROJ       : 7.2.0\\r\\nPROJ data dir: /usr/local/lib/python3.8/dist-packages/pyproj/proj_dir/share/proj\\r\\n\\r\\nPYTHON DEPENDENCIES\\r\\n-------------------\\r\\ngeopandas  : 0.8.1\\r\\npandas     : 1.1.4\\r\\nfiona      : 1.8.17\\r\\nnumpy      : 1.19.4\\r\\nshapely    : 1.7.1\\r\\nrtree      : None\\r\\npyproj     : 3.0.0.post1\\r\\nmatplotlib : 3.3.2\\r\\nmapclassify: None\\r\\ngeopy      : 2.1.0\\r\\npsycopg2   : None\\r\\ngeoalchemy2: None\\r\\npyarrow    : None\\r\\n\\r\\n</details>\\r\\n\"\n        ],\n        \"semantic_type\": \"\",\n        \"description\": \"\"\n      }\n    },\n    {\n      \"column\": \"llama3_70b_prediction\",\n      \"properties\": {\n        \"dtype\": \"category\",\n        \"num_unique_values\": 44,\n        \"samples\": [\n          \"Investigation\",\n          \"Refactor\",\n          \"Blocker\"\n        ],\n        \"semantic_type\": \"\",\n        \"description\": \"\"\n      }\n    }\n  ]\n}"
            }
          },
          "metadata": {},
          "execution_count": 3
        }
      ]
    },
    {
      "cell_type": "code",
      "source": [
        "test.tail()"
      ],
      "metadata": {
        "colab": {
          "base_uri": "https://localhost:8080/",
          "height": 394
        },
        "id": "BTs7-Y1DKCbT",
        "outputId": "8acb78bc-6f17-4707-d484-369d1121c2c0"
      },
      "execution_count": 4,
      "outputs": [
        {
          "output_type": "execute_result",
          "data": {
            "text/plain": [
              "       Unnamed: 0                                          issue_url  \\\n",
              "80513      803384  https://api.github.com/repos/timescale/timesca...   \n",
              "80514      803392  https://api.github.com/repos/cockpit-project/c...   \n",
              "80515      803398  https://api.github.com/repos/Homebrew/brew/iss...   \n",
              "80516      803400  https://api.github.com/repos/kirbydesign/desig...   \n",
              "80517      803401  https://api.github.com/repos/penpot/penpot/iss...   \n",
              "\n",
              "       issue_label      issue_created_at issue_author_association  \\\n",
              "80513     question  2021-04-14T21:33:04Z                     NONE   \n",
              "80514  enhancement  2020-03-11T15:28:33Z              CONTRIBUTOR   \n",
              "80515          bug  2021-04-21T15:02:49Z                     NONE   \n",
              "80516  enhancement  2020-09-07T10:35:52Z              CONTRIBUTOR   \n",
              "80517          bug  2021-04-21T21:25:16Z                     NONE   \n",
              "\n",
              "                                          repository_url  \\\n",
              "80513  https://api.github.com/repos/timescale/timesca...   \n",
              "80514  https://api.github.com/repos/cockpit-project/c...   \n",
              "80515         https://api.github.com/repos/Homebrew/brew   \n",
              "80516  https://api.github.com/repos/kirbydesign/desig...   \n",
              "80517         https://api.github.com/repos/penpot/penpot   \n",
              "\n",
              "                                             issue_title  \\\n",
              "80513  No Gap Fill with bucket size bigger then inser...   \n",
              "80514  desktop: Support sandbox with webkit_web_conte...   \n",
              "80515                             Can't install watchman   \n",
              "80516  [Enhancement] Optional top section of Kirby pa...   \n",
              "80517           Script manage.sh wont work after install   \n",
              "\n",
              "                                              issue_body llama3_70b_prediction  \n",
              "80513  **Relevant system information:**\\r\\n\\r\\nPostgr...                   Bug  \n",
              "80514  Our Python-based WebKit desktop browser should...           Enhancement  \n",
              "80515  ### `brew config` output\\n\\n```shell\\nHOMEBREW...                   Bug  \n",
              "80516  <!--**Mandatory steps to ensure alignment betw...           Enhancement  \n",
              "80517  **Describe the bug**\\r\\nAfter starting the app...                   Bug  "
            ],
            "text/html": [
              "\n",
              "  <div id=\"df-2c87ac44-18f6-4596-a507-5076cb703716\" class=\"colab-df-container\">\n",
              "    <div>\n",
              "<style scoped>\n",
              "    .dataframe tbody tr th:only-of-type {\n",
              "        vertical-align: middle;\n",
              "    }\n",
              "\n",
              "    .dataframe tbody tr th {\n",
              "        vertical-align: top;\n",
              "    }\n",
              "\n",
              "    .dataframe thead th {\n",
              "        text-align: right;\n",
              "    }\n",
              "</style>\n",
              "<table border=\"1\" class=\"dataframe\">\n",
              "  <thead>\n",
              "    <tr style=\"text-align: right;\">\n",
              "      <th></th>\n",
              "      <th>Unnamed: 0</th>\n",
              "      <th>issue_url</th>\n",
              "      <th>issue_label</th>\n",
              "      <th>issue_created_at</th>\n",
              "      <th>issue_author_association</th>\n",
              "      <th>repository_url</th>\n",
              "      <th>issue_title</th>\n",
              "      <th>issue_body</th>\n",
              "      <th>llama3_70b_prediction</th>\n",
              "    </tr>\n",
              "  </thead>\n",
              "  <tbody>\n",
              "    <tr>\n",
              "      <th>80513</th>\n",
              "      <td>803384</td>\n",
              "      <td>https://api.github.com/repos/timescale/timesca...</td>\n",
              "      <td>question</td>\n",
              "      <td>2021-04-14T21:33:04Z</td>\n",
              "      <td>NONE</td>\n",
              "      <td>https://api.github.com/repos/timescale/timesca...</td>\n",
              "      <td>No Gap Fill with bucket size bigger then inser...</td>\n",
              "      <td>**Relevant system information:**\\r\\n\\r\\nPostgr...</td>\n",
              "      <td>Bug</td>\n",
              "    </tr>\n",
              "    <tr>\n",
              "      <th>80514</th>\n",
              "      <td>803392</td>\n",
              "      <td>https://api.github.com/repos/cockpit-project/c...</td>\n",
              "      <td>enhancement</td>\n",
              "      <td>2020-03-11T15:28:33Z</td>\n",
              "      <td>CONTRIBUTOR</td>\n",
              "      <td>https://api.github.com/repos/cockpit-project/c...</td>\n",
              "      <td>desktop: Support sandbox with webkit_web_conte...</td>\n",
              "      <td>Our Python-based WebKit desktop browser should...</td>\n",
              "      <td>Enhancement</td>\n",
              "    </tr>\n",
              "    <tr>\n",
              "      <th>80515</th>\n",
              "      <td>803398</td>\n",
              "      <td>https://api.github.com/repos/Homebrew/brew/iss...</td>\n",
              "      <td>bug</td>\n",
              "      <td>2021-04-21T15:02:49Z</td>\n",
              "      <td>NONE</td>\n",
              "      <td>https://api.github.com/repos/Homebrew/brew</td>\n",
              "      <td>Can't install watchman</td>\n",
              "      <td>### `brew config` output\\n\\n```shell\\nHOMEBREW...</td>\n",
              "      <td>Bug</td>\n",
              "    </tr>\n",
              "    <tr>\n",
              "      <th>80516</th>\n",
              "      <td>803400</td>\n",
              "      <td>https://api.github.com/repos/kirbydesign/desig...</td>\n",
              "      <td>enhancement</td>\n",
              "      <td>2020-09-07T10:35:52Z</td>\n",
              "      <td>CONTRIBUTOR</td>\n",
              "      <td>https://api.github.com/repos/kirbydesign/desig...</td>\n",
              "      <td>[Enhancement] Optional top section of Kirby pa...</td>\n",
              "      <td>&lt;!--**Mandatory steps to ensure alignment betw...</td>\n",
              "      <td>Enhancement</td>\n",
              "    </tr>\n",
              "    <tr>\n",
              "      <th>80517</th>\n",
              "      <td>803401</td>\n",
              "      <td>https://api.github.com/repos/penpot/penpot/iss...</td>\n",
              "      <td>bug</td>\n",
              "      <td>2021-04-21T21:25:16Z</td>\n",
              "      <td>NONE</td>\n",
              "      <td>https://api.github.com/repos/penpot/penpot</td>\n",
              "      <td>Script manage.sh wont work after install</td>\n",
              "      <td>**Describe the bug**\\r\\nAfter starting the app...</td>\n",
              "      <td>Bug</td>\n",
              "    </tr>\n",
              "  </tbody>\n",
              "</table>\n",
              "</div>\n",
              "    <div class=\"colab-df-buttons\">\n",
              "\n",
              "  <div class=\"colab-df-container\">\n",
              "    <button class=\"colab-df-convert\" onclick=\"convertToInteractive('df-2c87ac44-18f6-4596-a507-5076cb703716')\"\n",
              "            title=\"Convert this dataframe to an interactive table.\"\n",
              "            style=\"display:none;\">\n",
              "\n",
              "  <svg xmlns=\"http://www.w3.org/2000/svg\" height=\"24px\" viewBox=\"0 -960 960 960\">\n",
              "    <path d=\"M120-120v-720h720v720H120Zm60-500h600v-160H180v160Zm220 220h160v-160H400v160Zm0 220h160v-160H400v160ZM180-400h160v-160H180v160Zm440 0h160v-160H620v160ZM180-180h160v-160H180v160Zm440 0h160v-160H620v160Z\"/>\n",
              "  </svg>\n",
              "    </button>\n",
              "\n",
              "  <style>\n",
              "    .colab-df-container {\n",
              "      display:flex;\n",
              "      gap: 12px;\n",
              "    }\n",
              "\n",
              "    .colab-df-convert {\n",
              "      background-color: #E8F0FE;\n",
              "      border: none;\n",
              "      border-radius: 50%;\n",
              "      cursor: pointer;\n",
              "      display: none;\n",
              "      fill: #1967D2;\n",
              "      height: 32px;\n",
              "      padding: 0 0 0 0;\n",
              "      width: 32px;\n",
              "    }\n",
              "\n",
              "    .colab-df-convert:hover {\n",
              "      background-color: #E2EBFA;\n",
              "      box-shadow: 0px 1px 2px rgba(60, 64, 67, 0.3), 0px 1px 3px 1px rgba(60, 64, 67, 0.15);\n",
              "      fill: #174EA6;\n",
              "    }\n",
              "\n",
              "    .colab-df-buttons div {\n",
              "      margin-bottom: 4px;\n",
              "    }\n",
              "\n",
              "    [theme=dark] .colab-df-convert {\n",
              "      background-color: #3B4455;\n",
              "      fill: #D2E3FC;\n",
              "    }\n",
              "\n",
              "    [theme=dark] .colab-df-convert:hover {\n",
              "      background-color: #434B5C;\n",
              "      box-shadow: 0px 1px 3px 1px rgba(0, 0, 0, 0.15);\n",
              "      filter: drop-shadow(0px 1px 2px rgba(0, 0, 0, 0.3));\n",
              "      fill: #FFFFFF;\n",
              "    }\n",
              "  </style>\n",
              "\n",
              "    <script>\n",
              "      const buttonEl =\n",
              "        document.querySelector('#df-2c87ac44-18f6-4596-a507-5076cb703716 button.colab-df-convert');\n",
              "      buttonEl.style.display =\n",
              "        google.colab.kernel.accessAllowed ? 'block' : 'none';\n",
              "\n",
              "      async function convertToInteractive(key) {\n",
              "        const element = document.querySelector('#df-2c87ac44-18f6-4596-a507-5076cb703716');\n",
              "        const dataTable =\n",
              "          await google.colab.kernel.invokeFunction('convertToInteractive',\n",
              "                                                    [key], {});\n",
              "        if (!dataTable) return;\n",
              "\n",
              "        const docLinkHtml = 'Like what you see? Visit the ' +\n",
              "          '<a target=\"_blank\" href=https://colab.research.google.com/notebooks/data_table.ipynb>data table notebook</a>'\n",
              "          + ' to learn more about interactive tables.';\n",
              "        element.innerHTML = '';\n",
              "        dataTable['output_type'] = 'display_data';\n",
              "        await google.colab.output.renderOutput(dataTable, element);\n",
              "        const docLink = document.createElement('div');\n",
              "        docLink.innerHTML = docLinkHtml;\n",
              "        element.appendChild(docLink);\n",
              "      }\n",
              "    </script>\n",
              "  </div>\n",
              "\n",
              "\n",
              "<div id=\"df-f4535439-49e0-41ea-bcfe-5e8fb5da3976\">\n",
              "  <button class=\"colab-df-quickchart\" onclick=\"quickchart('df-f4535439-49e0-41ea-bcfe-5e8fb5da3976')\"\n",
              "            title=\"Suggest charts\"\n",
              "            style=\"display:none;\">\n",
              "\n",
              "<svg xmlns=\"http://www.w3.org/2000/svg\" height=\"24px\"viewBox=\"0 0 24 24\"\n",
              "     width=\"24px\">\n",
              "    <g>\n",
              "        <path d=\"M19 3H5c-1.1 0-2 .9-2 2v14c0 1.1.9 2 2 2h14c1.1 0 2-.9 2-2V5c0-1.1-.9-2-2-2zM9 17H7v-7h2v7zm4 0h-2V7h2v10zm4 0h-2v-4h2v4z\"/>\n",
              "    </g>\n",
              "</svg>\n",
              "  </button>\n",
              "\n",
              "<style>\n",
              "  .colab-df-quickchart {\n",
              "      --bg-color: #E8F0FE;\n",
              "      --fill-color: #1967D2;\n",
              "      --hover-bg-color: #E2EBFA;\n",
              "      --hover-fill-color: #174EA6;\n",
              "      --disabled-fill-color: #AAA;\n",
              "      --disabled-bg-color: #DDD;\n",
              "  }\n",
              "\n",
              "  [theme=dark] .colab-df-quickchart {\n",
              "      --bg-color: #3B4455;\n",
              "      --fill-color: #D2E3FC;\n",
              "      --hover-bg-color: #434B5C;\n",
              "      --hover-fill-color: #FFFFFF;\n",
              "      --disabled-bg-color: #3B4455;\n",
              "      --disabled-fill-color: #666;\n",
              "  }\n",
              "\n",
              "  .colab-df-quickchart {\n",
              "    background-color: var(--bg-color);\n",
              "    border: none;\n",
              "    border-radius: 50%;\n",
              "    cursor: pointer;\n",
              "    display: none;\n",
              "    fill: var(--fill-color);\n",
              "    height: 32px;\n",
              "    padding: 0;\n",
              "    width: 32px;\n",
              "  }\n",
              "\n",
              "  .colab-df-quickchart:hover {\n",
              "    background-color: var(--hover-bg-color);\n",
              "    box-shadow: 0 1px 2px rgba(60, 64, 67, 0.3), 0 1px 3px 1px rgba(60, 64, 67, 0.15);\n",
              "    fill: var(--button-hover-fill-color);\n",
              "  }\n",
              "\n",
              "  .colab-df-quickchart-complete:disabled,\n",
              "  .colab-df-quickchart-complete:disabled:hover {\n",
              "    background-color: var(--disabled-bg-color);\n",
              "    fill: var(--disabled-fill-color);\n",
              "    box-shadow: none;\n",
              "  }\n",
              "\n",
              "  .colab-df-spinner {\n",
              "    border: 2px solid var(--fill-color);\n",
              "    border-color: transparent;\n",
              "    border-bottom-color: var(--fill-color);\n",
              "    animation:\n",
              "      spin 1s steps(1) infinite;\n",
              "  }\n",
              "\n",
              "  @keyframes spin {\n",
              "    0% {\n",
              "      border-color: transparent;\n",
              "      border-bottom-color: var(--fill-color);\n",
              "      border-left-color: var(--fill-color);\n",
              "    }\n",
              "    20% {\n",
              "      border-color: transparent;\n",
              "      border-left-color: var(--fill-color);\n",
              "      border-top-color: var(--fill-color);\n",
              "    }\n",
              "    30% {\n",
              "      border-color: transparent;\n",
              "      border-left-color: var(--fill-color);\n",
              "      border-top-color: var(--fill-color);\n",
              "      border-right-color: var(--fill-color);\n",
              "    }\n",
              "    40% {\n",
              "      border-color: transparent;\n",
              "      border-right-color: var(--fill-color);\n",
              "      border-top-color: var(--fill-color);\n",
              "    }\n",
              "    60% {\n",
              "      border-color: transparent;\n",
              "      border-right-color: var(--fill-color);\n",
              "    }\n",
              "    80% {\n",
              "      border-color: transparent;\n",
              "      border-right-color: var(--fill-color);\n",
              "      border-bottom-color: var(--fill-color);\n",
              "    }\n",
              "    90% {\n",
              "      border-color: transparent;\n",
              "      border-bottom-color: var(--fill-color);\n",
              "    }\n",
              "  }\n",
              "</style>\n",
              "\n",
              "  <script>\n",
              "    async function quickchart(key) {\n",
              "      const quickchartButtonEl =\n",
              "        document.querySelector('#' + key + ' button');\n",
              "      quickchartButtonEl.disabled = true;  // To prevent multiple clicks.\n",
              "      quickchartButtonEl.classList.add('colab-df-spinner');\n",
              "      try {\n",
              "        const charts = await google.colab.kernel.invokeFunction(\n",
              "            'suggestCharts', [key], {});\n",
              "      } catch (error) {\n",
              "        console.error('Error during call to suggestCharts:', error);\n",
              "      }\n",
              "      quickchartButtonEl.classList.remove('colab-df-spinner');\n",
              "      quickchartButtonEl.classList.add('colab-df-quickchart-complete');\n",
              "    }\n",
              "    (() => {\n",
              "      let quickchartButtonEl =\n",
              "        document.querySelector('#df-f4535439-49e0-41ea-bcfe-5e8fb5da3976 button');\n",
              "      quickchartButtonEl.style.display =\n",
              "        google.colab.kernel.accessAllowed ? 'block' : 'none';\n",
              "    })();\n",
              "  </script>\n",
              "</div>\n",
              "\n",
              "    </div>\n",
              "  </div>\n"
            ],
            "application/vnd.google.colaboratory.intrinsic+json": {
              "type": "dataframe",
              "repr_error": "0"
            }
          },
          "metadata": {},
          "execution_count": 4
        }
      ]
    },
    {
      "cell_type": "code",
      "source": [
        "test['llama3_70b_prediction'].value_counts()"
      ],
      "metadata": {
        "colab": {
          "base_uri": "https://localhost:8080/"
        },
        "id": "UCOQUDfuKIJ6",
        "outputId": "7a42aa83-9e04-440b-f661-97d9900366f2"
      },
      "execution_count": 5,
      "outputs": [
        {
          "output_type": "execute_result",
          "data": {
            "text/plain": [
              "llama3_70b_prediction\n",
              "Bug                                                                                                                                                                                                                                                                                                                                                                                                                                                                                                                                                                                                                                                                                                                                                                                                                                                                                                                                                                                       40691\n",
              "Enhancement                                                                                                                                                                                                                                                                                                                                                                                                                                                                                                                                                                                                                                                                                                                                                                                                                                                                                                                                                                               35529\n",
              "Others                                                                                                                                                                                                                                                                                                                                                                                                                                                                                                                                                                                                                                                                                                                                                                                                                                                                                                                                                                                     3131\n",
              "bug                                                                                                                                                                                                                                                                                                                                                                                                                                                                                                                                                                                                                                                                                                                                                                                                                                                                                                                                                                                         693\n",
              "enhancement                                                                                                                                                                                                                                                                                                                                                                                                                                                                                                                                                                                                                                                                                                                                                                                                                                                                                                                                                                                 188\n",
              "others                                                                                                                                                                                                                                                                                                                                                                                                                                                                                                                                                                                                                                                                                                                                                                                                                                                                                                                                                                                      132\n",
              "Support                                                                                                                                                                                                                                                                                                                                                                                                                                                                                                                                                                                                                                                                                                                                                                                                                                                                                                                                                                                      24\n",
              "Task                                                                                                                                                                                                                                                                                                                                                                                                                                                                                                                                                                                                                                                                                                                                                                                                                                                                                                                                                                                         14\n",
              "Performance                                                                                                                                                                                                                                                                                                                                                                                                                                                                                                                                                                                                                                                                                                                                                                                                                                                                                                                                                                                  11\n",
              "question                                                                                                                                                                                                                                                                                                                                                                                                                                                                                                                                                                                                                                                                                                                                                                                                                                                                                                                                                                                     11\n",
              "Security                                                                                                                                                                                                                                                                                                                                                                                                                                                                                                                                                                                                                                                                                                                                                                                                                                                                                                                                                                                     10\n",
              "BUG                                                                                                                                                                                                                                                                                                                                                                                                                                                                                                                                                                                                                                                                                                                                                                                                                                                                                                                                                                                           9\n",
              "Question                                                                                                                                                                                                                                                                                                                                                                                                                                                                                                                                                                                                                                                                                                                                                                                                                                                                                                                                                                                      9\n",
              "Test                                                                                                                                                                                                                                                                                                                                                                                                                                                                                                                                                                                                                                                                                                                                                                                                                                                                                                                                                                                          8\n",
              "Clarification                                                                                                                                                                                                                                                                                                                                                                                                                                                                                                                                                                                                                                                                                                                                                                                                                                                                                                                                                                                 8\n",
              "ENHANCEMENT                                                                                                                                                                                                                                                                                                                                                                                                                                                                                                                                                                                                                                                                                                                                                                                                                                                                                                                                                                                   7\n",
              "Mixed                                                                                                                                                                                                                                                                                                                                                                                                                                                                                                                                                                                                                                                                                                                                                                                                                                                                                                                                                                                         5\n",
              "Dúvida                                                                                                                                                                                                                                                                                                                                                                                                                                                                                                                                                                                                                                                                                                                                                                                                                                                                                                                                                                                        2\n",
              "Both                                                                                                                                                                                                                                                                                                                                                                                                                                                                                                                                                                                                                                                                                                                                                                                                                                                                                                                                                                                          2\n",
              "test                                                                                                                                                                                                                                                                                                                                                                                                                                                                                                                                                                                                                                                                                                                                                                                                                                                                                                                                                                                          2\n",
              "Rant                                                                                                                                                                                                                                                                                                                                                                                                                                                                                                                                                                                                                                                                                                                                                                                                                                                                                                                                                                                          2\n",
              "Discussion                                                                                                                                                                                                                                                                                                                                                                                                                                                                                                                                                                                                                                                                                                                                                                                                                                                                                                                                                                                    2\n",
              "Configuration                                                                                                                                                                                                                                                                                                                                                                                                                                                                                                                                                                                                                                                                                                                                                                                                                                                                                                                                                                                 2\n",
              "Refactor                                                                                                                                                                                                                                                                                                                                                                                                                                                                                                                                                                                                                                                                                                                                                                                                                                                                                                                                                                                      2\n",
              "Investigation                                                                                                                                                                                                                                                                                                                                                                                                                                                                                                                                                                                                                                                                                                                                                                                                                                                                                                                                                                                 2\n",
              "Template                                                                                                                                                                                                                                                                                                                                                                                                                                                                                                                                                                                                                                                                                                                                                                                                                                                                                                                                                                                      2\n",
              "support                                                                                                                                                                                                                                                                                                                                                                                                                                                                                                                                                                                                                                                                                                                                                                                                                                                                                                                                                                                       2\n",
              "security                                                                                                                                                                                                                                                                                                                                                                                                                                                                                                                                                                                                                                                                                                                                                                                                                                                                                                                                                                                      2\n",
              "Docfix                                                                                                                                                                                                                                                                                                                                                                                                                                                                                                                                                                                                                                                                                                                                                                                                                                                                                                                                                                                        1\n",
              "SPAM                                                                                                                                                                                                                                                                                                                                                                                                                                                                                                                                                                                                                                                                                                                                                                                                                                                                                                                                                                                          1\n",
              "Blocker                                                                                                                                                                                                                                                                                                                                                                                                                                                                                                                                                                                                                                                                                                                                                                                                                                                                                                                                                                                       1\n",
              "Enhancements                                                                                                                                                                                                                                                                                                                                                                                                                                                                                                                                                                                                                                                                                                                                                                                                                                                                                                                                                                                  1\n",
              "This is not an issue with youtube-dl, but rather a problem with the user's code. The error occurs because the `extract_info` method returns an empty list when there are no entries in the playlist.\\n\\nThe correct categorization for this issue would be \"others\", as it is not a bug or enhancement request, but rather a question about how to handle an expected behavior of the library.\\n\\nA possible solution to the problem could be to check if the `entries` list is empty before trying to access its first element:\\n\\n```\\nwith YoutubeDL(YDL_OPTIONS) as ydl:\\n    info = ydl.extract_info(f\"ytsearch:{arg}\", download=False)\\n    if 'entries' in info and len(info['entries']) > 0:\\n        video_info = info['entries'][0]\\n        # do something with video_info\\n    else:\\n        print(\"No entries in the playlist\")\\n```\\n\\nThis code will prevent the `IndexError` from occurring when there are no entries in the playlist.                                       1\n",
              "The answer is: bug                                                                                                                                                                                                                                                                                                                                                                                                                                                                                                                                                                                                                                                                                                                                                                                                                                                                                                                                                                            1\n",
              "patch                                                                                                                                                                                                                                                                                                                                                                                                                                                                                                                                                                                                                                                                                                                                                                                                                                                                                                                                                                                         1\n",
              "Help                                                                                                                                                                                                                                                                                                                                                                                                                                                                                                                                                                                                                                                                                                                                                                                                                                                                                                                                                                                          1\n",
              "Refactoring                                                                                                                                                                                                                                                                                                                                                                                                                                                                                                                                                                                                                                                                                                                                                                                                                                                                                                                                                                                   1\n",
              "RFI                                                                                                                                                                                                                                                                                                                                                                                                                                                                                                                                                                                                                                                                                                                                                                                                                                                                                                                                                                                           1\n",
              "Config                                                                                                                                                                                                                                                                                                                                                                                                                                                                                                                                                                                                                                                                                                                                                                                                                                                                                                                                                                                        1\n",
              "It seems like you're considering whether to deal with an issue titled \"MuadDib90 Playtesting feedbacks\" that has several sub-issues related to font, language, and gameplay mechanics.\\n\\nThe outcome of dealing with this issue appears to be relatively minor, as it involves resolving some playtesting feedbacks, fixing a font issue in certain languages, and addressing a bug with a counter on a specific map. While these issues might impact the user experience, they don't seem critical or game-breaking.\\n\\nGiven the effort required to resolve these issues, you might need to weigh the benefits against the resources needed to address them. If you have more pressing concerns or limited development bandwidth, it might be reasonable to prioritize other tasks over this issue.\\n\\nHowever, if you're looking to tidy up loose ends and improve the overall polish of your game, dealing with these issues could be a worthwhile investment of time and effort.        1\n",
              "A templated issue report!\\n\\nThe issue title is \"Regex not matching?\" and the body describes an issue with the Funimation extractor, where the regex pattern matches in an external program but throws a `RegexNotFoundError` in the youtube-dl context.\\n\\nTo answer the question: **BUG**                                                                                                                                                                                                                                                                                                                                                                                                                                                                                                                                                                                                                                                                                                   1\n",
              "technical                                                                                                                                                                                                                                                                                                                                                                                                                                                                                                                                                                                                                                                                                                                                                                                                                                                                                                                                                                                     1\n",
              "Based on the provided information, here is a summary of the issue:\\n\\n**Issue Title:** [prometheus-kube-stack] Fix check in API version for Ingress\\n\\n**Summary:**\\n\\nThe user is experiencing an error when using Helm 3.5.3 and Kubernetes 1.18 with the kube-prometheus-stack chart (v15.2.0). The error message is \"unable to recognize \\\"\\\": no matches for kind \\\"Ingress\\\" in version \\\"networking.k8s.io/v1\\\"\". This issue is likely related to a known bug where the Ingress API version needs to be updated.\\n\\n**Category:** Bug                                                                                                                                                                                                                                                                                                                                                                                                                                                  1\n",
              "clarification                                                                                                                                                                                                                                                                                                                                                                                                                                                                                                                                                                                                                                                                                                                                                                                                                                                                                                                                                                                 1\n",
              "Name: count, dtype: int64"
            ]
          },
          "metadata": {},
          "execution_count": 5
        }
      ]
    },
    {
      "cell_type": "code",
      "source": [
        "test['llama3_70b_prediction'].unique()"
      ],
      "metadata": {
        "colab": {
          "base_uri": "https://localhost:8080/"
        },
        "id": "_omC0NYbKLLd",
        "outputId": "eebc6ba7-dbfb-4223-a831-91a6eed0d359"
      },
      "execution_count": 6,
      "outputs": [
        {
          "output_type": "execute_result",
          "data": {
            "text/plain": [
              "array(['Bug', 'Enhancement', 'Others', 'enhancement', 'bug', 'others',\n",
              "       'Support', 'Performance', 'Task', 'Docfix', 'Both', 'test',\n",
              "       'ENHANCEMENT', 'Question', 'Clarification', 'Security', 'Test',\n",
              "       'BUG', 'Rant', 'question', 'Mixed', 'Discussion', 'Enhancements',\n",
              "       'Configuration', 'Refactor', 'Blocker', 'SPAM',\n",
              "       'This is not an issue with youtube-dl, but rather a problem with the user\\'s code. The error occurs because the `extract_info` method returns an empty list when there are no entries in the playlist.\\n\\nThe correct categorization for this issue would be \"others\", as it is not a bug or enhancement request, but rather a question about how to handle an expected behavior of the library.\\n\\nA possible solution to the problem could be to check if the `entries` list is empty before trying to access its first element:\\n\\n```\\nwith YoutubeDL(YDL_OPTIONS) as ydl:\\n    info = ydl.extract_info(f\"ytsearch:{arg}\", download=False)\\n    if \\'entries\\' in info and len(info[\\'entries\\']) > 0:\\n        video_info = info[\\'entries\\'][0]\\n        # do something with video_info\\n    else:\\n        print(\"No entries in the playlist\")\\n```\\n\\nThis code will prevent the `IndexError` from occurring when there are no entries in the playlist.',\n",
              "       'Help', 'patch', 'security', 'The answer is: bug', 'support',\n",
              "       'Config', 'RFI', 'Refactoring',\n",
              "       'It seems like you\\'re considering whether to deal with an issue titled \"MuadDib90 Playtesting feedbacks\" that has several sub-issues related to font, language, and gameplay mechanics.\\n\\nThe outcome of dealing with this issue appears to be relatively minor, as it involves resolving some playtesting feedbacks, fixing a font issue in certain languages, and addressing a bug with a counter on a specific map. While these issues might impact the user experience, they don\\'t seem critical or game-breaking.\\n\\nGiven the effort required to resolve these issues, you might need to weigh the benefits against the resources needed to address them. If you have more pressing concerns or limited development bandwidth, it might be reasonable to prioritize other tasks over this issue.\\n\\nHowever, if you\\'re looking to tidy up loose ends and improve the overall polish of your game, dealing with these issues could be a worthwhile investment of time and effort.',\n",
              "       'Investigation',\n",
              "       'A templated issue report!\\n\\nThe issue title is \"Regex not matching?\" and the body describes an issue with the Funimation extractor, where the regex pattern matches in an external program but throws a `RegexNotFoundError` in the youtube-dl context.\\n\\nTo answer the question: **BUG**',\n",
              "       'Template', 'technical', 'Dúvida',\n",
              "       'Based on the provided information, here is a summary of the issue:\\n\\n**Issue Title:** [prometheus-kube-stack] Fix check in API version for Ingress\\n\\n**Summary:**\\n\\nThe user is experiencing an error when using Helm 3.5.3 and Kubernetes 1.18 with the kube-prometheus-stack chart (v15.2.0). The error message is \"unable to recognize \\\\\"\\\\\": no matches for kind \\\\\"Ingress\\\\\" in version \\\\\"networking.k8s.io/v1\\\\\"\". This issue is likely related to a known bug where the Ingress API version needs to be updated.\\n\\n**Category:** Bug',\n",
              "       'clarification'], dtype=object)"
            ]
          },
          "metadata": {},
          "execution_count": 6
        }
      ]
    },
    {
      "cell_type": "code",
      "source": [
        "len(test['llama3_70b_prediction'].unique())"
      ],
      "metadata": {
        "colab": {
          "base_uri": "https://localhost:8080/"
        },
        "id": "6DvhwxpYKO1l",
        "outputId": "5879c100-58ca-4be7-cd63-5af13cfa5ae8"
      },
      "execution_count": 7,
      "outputs": [
        {
          "output_type": "execute_result",
          "data": {
            "text/plain": [
              "44"
            ]
          },
          "metadata": {},
          "execution_count": 7
        }
      ]
    },
    {
      "cell_type": "code",
      "source": [
        "test['llama3_70b_prediction_organized'] = test['llama3_70b_prediction']"
      ],
      "metadata": {
        "id": "tA5C0RxHKWKs"
      },
      "execution_count": 8,
      "outputs": []
    },
    {
      "cell_type": "markdown",
      "source": [
        "arrange bug answers"
      ],
      "metadata": {
        "id": "NS_lBfeYKZlW"
      }
    },
    {
      "cell_type": "code",
      "source": [
        "bug_labels = {'Bug',\n",
        "              'bug',\n",
        "              'BUG',\n",
        "              'The answer is: bug'}\n",
        "\n",
        "test['llama3_70b_prediction_organized'] = test['llama3_70b_prediction_organized'].replace(bug_labels, 'bug')"
      ],
      "metadata": {
        "id": "p-t7H6l4KZvh"
      },
      "execution_count": 15,
      "outputs": []
    },
    {
      "cell_type": "markdown",
      "source": [
        "arrange enhancement answers"
      ],
      "metadata": {
        "id": "HX2HWJ1RMisF"
      }
    },
    {
      "cell_type": "code",
      "source": [
        "enhancement_labels = {'Enhancement',\n",
        "                      'enhancement',\n",
        "                      'ENHANCEMENT',\n",
        "                      'Enhancements'}\n",
        "\n",
        "test['llama3_70b_prediction_organized'] = test['llama3_70b_prediction_organized'].replace(enhancement_labels, 'enhancement')"
      ],
      "metadata": {
        "id": "7nrdhH5OMi_W"
      },
      "execution_count": 16,
      "outputs": []
    },
    {
      "cell_type": "markdown",
      "source": [
        "arrange others answers"
      ],
      "metadata": {
        "id": "HS7l_hzKM7I1"
      }
    },
    {
      "cell_type": "code",
      "source": [
        "other_labels = {'Others',\n",
        "                'others',\n",
        "                'Support',\n",
        "                'Performance',\n",
        "                'Task',\n",
        "                'Docfix',\n",
        "                'Both',\n",
        "                'test',\n",
        "                'Question',\n",
        "                'Clarification',\n",
        "                'Security',\n",
        "                'Test',\n",
        "                'Rant',\n",
        "                'question',\n",
        "                'Mixed',\n",
        "                'Discussion',\n",
        "                'Configuration',\n",
        "                'Refactor',\n",
        "                'Blocker',\n",
        "                'SPAM',\n",
        "                'Help',\n",
        "                'patch',\n",
        "                'security',\n",
        "                'support',\n",
        "                'Config',\n",
        "                'RFI',\n",
        "                'Refactoring',\n",
        "                'Investigation',\n",
        "                'Template',\n",
        "                'technical',\n",
        "                'Dúvida',\n",
        "                'clarification'}\n",
        "\n",
        "test['llama3_70b_prediction_organized'] = test['llama3_70b_prediction_organized'].replace(other_labels, 'question')"
      ],
      "metadata": {
        "id": "UgF1xrkHM7Yd"
      },
      "execution_count": 17,
      "outputs": []
    },
    {
      "cell_type": "markdown",
      "source": [
        "arrange long sentences from the csv"
      ],
      "metadata": {
        "id": "Nlek7p7cPOnT"
      }
    },
    {
      "cell_type": "code",
      "source": [
        "test.loc[24615,'llama3_70b_prediction_organized']"
      ],
      "metadata": {
        "colab": {
          "base_uri": "https://localhost:8080/",
          "height": 239
        },
        "id": "xo_uwzy0PPAK",
        "outputId": "343159af-a526-47ae-9d58-36ac6014d00e"
      },
      "execution_count": 18,
      "outputs": [
        {
          "output_type": "execute_result",
          "data": {
            "text/plain": [
              "'This is not an issue with youtube-dl, but rather a problem with the user\\'s code. The error occurs because the `extract_info` method returns an empty list when there are no entries in the playlist.\\n\\nThe correct categorization for this issue would be \"others\", as it is not a bug or enhancement request, but rather a question about how to handle an expected behavior of the library.\\n\\nA possible solution to the problem could be to check if the `entries` list is empty before trying to access its first element:\\n\\n```\\nwith YoutubeDL(YDL_OPTIONS) as ydl:\\n    info = ydl.extract_info(f\"ytsearch:{arg}\", download=False)\\n    if \\'entries\\' in info and len(info[\\'entries\\']) > 0:\\n        video_info = info[\\'entries\\'][0]\\n        # do something with video_info\\n    else:\\n        print(\"No entries in the playlist\")\\n```\\n\\nThis code will prevent the `IndexError` from occurring when there are no entries in the playlist.'"
            ],
            "application/vnd.google.colaboratory.intrinsic+json": {
              "type": "string"
            }
          },
          "metadata": {},
          "execution_count": 18
        }
      ]
    },
    {
      "cell_type": "code",
      "source": [
        "print(test.loc[24615,'llama3_70b_prediction_organized'])"
      ],
      "metadata": {
        "colab": {
          "base_uri": "https://localhost:8080/"
        },
        "id": "exUyKu_aPjHs",
        "outputId": "0b5c0dbf-dadf-4b33-8683-58a4f9bb3b98"
      },
      "execution_count": 19,
      "outputs": [
        {
          "output_type": "stream",
          "name": "stdout",
          "text": [
            "This is not an issue with youtube-dl, but rather a problem with the user's code. The error occurs because the `extract_info` method returns an empty list when there are no entries in the playlist.\n",
            "\n",
            "The correct categorization for this issue would be \"others\", as it is not a bug or enhancement request, but rather a question about how to handle an expected behavior of the library.\n",
            "\n",
            "A possible solution to the problem could be to check if the `entries` list is empty before trying to access its first element:\n",
            "\n",
            "```\n",
            "with YoutubeDL(YDL_OPTIONS) as ydl:\n",
            "    info = ydl.extract_info(f\"ytsearch:{arg}\", download=False)\n",
            "    if 'entries' in info and len(info['entries']) > 0:\n",
            "        video_info = info['entries'][0]\n",
            "        # do something with video_info\n",
            "    else:\n",
            "        print(\"No entries in the playlist\")\n",
            "```\n",
            "\n",
            "This code will prevent the `IndexError` from occurring when there are no entries in the playlist.\n"
          ]
        }
      ]
    },
    {
      "cell_type": "code",
      "source": [
        "test.loc[24615,'llama3_70b_prediction_organized'] = 'question'"
      ],
      "metadata": {
        "id": "WpYOpzr4Pr9V"
      },
      "execution_count": 20,
      "outputs": []
    },
    {
      "cell_type": "code",
      "source": [
        "test.loc[57748,'llama3_70b_prediction_organized']"
      ],
      "metadata": {
        "colab": {
          "base_uri": "https://localhost:8080/",
          "height": 239
        },
        "id": "vqc17hOPP9n2",
        "outputId": "b4457e36-bf6e-4565-fe50-b18142a01218"
      },
      "execution_count": 21,
      "outputs": [
        {
          "output_type": "execute_result",
          "data": {
            "text/plain": [
              "'It seems like you\\'re considering whether to deal with an issue titled \"MuadDib90 Playtesting feedbacks\" that has several sub-issues related to font, language, and gameplay mechanics.\\n\\nThe outcome of dealing with this issue appears to be relatively minor, as it involves resolving some playtesting feedbacks, fixing a font issue in certain languages, and addressing a bug with a counter on a specific map. While these issues might impact the user experience, they don\\'t seem critical or game-breaking.\\n\\nGiven the effort required to resolve these issues, you might need to weigh the benefits against the resources needed to address them. If you have more pressing concerns or limited development bandwidth, it might be reasonable to prioritize other tasks over this issue.\\n\\nHowever, if you\\'re looking to tidy up loose ends and improve the overall polish of your game, dealing with these issues could be a worthwhile investment of time and effort.'"
            ],
            "application/vnd.google.colaboratory.intrinsic+json": {
              "type": "string"
            }
          },
          "metadata": {},
          "execution_count": 21
        }
      ]
    },
    {
      "cell_type": "code",
      "source": [
        "print(test.loc[57748,'llama3_70b_prediction_organized'])"
      ],
      "metadata": {
        "colab": {
          "base_uri": "https://localhost:8080/"
        },
        "id": "JXAyjU2JQEqQ",
        "outputId": "5139faf0-e118-4bc2-a83e-db37528e6194"
      },
      "execution_count": 22,
      "outputs": [
        {
          "output_type": "stream",
          "name": "stdout",
          "text": [
            "It seems like you're considering whether to deal with an issue titled \"MuadDib90 Playtesting feedbacks\" that has several sub-issues related to font, language, and gameplay mechanics.\n",
            "\n",
            "The outcome of dealing with this issue appears to be relatively minor, as it involves resolving some playtesting feedbacks, fixing a font issue in certain languages, and addressing a bug with a counter on a specific map. While these issues might impact the user experience, they don't seem critical or game-breaking.\n",
            "\n",
            "Given the effort required to resolve these issues, you might need to weigh the benefits against the resources needed to address them. If you have more pressing concerns or limited development bandwidth, it might be reasonable to prioritize other tasks over this issue.\n",
            "\n",
            "However, if you're looking to tidy up loose ends and improve the overall polish of your game, dealing with these issues could be a worthwhile investment of time and effort.\n"
          ]
        }
      ]
    },
    {
      "cell_type": "code",
      "source": [
        "test.loc[57748,'llama3_70b_prediction_organized'] = 'question'"
      ],
      "metadata": {
        "id": "_Tj7iwP0QOIb"
      },
      "execution_count": 23,
      "outputs": []
    },
    {
      "cell_type": "code",
      "source": [
        "print(test.loc[60649,'llama3_70b_prediction_organized'])"
      ],
      "metadata": {
        "colab": {
          "base_uri": "https://localhost:8080/"
        },
        "id": "8nAkM4dNQS_0",
        "outputId": "9a2f2f61-013e-481b-c3de-82f20d1620cf"
      },
      "execution_count": 24,
      "outputs": [
        {
          "output_type": "stream",
          "name": "stdout",
          "text": [
            "A templated issue report!\n",
            "\n",
            "The issue title is \"Regex not matching?\" and the body describes an issue with the Funimation extractor, where the regex pattern matches in an external program but throws a `RegexNotFoundError` in the youtube-dl context.\n",
            "\n",
            "To answer the question: **BUG**\n"
          ]
        }
      ]
    },
    {
      "cell_type": "code",
      "source": [
        "test.loc[60649,'llama3_70b_prediction_organized'] = 'bug'"
      ],
      "metadata": {
        "id": "RkdZiSLwQWCb"
      },
      "execution_count": 25,
      "outputs": []
    },
    {
      "cell_type": "code",
      "source": [
        "print(test.loc[71973,'llama3_70b_prediction_organized'])"
      ],
      "metadata": {
        "colab": {
          "base_uri": "https://localhost:8080/"
        },
        "id": "NfYMD48cQavO",
        "outputId": "6aaaa569-2594-4cd6-e7db-dcd84d02e7d4"
      },
      "execution_count": 26,
      "outputs": [
        {
          "output_type": "stream",
          "name": "stdout",
          "text": [
            "Based on the provided information, here is a summary of the issue:\n",
            "\n",
            "**Issue Title:** [prometheus-kube-stack] Fix check in API version for Ingress\n",
            "\n",
            "**Summary:**\n",
            "\n",
            "The user is experiencing an error when using Helm 3.5.3 and Kubernetes 1.18 with the kube-prometheus-stack chart (v15.2.0). The error message is \"unable to recognize \\\"\\\": no matches for kind \\\"Ingress\\\" in version \\\"networking.k8s.io/v1\\\"\". This issue is likely related to a known bug where the Ingress API version needs to be updated.\n",
            "\n",
            "**Category:** Bug\n"
          ]
        }
      ]
    },
    {
      "cell_type": "code",
      "source": [
        "test.loc[71973,'llama3_70b_prediction_organized'] = 'bug'"
      ],
      "metadata": {
        "id": "1LFlv3J_QdK-"
      },
      "execution_count": 27,
      "outputs": []
    },
    {
      "cell_type": "code",
      "source": [
        "test['llama3_70b_prediction_organized'].value_counts()"
      ],
      "metadata": {
        "colab": {
          "base_uri": "https://localhost:8080/"
        },
        "id": "YXUPQDELQiWm",
        "outputId": "be2776ba-3dda-4d89-cc53-876e476eb4e7"
      },
      "execution_count": 28,
      "outputs": [
        {
          "output_type": "execute_result",
          "data": {
            "text/plain": [
              "llama3_70b_prediction_organized\n",
              "bug            41396\n",
              "enhancement    35725\n",
              "question        3397\n",
              "Name: count, dtype: int64"
            ]
          },
          "metadata": {},
          "execution_count": 28
        }
      ]
    },
    {
      "cell_type": "code",
      "source": [
        "test['llama3_70b_prediction_organized'].unique()"
      ],
      "metadata": {
        "colab": {
          "base_uri": "https://localhost:8080/"
        },
        "id": "268Bm-F4QkEh",
        "outputId": "b1a71ca9-d616-4d9d-d989-52fa2a1f6822"
      },
      "execution_count": 29,
      "outputs": [
        {
          "output_type": "execute_result",
          "data": {
            "text/plain": [
              "array(['bug', 'enhancement', 'question'], dtype=object)"
            ]
          },
          "metadata": {},
          "execution_count": 29
        }
      ]
    },
    {
      "cell_type": "markdown",
      "source": [
        "get the confusion matrix"
      ],
      "metadata": {
        "id": "31T5GVKtQnEX"
      }
    },
    {
      "cell_type": "code",
      "source": [
        "from sklearn.metrics import confusion_matrix, classification_report\n",
        "import seaborn as sns\n",
        "import matplotlib.pyplot as plt"
      ],
      "metadata": {
        "id": "ys7MWBkcQmMI"
      },
      "execution_count": 30,
      "outputs": []
    },
    {
      "cell_type": "code",
      "source": [
        "actual_labels = test['issue_label']\n",
        "predicted_labels = test['llama3_70b_prediction_organized']\n",
        "\n",
        "confusion_matrix = confusion_matrix(actual_labels, predicted_labels)\n",
        "\n",
        "class_report = classification_report(actual_labels, predicted_labels, target_names=['bug', 'enhancement', 'question'], digits=3)\n",
        "\n",
        "conf_matrix_df = pd.DataFrame(confusion_matrix, index=['bug', 'enhancement', 'question'], columns=['bug', 'enhancement', 'question'])"
      ],
      "metadata": {
        "id": "VwBewERaQrAo"
      },
      "execution_count": 31,
      "outputs": []
    },
    {
      "cell_type": "code",
      "source": [
        "print(conf_matrix_df)"
      ],
      "metadata": {
        "colab": {
          "base_uri": "https://localhost:8080/"
        },
        "id": "TA8RfUdxQvKJ",
        "outputId": "1f4d30f2-961f-4b76-ab93-6488cd5dad73"
      },
      "execution_count": 32,
      "outputs": [
        {
          "output_type": "stream",
          "name": "stdout",
          "text": [
            "               bug  enhancement  question\n",
            "bug          35304         4286       698\n",
            "enhancement   3363        28379      1461\n",
            "question      2729         3060      1238\n"
          ]
        }
      ]
    },
    {
      "cell_type": "code",
      "source": [
        "plt.figure(figsize = (8,6))\n",
        "sns.heatmap(conf_matrix_df,\n",
        "            annot = True,\n",
        "            fmt = 'd',\n",
        "            cmap = 'Blues')\n",
        "plt.xlabel('prediction')\n",
        "plt.ylabel('actual')\n",
        "plt.title('Confusion Matrix')\n",
        "plt.show()"
      ],
      "metadata": {
        "colab": {
          "base_uri": "https://localhost:8080/",
          "height": 533
        },
        "id": "3vP1RL-6QwnE",
        "outputId": "57980cb4-aba6-4656-d1aa-3f2cf8cf77b4"
      },
      "execution_count": 33,
      "outputs": [
        {
          "output_type": "display_data",
          "data": {
            "text/plain": [
              "<Figure size 800x600 with 2 Axes>"
            ],
            "image/png": "[encoded data removed]"
          },
          "metadata": {}
        }
      ]
    },
    {
      "cell_type": "code",
      "source": [
        "print(class_report)"
      ],
      "metadata": {
        "colab": {
          "base_uri": "https://localhost:8080/"
        },
        "id": "glvorXqnQyYj",
        "outputId": "dd5e8cb1-ddb3-478e-b0b0-f5bc57f82771"
      },
      "execution_count": 34,
      "outputs": [
        {
          "output_type": "stream",
          "name": "stdout",
          "text": [
            "              precision    recall  f1-score   support\n",
            "\n",
            "         bug      0.853     0.876     0.864     40288\n",
            " enhancement      0.794     0.855     0.823     33203\n",
            "    question      0.364     0.176     0.238      7027\n",
            "\n",
            "    accuracy                          0.806     80518\n",
            "   macro avg      0.671     0.636     0.642     80518\n",
            "weighted avg      0.786     0.806     0.793     80518\n",
            "\n"
          ]
        }
      ]
    },
    {
      "cell_type": "code",
      "source": [
        "test.to_pickle('data/test_preds_nlbse22_paper_llama3_70b_organized.pkl')"
      ],
      "metadata": {
        "id": "GSPoPynuQz2z"
      },
      "execution_count": 35,
      "outputs": []
    }
  ]
}