{
 "cells": [
  {
   "cell_type": "code",
   "execution_count": 1,
   "metadata": {},
   "outputs": [],
   "source": [
    "import pandas as pd\n",
    "import numpy as np\n",
    "import matplotlib.pyplot as plt\n",
    "from sklearn.model_selection import train_test_split\n",
    "from collections import Counter\n",
    "import re\n",
    "import unicodedata as ud\n",
    "from nltk.corpus import wordnet as wn\n",
    "from nltk.corpus import words as w\n",
    "from nltk.corpus import stopwords \n",
    "from nltk.stem import PorterStemmer\n",
    "from nltk.tokenize import sent_tokenize, word_tokenize\n",
    "from nltk.stem import WordNetLemmatizer\n",
    "import os\n",
    "pd.set_option('display.max_colwidth', None)"
   ]
  },
  {
   "cell_type": "code",
   "execution_count": 2,
   "metadata": {},
   "outputs": [
    {
     "name": "stdout",
     "output_type": "stream",
     "text": [
      "(722899, 8) (80518, 8)\n"
     ]
    }
   ],
   "source": [
    "train = pd.read_csv('original_datasets/github-labels-top3-803k-train.csv')\n",
    "test = pd.read_csv('original_datasets/github-labels-top3-803k-test.csv')\n",
    "print(train.shape, test.shape)"
   ]
  },
  {
   "cell_type": "code",
   "execution_count": 3,
   "metadata": {},
   "outputs": [
    {
     "data": {
      "text/html": [
       "<div>\n",
       "<style scoped>\n",
       "    .dataframe tbody tr th:only-of-type {\n",
       "        vertical-align: middle;\n",
       "    }\n",
       "\n",
       "    .dataframe tbody tr th {\n",
       "        vertical-align: top;\n",
       "    }\n",
       "\n",
       "    .dataframe thead th {\n",
       "        text-align: right;\n",
       "    }\n",
       "</style>\n",
       "<table border=\"1\" class=\"dataframe\">\n",
       "  <thead>\n",
       "    <tr style=\"text-align: right;\">\n",
       "      <th></th>\n",
       "      <th>Unnamed: 0</th>\n",
       "      <th>issue_url</th>\n",
       "      <th>issue_label</th>\n",
       "      <th>issue_created_at</th>\n",
       "      <th>issue_author_association</th>\n",
       "      <th>repository_url</th>\n",
       "      <th>issue_title</th>\n",
       "      <th>issue_body</th>\n",
       "    </tr>\n",
       "  </thead>\n",
       "  <tbody>\n",
       "    <tr>\n",
       "      <th>0</th>\n",
       "      <td>0</td>\n",
       "      <td>https://api.github.com/repos/eamodio/vscode-gitlens/issues/1302</td>\n",
       "      <td>bug</td>\n",
       "      <td>2021-01-02T18:07:30Z</td>\n",
       "      <td>NONE</td>\n",
       "      <td>https://api.github.com/repos/eamodio/vscode-gitlens</td>\n",
       "      <td>Welcome screen on every editor window is very tedious</td>\n",
       "      <td>I just discovered Gitlens and find the functionality useful, thank you to all who contribute.\\r\\n\\r\\nI have about a dozen editor windows open, and the install process added a Gitlens welcome tab to each and every one of them.  Combined with the snowflake effect, all of the sudden VScode was consuming 300-400% cpu and my fan was raging, as soon as I hunted them all down everything was back to fine.  The welcome note content is great (although putting it on _all_ the windows is a bit much, don't know how much control you have on that).  But overall it was a bit of a sour first-use experience, just wanted to provide that feedback.</td>\n",
       "    </tr>\n",
       "    <tr>\n",
       "      <th>1</th>\n",
       "      <td>1</td>\n",
       "      <td>https://api.github.com/repos/binwiederhier/pcopy/issues/9</td>\n",
       "      <td>bug</td>\n",
       "      <td>2020-12-31T18:19:31Z</td>\n",
       "      <td>OWNER</td>\n",
       "      <td>https://api.github.com/repos/binwiederhier/pcopy</td>\n",
       "      <td>\"pcopy invite\" and \"pcopy paste abc:\" does not check if clipboard exists</td>\n",
       "      <td>NaN</td>\n",
       "    </tr>\n",
       "    <tr>\n",
       "      <th>2</th>\n",
       "      <td>2</td>\n",
       "      <td>https://api.github.com/repos/binwiederhier/pcopy/issues/16</td>\n",
       "      <td>bug</td>\n",
       "      <td>2021-01-03T04:33:36Z</td>\n",
       "      <td>OWNER</td>\n",
       "      <td>https://api.github.com/repos/binwiederhier/pcopy</td>\n",
       "      <td>UI: Modal overlay is half transparent, shouldn't be</td>\n",
       "      <td>NaN</td>\n",
       "    </tr>\n",
       "    <tr>\n",
       "      <th>3</th>\n",
       "      <td>3</td>\n",
       "      <td>https://api.github.com/repos/Sothatsit/RoyalUrClient/issues/41</td>\n",
       "      <td>enhancement</td>\n",
       "      <td>2020-12-25T00:46:00Z</td>\n",
       "      <td>OWNER</td>\n",
       "      <td>https://api.github.com/repos/Sothatsit/RoyalUrClient</td>\n",
       "      <td>Make the loading screen scale with browser window size</td>\n",
       "      <td>Currently the loading wheel is a fixed size in pixels, but it would be better to specify it in terms of percentage of the browser size.</td>\n",
       "    </tr>\n",
       "    <tr>\n",
       "      <th>4</th>\n",
       "      <td>4</td>\n",
       "      <td>https://api.github.com/repos/Malivil/TTT-Custom-Roles/issues/190</td>\n",
       "      <td>bug</td>\n",
       "      <td>2021-01-02T21:36:57Z</td>\n",
       "      <td>OWNER</td>\n",
       "      <td>https://api.github.com/repos/Malivil/TTT-Custom-Roles</td>\n",
       "      <td>Spectator - Investigate a way to strip weapons before they are spectating a player</td>\n",
       "      <td>To bring magneto stick floating</td>\n",
       "    </tr>\n",
       "  </tbody>\n",
       "</table>\n",
       "</div>"
      ],
      "text/plain": [
       "   Unnamed: 0  \\\n",
       "0           0   \n",
       "1           1   \n",
       "2           2   \n",
       "3           3   \n",
       "4           4   \n",
       "\n",
       "                                                          issue_url  \\\n",
       "0   https://api.github.com/repos/eamodio/vscode-gitlens/issues/1302   \n",
       "1         https://api.github.com/repos/binwiederhier/pcopy/issues/9   \n",
       "2        https://api.github.com/repos/binwiederhier/pcopy/issues/16   \n",
       "3    https://api.github.com/repos/Sothatsit/RoyalUrClient/issues/41   \n",
       "4  https://api.github.com/repos/Malivil/TTT-Custom-Roles/issues/190   \n",
       "\n",
       "   issue_label      issue_created_at issue_author_association  \\\n",
       "0          bug  2021-01-02T18:07:30Z                     NONE   \n",
       "1          bug  2020-12-31T18:19:31Z                    OWNER   \n",
       "2          bug  2021-01-03T04:33:36Z                    OWNER   \n",
       "3  enhancement  2020-12-25T00:46:00Z                    OWNER   \n",
       "4          bug  2021-01-02T21:36:57Z                    OWNER   \n",
       "\n",
       "                                          repository_url  \\\n",
       "0    https://api.github.com/repos/eamodio/vscode-gitlens   \n",
       "1       https://api.github.com/repos/binwiederhier/pcopy   \n",
       "2       https://api.github.com/repos/binwiederhier/pcopy   \n",
       "3   https://api.github.com/repos/Sothatsit/RoyalUrClient   \n",
       "4  https://api.github.com/repos/Malivil/TTT-Custom-Roles   \n",
       "\n",
       "                                                                          issue_title  \\\n",
       "0                               Welcome screen on every editor window is very tedious   \n",
       "1            \"pcopy invite\" and \"pcopy paste abc:\" does not check if clipboard exists   \n",
       "2                                 UI: Modal overlay is half transparent, shouldn't be   \n",
       "3                              Make the loading screen scale with browser window size   \n",
       "4  Spectator - Investigate a way to strip weapons before they are spectating a player   \n",
       "\n",
       "                                                                                                                                                                                                                                                                                                                                                                                                                                                                                                                                                                                                                                                    issue_body  \n",
       "0  I just discovered Gitlens and find the functionality useful, thank you to all who contribute.\\r\\n\\r\\nI have about a dozen editor windows open, and the install process added a Gitlens welcome tab to each and every one of them.  Combined with the snowflake effect, all of the sudden VScode was consuming 300-400% cpu and my fan was raging, as soon as I hunted them all down everything was back to fine.  The welcome note content is great (although putting it on _all_ the windows is a bit much, don't know how much control you have on that).  But overall it was a bit of a sour first-use experience, just wanted to provide that feedback.  \n",
       "1                                                                                                                                                                                                                                                                                                                                                                                                                                                                                                                                                                                                                                                          NaN  \n",
       "2                                                                                                                                                                                                                                                                                                                                                                                                                                                                                                                                                                                                                                                          NaN  \n",
       "3                                                                                                                                                                                                                                                                                                                                                                                                                                                                                                                      Currently the loading wheel is a fixed size in pixels, but it would be better to specify it in terms of percentage of the browser size.  \n",
       "4                                                                                                                                                                                                                                                                                                                                                                                                                                                                                                                                                                                                                              To bring magneto stick floating  "
      ]
     },
     "execution_count": 3,
     "metadata": {},
     "output_type": "execute_result"
    }
   ],
   "source": [
    "train.head()"
   ]
  },
  {
   "cell_type": "code",
   "execution_count": 4,
   "metadata": {},
   "outputs": [],
   "source": [
    "train['original_issue_title'] = train['issue_title']\n",
    "train['original_issue_body'] = train['issue_body']\n",
    "\n",
    "train.rename(columns={'issue_title': 'preprocessed_title'}, inplace=True)\n",
    "train.rename(columns={'issue_body': 'preprocessed_body'}, inplace=True)\n",
    "\n",
    "test['original_issue_title'] = test['issue_title']\n",
    "test['original_issue_body'] = test['issue_body']\n",
    "\n",
    "test.rename(columns={'issue_title': 'preprocessed_title'}, inplace=True)\n",
    "test.rename(columns={'issue_body': 'preprocessed_body'}, inplace=True)"
   ]
  },
  {
   "cell_type": "code",
   "execution_count": 5,
   "metadata": {},
   "outputs": [],
   "source": [
    "label = 'issue_label'\n",
    "time = 'issue_created_at'\n",
    "repo = 'repository_url'\n",
    "title  = 'preprocessed_title'\n",
    "body = 'preprocessed_body'\n",
    "author = 'issue_author_association'\n",
    "url = 'issue_url'\n",
    "label_col = 'labels'\n",
    "text_col = 'text'\n",
    "max_title = 30\n",
    "max_body = 170\n",
    "# punctuations = '!\"$%&\\()*,/:;<=>[\\\\]^`{|}~+#@-`' below line is added since this line (original) gives SyntaxWarning: invalid escape sequence '\\('\n",
    "punctuations = r'!\"$%&\\()*,/:;<=>[\\\\]^`{|}~+#@-`'\n",
    "ascii_regex = re.compile(r'[^\\x00-\\x7f]')\n",
    "issue_regex = re.compile(r'#[0-9]+')\n",
    "function_regex = re.compile(r'[a-zA-Z][a-zA-Z0-9_.]*\\([a-zA-Z0-9_, ]*\\)')"
   ]
  },
  {
   "cell_type": "markdown",
   "metadata": {},
   "source": [
    "first deduplicate the TRAINING dataset based on issue URls"
   ]
  },
  {
   "cell_type": "code",
   "execution_count": 6,
   "metadata": {},
   "outputs": [
    {
     "name": "stdout",
     "output_type": "stream",
     "text": [
      "Number of dropped issue duplications:  26220\n"
     ]
    }
   ],
   "source": [
    "dedup_train = train.sort_values(url).drop_duplicates(subset=[url]).copy()\n",
    "print('Number of dropped issue duplications: ' , train.shape[0] - dedup_train.shape[0])\n",
    "\n",
    "dedup_train[title] = dedup_train[title].astype(str)\n",
    "dedup_train[body] = dedup_train[body].astype(str)\n",
    "dedup_train[author] = dedup_train[author].astype(str)\n",
    "dedup_train[time] = dedup_train[time].astype(str)\n",
    "dedup_train[repo] = dedup_train[repo].astype(str)\n",
    "\n",
    "test[title] = test[title].astype(str)\n",
    "test[body] = test[body].astype(str)\n",
    "test[author] = test[author].astype(str)\n",
    "test[time] = test[time].astype(str)\n",
    "test[repo] = test[repo].astype(str)"
   ]
  },
  {
   "cell_type": "markdown",
   "metadata": {},
   "source": [
    "text normalization on text columns of issues"
   ]
  },
  {
   "cell_type": "code",
   "execution_count": 7,
   "metadata": {},
   "outputs": [
    {
     "name": "stdout",
     "output_type": "stream",
     "text": [
      "Replacing functions...\n",
      "Replacing issue numbers...\n",
      "Converting to lower case...\n"
     ]
    }
   ],
   "source": [
    "print('Replacing functions...')\n",
    "dedup_train[body] = dedup_train[body].apply(lambda x:function_regex.sub(\" function \",x))\n",
    "test[body] = test[body].apply(lambda x:function_regex.sub(\" function \",x))\n",
    "\n",
    "print('Replacing issue numbers...')\n",
    "dedup_train[title] = dedup_train[title].apply(lambda x:issue_regex.sub(\" issue \",x))\n",
    "dedup_train[body] = dedup_train[body].apply(lambda x:issue_regex.sub(\" issue \",x))\n",
    "test[title] = test[title].apply(lambda x:issue_regex.sub(\" issue \",x))\n",
    "test[body] = test[body].apply(lambda x:issue_regex.sub(\" issue \",x))\n",
    "\n",
    "\n",
    "print('Converting to lower case...')\n",
    "dedup_train[title] = dedup_train[title].str.lower()\n",
    "dedup_train[body] = dedup_train[body].str.lower()\n",
    "test[title] = test[title].str.lower()\n",
    "test[body] = test[body].str.lower()"
   ]
  },
  {
   "cell_type": "markdown",
   "metadata": {},
   "source": [
    "remove extra information from text"
   ]
  },
  {
   "cell_type": "code",
   "execution_count": 8,
   "metadata": {},
   "outputs": [
    {
     "name": "stdout",
     "output_type": "stream",
     "text": [
      "Removing punctuations...\n",
      "Removing non-ascii charachters...\n",
      "Replacing fixed part of repo URl column...\n",
      "Replacing white spaces...\n"
     ]
    }
   ],
   "source": [
    "print('Removing punctuations...')\n",
    "replace_string = ' '*len(punctuations)\n",
    "dedup_train[title] = dedup_train[title].str.translate(str.maketrans(punctuations, replace_string))\n",
    "dedup_train[body] = dedup_train[body].str.translate(str.maketrans(punctuations, replace_string))\n",
    "test[title] = test[title].str.translate(str.maketrans(punctuations, replace_string))\n",
    "test[body] = test[body].str.translate(str.maketrans(punctuations, replace_string))\n",
    "\n",
    "print('Removing non-ascii charachters...')\n",
    "dedup_train[title] = dedup_train[title].apply(lambda x:re.sub(ascii_regex, '', x))\n",
    "dedup_train[title] = dedup_train[title].apply(lambda x:ud.normalize('NFD', x))\n",
    "dedup_train[body] = dedup_train[body].apply(lambda x:re.sub(ascii_regex, '', x))\n",
    "dedup_train[body] = dedup_train[body].apply(lambda x:ud.normalize('NFD', x))\n",
    "\n",
    "test[title] = test[title].apply(lambda x:re.sub(ascii_regex, '', x))\n",
    "test[title] = test[title].apply(lambda x:ud.normalize('NFD', x))\n",
    "test[body] = test[body].apply(lambda x:re.sub(ascii_regex, '', x))\n",
    "test[body] = test[body].apply(lambda x:ud.normalize('NFD', x))\n",
    "\n",
    "print('Replacing fixed part of repo URl column...')\n",
    "dedup_train[repo] = dedup_train[repo].apply(lambda x: x.replace('https://api.github.com/repos/', ''))\n",
    "test[repo] = test[repo].apply(lambda x: x.replace('https://api.github.com/repos/', ''))\n",
    "\n",
    "print('Replacing white spaces...')\n",
    "dedup_train[title] = dedup_train[title].apply(lambda x:\" \".join(x.split()))\n",
    "dedup_train[body] = dedup_train[body].apply(lambda x:\" \".join(x.split()))\n",
    "test[title] = test[title].apply(lambda x:\" \".join(x.split()))\n",
    "test[body] = test[body].apply(lambda x:\" \".join(x.split()))"
   ]
  },
  {
   "cell_type": "markdown",
   "metadata": {},
   "source": [
    "truncate columns"
   ]
  },
  {
   "cell_type": "code",
   "execution_count": 9,
   "metadata": {},
   "outputs": [],
   "source": [
    "dedup_train[title] = dedup_train[title].apply(lambda x: ' '.join(x.split(maxsplit=max_title)[:max_title]))\n",
    "dedup_train[body] = dedup_train[body].apply(lambda x: ' '.join(x.split(maxsplit=max_body)[:max_body]))\n",
    "test[title] = test[title].apply(lambda x: ' '.join(x.split(maxsplit=max_title)[:max_title]))\n",
    "test[body] = test[body].apply(lambda x: ' '.join(x.split(maxsplit=max_body)[:max_body]))"
   ]
  },
  {
   "cell_type": "markdown",
   "metadata": {},
   "source": [
    "prepare labels column"
   ]
  },
  {
   "cell_type": "code",
   "execution_count": 10,
   "metadata": {},
   "outputs": [],
   "source": [
    "# convert categorical data to codes\n",
    "dedup_train[label] = pd.Categorical(dedup_train[label])\n",
    "test[label] = pd.Categorical(test[label])\n",
    "dedup_train[label_col] = dedup_train[label].cat.codes\n",
    "test[label_col] = test[label].cat.codes"
   ]
  },
  {
   "cell_type": "markdown",
   "metadata": {},
   "source": [
    "concat issue columns in one \"text\" column to feed the model"
   ]
  },
  {
   "cell_type": "code",
   "execution_count": 11,
   "metadata": {},
   "outputs": [],
   "source": [
    "# concat columns in a bag of sentences\n",
    "dedup_train[text_col] = 'time ' + dedup_train[time] + ' author ' + dedup_train[author] +' repo ' + dedup_train[repo] + ' title ' + dedup_train[title] + ' body ' + dedup_train[body]\n",
    "test[text_col] = 'time ' + test[time] + ' author ' + test[author] +' repo ' + test[repo] + ' title ' + test[title] + ' body ' + test[body]"
   ]
  },
  {
   "cell_type": "code",
   "execution_count": 12,
   "metadata": {},
   "outputs": [
    {
     "data": {
      "text/html": [
       "<div>\n",
       "<style scoped>\n",
       "    .dataframe tbody tr th:only-of-type {\n",
       "        vertical-align: middle;\n",
       "    }\n",
       "\n",
       "    .dataframe tbody tr th {\n",
       "        vertical-align: top;\n",
       "    }\n",
       "\n",
       "    .dataframe thead th {\n",
       "        text-align: right;\n",
       "    }\n",
       "</style>\n",
       "<table border=\"1\" class=\"dataframe\">\n",
       "  <thead>\n",
       "    <tr style=\"text-align: right;\">\n",
       "      <th></th>\n",
       "      <th>Unnamed: 0</th>\n",
       "      <th>issue_url</th>\n",
       "      <th>issue_label</th>\n",
       "      <th>issue_created_at</th>\n",
       "      <th>issue_author_association</th>\n",
       "      <th>repository_url</th>\n",
       "      <th>preprocessed_title</th>\n",
       "      <th>preprocessed_body</th>\n",
       "      <th>original_issue_title</th>\n",
       "      <th>original_issue_body</th>\n",
       "      <th>labels</th>\n",
       "      <th>text</th>\n",
       "    </tr>\n",
       "  </thead>\n",
       "  <tbody>\n",
       "    <tr>\n",
       "      <th>258501</th>\n",
       "      <td>287489</td>\n",
       "      <td>https://api.github.com/repos/0-Yama/Projet-Final-Python/issues/3</td>\n",
       "      <td>enhancement</td>\n",
       "      <td>2021-05-26T20:57:00Z</td>\n",
       "      <td>OWNER</td>\n",
       "      <td>0-Yama/Projet-Final-Python</td>\n",
       "      <td>the beginning</td>\n",
       "      <td>we need to add the first file of our project</td>\n",
       "      <td>The beginning</td>\n",
       "      <td>We need to add the first file of our project</td>\n",
       "      <td>1</td>\n",
       "      <td>time 2021-05-26T20:57:00Z author OWNER repo 0-Yama/Projet-Final-Python title the beginning body we need to add the first file of our project</td>\n",
       "    </tr>\n",
       "  </tbody>\n",
       "</table>\n",
       "</div>"
      ],
      "text/plain": [
       "        Unnamed: 0  \\\n",
       "258501      287489   \n",
       "\n",
       "                                                               issue_url  \\\n",
       "258501  https://api.github.com/repos/0-Yama/Projet-Final-Python/issues/3   \n",
       "\n",
       "        issue_label      issue_created_at issue_author_association  \\\n",
       "258501  enhancement  2021-05-26T20:57:00Z                    OWNER   \n",
       "\n",
       "                    repository_url preprocessed_title  \\\n",
       "258501  0-Yama/Projet-Final-Python      the beginning   \n",
       "\n",
       "                                   preprocessed_body original_issue_title  \\\n",
       "258501  we need to add the first file of our project        The beginning   \n",
       "\n",
       "                                 original_issue_body  labels  \\\n",
       "258501  We need to add the first file of our project       1   \n",
       "\n",
       "                                                                                                                                                text  \n",
       "258501  time 2021-05-26T20:57:00Z author OWNER repo 0-Yama/Projet-Final-Python title the beginning body we need to add the first file of our project  "
      ]
     },
     "execution_count": 12,
     "metadata": {},
     "output_type": "execute_result"
    }
   ],
   "source": [
    "dedup_train.head(1)"
   ]
  },
  {
   "cell_type": "code",
   "execution_count": 13,
   "metadata": {},
   "outputs": [
    {
     "data": {
      "text/html": [
       "<div>\n",
       "<style scoped>\n",
       "    .dataframe tbody tr th:only-of-type {\n",
       "        vertical-align: middle;\n",
       "    }\n",
       "\n",
       "    .dataframe tbody tr th {\n",
       "        vertical-align: top;\n",
       "    }\n",
       "\n",
       "    .dataframe thead th {\n",
       "        text-align: right;\n",
       "    }\n",
       "</style>\n",
       "<table border=\"1\" class=\"dataframe\">\n",
       "  <thead>\n",
       "    <tr style=\"text-align: right;\">\n",
       "      <th></th>\n",
       "      <th>Unnamed: 0</th>\n",
       "      <th>issue_url</th>\n",
       "      <th>issue_label</th>\n",
       "      <th>issue_created_at</th>\n",
       "      <th>issue_author_association</th>\n",
       "      <th>repository_url</th>\n",
       "      <th>preprocessed_title</th>\n",
       "      <th>preprocessed_body</th>\n",
       "      <th>original_issue_title</th>\n",
       "      <th>original_issue_body</th>\n",
       "      <th>labels</th>\n",
       "      <th>text</th>\n",
       "    </tr>\n",
       "  </thead>\n",
       "  <tbody>\n",
       "    <tr>\n",
       "      <th>0</th>\n",
       "      <td>6</td>\n",
       "      <td>https://api.github.com/repos/tlnagy/TIFF.jl/issues/7</td>\n",
       "      <td>enhancement</td>\n",
       "      <td>2020-04-07T09:08:50Z</td>\n",
       "      <td>NONE</td>\n",
       "      <td>tlnagy/TIFF.jl</td>\n",
       "      <td>error keyerror key tiff.sampleformat_int 0x0008 not found</td>\n",
       "      <td>one more error might need to be caught. 4d series.ome.tif is sample file from ome tiff website https docs.openmicroscopy.org ome model 6.0.0 ome tiff data.html . julia julia tiff.load 4d series.ome.tif error keyerror key tiff.sampleformat_int 0x0008 not found stacktrace 1 getindex dict tuple tiff.sampleformats int64 datatype tuple tiff.sampleformats uint16 at . dict.jl 477 2 output tiff.ifd uint32 at home hf .julia dev tiff src ifds.jl 113 3 load string at home hf .julia dev tiff src load.jl 14 4 top level scope at repl 2 1</td>\n",
       "      <td>ERROR: KeyError: key (TIFF.SAMPLEFORMAT_INT, 0x0008) not found</td>\n",
       "      <td>One more error might need to be caught.\\r\\n`4D-series.ome.tif` is sample file from [OME-TIFF website]( https://docs.openmicroscopy.org/ome-model/6.0.0/ome-tiff/data.html).\\r\\n\\r\\n```julia\\r\\njulia&gt; TIFF.load(\"4D-series.ome.tif\")\\r\\nERROR: KeyError: key (TIFF.SAMPLEFORMAT_INT, 0x0008) not found\\r\\nStacktrace:\\r\\n [1] getindex(::Dict{Tuple{TIFF.SampleFormats,Int64},DataType}, ::Tuple{TIFF.SampleFormats,UInt16}) at ./dict.jl:477\\r\\n [2] output(::TIFF.IFD{UInt32}) at /home/hf/.julia/dev/TIFF/src/ifds.jl:113\\r\\n [3] load(::String) at /home/hf/.julia/dev/TIFF/src/load.jl:14\\r\\n [4] top-level scope at REPL[2]:1\\r\\n```\\r\\n</td>\n",
       "      <td>1</td>\n",
       "      <td>time 2020-04-07T09:08:50Z author NONE repo tlnagy/TIFF.jl title error keyerror key tiff.sampleformat_int 0x0008 not found body one more error might need to be caught. 4d series.ome.tif is sample file from ome tiff website https docs.openmicroscopy.org ome model 6.0.0 ome tiff data.html . julia julia tiff.load 4d series.ome.tif error keyerror key tiff.sampleformat_int 0x0008 not found stacktrace 1 getindex dict tuple tiff.sampleformats int64 datatype tuple tiff.sampleformats uint16 at . dict.jl 477 2 output tiff.ifd uint32 at home hf .julia dev tiff src ifds.jl 113 3 load string at home hf .julia dev tiff src load.jl 14 4 top level scope at repl 2 1</td>\n",
       "    </tr>\n",
       "  </tbody>\n",
       "</table>\n",
       "</div>"
      ],
      "text/plain": [
       "   Unnamed: 0                                             issue_url  \\\n",
       "0           6  https://api.github.com/repos/tlnagy/TIFF.jl/issues/7   \n",
       "\n",
       "   issue_label      issue_created_at issue_author_association  repository_url  \\\n",
       "0  enhancement  2020-04-07T09:08:50Z                     NONE  tlnagy/TIFF.jl   \n",
       "\n",
       "                                          preprocessed_title  \\\n",
       "0  error keyerror key tiff.sampleformat_int 0x0008 not found   \n",
       "\n",
       "                                                                                                                                                                                                                                                                                                                                                                                                                                                                                                                                   preprocessed_body  \\\n",
       "0  one more error might need to be caught. 4d series.ome.tif is sample file from ome tiff website https docs.openmicroscopy.org ome model 6.0.0 ome tiff data.html . julia julia tiff.load 4d series.ome.tif error keyerror key tiff.sampleformat_int 0x0008 not found stacktrace 1 getindex dict tuple tiff.sampleformats int64 datatype tuple tiff.sampleformats uint16 at . dict.jl 477 2 output tiff.ifd uint32 at home hf .julia dev tiff src ifds.jl 113 3 load string at home hf .julia dev tiff src load.jl 14 4 top level scope at repl 2 1   \n",
       "\n",
       "                                             original_issue_title  \\\n",
       "0  ERROR: KeyError: key (TIFF.SAMPLEFORMAT_INT, 0x0008) not found   \n",
       "\n",
       "                                                                                                                                                                                                                                                                                                                                                                                                                                                                                                                                                                                                                              original_issue_body  \\\n",
       "0  One more error might need to be caught.\\r\\n`4D-series.ome.tif` is sample file from [OME-TIFF website]( https://docs.openmicroscopy.org/ome-model/6.0.0/ome-tiff/data.html).\\r\\n\\r\\n```julia\\r\\njulia> TIFF.load(\"4D-series.ome.tif\")\\r\\nERROR: KeyError: key (TIFF.SAMPLEFORMAT_INT, 0x0008) not found\\r\\nStacktrace:\\r\\n [1] getindex(::Dict{Tuple{TIFF.SampleFormats,Int64},DataType}, ::Tuple{TIFF.SampleFormats,UInt16}) at ./dict.jl:477\\r\\n [2] output(::TIFF.IFD{UInt32}) at /home/hf/.julia/dev/TIFF/src/ifds.jl:113\\r\\n [3] load(::String) at /home/hf/.julia/dev/TIFF/src/load.jl:14\\r\\n [4] top-level scope at REPL[2]:1\\r\\n```\\r\\n   \n",
       "\n",
       "   labels  \\\n",
       "0       1   \n",
       "\n",
       "                                                                                                                                                                                                                                                                                                                                                                                                                                                                                                                                                                                                                                                                               text  \n",
       "0  time 2020-04-07T09:08:50Z author NONE repo tlnagy/TIFF.jl title error keyerror key tiff.sampleformat_int 0x0008 not found body one more error might need to be caught. 4d series.ome.tif is sample file from ome tiff website https docs.openmicroscopy.org ome model 6.0.0 ome tiff data.html . julia julia tiff.load 4d series.ome.tif error keyerror key tiff.sampleformat_int 0x0008 not found stacktrace 1 getindex dict tuple tiff.sampleformats int64 datatype tuple tiff.sampleformats uint16 at . dict.jl 477 2 output tiff.ifd uint32 at home hf .julia dev tiff src ifds.jl 113 3 load string at home hf .julia dev tiff src load.jl 14 4 top level scope at repl 2 1  "
      ]
     },
     "execution_count": 13,
     "metadata": {},
     "output_type": "execute_result"
    }
   ],
   "source": [
    "test.head(1)"
   ]
  },
  {
   "cell_type": "markdown",
   "metadata": {},
   "source": [
    "split and save datasets"
   ]
  },
  {
   "cell_type": "code",
   "execution_count": 14,
   "metadata": {},
   "outputs": [],
   "source": [
    "# reset index\n",
    "dedup_train.reset_index(drop=True, inplace=True)\n",
    "test.reset_index(drop=True, inplace=True)\n",
    "\n",
    "dedup_train[['original_issue_title','preprocessed_title','original_issue_body','preprocessed_body','text','issue_label','labels']].to_csv(f'nlbse22_dataset_nlbse22_preprocessing/train_clean_concat_{max_title+max_body}_detailed_data.csv', index = False)\n",
    "test[['original_issue_title','preprocessed_title','original_issue_body','preprocessed_body','text','issue_label','labels']].to_csv(f'nlbse22_dataset_nlbse22_preprocessing/test_clean_concat_{max_title+max_body}_detailed_data.csv', index = False)"
   ]
  },
  {
   "cell_type": "code",
   "execution_count": null,
   "metadata": {},
   "outputs": [],
   "source": [
    "dedup_train[['text','labels']].to_csv(f'nlbse22_dataset_nlbse22_preprocessing/train_clean_concat_{max_title+max_body}.csv', index = False)\n",
    "test[['text','labels']].to_csv(f'nlbse22_dataset_nlbse22_preprocessing/test_clean_concat_{max_title+max_body}.csv', index = False)"
   ]
  }
 ],
 "metadata": {
  "kernelspec": {
   "display_name": "Python 3",
   "language": "python",
   "name": "python3"
  },
  "language_info": {
   "codemirror_mode": {
    "name": "ipython",
    "version": 3
   },
   "file_extension": ".py",
   "mimetype": "text/x-python",
   "name": "python",
   "nbconvert_exporter": "python",
   "pygments_lexer": "ipython3",
   "version": "3.12.0"
  }
 },
 "nbformat": 4,
 "nbformat_minor": 2
}
